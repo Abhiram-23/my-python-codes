{
 "cells": [
  {
   "cell_type": "markdown",
   "metadata": {},
   "source": [
    "# Split a String in Balanced Strings"
   ]
  },
  {
   "cell_type": "markdown",
   "metadata": {},
   "source": [
    "### Balanced strings are those who have equal quantity of 'L' and 'R' characters.\n",
    "### Given a balanced string s split it in the maximum amount of balanced strings.\n",
    "### Return the maximum amount of splitted balanced strings.\n",
    "\n",
    " "
   ]
  },
  {
   "cell_type": "code",
   "execution_count": null,
   "metadata": {},
   "outputs": [],
   "source": [
    "s =\"LLLLRRRR\"\n",
    "r=0\n",
    "l=0\n",
    "count=0\n",
    "for i in s:\n",
    "    if(i=='L'):\n",
    "        l+=1\n",
    "    elif(i=='R'):\n",
    "        r+=1\n",
    "    if(l==r):\n",
    "        count+=1\n",
    "        l=0\n",
    "        r=0\n",
    "print(count)"
   ]
  },
  {
   "cell_type": "markdown",
   "metadata": {},
   "source": [
    "# 1295. Find Numbers with Even Number of Digits\n",
    "Given an array nums of integers, return how many of them contain an even number of digits.\n",
    " "
   ]
  },
  {
   "cell_type": "code",
   "execution_count": null,
   "metadata": {},
   "outputs": [],
   "source": [
    "nums = [555,901,482,1771]\n",
    "a=[]\n",
    "count=0\n",
    "for i in nums:\n",
    "    a.append(len(str(i)))\n",
    "for i in a:\n",
    "    if(i%2==0):\n",
    "        count+=1\n",
    "print(count)"
   ]
  },
  {
   "cell_type": "markdown",
   "metadata": {},
   "source": [
    "# Chef And Operators"
   ]
  },
  {
   "cell_type": "code",
   "execution_count": null,
   "metadata": {},
   "outputs": [],
   "source": [
    "for i in range(int(input())):\n",
    "    a,b=map(int,input().split())\n",
    "    if(a>b):\n",
    "        print('>')\n",
    "    elif(a<b):\n",
    "        print('<')\n",
    "    elif(a==b):\n",
    "        print('=')"
   ]
  },
  {
   "cell_type": "markdown",
   "metadata": {},
   "source": [
    "# Splitting Candies "
   ]
  },
  {
   "cell_type": "code",
   "execution_count": null,
   "metadata": {},
   "outputs": [],
   "source": [
    "for i in range(int(input())):\n",
    "    n,k = map(int,input().split())\n",
    "    t=n%k\n",
    "    s=(n-t)//k\n",
    "    print(t,s)"
   ]
  },
  {
   "cell_type": "code",
   "execution_count": null,
   "metadata": {},
   "outputs": [],
   "source": [
    "10/2"
   ]
  },
  {
   "cell_type": "code",
   "execution_count": null,
   "metadata": {},
   "outputs": [],
   "source": [
    "99/3"
   ]
  },
  {
   "cell_type": "code",
   "execution_count": null,
   "metadata": {},
   "outputs": [],
   "source": [
    "a,b = map(int,input().split())\n",
    "print((a**b)%1000000007)"
   ]
  },
  {
   "cell_type": "code",
   "execution_count": null,
   "metadata": {},
   "outputs": [],
   "source": [
    "(10**9)+7"
   ]
  },
  {
   "cell_type": "code",
   "execution_count": null,
   "metadata": {},
   "outputs": [],
   "source": [
    "5%3"
   ]
  },
  {
   "cell_type": "code",
   "execution_count": null,
   "metadata": {},
   "outputs": [],
   "source": [
    "10%3"
   ]
  },
  {
   "cell_type": "code",
   "execution_count": null,
   "metadata": {},
   "outputs": [],
   "source": [
    "10//2"
   ]
  },
  {
   "cell_type": "code",
   "execution_count": null,
   "metadata": {},
   "outputs": [],
   "source": [
    "10//3"
   ]
  },
  {
   "cell_type": "code",
   "execution_count": null,
   "metadata": {},
   "outputs": [],
   "source": [
    "5//3"
   ]
  },
  {
   "cell_type": "code",
   "execution_count": null,
   "metadata": {},
   "outputs": [],
   "source": [
    "1//2"
   ]
  },
  {
   "cell_type": "code",
   "execution_count": null,
   "metadata": {},
   "outputs": [],
   "source": [
    "7//5"
   ]
  },
  {
   "cell_type": "code",
   "execution_count": null,
   "metadata": {},
   "outputs": [],
   "source": [
    "9//5"
   ]
  },
  {
   "cell_type": "code",
   "execution_count": null,
   "metadata": {},
   "outputs": [],
   "source": [
    "for i in range(int(input())):\n",
    "    a,b,m = map(int,input().split())\n",
    "    count=0\n",
    "    i=a\n",
    "    b=b//2\n",
    "    while(i<=b):\n",
    "        if(i%m==0):\n",
    "            i=m+i\n",
    "            count+=1\n",
    "            print(i)\n",
    "        else:\n",
    "            i+=1\n",
    "            print(i)\n",
    "    print(count*2)"
   ]
  },
  {
   "cell_type": "code",
   "execution_count": null,
   "metadata": {},
   "outputs": [],
   "source": [
    "4%2"
   ]
  },
  {
   "cell_type": "code",
   "execution_count": null,
   "metadata": {},
   "outputs": [],
   "source": [
    "10//3"
   ]
  },
  {
   "cell_type": "code",
   "execution_count": null,
   "metadata": {},
   "outputs": [],
   "source": [
    "5//1"
   ]
  },
  {
   "cell_type": "code",
   "execution_count": null,
   "metadata": {},
   "outputs": [],
   "source": [
    "9//1"
   ]
  },
  {
   "cell_type": "code",
   "execution_count": null,
   "metadata": {},
   "outputs": [],
   "source": [
    "1000//2"
   ]
  },
  {
   "cell_type": "code",
   "execution_count": null,
   "metadata": {},
   "outputs": [],
   "source": [
    "500//2"
   ]
  },
  {
   "cell_type": "code",
   "execution_count": null,
   "metadata": {},
   "outputs": [],
   "source": [
    "def SieveOfEratosthenes(n):  \n",
    "    prime = [True for i in range(n+1)] \n",
    "    d=[]\n",
    "    p = 2\n",
    "    while (p * p <= n):           \n",
    "        if (prime[p] == True):               \n",
    "            for i in range(p * p, n+1, p): \n",
    "                prime[i] = False\n",
    "        p += 1\n",
    "    for p in range(2, n+1): \n",
    "        if prime[p]: \n",
    "             d.append(p)\n",
    "    return d"
   ]
  },
  {
   "cell_type": "code",
   "execution_count": null,
   "metadata": {},
   "outputs": [],
   "source": [
    "a=SieveOfEratosthenes(100)\n",
    "print(a)"
   ]
  },
  {
   "cell_type": "code",
   "execution_count": null,
   "metadata": {},
   "outputs": [],
   "source": [
    "for i in range(int(input())):\n",
    "    n = int(input())\n",
    "    a=SieveOfEratosthenes(n)\n",
    "    a.insert(a[0],1)\n",
    "    print(a)\n",
    "    count=0\n",
    "    while(n>1):\n",
    "        n=n-max(a)\n",
    "        a.remove(max(a))\n",
    "        \n",
    "        "
   ]
  },
  {
   "cell_type": "code",
   "execution_count": null,
   "metadata": {},
   "outputs": [],
   "source": [
    "a"
   ]
  },
  {
   "cell_type": "code",
   "execution_count": null,
   "metadata": {},
   "outputs": [],
   "source": [
    "70*128"
   ]
  },
  {
   "cell_type": "code",
   "execution_count": null,
   "metadata": {},
   "outputs": [],
   "source": [
    "nums=[2,2,3,2]\n",
    "a=set()"
   ]
  },
  {
   "cell_type": "code",
   "execution_count": null,
   "metadata": {},
   "outputs": [],
   "source": [
    "a=\"  hello world!  \"\n",
    "a=a.split(' ')\n",
    "\n",
    "b=1\n",
    "c=''\n",
    "for i in range(len(a)):\n",
    "    if(a[-b]==''):\n",
    "        b=b+1\n",
    "    else:\n",
    "        if(i!=len(a)-1):\n",
    "            c+=a[-b]+' '\n",
    "            b+=1\n",
    "        else:\n",
    "            c+=a[-b]\n",
    "print(c)"
   ]
  },
  {
   "cell_type": "code",
   "execution_count": null,
   "metadata": {},
   "outputs": [],
   "source": [
    "a"
   ]
  },
  {
   "cell_type": "code",
   "execution_count": null,
   "metadata": {},
   "outputs": [],
   "source": [
    "while(''in a):\n",
    "    a.remove('')"
   ]
  },
  {
   "cell_type": "code",
   "execution_count": null,
   "metadata": {},
   "outputs": [],
   "source": [
    "a"
   ]
  },
  {
   "cell_type": "markdown",
   "metadata": {},
   "source": [
    "# Similar Dishes\n",
    "Chef has just found a recipe book, where every dish consists of exactly four ingredients. He is going to choose some two dishes and prepare them for dinner. Of course, he likes diversity and wants to know whether the two dishes are similar.\n",
    "\n",
    "Two dishes are called similar if at least half of their ingredients are the same. In other words, at least two of four ingredients of the first dish should also be present in the second dish. The order of ingredients doesn't matter.\n",
    "\n",
    "Your task is to examine T pairs of dishes. For each pair, check if the two dishes are similar and print \"similar\" or \"dissimilar\" accordingly.\n",
    "\n",
    "Input\n",
    "The first line of the input contains an integer T denoting the number of test cases. The description of T test cases follows.\n",
    "\n",
    "The first line of each test case contains four distinct strings, denoting ingredients needed for the first dish. Each ingredient is represented by a string of length between 2 and 10 inclusive, consisting of lowercase English letters.\n",
    "\n",
    "The second line of each test case describes the second dish in the same format.\n",
    "\n",
    "Output\n",
    "For each test case, output a single line containing the answer — \"similar\" if at least half of the ingredients are same, and \"dissimilar\" otherwise (without the quotes).\n",
    "\n",
    "Constraints\n",
    "1 ≤ T ≤ 200\n",
    "The length of each string will be between 2 and 10 inclusive.\n",
    "Example\n",
    "Input:\n",
    "5\n",
    "eggs sugar flour salt\n",
    "sugar eggs milk flour\n",
    "aa ab ac ad\n",
    "ac ad ae af\n",
    "cookies sugar grass lemon\n",
    "lemon meat chili wood\n",
    "one two three four\n",
    "one two three four\n",
    "gibberish jibberish lalalalala popopopopo\n",
    "jibberisz gibberisz popopopopu lalalalalu\n",
    "\n",
    "Output:\n",
    "similar\n",
    "similar\n",
    "dissimilar\n",
    "similar\n",
    "dissimilar"
   ]
  },
  {
   "cell_type": "code",
   "execution_count": null,
   "metadata": {},
   "outputs": [],
   "source": []
  },
  {
   "cell_type": "code",
   "execution_count": null,
   "metadata": {},
   "outputs": [],
   "source": [
    "for i in range(int(input())):\n",
    "    a = input()\n",
    "    b = input()\n",
    "    a = a.split(' ')\n",
    "    b = b.split(' ')\n",
    "    print(a,b)"
   ]
  },
  {
   "cell_type": "code",
   "execution_count": null,
   "metadata": {},
   "outputs": [],
   "source": [
    "count=0\n",
    "for i in a:\n",
    "    if(i in b):\n",
    "        count+=1\n",
    "if(count>=2):\n",
    "    print('similar')\n",
    "else:\n",
    "    print('dissimilar')"
   ]
  },
  {
   "cell_type": "code",
   "execution_count": null,
   "metadata": {},
   "outputs": [],
   "source": []
  },
  {
   "cell_type": "code",
   "execution_count": null,
   "metadata": {
    "scrolled": true
   },
   "outputs": [],
   "source": [
    "arr = [3,0,1,1,9,7]\n",
    "a = 7\n",
    "b = 2\n",
    "c = 3\n",
    "d=[]\n",
    "count=0\n",
    "for i in range(len(arr)):\n",
    "    for j in range(i+1,len(arr)):\n",
    "        for k in range(j+1,len(arr)):\n",
    "            d.append(arr[i])\n",
    "            d.append(arr[j])\n",
    "            d.append(arr[k])\n",
    "            if(abs(d[0]-d[1])<=a and abs(d[1]-d[2])<=b and abs(d[0]-d[2])<=c):\n",
    "                count+=1\n",
    "                print(d)\n",
    "            d.clear()\n",
    "print(count)"
   ]
  },
  {
   "cell_type": "code",
   "execution_count": null,
   "metadata": {},
   "outputs": [],
   "source": [
    "ab=[\".-\",\"-...\",\"-.-.\",\"-..\",\".\",\"..-.\",\"--.\",\"....\",\"..\",\".---\",\"-.-\",\".-..\",\"--\",\"-.\",\"---\",\".--.\",\"--.-\",\".-.\",\"...\",\"-\",\"..-\",\"...-\",\".--\",\"-..-\",\"-.--\",\"--..\"]\n",
    "cd=['a', 'b', 'c', 'd', 'e', 'f', 'g', 'h', 'i', 'j', 'k', 'l', 'm', 'n', 'o', 'p', 'q', 'r', 's', 't', 'u', 'v', 'w', 'x', 'y', 'z']\n",
    "words = [\"gin\", \"zen\", \"gig\", \"msg\"]\n",
    "gh=''\n",
    "ij=[]\n",
    "for i in words:\n",
    "    for j in i:\n",
    "        ef = cd.index(j)\n",
    "        gh=gh+ab[ef]\n",
    "    if(gh not in ij):\n",
    "        ij.append(gh)\n",
    "    gh=''\n",
    "print(len(ij))"
   ]
  },
  {
   "cell_type": "code",
   "execution_count": null,
   "metadata": {},
   "outputs": [],
   "source": [
    "a='ABC'\n",
    "a.lower()"
   ]
  },
  {
   "cell_type": "code",
   "execution_count": null,
   "metadata": {},
   "outputs": [],
   "source": [
    "n = 2\n",
    "m = 2\n",
    "indices =  [[1,1],[0,0]]\n",
    "a=[]\n",
    "b=[]\n",
    "for i in range(n):\n",
    "    for j in range(m):\n",
    "        a.append(0)\n",
    "    b.append(a)\n",
    "    a=[]"
   ]
  },
  {
   "cell_type": "code",
   "execution_count": null,
   "metadata": {},
   "outputs": [],
   "source": [
    "print(b)"
   ]
  },
  {
   "cell_type": "code",
   "execution_count": null,
   "metadata": {},
   "outputs": [],
   "source": [
    "for i in indices:\n",
    "    c=i[0]\n",
    "    d=i[1]\n",
    "    for c in range(n):\n",
    "        b[c][d]+=1\n",
    "    c=i[0]\n",
    "    d=i[1]\n",
    "    for d in range(m):\n",
    "        b[c][d]+=1"
   ]
  },
  {
   "cell_type": "code",
   "execution_count": null,
   "metadata": {},
   "outputs": [],
   "source": [
    "count=0\n",
    "for i in b:\n",
    "    for j in i:\n",
    "        if(j%2==1):\n",
    "            count+=1\n",
    "print(count)"
   ]
  },
  {
   "cell_type": "code",
   "execution_count": null,
   "metadata": {},
   "outputs": [],
   "source": [
    "num = 9996\n",
    "a= str(num)\n",
    "a = a.replace('6','9')"
   ]
  },
  {
   "cell_type": "code",
   "execution_count": null,
   "metadata": {},
   "outputs": [],
   "source": [
    "a"
   ]
  },
  {
   "cell_type": "code",
   "execution_count": null,
   "metadata": {},
   "outputs": [],
   "source": [
    "round(2/2)"
   ]
  },
  {
   "cell_type": "code",
   "execution_count": null,
   "metadata": {},
   "outputs": [],
   "source": [
    "import math\n",
    "math.floor(2/3)"
   ]
  },
  {
   "cell_type": "code",
   "execution_count": null,
   "metadata": {},
   "outputs": [],
   "source": [
    "import math\n",
    "l = True\n",
    "try:\n",
    "    while(l):\n",
    "        a = int(input())\n",
    "        if(a==None):\n",
    "            break\n",
    "        b=math.floor(a/2)\n",
    "        c=math.floor(a/3)\n",
    "        d=math.floor(a/4)\n",
    "        if(b+c+d>a):\n",
    "            print(b+c+d)\n",
    "        else:\n",
    "            print(a)\n",
    "except:\n",
    "    pass"
   ]
  },
  {
   "cell_type": "code",
   "execution_count": null,
   "metadata": {
    "scrolled": true
   },
   "outputs": [],
   "source": [
    "from itertools import permutations,combinations\n",
    "# len(list(permutations([1,2,3,4,5,6,7,8,9,10,11,12,13,14,15,16,17,18,19,20,21,22,23,24,25,26,27,28,29,30],7)))"
   ]
  },
  {
   "cell_type": "code",
   "execution_count": null,
   "metadata": {},
   "outputs": [],
   "source": [
    "(list(combinations([1,2,3,4,5],3)))"
   ]
  },
  {
   "cell_type": "code",
   "execution_count": null,
   "metadata": {},
   "outputs": [],
   "source": []
  },
  {
   "cell_type": "markdown",
   "metadata": {},
   "source": [
    "# 1282. Group the People Given the Group Size They Belong To\n",
    "Medium\n",
    "\n",
    "There are n people, each of them has a unique ID from 0 to n - 1 and each person of them belongs to exactly one group.\n",
    "\n",
    "Given an integer array groupSizes which indicated that the person with ID = i belongs to a group of groupSize[i] persons.\n",
    "\n",
    "Return an array of the groups where ans[j] contains the IDs of the jth group. Each ID should belong to exactly one group and each ID should be present in your answer. Also if a person with ID = i belongs to group j in your answer, then ans[j].length == groupSize[i] should be true.\n",
    "\n",
    "If there is multiple answers, return any of them. It is guaranteed that there will be at least one valid solution for the given input.\n",
    "\n",
    " \n",
    "\n",
    "Example 1:\n",
    "\n",
    "Input: groupSizes = [3,3,3,3,3,1,3]\n",
    "Output: [[5],[0,1,2],[3,4,6]]\n",
    "Explanation: \n",
    "Other possible solutions are [[2,1,6],[5],[0,4,3]] and [[5],[0,6,2],[4,3,1]].\n",
    "Example 2:\n",
    "\n",
    "Input: groupSizes = [2,1,3,3,3,2]\n",
    "Output: [[1],[0,5],[2,3,4]]\n",
    " \n",
    "\n",
    "Constraints:\n",
    "\n",
    "groupSizes.length == n\n",
    "1 <= n <= 500\n",
    "1 <= groupSizes[i] <= n"
   ]
  },
  {
   "cell_type": "code",
   "execution_count": null,
   "metadata": {},
   "outputs": [],
   "source": [
    "def list_duplicates_of(seq,item):\n",
    "    start_at = -1\n",
    "    locs = []\n",
    "    while True:\n",
    "        try:\n",
    "            loc = seq.index(item,start_at+1)\n",
    "        except ValueError:\n",
    "            break\n",
    "        else:\n",
    "            locs.append(loc)\n",
    "            start_at = loc\n",
    "    return locs\n",
    "\n",
    "groupSizes =  [2,1,3,3,3,2]\n",
    "a = list(set(groupSizes))\n",
    "d=[]\n",
    "for i in a:\n",
    "    b=list_duplicates_of(groupSizes, i)\n",
    "    if(len(b)>i):\n",
    "        for j in range(len(b)//i):\n",
    "            d.append(b[j::len(b)//i])\n",
    "    else:\n",
    "        d.append(b)\n"
   ]
  },
  {
   "cell_type": "code",
   "execution_count": null,
   "metadata": {},
   "outputs": [],
   "source": [
    "len(b)//i"
   ]
  },
  {
   "cell_type": "code",
   "execution_count": null,
   "metadata": {},
   "outputs": [],
   "source": [
    "12//4"
   ]
  },
  {
   "cell_type": "code",
   "execution_count": null,
   "metadata": {},
   "outputs": [],
   "source": [
    "a=\"   -42\"\n",
    "print(int(a))"
   ]
  },
  {
   "cell_type": "code",
   "execution_count": null,
   "metadata": {},
   "outputs": [],
   "source": [
    "a='808'\n",
    "b = int(a)+1\n",
    "while(True):\n",
    "    b=str(b)\n",
    "    if(b[:len(a)//2]==b[len(a)//2:]):\n",
    "        print(b)\n",
    "        break\n",
    "    else:\n",
    "        b=int(b)\n",
    "        b+=1"
   ]
  },
  {
   "cell_type": "code",
   "execution_count": null,
   "metadata": {},
   "outputs": [],
   "source": [
    "a='2133'\n",
    "b=int(a)+1"
   ]
  },
  {
   "cell_type": "code",
   "execution_count": null,
   "metadata": {},
   "outputs": [],
   "source": [
    "while(True):\n",
    "    b=str(b)\n",
    "    if(len(b)%2==1):\n",
    "        if(b[:len(a)//2]==b[len(a)//2+1:]):\n",
    "            print(b)\n",
    "            break\n",
    "    else:\n",
    "        if(b[:len(a)//2]==b[len(a)//2:]):\n",
    "            print(b)\n",
    "            break\n",
    "    b=int(b)+1"
   ]
  },
  {
   "cell_type": "code",
   "execution_count": null,
   "metadata": {},
   "outputs": [],
   "source": [
    "b='51215'\n",
    "print(b[:len(a)//2]==b[len(a)//2+1::-1])"
   ]
  },
  {
   "cell_type": "code",
   "execution_count": null,
   "metadata": {},
   "outputs": [],
   "source": [
    "b[len(b)//2+1:]"
   ]
  },
  {
   "cell_type": "code",
   "execution_count": null,
   "metadata": {},
   "outputs": [],
   "source": [
    "b[-1::-len(b)//2+1]"
   ]
  },
  {
   "cell_type": "code",
   "execution_count": null,
   "metadata": {},
   "outputs": [],
   "source": [
    "b[3::-1]"
   ]
  },
  {
   "cell_type": "code",
   "execution_count": null,
   "metadata": {},
   "outputs": [],
   "source": []
  },
  {
   "cell_type": "code",
   "execution_count": null,
   "metadata": {},
   "outputs": [],
   "source": [
    "210+21+525"
   ]
  },
  {
   "cell_type": "code",
   "execution_count": null,
   "metadata": {},
   "outputs": [],
   "source": [
    "756/1287"
   ]
  },
  {
   "cell_type": "code",
   "execution_count": null,
   "metadata": {},
   "outputs": [],
   "source": [
    "720/48"
   ]
  },
  {
   "cell_type": "code",
   "execution_count": null,
   "metadata": {},
   "outputs": [],
   "source": [
    "9*8*7*6*5*4*3*3"
   ]
  },
  {
   "cell_type": "code",
   "execution_count": null,
   "metadata": {},
   "outputs": [],
   "source": []
  },
  {
   "cell_type": "code",
   "execution_count": null,
   "metadata": {},
   "outputs": [],
   "source": [
    "n = int(input())\n",
    "x=[]\n",
    "y=[]\n",
    "for i in range(n):\n",
    "    d,e=map(int,input().split())\n",
    "    x.append(d)\n",
    "    y.append(e)\n",
    "print(x,y)"
   ]
  },
  {
   "cell_type": "code",
   "execution_count": null,
   "metadata": {},
   "outputs": [],
   "source": [
    "count=0\n",
    "for i in x:\n",
    "    if(i in y):\n",
    "        count+=1      \n",
    "print(count//4)"
   ]
  },
  {
   "cell_type": "code",
   "execution_count": null,
   "metadata": {},
   "outputs": [],
   "source": [
    " def countSquares(X, Y, N) : \n",
    "\n",
    "    count = 0; \n",
    "\n",
    "    points = []; \n",
    "\n",
    "\n",
    "    vertical = dict.fromkeys(X, None); \n",
    "\n",
    "    for i in range(N) : \n",
    "        points.append((X[i], Y[i])); \n",
    "\n",
    "    for i in range(N) : \n",
    "        if vertical[X[i]] is None : \n",
    "            vertical[X[i]] = [Y[i]]; \n",
    "        else : \n",
    "            vertical[X[i]].append(Y[i]); \n",
    "\n",
    "\n",
    "    for line in vertical : \n",
    "        X1 = line; \n",
    "        yList = vertical[line]; \n",
    "\n",
    "        for i in range(len(yList)) : \n",
    "            Y1 = yList[i]; \n",
    "            for j in range(i + 1, len(yList)) : \n",
    "                Y2 = yList[j]; \n",
    "                side = abs(Y1 - Y2); \n",
    "                X2 = X1 + side; \n",
    "\n",
    "                if ( X2, Y1 ) in points and ( X2, Y2 ) in points : \n",
    "                    count += 1; \n",
    "\n",
    "    return count; \n",
    "\n",
    "if __name__ == \"__main__\" : \n",
    "    n = int(input())\n",
    "    x=[]\n",
    "    y=[]\n",
    "    for i in range(n):\n",
    "        d,e=map(int,input().split())\n",
    "        x.append(d)\n",
    "        y.append(e)\n",
    "    print(countSquares(x, y,n))\n",
    "\n"
   ]
  },
  {
   "cell_type": "code",
   "execution_count": null,
   "metadata": {},
   "outputs": [],
   "source": []
  },
  {
   "cell_type": "code",
   "execution_count": null,
   "metadata": {},
   "outputs": [],
   "source": [
    "num = int(input())\n",
    "c=[]\n",
    "for i in range(num+1):\n",
    "    a=bin(i)\n",
    "    b =a[2:]\n",
    "    c.append(b.count('1'))\n",
    "print(c)"
   ]
  },
  {
   "cell_type": "code",
   "execution_count": null,
   "metadata": {},
   "outputs": [],
   "source": []
  },
  {
   "cell_type": "code",
   "execution_count": null,
   "metadata": {},
   "outputs": [],
   "source": [
    "a = \"\"\n",
    "b=''\n",
    "c=[]\n",
    "if(len(a==''):\n",
    "    print (0)\n",
    "    break\n",
    "for i in a:\n",
    "    if(i not in b):\n",
    "        b+=i\n",
    "    elif(i in b):\n",
    "        c.append(len(b))\n",
    "        b=b[b.index(i)+1:]\n",
    "print(max(max(c),len(b)))"
   ]
  },
  {
   "cell_type": "code",
   "execution_count": null,
   "metadata": {},
   "outputs": [],
   "source": [
    "def SieveOfEratosthenes(n): \n",
    "    c=[]\n",
    "    prime = [True for i in range(n+1)] \n",
    "    p = 2\n",
    "    while (p * p <= n): \n",
    "        if (prime[p] == True): \n",
    "            for i in range(p * p, n+1, p): \n",
    "                prime[i] = False\n",
    "        p += 1\n",
    "    for p in range(2, n+1): \n",
    "        if prime[p]: \n",
    "            c.append(p)\n",
    "    return len(c)"
   ]
  },
  {
   "cell_type": "code",
   "execution_count": null,
   "metadata": {},
   "outputs": [],
   "source": [
    "print((SieveOfEratosthenes(3)))"
   ]
  },
  {
   "cell_type": "code",
   "execution_count": null,
   "metadata": {},
   "outputs": [],
   "source": [
    "n=11\n",
    "count=1\n",
    "i=0\n",
    "j=0\n",
    "while(i<n):\n",
    "    if(count%2==0 or count%3==0 or count%5==0 or count==1):\n",
    "        i+=1\n",
    "        j=count\n",
    "    count+=1\n",
    "    print(i,j)"
   ]
  },
  {
   "cell_type": "code",
   "execution_count": null,
   "metadata": {},
   "outputs": [],
   "source": [
    "14%2"
   ]
  },
  {
   "cell_type": "code",
   "execution_count": null,
   "metadata": {},
   "outputs": [],
   "source": [
    "N = int(input())\n",
    "a=list(map(int,input().split()))\n",
    "# count = 0\n",
    "# for i in a:\n",
    "#     count += i\n",
    "    \n",
    "# print(count)\n",
    "sum(a)"
   ]
  },
  {
   "cell_type": "code",
   "execution_count": null,
   "metadata": {},
   "outputs": [],
   "source": [
    "a"
   ]
  },
  {
   "cell_type": "code",
   "execution_count": null,
   "metadata": {},
   "outputs": [],
   "source": [
    "a = list(map(int,input().split()))\n",
    "b = list(map(int,input().split()))\n",
    "A =0\n",
    "B = 0\n",
    "for i in range(3):\n",
    "    if a[i]>b[i]:\n",
    "        A+=1\n",
    "    elif a[i]<b[i]:\n",
    "        B+=1\n",
    "    elif a[i] == b[i]:\n",
    "        ...\n",
    "print(A,B)\n",
    "        "
   ]
  },
  {
   "cell_type": "code",
   "execution_count": null,
   "metadata": {},
   "outputs": [],
   "source": [
    "sum([1,23,5,6])"
   ]
  },
  {
   "cell_type": "code",
   "execution_count": null,
   "metadata": {},
   "outputs": [],
   "source": [
    "n = int(input().strip())\n",
    "arr = []\n",
    "for _ in range(n):\n",
    "    arr.append(list(map(int, input().rstrip().split())))"
   ]
  },
  {
   "cell_type": "code",
   "execution_count": null,
   "metadata": {},
   "outputs": [],
   "source": [
    "primary_diagonal =0\n",
    "second_diagnol = 0\n",
    "for i in range(n):\n",
    "    for j in range(n):\n",
    "        if i==j:\n",
    "            primary_diagonal +=arr[i][j]\n",
    "            \n",
    "j=n-1\n",
    "for i in range(0,n):\n",
    "    second_diagnol+=arr[i][j]\n",
    "    j-=1\n",
    "    \n",
    "print(second_diagnol)\n",
    "    \n",
    "    \n"
   ]
  },
  {
   "cell_type": "code",
   "execution_count": null,
   "metadata": {},
   "outputs": [],
   "source": [
    " primary_diagonal"
   ]
  },
  {
   "cell_type": "code",
   "execution_count": null,
   "metadata": {},
   "outputs": [],
   "source": [
    "print(abs(primary_diagonal-second_diagnol))"
   ]
  },
  {
   "cell_type": "code",
   "execution_count": null,
   "metadata": {},
   "outputs": [],
   "source": [
    "N = int(input())\n",
    "a=list(map(int,input().split()))\n",
    "p=0\n",
    "n=0\n",
    "z=0\n",
    "for i in a:\n",
    "    if(i>0):\n",
    "        p+=1\n",
    "    elif(i<0):\n",
    "        n+=1\n",
    "    elif(i==0):\n",
    "        z+=1\n",
    "print(\"{:.6f}\".format(p/N))\n",
    "print(\"{:.6f}\".format(n/N))\n",
    "print(\"{:.6f}\".format(z/N))"
   ]
  },
  {
   "cell_type": "code",
   "execution_count": null,
   "metadata": {},
   "outputs": [],
   "source": [
    "n=int(input())\n",
    "for i in range(1, n + 1):\n",
    "        print(str('#'*i).rjust(n))"
   ]
  },
  {
   "cell_type": "code",
   "execution_count": null,
   "metadata": {},
   "outputs": [],
   "source": [
    "lst = list(map(int,input().rstrip().split()))\n",
    "a = sum(lst)\n",
    "print(a-max(lst),a-min(lst))"
   ]
  },
  {
   "cell_type": "code",
   "execution_count": null,
   "metadata": {},
   "outputs": [],
   "source": [
    "n = int(input().strip())\n",
    "arr = map(int,input().strip().split())\n",
    "print(arr.count(max(arr)))"
   ]
  },
  {
   "cell_type": "code",
   "execution_count": null,
   "metadata": {},
   "outputs": [],
   "source": [
    "n = int(input().strip())\n",
    "candles = listmap(int,input().strip().split(' '))\n",
    "\n",
    "print (candles.count(max(candles)))"
   ]
  },
  {
   "cell_type": "code",
   "execution_count": null,
   "metadata": {},
   "outputs": [],
   "source": [
    "nums = [-1, 0, 1, 2, -1, -4]\n",
    "a = len(nums)\n",
    "c=[]\n",
    "d=[]\n",
    "for i in range(a):\n",
    "    for j in range(i+1,a):\n",
    "        for k in range(j+1,a):\n",
    "            if(nums[i]+nums[j]+nums[k]==0):\n",
    "                c.append(nums[i])\n",
    "                c.append(nums[j])\n",
    "                c.append(nums[k])\n",
    "                if(d==[]):\n",
    "                    d.append(c)\n",
    "                else:\n",
    "                    for h in d:\n",
    "                        if(sorted(h)==sorted(c)):\n",
    "                            print(sorted(h),sorted(c),'l')\n",
    "                        else:\n",
    "                            d.append(c)\n",
    "                c=[]\n",
    "                print(d)"
   ]
  },
  {
   "cell_type": "code",
   "execution_count": null,
   "metadata": {},
   "outputs": [],
   "source": [
    "d"
   ]
  },
  {
   "cell_type": "code",
   "execution_count": null,
   "metadata": {},
   "outputs": [],
   "source": [
    "a=[-1, 0, 1]\n",
    "b= [0, 1, -1]"
   ]
  },
  {
   "cell_type": "code",
   "execution_count": null,
   "metadata": {},
   "outputs": [],
   "source": []
  },
  {
   "cell_type": "code",
   "execution_count": null,
   "metadata": {},
   "outputs": [],
   "source": [
    "from itertools import permutations\n",
    "a = [1,2,3]\n",
    "print(list(permutations(a)))"
   ]
  },
  {
   "cell_type": "code",
   "execution_count": null,
   "metadata": {},
   "outputs": [],
   "source": [
    "T = [47,34,47,34,47,47,34,34,47,47,34,47,47,47,47,34,47,34,34,47,34,34,34,47,34,47,34,47,34,47,34,34,34,34,34,47,34,34,47,47,47,47,34,34,47,47,34,47,47,34,47,47,47,34,47,34,34,34,34,47,47,34,34,34,47,47,34,34,34,47,34,34,34,34,47,34,34,34,34,47,47,47,34,47,34,34,47,47,34,47,34,34,47,34,34,34,47,34,34,47,34,47,34,47,47,47,34,47,34,47,47,34,47,47,47,47,47,47,47,34,47,47,47,47,34,34,34,34,47,34,34,34,34,34,47,34,47,47,47,47,34,34,47,47,34,47,34,47,47,47,34,47,34,34,34,47,47,47,34,34,34,34,34,47,47,47,47,34,47,47,34,47,34,34,47,34,47,34,34,34,47,34,34,34,47,47,47,47,47,47,47,47,34,47,47,47,47,34,34,34,47,34,34,34,34,47,47,47,34,34,34,34,47,34,47,34,34,47,47,47,34,34,47,34,47,34,34,47,47,34,34,47,34,47,47,47,47,34,47,34,47,34,47,34,34,34,47,47,47,34,34,47,34,47,34,47,47,34,34,47,34,34,47,34,34,47,47,34,34,47,47,47,34,34,47,47,47,34,47,47,47,47,47,34,34,34,34,34,34,34,47,47,34,47,34,47,47,47,47,47,47,47,47,47,47,34,47,47,47,34,47,34,34,34,47,47,47,47,34,47,34,47,34,47,47,34,34,34,47,34,34,47,34,47,34,47,34,34,34,34,47,47,34,47,47,47,34,47,34,34,47,34,47,34,47,34,47,34,47,34,47,47,34,34,47,34,47,47,47,47,47,34,34,34,47,34,47,34,34,47,47,47,34,47,47,47,47,34,34,47,47,34,34,34,47,47,47,34,47,47,47,34,47,34,34,47,47,34,47,34,34,47,34,34,34,34,47,47,47,34,47,47,34,47,47,34,34,34,34,47,34,34,47,34,47,47,47,34,47,34,34,47,34,47,34,34,34,34,34,34,47,47,47,47,47,47,47,34,34,34,47,34,34,47,47,47,34,47,34,47,34,47,34,47,47,47,34,34,34,34,34,34,34,34,47,47,47,34,47,34,34,34,47,34,47,47,34,47,47,47,34,34,34,34,34,47,34,47,34,34,47,34,47,47,34,34,34,34,47,47,34,34,47,47,34,34,34,34,34,34,34,47,34,34,47,34,34,47,34,34,47,34,34,34,47,47,34,34,47,47,47,34,34,47,47,47,34,47,47,47,47,47,47,47,34,47,47,47,34,47,47,34,47,34,34,47,34,34,34,34,34,34,47,47,47,34,47,47,34,47,34,34,47,34,34,34,47,47,34,47,47,34,34,34,47,47,47,47,34,47,34,34,47,47,47,47,47,34,47,34,34,34,47,47,47,34,34,47,47,34,34,34,34,34,47,34,47,34,47,34,47,47,47,47,47,34,47,34,34,34,34,34,47,34,47,47,34,34,47,34,47,34,47,34,47,34,47,34,47,47,34,47,47,47,47,34,34,47,34,34,34,34,47,34,34,47,34,34,34,34,34,47,34,47,34,47,34,47,47,47,34,47,34,34,47,47,34,34,34,34,34,34,47,47,47,47,47,47,34,34,34,34,34,47,47,34,47,47,34,47,34,34,47,34,34,47,47,47,34,47,34,47,47,47,47,34,47,47,34,34,34,34,34,34,47,47,47,47,47,47,47,47,47,34,34,34,47,34,34,47,34,47,34,47,34,47,34,47,47,47,34,34,34,34,47,34,47,47,47,34,34,34,47,47,34,34,47,47,47,34,47,34,47,47,47,47,34,34,34,34,47,34,47,47,47,34,47,47,34,47,34,47,47,47,34,47,34,47,34,47,47,47,47,47,34,34,34,47,47,47,34,47,34,34,34,34,34,34,34,47,47,47,47,47,47,34,47,47,47,34,34,34,47,47,47,47,47,34,34,47,47,34,34,34,34,47,34,34,34,47,34,47,34,47,47,47,47,47,47,34,47,34,47,34,47,34,34,34,34,34,34,47,47,47,34,34,34,34,34,47,34,34,34,47,47,47,34,47,34,47,34,34,47,47,34,34,47,34,47,47,34,47,34,47,34,47,47,34,34,47,47,34,34,34,47,34,34,47,47,34,47,47,34,34,34,47,34,34,34,47,34,34,34,47,47,34,47,34,47,34,47,34,34,34,47,34,34,47,34,47,34,47,47,47,47,47,47,47,34,47,34,34,47,47,34,34,47,34,34,47,47,47,34,47,34,34,47,47,34,34,34,34,34,47,47,34,47,47,34,47,34,34,34,47,34,34,34,47,47,34,34,34,34,34,47,47,47,34,47,47,47,47,34,47,47,47,47,47,34,34,47,47,47,47,34,34,34,47,34,47,47,34,47,47,34,34,47,47,47,47,47,47,34,47,47,34,34,34,47,47,47,47,34,47,47,47,34,47,47,34,34,34,47,34,34,34,47,34,47,34,47,34,47,47,47,47,34,47,34,47,34,47,34,34,47,34,34,47,34,47,47,47,47,34,47,34,47,34,34,34,34,47,34,34,34,47,34,47,47,34,47,34,47,34,47,47,47,47,47,47,34,34,47,47,34,34,47,47,47,47,47,34,47,34,34,47,47,34,34,47,47,47,34,47,34,47,34,47,47,34,47,34,34,47,34,34,47,47,47,34,34,47,47,34,47,47,47,34,47,34,34,47,34,34,47,47,34,34,47,47,34,34,47,47,34,47,34,34,47,34,34,47,47,47,47,47,34,47,47,34,34,34,34,34,47,47,34,47,47,34,47,47,34,47,47,47,47,34,34,34,34,34,34,34,47,34,47,47,34,34,34,47,34,34,47,34,47,47,34,34,47,47,34,47,47,47,47,47,47,47,47,34,34,47,47,47,34,34,34,47,47,47,47,47,47,34,47,47,47,34,34,34,34,34,34,47,47,34,47,34,47,47,47,34,34,47,34,34,34,34,47,34,34,47,34,47,47,34,34,47,34,34,34,47,34,47,47,34,47,47,34,47,47,34,34,47,47,34,34,34,47,47,47,47,47,34,34,34,34,34,34,47,47,34,34,34,34,34,47,34,47,34,47,47,34,47,47,47,47,34,47,34,47,47,34,34,47,47,34,34,47,47,47,47,34,47,47,47,34,47,47,34,34,47,47,34,34,34,47,47,34,34,47,34,34,34,47,47,34,34,34,47,47,34,47,47,47,47,47,47,34,47,47,47,47,34,34,47,47,47,34,34,47,47,47,34,34,47,47,47,47,34,34,47,47,34,47,47,34,47,47,47,47,47,47,47,47,47,47,47,47,34,34,47,34,47,47,34,34,47,34,34,34,34,34,47,34,47,47,47,34,47,47,34,34,34,47,47,47,47,47,34,47,47,47,34,47,34,34,34,47,34,34,34,47,47,47,47,34,34,34,34,34,47,47,34,47,47,34,47,47,47,34,34,34,34,47,34,47,47,47,47,47,47,47,34,34,47,47,47,34,34,34,34,34,34,34,47,34,47,34,34,47,34,34,34,47,34,34,47,47,34,47,34,47,47,34,34,34,34,47,47,34,34,34,47,47,34,47,47,34,34,47,34,47,34,34,34,47,34,34,34,34,47,47,34,47,47,34,34,47,34,34,34,47,34,34,34,34,34,47,34,47,34,34,34,34,34,34,47,34,34,47,34,47,34,34,34,47,47,47,34,34,47,47,47,34,47,34,47,34,34,34,34,34,34,47,34,34,34,47,34,34,47,34,47,34,47,47,47,34,34,47,34,47,47,47,47,34,47,47,34,34,47,34,34,34,34,34,34,34,47,34,47,47,47,34,34,47,34,34,34,34,34,34,34,34,47,34,47,34,34,47,34,47,47,34,34,47,47,47,47,34,34,34,34,34,47,34,47,34,47,34,47,47,34,34,47,47,47,34,47,34,34,47,34,47,47,47,34,47,34,34,34,34,47,34,34,34,34,47,34,34,47,47,47,34,34,47,47,47,47,47,34,34,34,47,47,47,34,47,47,34,47,34,34,34,34,47,47,47,47,34,47,47,34,34,47,34,47,47,34,47,47,34,34,47,47,47,47,34,47,47,34,34,34,34,47,34,47,47,34,34,47,47,34,47,34,34,47,34,47,34,47,47,47,34,47,34,47,47,47,34,34,47,34,47,34,34,34,47,47,34,47,47,34,34,47,47,47,47,47,34,47,47,47,47,47,47,47,34,47,34,34,34,34,34,34,47,47,34,47,34,47,47,47,34,47,47,34,47,47,47,47,47,34,47,47,47,34,34,34,34,47,47,34,47,47,34,47,34,34,47,34,47,47,34,47,34,34,34,47,47,47,47,34,34,34,34,34,34,34,34,34,34,47,34,47,47,47,34,34,47,47,47,47,47,47,47,34,47,34,47,34,34,34,34,34,47,47,47,47,47,47,34,47,47,34,47,47,34,34,34,47,47,34,34,47,34,34,34,47,47,34,34,47,47,34,34,34,47,34,47,34,47,34,34,47,47,47,47,47,47,34,47,47,47,47,47,47,34,47,34,34,47,34,34,34,34,47,47,47,34,47,34,34,47,47,47,47,34,47,34,34,47,47,34,47,47,34,47,34,47,34,47,47,34,34,34,34,34,47,47,34,47,34,47,34,34,47,34,34,47,34,34,47,47,47,47,34,47,34,47,47,47,34,34,47,34,47,34,34,34,47,47,34,34,34,34,34,34,47,47,47,47,47,47,47,34,47,47,47,34,34,47,34,34,47,47,34,47,47,34,47,47,34,34,34,47,34,47,34,34,47,47,34,47,47,47,34,34,47,34,34,34,47,47,34,34,34,34,34,47,34,47,47,34,34,47,34,47,47,34,47,47,34,47,47,34,47,47,47,34,34,47,47,34,34,34,34,47,47,47,34,34,47,47,34,34,47,47,34,47,34,47,34,34,34,34,34,34,34,34,34,47,47,47,47,34,34,34,47,47,47,47,47,34,47,47,34,47,34,47,47,34,47,34,34,47,34,34,47,47,47,47,47,34,34,34,47,34,47,47,47,47,47,47,34,34,47,34,47,47,34,47,47,34,34,34,47,47,47,34,47,47,47,47,47,34,47,34,47,34,47,34,34,34,47,47,47,34,47,47,47,34,47,47,47,47,47,47,34,47,47,47,47,34,47,34,34,47,47,34,47,34,47,47,34,47,34,34,34,47,47,34,47,34,47,34,47,34,34,47,34,47,47,47,34,47,34,47,47,34,34,47,34,47,34,34,34,34,34,34,47,34,34,34,34,34,34,34,47,47,47,47,47,47,34,47,47,47,34,47,34,47,47,34,34,34,34,34,47,47,47,47,47,47,34,47,47,47,47,34,47,47,47,47,34,34,47,47,47,47,34,47,34,47,47,47,34,47,34,47,34,47,34,47,47,34,47,47,34,34,47,47,34,47,47,47,47,47,34,47,47,47,34,47,47,47,47,47,47,47,47,47,34,34,47,34,34,34,47,47,34,47,47,47,34,34,47,34,47,47,34,34,34,47,47,34,47,47,47,47,47,34,34,34,34,47,47,34,47,34,34,34,34,34,47,47,34,47,47,34,47,34,34,47,34,34,34,47,47,34,34,34,47,34,34,34,47,34,47,34,34,47,47,34,34,34,47,34,34,47,34,47,34,34,47,47,47,47,34,47,34,34,47,34,34,34,47,47,34,47,34,47,47,34,47,47,47,47,47,34,34,47,34,34,47,47,47,47,47,47,47,47,34,47,34,47,47,34,34,34,34,34,47,47,47,47,34,47,34,47,47,34,47,34,47,34,47,34,47,34,34,47,34,47,47,34,47,34,47,47,34,34,47,34,34,47,34,47,47,47,47,34,34,47,34,34,47,34,47,47,47,47,34,47,47,34,34,47,47,47,47,34,47,34,47,34,47,47,34,47,34,47,34,47,47,34,34,47,47,47,47,34,34,34,47,47,47,47,34,34,47,34,47,47,47,34,47,47,34,47,34,47,47,34,34,34,47,34,47,47,34,47,47,34,47,34,34,34,47,47,34,34,47,47,47,34,47,47,34,47,47,47,34,34,47,34,47,47,47,47,34,47,34,34,34,47,47,47,47,34,47,47,47,34,34,47,34,47,34,47,34,47,47,34,34,34,34,34,34,47,47,34,34,34,47,34,47,34,34,34,47,34,47,34,34,34,47,34,34,47,47,47,34,34,34,34,34,34,34,47,34,47,34,34,47,34,47,47,34,47,47,34,47,47,34,47,34,34,34,47,47,34,47,34,47,34,47,47,34,34,47,47,34,34,47,47,34,34,34,47,34,47,47,34,47,34,34,34,47,47,47,34,34,34,34,34,34,47,34,47,34,34,34,47,47,47,34,34,47,34,34,47,47,47,47,34,34,47,47,47,47,47,34,34,34,34,47,34,34,47,47,47,34,47,34,34,34,34,47,34,34,34,47,47,34,34,47,47,47,34,34,47,34,34,47,47,47,47,47,34,34,34,47,47,47,34,47,34,34,34,47,34,34,34,34,47,47,47,34,34,47,47,47,47,34,47,34,47,34,34,34,47,47,47,47,47,47,34,34,47,47,34,34,34,47,34,47,34,34,34,34,34,47,34,47,47,34,47,47,34,34,34,47,34,47,47,47,47,47,34,47,47,34,34,47,34,47,47,34,47,34,34,47,34,47,34,47,34,34,47,47,47,47,47,47,34,34,34,34,47,34,34,47,34,34,47,34,47,47,34,34,47,47,47,34,47,34,34,34,47,47,34,34,47,47,34,47,47,34,34,34,34,34,34,34,47,34,34,47,47,47,34,34,47,47,47,34,34,47,34,34,34,34,34,34,34,34,47,34,34,34,47,47,34,47,34,34,47,34,34,34,47,34,34,47,34,34,34,47,34,34,47,34,47,34,47,34,34,47,34,47,47,34,47,34,34,47,34,47,47,47,34,34,47,47,47,47,34,34,34,34,34,47,47,47,34,47,34,34,34,47,47,34,34,47,34,47,47,47,47,47,47,47,34,34,34,47,34,47,34,47,34,34,47,47,34,47,47,47,47,47,47,47,47,34,34,34,34,47,47,47,47,47,34,34,47,34,34,34,47,34,47,47,34,34,34,34,34,34,34,34,34,47,34,34,47,47,47,34,34,34,47,47,47,47,47,47,47,47,47,47,34,47,47,47,47,34,47,34,34,34,47,47,34,47,47,47,47,34,47,34,34,34,47,47,47,47,34,47,34,47,34,34,47,47,34,34,34,34,47,47,47,47,47,34,47,34,34,34,34,47,47,34,47,34,34,34,47,47,34,34,47,47,47,47,47,34,47,47,47,34,47,47,47,47,47,34,34,47,34,34,34,34,47,47,47,34,47,47,34,47,47,47,34,47,47,47,47,47,34,47,47,47,47,34,47,47,47,47,47,34,47,34,47,47,34,47,34,34,47,47,34,47,47,47,47,47,34,34,47,34,47,47,34,34,47,34,47,47,47,34,34,34,34,34,34,47,34,34,47,34,47,47,47,47,34,34,34,34,47,34,47,34,47,34,34,34,34,34,47,34,34,34,47,47,34,34,47,34,34,47,34,34,47,47,47,34,47,47,47,34,47,34,34,47,47,47,34,47,34,47,34,34,47,47,34,47,34,47,47,34,34,34,47,34,47,47,47,34,47,34,34,34,47,34,47,47,34,47,47,47,34,47,34,47,47,34,34,47,34,34,34,34,47,47,34,34,34,34,34,34,47,34,34,47,34,47,47,47,47,34,34,47,34,47,34,34,34,34,34,47,34,47,47,34,47,47,34,47,34,47,34,34,47,34,47,47,34,34,34,34,34,34,34,47,47,47,34,34,34,34,34,47,34,34,47,47,34,34,34,47,47,34,34,47,47,34,34,47,47,34,47,47,47,47,47,47,47,34,47,34,34,47,34,34,34,34,47,34,47,34,47,34,34,34,34,47,34,47,47,34,34,47,47,34,34,34,34,47,47,47,47,47,47,34,34,47,34,47,47,34,47,34,34,34,47,47,47,47,47,34,34,34,47,47,47,47,34,34,34,34,47,47,47,34,34,34,34,34,47,34,34,47,47,47,47,34,47,34,47,47,47,34,34,47,34,47,47,34,47,47,34,34,47,47,47,47,47,34,34,34,34,47,34,47,47,47,47,47,34,34,47,47,34,47,47,34,34,34,34,47,47,34,47,34,47,34,47,34,34,47,34,47,34,47,47,47,47,47,34,34,34,47,47,34,34,34,47,34,47,34,34,34,34,34,34,34,34,47,34,34,34,47,34,47,47,34,47,34,47,34,47,47,47,34,34,47,34,47,47,34,47,47,34,47,34,47,34,34,47,34,47,34,47,47,47,34,34,47,47,47,47,47,47,47,34,34,34,47,47,34,47,34,47,34,34,34,47,34,47,34,47,34,47,47,47,34,47,47,47,34,47,47,47,47,34,47,47,34,34,47,47,47,34,47,47,47,34,47,47,34,34,47,47,47,47,34,47,34,47,34,47,34,34,34,47,47,34,47,34,34,34,34,34,47,34,34,34,47,47,47,47,47,34,47,34,47,34,47,34,47,34,47,34,47,34,47,34,47,34,47,34,34,34,34,47,34,34,47,47,47,47,47,47,34,34,47,47,34,34,34,34,34,34,47,47,47,47,34,47,34,47,47,47,34,34,47,47,34,34,34,34,34,34,47,34,34,47,34,47,34,47,34,34,47,34,34,34,47,34,47,34,34,47,47,34,47,47,47,34,47,34,34,34,47,34,34,34,34,47,47,34,34,34,34,34,47,34,47,34,47,34,47,34,47,34,34,47,34,47,47,34,47,47,47,34,47,34,47,47,47,34,47,47,47,47,34,47,47,47,47,34,47,47,47,34,47,47,47,34,47,34,34,47,47,47,47,47,34,34,34,47,34,34,47,47,34,34,34,47,47,47,34,34,34,34,34,47,34,47,34,34,47,34,47,47,47,34,34,47,34,34,34,34,34,34,47,47,47,34,34,47,34,47,47,47,47,34,47,34,34,34,47,34,47,34,34,47,47,47,47,47,47,47,34,34,47,47,47,47,47,47,47,34,34,34,47,47,47,47,47,34,34,34,34,34,34,47,34,34,47,34,34,47,47,34,47,34,47,34,47,47,47,34,34,34,34,34,34,34,47,34,47,34,47,47,34,34,34,34,47,34,47,47,34,34,47,34,47,34,34,47,47,47,34,47,47,47,34,34,47,34,47,34,47,34,34,47,34,47,47,47,47,47,34,34,47,47,47,47,47,47,34,34,47,47,34,34,34,34,47,47,47,34,34,34,47,34,34,47,47,47,47,47,34,47,34,47,47,34,47,47,34,47,47,34,34,47,47,34,47,34,47,47,34,34,34,47,34,47,34,34,47,47,34,34,34,34,34,34,34,47,34,47,47,47,34,34,47,34,47,47,47,34,34,47,34,47,47,34,34,34,34,47,47,47,34,34,47,34,34,47,47,47,47,47,47,34,47,34,47,47,34,47,34,34,34,34,47,34,47,34,34,34,47,34,47,47,47,47,34,34,47,34,47,34,47,47,47,34,34,34,47,47,34,34,34,34,47,34,47,47,47,34,47,34,34,47,34,47,47,47,47,47,47,47,47,47,34,47,47,34,47,34,47,47,47,47,47,47,47,34,34,47,47,34,34,34,34,34,47,34,34,34,47,47,47,34,34,47,34,47,47,34,34,47,34,34,47,47,47,47,47,34,34,47,47,34,47,34,47,34,34,47,47,34,34,47,47,34,34,47,47,34,47,47,47,47,34,34,34,34,34,34,34,34,47,47,34,34,47,47,47,47,47,34,47,47,34,47,34,47,34,34,34,47,34,34,47,34,34,34,34,34,47,47,47,34,47,34,47,34,34,34,34,47,47,34,47,34,34,47,34,34,34,34,34,34,34,47,47,34,34,47,34,47,34,47,47,34,47,34,47,47,47,34,47,34,47,34,34,47,47,47,47,47,34,34,34,34,47,34,34,47,34,47,34,34,34,34,34,47,47,34,47,47,47,47,47,34,34,34,47,47,34,47,47,47,34,47,47,34,47,34,47,34,34,34,34,34,47,47,34,34,47,34,47,34,34,34,34,34,47,47,47,47,47,47,47,34,47,47,47,47,34,34,34,47,47,34,34,34,47,47,47,34,34,34,47,47,34,34,47,34,34,47,34,47,34,34,34,34,34,34,47,34,47,34,34,34,34,47,47,34,47,34,47,34,47,34,47,47,34,47,47,47,47,34,47,34,34,34,47,47,47,47,47,34,47,34,34,34,34,34,47,34,34,34,47,34,47,47,34,47,34,47,47,47,47,34,34,47,34,34,34,47,34,34,34,34,34,34,47,34,47,47,47,47,47,47,34,47,47,34,34,47,47,34,47,47,47,34,34,34,34,34,47,47,34,47,34,34,34,47,34,34,34,34,47,47,34,47,47,47,34,47,47,47,47,34,34,34,47,34,47,47,47,34,47,47,34,47,34,47,34,34,47,47,47,34,34,47,47,47,34,47,47,34,34,47,47,47,34,34,34,34,47,47,47,34,47,47,34,34,47,47,47,47,34,34,34,47,47,34,34,34,47,47,34,47,34,34,47,47,47,34,34,34,34,34,34,34,34,34,34,34,34,34,34,47,34,47,34,47,34,47,34,47,47,47,34,47,34,47,34,47,34,34,34,47,47,34,47,34,34,47,47,47,34,47,34,47,47,47,34,34,47,34,34,34,34,47,47,47,47,34,47,34,47,47,47,47,34,34,47,47,34,47,34,47,47,34,47,34,34,34,47,34,34,47,47,47,47,47,47,34,34,34,34,47,34,47,47,47,47,47,34,34,34,47,34,47,34,47,47,34,34,47,47,34,47,34,47,34,34,34,34,47,34,34,34,47,34,34,34,47,34,34,34,47,47,47,47,47,34,34,34,34,47,34,34,47,47,47,34,34,47,34,34,47,47,34,34,47,47,47,47,47,34,47,47,34,47,34,47,34,47,47,47,34,34,34,34,47,34,34,47,34,47,47,47,47,34,47,34,47,34,34,34,47,47,34,34,47,47,47,34,34,47,34,47,34,47,34,47,34,47,47,47,34,34,47,47,47,47,34,47,47,47,47,34,47,47,47,34,34,34,47,47,34,47,47,34,34,47,34,34,47,47,47,47,47,47,47,47,47,34,34,34,47,47,34,34,47,47,47,47,47,47,47,47,47,34,34,34,47,34,34,34,47,34,47,47,47,47,47,34,34,34,34,34,34,34,34,47,47,47,47,34,47,34,47,47,47,34,47,34,34,34,47,47,47,47,34,47,47,34,47,47,34,34,34,47,34,34,34,47,34,34,34,34,47,47,47,47,34,34,47,47,47,47,34,47,47,34,34,34,47,47,34,34,34,47,47,47,34,47,47,34,47,34,47,47,47,34,34,47,34,34,34,34,47,47,47,47,34,34,47,34,47,47,47,47,34,47,34,34,47,47,47,34,47,34,34,47,34,34,47,34,34,47,34,47,34,47,34,34,47,47,47,34,47,47,34,47,34,47,34,47,34,34,34,47,47,47,47,47,47,47,34,47,34,34,34,47,34,47,47,34,47,34,47,34,34,47,34,47,34,47,34,47,34,47,47,34,34,34,47,47,34,47,47,47,47,34,34,47,47,34,34,34,34,34,47,34,47,34,34,47,47,34,47,47,34,34,47,34,34,34,34,47,47,34,34,47,34,47,34,47,34,34,34,34,34,47,34,47,47,47,47,47,47,47,34,47,34,47,47,47,34,34,34,34,47,34,47,47,34,47,34,34,34,47,34,34,47,34,47,47,47,47,34,34,34,47,34,34,34,47,47,34,47,34,34,47,34,47,34,34,47,34,34,34,47,34,47,34,47,34,47,47,34,47,47,34,47,47,34,47,34,47,34,34,34,34,47,47,47,34,34,34,47,47,47,47,34,34,34,47,47,34,34,34,34,34,34,34,34,47,34,47,47,47,47,47,34,34,34,34,47,47,47,34,47,47,47,47,47,47,47,34,34,47,34,47,34,47,47,34,47,34,47,47,47,47,34,34,34,34,47,34,34,34,34,34,47,47,34,47,34,47,34,34,34,47,34,34,47,47,34,47,47,34,47,47,34,34,34,47,34,34,47,47,47,34,34,34,47,34,34,47,47,47,34,34,34,34,47,34,47,34,47,34,47,47,34,47,34,34,34,34,47,47,47,47,47,34,47,47,47,47,34,34,34,47,47,47,34,47,47,34,47,47,34,47,47,47,34,34,47,34,47,34,47,34,47,47,34,47,34,47,47,34,34,34,34,34,47,47,47,47,47,34,47,47,34,34,47,47,34,34,34,47,47,47,34,47,34,34,47,34,47,47,47,47,47,34,47,34,47,34,47,34,47,34,34,34,47,34,47,34,47,34,34,47,47,47,34,34,34,47,34,34,34,47,47,47,47,34,47,47,34,34,47,34,34,34,47,34,34,47,34,34,47,47,47,47,34,34,34,34,47,47,34,47,34,47,34,34,34,47,47,34,34,47,34,47,47,34,34,47,34,34,34,34,34,47,34,47,47,47,34,47,47,47,34,47,47,47,47,34,47,34,47,47,47,34,34,34,47,47,34,34,34,47,47,34,47,34,34,34,47,34,34,47,34,47,47,47,47,34,47,34,34,47,34,34,47,47,34,47,34,34,47,47,47,34,34,47,47,34,47,34,34,34,34,34,34,47,47,47,47,34,34,47,47,47,47,34,34,34,34,34,47,47,47,47,47,34,47,34,47,47,34,34,47,34,34,47,47,47,34,47,34,47,34,34,47,47,34,47,34,47,47,47,47,47,47,34,34,47,47,47,34,47,34,34,34,34,47,47,34,34,47,34,34,34,34,47,34,34,47,34,47,34,34,47,34,34,47,47,34,34,47,47,47,47,47,34,34,34,34,47,34,47,34,34,47,34,34,34,34,47,47,47,47,47,47,34,34,34,47,34,34,47,34,47,47,34,47,34,47,47,47,47,34,47,34,47,47,34,47,34,34,47,34,34,34,47,34,47,34,47,47,34,34,47,34,47,47,47,47,34,34,34,47,47,34,47,34,34,47,47,47,47,34,34,47,34,34,34,47,47,47,34,47,47,47,34,34,34,34,34,34,47,47,47,34,47,47,47,34,34,34,47,34,34,34,47,47,34,34,47,47,47,47,47,47,47,34,34,47,34,34,47,34,34,47,47,34,47,47,47,47,34,34,47,34,47,47,34,34,47,34,47,34,34,34,34,47,34,47,34,47,47,47,34,47,34,34,34,47,47,34,47,47,47,34,34,47,47,34,47,34,47,47,34,47,34,47,34,34,34,47,47,34,47,47,34,34,47,34,47,47,47,47,34,34,47,47,34,47,47,34,47,34,34,34,47,47,34,47,34,34,34,47,47,34,34,34,34,34,34,34,34,47,47,47,34,34,34,34,47,47,47,34,47,47,34,34,47,34,34,34,47,34,47,34,47,47,47,34,34,47,47,47,34,47,47,47,34,34,47,34,47,47,47,47,34,34,34,47,34,34,47,47,34,34,47,34,47,34,34,34,34,47,47,34,34,34,34,34,34,47,34,47,47,47,34,47,34,47,47,34,34,34,34,47,34,34,47,47,34,34,47,34,47,34,47,47,34,47,47,47,34,47,34,47,34,47,34,34,47,47,34,34,34,34,47,34,47,47,34,47,34,47,34,34,34,47,47,47,34,47,34,34,47,47,34,47,47,47,47,47,47,47,47,34,47,34,47,34,34,34,34,47,47,34,47,47,47,47,47,47,47,47,34,34,34,34,34,47,47,34,47,47,47,47,34,34,47,47,34,34,34,34,47,34,34,34,47,47,34,34,34,47,34,34,47,47,34,34,47,34,47,47,47,47,47,34,34,47,47,47,47,47,47,34,47,47,47,34,47,47,34,34,47,47,34,34,34,34,47,47,34,47,47,34,34,34,47,47,47,34,47,47,34,34,47,34,47,47,34,34,47,47,47,47,47,47,47,34,34,34,34,34,34,34,34,47,34,47,47,34,47,34,47,47,47,34,34,34,47,34,47,34,34,47,34,47,34,47,34,47,34,34,47,47,34,47,47,47,34,47,47,47,47,47,47,34,47,34,34,47,34,34,34,34,47,47,34,47,34,34,34,34,47,34,34,47,34,34,34,47,34,47,47,34,34,34,47,47,47,34,34,34,34,34,47,47,34,47,47,34,47,47,34,34,34,34,34,34,34,34,47,34,47,47,47,34,34,34,47,47,47,34,47,47,47,47,47,47,47,34,34,47,47,34,34,34,34,34,34,47,47,34,34,34,47,34,47,34,34,34,47,47,47,47,47,47,34,34,47,34,47,34,47,34,34,47,34,47,34,34,47,47,47,47,34,34,47,34,47,47,47,47,34,34,47,34,34,34,34,47,47,34,34,47,47,47,47,34,47,34,47,47,34,34,34,34,47,34,34,34,47,34,34,47,47,34,34,47,34,34,34,47,47,34,47,34,47,47,34,47,34,34,34,34,47,47,47,34,47,47,34,47,34,34,34,47,34,34,34,34,34,47,47,47,47,47,34,47,34,47,47,47,47,34,34,34,47,47,34,34,34,47,47,47,34,34,34,47,34,34,47,47,47,47,34,34,47,47,34,47,47,47,47,34,47,34,34,34,47,47,47,34,47,47,47,47,34,47,47,47,34,34,34,47,34,34,34,47,34,34,47,34,47,47,34,47,47,34,34,34,47,34,47,47,34,34,34,47,34,47,47,34,34,47,47,34,47,34,47,47,47,47,47,34,47,34,34,47,47,34,34,47,47,47,47,34,47,34,34,34,47,34,47,34,47,34,47,47,47,34,34,34,47,47,34,47,34,34,47,47,47,47,34,47,47,47,34,47,47,47,47,47,34,34,47,34,34,47,34,47,34,34,47,47,34,34,47,47,34,34,34,47,47,47,34,34,34,34,34,47,34,47,34,47,47,47,34,47,47,47,34,47,34,34,47,34,34,47,34,47,47,34,47,47,47,47,34,34,47,34,34,47,34,34,34,34,47,47,47,34,47,34,47,47,47,34,34,34,47,34,47,47,47,47,47,47,47,47,34,47,47,47,34,34,47,47,47,34,34,47,34,34,47,47,34,47,34,34,47,47,47,34,47,47,47,47,34,34,47,34,34,34,34,47,34,47,34,47,34,34,34,34,47,34,34,47,34,34,34,47,34,47,47,34,47,34,34,34,34,47,47,47,47,47,47,47,47,47,47,34,34,47,47,47,34,47,47,34,34,34,47,34,34,47,34,34,34,34,34,47,47,47,34,47,47,34,34,34,34,34,47,34,47,47,34,34,34,47,34,34,47,47,47,47,34,34,34,34,47,47,47,34,47,34,34,34,47,47,34,34,47,34,47,47,34,47,47,34,34,34,34,47,34,34,34,34,47,47,34,34,34,34,34,34,34,34,34,34,34,34,34,47,34,47,34,34,34,47,47,47,34,47,34,47,47,47,47,34,34,47,47,47,34,47,34,34,34,47,34,47,47,47,34,47,47,34,47,47,34,47,34,34,47,34,34,47,47,47,34,34,47,34,47,34,47,47,47,34,47,47,34,47,47,34,47,47,47,34,34,47,47,34,34,47,47,34,47,34,47,34,34,34,34,47,34,47,47,47,47,47,34,47,47,34,34,47,34,34,47,47,47,47,47,47,34,47,34,34,47,34,34,34,47,47,34,47,47,47,47,47,34,47,34,47,47,34,34,34,47,34,34,47,34,34,47,34,34,34,47,34,34,34,34,47,34,47,34,47,47,47,47,47,34,34,34,47,47,34,34,34,47,34,34,34,47,34,34,34,34,34,47,34,34,34,47,47,47,34,47,34,47,34,34,47,47,34,34,34,47,34,47,47,47,47,47,34,47,47,34,47,47,34,47,47,47,34,47,47,47,47,47,34,47,34,34,34,47,34,34,47,34,47,34,47,34,47,47,34,47,47,47,34,34,34,34,34,34,34,47,34,34,34,34,34,47,47,47,34,34,47,34,34,47,34,34,47,47,47,34,34,47,47,47,47,34,47,47,47,34,34,47,47,34,34,47,47,34,34,47,47,47,47,47,34,34,47,47,34,47,47,47,34,34,34,47,34,47,34,47,34,34,34,47,34,47,47,47,34,34,34,47,34,47,47,34,34,34,47,34,34,47,47,34,47,47,47,47,34,47,47,34,34,34,47,34,47,34,47,47,47,34,34,47,34,47,47,47,47,34,47,47,47,47,34,34,34,34,47,47,47,47,34,47,34,47,34,34,34,47,47,34,47,34,34,34,34,34,34,34,47,47,47,47,47,34,34,34,47,34,34,34,34,34,34,34,34,34,47,34,34,34,47,34,34,47,47,34,34,47,34,47,34,47,47,47,34,47,47,47,34,47,34,47,47,47,34,34,34,34,47,34,34,34,34,34,34,47,47,34,34,47,34,47,47,34,34,34,47,47,47,47,34,34,47,47,34,34,34,34,34,34,34,34,47,34,47,47,34,47,34,47,47,47,47,34,47,47,47,34,47,34,34,47,47,34,34,47,47,34,34,34,34,47,47,34,47,34,47,47,47,34,34,34,47,47,34,34,34,47,47,47,47,47,47,47,47,34,47,34,47,47,47,34,34,47,34,34,47,34,34,34,47,47,47,34,34,34,47,34,47,34,47,47,34,47,47,47,34,34,34,47,34,34,47,34,47,34,34,34,34,34,34,47,47,34,34,34,34,34,34,47,47,47,47,34,47,47,34,47,47,47,47,34,34,34,34,34,34,47,34,34,47,47,34,47,47,34,47,47,47,34,34,34,34,47,47,34,34,47,47,47,34,34,47,47,34,34,47,47,34,47,34,47,47,47,47,34,47,47,34,47,34,34,47,47,47,47,47,34,34,47,47,47,34,34,47,34,47,47,47,34,34,47,47,47,34,47,47,47,34,34,47,47,47,47,47,34,47,47,34,47,34,34,34,47,34,34,47,34,47,47,47,34,34,47,47,47,34,47,34,47,34,47,47,47,34,47,34,47,47,34,47,47,34,47,47,47,34,47,34,47,47,47,47,47,47,47,34,47,47,47,47,47,34,34,34,47,34,47,34,47,34,34,34,47,47,34,47,47,47,47,34,34,34,34,34,34,47,34,34,34,47,47,34,34,34,34,47,47,47,47,34,34,47,47,34,47,47,34,34,47,47,34,47,34,47,47,47,47,47,34,34,34,34,34,47,47,34,34,34,34,47,34,47,34,34,47,47,47,34,34,34,34,47,47,34,47,34,34,34,34,34,47,47,34,47,34,47,47,47,34,47,34,47,47,34,47,47,34,34,47,47,34,34,47,34,34,34,34,34,34,47,47,34,34,34,34,34,47,47,34,47,47,47,47,47,34,34,34,47,47,34,47,34,47,47,34,34,47,34,34,34,47,34,47,34,47,34,34,47,34,47,47,34,47,34,47,34,34,34,47,34,47,47,34,47,34,34,34,34,34,47,34,34,47,34,34,34,47,47,34,47,34,34,47,47,47,47,47,47,34,34,47,47,47,34,47,47,47,34,47,47,47,34,34,47,34,47,34,47,34,47,47,34,34,47,47,47,47,47,34,47,34,47,34,47,47,47,47,47,34,47,47,47,34,47,47,47,34,34,47,34,34,47,47,34,34,47,34,34,34,34,34,34,34,34,47,47,47,47,47,34,34,47,47,34,34,47,34,47,34,47,34,34,34,34,34,34,34,47,47,47,34,47,34,47,34,34,34,34,47,47,34,34,34,47,34,47,34,34,47,34,34,47,47,34,34,47,34,34,34,34,34,34,47,47,47,34,47,47,34,47,47,34,47,47,47,47,34,47,47,34,34,47,34,34,34,47,47,34,34,34,34,34,34,47,34,47,47,47,34,47,47,34,47,47,47,47,34,47,47,34,47,47,47,47,34,47,34,34,34,34,47,47,34,47,34,47,34,34,47,47,47,34,47,47,34,34,47,47,34,34,47,47,34,47,47,47,34,34,34,34,34,47,34,47,47,34,47,34,47,47,34,34,47,34,47,34,47,47,47,34,34,47,47,47,47,34,47,47,47,34,34,47,34,34,34,34,47,34,34,34,47,34,34,47,34,34,34,47,47,34,34,34,34,34,34,34,34,34,34,47,47,47,34,47,34,47,47,34,47,34,47,34,34,47,47,34,47,34,47,34,34,47,34,47,34,34,34,34,34,34,47,47,47,47,47,47,47,34,47,34,34,34,47,34,34,34,34,34,47,34,47,34,34,47,34,34,47,47,47,34,34,47,34,47,34,34,34,34,34,47,47,34,47,47,34,34,34,47,47,47,47,47,34,34,34,34,47,47,47,34,47,34,47,34,34,34,34,34,34,47,47,47,34,34,34,34,47,47,47,34,47,34,34,34,47,47,47,47,34,34,34,34,47,34,47,47,34,47,34,47,34,47,34,34,47,47,34,47,34,47,47,47,47,34,34,34,47,34,47,34,47,34,47,47,47,34,47,47,34,47,47,34,34,47,34,47,34,47,47,47,34,47,47,47,47,34,47,34,34,47,47,34,47,34,47,47,47,47,34,34,47,34,34,47,47,47,34,34,47,34,34,34,34,34,34,47,47,34,34,47,47,47,47,47,34,34,34,34,34,34,47,34,47,47,47,47,47,34,34,34,34,34,34,34,34,47,34,34,34,47,47,34,34,47,34,34,34,47,34,47,47,34,34,47,34,34,47,34,47,47,47,34,47,47,47,47,34,34,34,47,34,47,34,47,34,47,34,34,34,47,34,34,47,34,47,47,34,34,47,47,47,34,47,47,34,34,47,34,34,47,34,47,47,34,34,47,34,47,34,47,34,34,34,34,47,34,34,34,34,34,34,34,47,34,34,47,47,47,47,47,47,34,47,47,34,47,47,47,47,34,34,47,47,47,34,34,47,34,47,47,34,34,34,47,47,34,47,34,47,34,34,34,34,34,34,34,47,47,47,47,34,47,47,34,34,47,47,47,34,34,47,34,47,47,47,47,34,47,34,34,34,47,47,34,34,34,47,34,34,34,34,47,47,34,34,47,47,47,34,47,34,34,34,47,34,34,34,34,34,34,34,34,34,34,34,47,47,47,47,34,47,47,34,47,34,47,47,34,47,34,47,34,47,34,34,34,34,34,34,34,47,34,34,34,47,34,34,34,47,47,47,47,34,34,34,34,47,34,34,47,34,34,47,34,34,47,47,47,34,34,34,47,47,34,34,34,47,34,34,47,34,34,47,34,47,47,47,34,34,34,47,34,47,34,47,47,47,47,34,47,34,34,34,47,47,34,47,34,47,34,34,47,47,47,47,34,47,34,47,34,47,47,34,47,34,47,34,47,47,47,47,34,47,47,47,34,47,34,34,47,34,47,47,47,47,34,34,34,47,34,34,47,47,47,47,34,47,34,47,34,34,47,34,34,47,34,34,47,34,34,47,47,47,47,47,47,34,47,47,47,47,47,47,34,34,34,34,47,34,34,34,34,34,34,34,34,47,34,34,47,34,34,47,47,47,34,47,34,47,47,47,34,34,34,34,47,47,47,47,34,47,47,47,47,34,47,47,34,47,34,34,47,47,47,34,47,34,47,47,47,34,47,47,34,34,34,34,47,47,47,34,34,47,47,47,34,47,34,47,47,47,47,47,34,34,47,34,34,34,34,47,34,34,34,34,34,47,47,47,34,34,34,34,47,47,34,34,47,47,47,34,34,34,47,47,47,34,47,47,34,34,34,47,47,47,47,47,47,34,34,47,47,47,47,34,47,34,34,34,47,47,47,47,34,34,34,34,47,34,47,47,47,47,34,47,47,34,34,47,34,34,47,47,34,34,47,34,47,34,34,34,34,34,34,47,47,47,47,47,34,47,47,34,34,34,34,34,47,47,34,47,47,34,47,47,34,47,34,47,47,47,47,47,47,34,47,34,34,34,34,47,47,34,47,34,34,47,34,34,47,47,47,34,34,34,47,34,34,47,47,34,34,34,47,34,34,34,34,34,34,34,34,34,47,47,34,47,34,34,34,34,34,34,47,47,47,47,47,47,47,34,34,34,47,47,34,34,47,34,47,34,34,47,47,47,47,47,34,47,34,34,34,34,34,34,47,47,47,47,47,34,47,34,34,34,47,34,47,34,47,34,34,47,47,34,34,47,34,47,34,34,47,34,47,47,47,34,34,47,47,34,34,34,34,34,34,47,34,34,47,47,47,47,34,34,34,47,34,34,47,34,34,34,47,34,34,34,47,34,34,34,47,34,47,47,34,47,34,47,47,47,34,47,47,34,47,47,34,34,47,47,34,47,34,47,34,34,34,34,47,47,34,34,34,47,34,34,47,47,34,34,34,34,34,47,47,47,34,47,47,34,34,47,34,34,47,34,34,34,34,34,47,47,34,34,47,34,34,47,34,34,34,47,34,34,47,34,34,47,34,47,47,34,47,34,47,34,47,47,34,34,47,47,47,47,47,34,47,47,34,47,34,47,47,34,34,34,34,47,47,34,47,47,34,47,34,47,47,47,47,47,34,34,34,34,34,47,34,47,34,34,47,34,34,34,47,47,47,47,34,47,47,34,47,47,47,34,47,47,47,34,34,47,34,47,34,34,34,34,34,47,34,47,47,47,34,47,47,47,34,47,47,34,47,47,47,47,34,34,34,47,47,47,34,47,47,34,47,34,34,34,47,47,47,34,34,34,47,47,34,34,34,47,34,34,34,47,47,34,47,34,34,47,47,34,47,47,47,34,47,34,34,47,34,34,34,47,34,34,34,34,34,34,47,34,34,34,47,47,47,34,47,47,34,47,47,34,47,34,47,47,47,34,34,34,34,47,34,34,47,47,34,34,47,47,47,47,47,34,47,34,47,47,34,34,47,34,47,47,34,34,34,47,34,47,34,34,47,34,47,47,34,34,34,47,47,47,47,34,47,47,47,34,34,47,34,34,47,47,47,47,47,34,34,34,34,34,47,34,47,34,34,34,34,34,47,34,47,34,47,47,47,34,47,47,34,34,47,34,47,34,34,34,34,34,47,34,47,47,47,34,47,34,34,34,34,34,34,47,47,34,34,34,47,47,34,34,34,47,47,47,47,34,34,34,47,47,34,47,34,34,47,47,34,47,34,47,34,47,47,47,34,47,47,47,47,34,47,47,47,34,47,47,34,34,47,34,34,47,47,47,47,47,47,47,34,34,34,47,34,47,34,47,47,47,47,34,34,47,34,34,47,47,47,34,34,47,47,47,47,47,34,47,47,47,47,47,47,34,34,47,34,34,34,47,47,47,34,34,47,34,47,47,47,47,34,47,34,47,34,34,34,47,47,47,47,34,34,34,34,47,47,47,47,47,47,47,34,34,47,34,34,34,47,47,34,47,47,47,34,47,34,34,47,47,34,47,34,34,34,47,47,47,47,34,34,34,47,47,47,47,34,34,47,34,47,47,34,34,47,47,34,34,34,34,47,34,34,34,34,47,47,34,34,47,47,47,34,34,47,47,34,34,47,47,34,34,34,47,34,34,47,47,47,47,34,47,34,34,34,34,47,34,47,34,34,47,47,47,34,47,47,34,47,34,47,34,47,47,47,34,47,47,47,47,34,34,34,34,34,34,47,34,47,47,47,47,47,34,47,47,47,34,47,34,47,47,47,34,47,34,47,47,34,47,47,34,34,47,34,47,47,34,34,34,47,47,34,34,34,34,47,34,47,47,47,34,47,34,34,34,34,47,47,34,47,47,47,34,34,47,47,47,34,47,34,47,34,47,34,34,34,47,34,47,34,34,47,34,34,34,47,34,34,47,34,47,47,34,47,34,34,47,34,34,47,47,34,47,34,47,47,47,47,47,47,34,47,34,47,34,47,34,34,34,34,47,34,34,47,34,34,47,34,34,47,47,34,47,34,34,47,47,34,34,34,34,47,47,47,47,34,47,34,34,47,34,34,47,47,34,47,34,34,47,34,47,47,34,47,47,34,47,47,34,34,47,47,34,34,47,47,34,47,34,47,34,34,34,34,47,47,47,34,47,47,34,34,47,34,47,47,47,47,34,47,34,34,34,47,47,47,34,47,34,34,47,34,47,34,34,47,34,47,47,34,47,34,34,47,34,34,34,47,47,34,34,47,47,34,34,47,34,47,34,34,47,34,34,47,47,47,34,34,34,34,34,47,34,34,34,34,47,47,34,34,34,34,34,47,47,47,34,47,34,47,34,47,34,34,47,34,47,47,34,34,47,34,34,34,34,34,34,34,34,34,34,47,47,34,47,34,34,34,34,34,47,34,34,47,34,34,47,34,34,47,47,34,47,47,34,34,34,34,34,34,34,34,34,34,34,34,47,34,47,47,47,34,47,34,34,47,34,34,34,34,34,34,47,47,47,34,47,47,34,34,34,47,34,34,34,47,47,47,34,47,47,34,34,34,47,34,34,34,34,47,34,47,47,34,47,34,34,47,47,47,47,47,34,34,34,34,34,47,47,47,34,47,34,34,47,34,47,47,34,34,34,47,47,34,47,47,34,47,47,47,47,47,47,47,34,34,47,34,34,34,47,47,34,47,47]\n",
    "a=[]\n",
    "b='t'\n",
    "for i in range(len(T)):\n",
    "    for j in range(i+1,len(T)):\n",
    "        if(T[j]>T[i]):\n",
    "            a.append(j-i)\n",
    "            b='f'\n",
    "            break\n",
    "    if(b=='t'):\n",
    "        a.append(0)\n",
    "    b='t'"
   ]
  },
  {
   "cell_type": "code",
   "execution_count": null,
   "metadata": {},
   "outputs": [],
   "source": [
    "a"
   ]
  },
  {
   "cell_type": "code",
   "execution_count": null,
   "metadata": {},
   "outputs": [],
   "source": [
    "for i in range(int(input())):\n",
    "    n = int(input())\n",
    "    a = list(map(int,input().split()))\n",
    "    b = list(set(a))\n",
    "    b = sorted(b)\n",
    "    count=0\n",
    "    while(len(b)>1):\n",
    "        c=b[-2]\n",
    "        b=b[:-1]\n",
    "        count+=1\n",
    "    print(count+1)"
   ]
  },
  {
   "cell_type": "code",
   "execution_count": null,
   "metadata": {},
   "outputs": [],
   "source": []
  },
  {
   "cell_type": "code",
   "execution_count": null,
   "metadata": {},
   "outputs": [],
   "source": [
    "n = int(input())\n",
    "a = list(map(int,input().split()))\n",
    "b=[]\n",
    "c=[]\n",
    "for i in a:\n",
    "    if(i not in b):\n",
    "        b.append(i)\n",
    "        c.append(1)\n",
    "        print(c,'a')\n",
    "    else:\n",
    "        d=b.index(i)\n",
    "        e=c[d]+1\n",
    "        c.remove(c[d])\n",
    "        c.insert(d,e)\n",
    "        print(c)\n",
    "    if(c.count(max(c))>1):\n",
    "        h=0\n",
    "        for i in range(len(c)):\n",
    "            if(max(c)==c[i] and b[i]>h):\n",
    "                h =b[i]\n",
    "        print(h)\n",
    "    else:\n",
    "        print(b[c.index(max(c))])    "
   ]
  },
  {
   "cell_type": "code",
   "execution_count": null,
   "metadata": {},
   "outputs": [],
   "source": [
    "c"
   ]
  },
  {
   "cell_type": "code",
   "execution_count": null,
   "metadata": {},
   "outputs": [],
   "source": [
    "a = [2,4,1]\n",
    "c = sorted(a,reverse=True)\n",
    "if(a ==c):\n",
    "    print(0)\n",
    "else:\n",
    "    for i in range(len(a)):\n",
    "        b = a[i:]\n",
    "        if(b == sorted(b,reverse=True)):\n",
    "            print(0)\n",
    "        if(b.index(min(b))<b.index(max(b))):\n",
    "            print(max(b)-min(b))"
   ]
  },
  {
   "cell_type": "code",
   "execution_count": null,
   "metadata": {},
   "outputs": [],
   "source": [
    "a.index(min(b))"
   ]
  },
  {
   "cell_type": "code",
   "execution_count": null,
   "metadata": {},
   "outputs": [],
   "source": [
    "a.index(max(b))"
   ]
  },
  {
   "cell_type": "code",
   "execution_count": null,
   "metadata": {},
   "outputs": [],
   "source": [
    "a=[1,9,3,4,2]\n",
    "sorted(a)"
   ]
  },
  {
   "cell_type": "code",
   "execution_count": null,
   "metadata": {},
   "outputs": [],
   "source": [
    "from itertools import permutations\n",
    "a='abcatef'\n",
    "b = "
   ]
  },
  {
   "cell_type": "code",
   "execution_count": null,
   "metadata": {},
   "outputs": [],
   "source": [
    "def toString(List): \n",
    "    return ''.join(List) \n",
    "def permute(a, l, r): \n",
    "    if l==r: \n",
    "        d=(toString(a))\n",
    "        if('cat' not in d):\n",
    "            print(d)\n",
    "    else: \n",
    "        for i in range(l,r+1): \n",
    "            a[l], a[i] = a[i], a[l] \n",
    "            permute(a, l+1, r) \n",
    "            a[l], a[i] = a[i], a[l] # backtrack \n",
    " \n",
    "string = \"abcdaetf\"\n",
    "n = len(string) \n",
    "a = list(string) \n",
    "print(permute(a, 0, n-1))"
   ]
  },
  {
   "cell_type": "code",
   "execution_count": null,
   "metadata": {},
   "outputs": [],
   "source": [
    "from itertools import permutations \n",
    "c=''\n",
    "for p in permutations('abcdaetf'):\n",
    "    c=(''.join(p))\n",
    "    if('cat'not in c):\n",
    "        print(c)\n",
    "        break"
   ]
  },
  {
   "cell_type": "code",
   "execution_count": null,
   "metadata": {},
   "outputs": [],
   "source": []
  },
  {
   "cell_type": "code",
   "execution_count": null,
   "metadata": {},
   "outputs": [],
   "source": [
    "s= \"12345678910#11#12#13#14#15#16#17#18#19#20#21#22#23#24#25#26#\"\n",
    "a=['10#','11#','12#','13#','14#','15#','16#','17#','18#','19#','20#','21#','22#','23#','24#','25#','26#','1','2','3','4','5','6','7','8','9']\n",
    "b='jklmnopqrstuvwxyzabcdefghi'\n",
    "for i in range(len(a)):\n",
    "    if(a[i] in s):\n",
    "        s=s.replace(a[i],b[i])\n",
    "print(s)"
   ]
  },
  {
   "cell_type": "code",
   "execution_count": null,
   "metadata": {},
   "outputs": [],
   "source": [
    "s"
   ]
  },
  {
   "cell_type": "code",
   "execution_count": null,
   "metadata": {},
   "outputs": [],
   "source": [
    "a='welcome1 to jbiet abhiram welcome2'\n",
    "a = a.split(' ')\n",
    "a"
   ]
  },
  {
   "cell_type": "code",
   "execution_count": null,
   "metadata": {},
   "outputs": [],
   "source": [
    "max(a)"
   ]
  },
  {
   "cell_type": "code",
   "execution_count": null,
   "metadata": {},
   "outputs": [],
   "source": [
    "a = int(input())\n",
    "b = list(map(int,input().split()))\n",
    "b=list(set(b))\n",
    "b=sorted(b,reverse=True)\n",
    "c =int(input())\n",
    "for i in range(len(b)):\n",
    "    if(b[i]<c):\n",
    "        print(i)\n",
    "        break\n",
    "    elif(b[i]==c):\n",
    "        print(i+1)\n",
    "        break"
   ]
  },
  {
   "cell_type": "code",
   "execution_count": null,
   "metadata": {},
   "outputs": [],
   "source": [
    "a='all is fair in love and war'\n",
    "a=a.split()\n",
    "print(len(a))"
   ]
  },
  {
   "cell_type": "code",
   "execution_count": null,
   "metadata": {},
   "outputs": [],
   "source": [
    "a=input()\n",
    "for i in range(len(a)):\n",
    "    if(a[i]==a[i].lower()):\n",
    "        a=a.replace(a[i],a[i].upper())\n",
    "    elif(a[i]==a[i].upper()):\n",
    "        a=a.replace(a[i],a[i].lower())\n",
    "print(a)"
   ]
  },
  {
   "cell_type": "code",
   "execution_count": null,
   "metadata": {},
   "outputs": [],
   "source": [
    "def fact(n):\n",
    "    a=1\n",
    "    for i in range(1,n+1):\n",
    "        a=a*i\n",
    "    return a"
   ]
  },
  {
   "cell_type": "code",
   "execution_count": null,
   "metadata": {},
   "outputs": [],
   "source": [
    "fact(2)"
   ]
  },
  {
   "cell_type": "code",
   "execution_count": null,
   "metadata": {},
   "outputs": [],
   "source": [
    "print(str.format('{0:.6f}', 2))"
   ]
  },
  {
   "cell_type": "code",
   "execution_count": null,
   "metadata": {},
   "outputs": [],
   "source": [
    "a = input()\n",
    "if(len(a)%2==0):\n",
    "    for i in range(len(a)):\n",
    "        if(i%2==1):\n",
    "            a[i],a[i-1]=a[i-1],a[i]\n",
    "    print(a)\n",
    "else:\n",
    "    print('Invalid input')"
   ]
  },
  {
   "cell_type": "code",
   "execution_count": null,
   "metadata": {},
   "outputs": [],
   "source": [
    "def compute_hcf(x, y):\n",
    "\n",
    "# choose the smaller number\n",
    "    if x > y:\n",
    "        smaller = y\n",
    "    else:\n",
    "        smaller = x\n",
    "    for i in range(1, smaller+1):\n",
    "        if((x % i == 0) and (y % i == 0)):\n",
    "            hcf = i \n",
    "    return hcf\n",
    "\n",
    "num1 = 3\n",
    "num2 = 2\n",
    "\n",
    "print(\"The H.C.F. is\", compute_hcf(num1, num2))"
   ]
  },
  {
   "cell_type": "code",
   "execution_count": null,
   "metadata": {},
   "outputs": [],
   "source": [
    "q  = int(input())\n",
    "b = list(map(int,input().split()))\n",
    "c = int(input())\n",
    "b = sorted(b,reverse=True)\n",
    "for i in range(1,len(b)+1):\n",
    "    if(i==c):\n",
    "        print(b[i-1])\n",
    "    "
   ]
  },
  {
   "cell_type": "code",
   "execution_count": null,
   "metadata": {},
   "outputs": [],
   "source": [
    "a,b=map(int,input().split())\n",
    "c=[]\n",
    "for i in range(a):\n",
    "    c.extend(list(map(int,input().split())))\n",
    "if(c.count(0)>len(c)//2):\n",
    "    print('Yes')\n",
    "else:\n",
    "    print('No')"
   ]
  },
  {
   "cell_type": "code",
   "execution_count": null,
   "metadata": {},
   "outputs": [],
   "source": [
    "import math\n",
    "\n",
    "# function to calculate LCM\n",
    "def LCMofArray(a):\n",
    "    lcm = a[0]\n",
    "    for i in range(1,len(a)):\n",
    "        print(a[i],lcm)\n",
    "        lcm = lcm*a[i]//math.gcd(lcm, a[i])\n",
    "        print(a[i],lcm)\n",
    "    return lcm\n",
    "LCMofArray([2,3,4])"
   ]
  },
  {
   "cell_type": "code",
   "execution_count": null,
   "metadata": {},
   "outputs": [],
   "source": [
    "a=input()\n",
    "b=a[-1]\n",
    "c=a[0]\n",
    "a=a[1:-1]\n",
    "a=b+a+c\n",
    "print(a)"
   ]
  },
  {
   "cell_type": "code",
   "execution_count": 1,
   "metadata": {},
   "outputs": [],
   "source": [
    "from math import *\n",
    "def prime(n):\n",
    "    d=[]\n",
    "    a = [True]*(n+1)\n",
    "    a[0]=False\n",
    "    a[1]=False\n",
    "    for i in range(2,int(sqrt(n))-1):\n",
    "        if a[i] == True:\n",
    "            for p in range(i*i,n+1,i):\n",
    "                a[p] =False\n",
    "    for i in range(len(a)):\n",
    "        if(a[i]==True):\n",
    "            d.append(i)\n",
    "            print(i,end=' ')\n",
    "    return d"
   ]
  },
  {
   "cell_type": "code",
   "execution_count": 4,
   "metadata": {},
   "outputs": [
    {
     "name": "stdout",
     "output_type": "stream",
     "text": [
      "2 3 4 5 6 7 8 9 10 11 12 13 14 15 "
     ]
    },
    {
     "data": {
      "text/plain": [
       "[2, 3, 4, 5, 6, 7, 8, 9, 10, 11, 12, 13, 14, 15]"
      ]
     },
     "execution_count": 4,
     "metadata": {},
     "output_type": "execute_result"
    }
   ],
   "source": [
    "prime(15)"
   ]
  },
  {
   "cell_type": "code",
   "execution_count": 8,
   "metadata": {},
   "outputs": [],
   "source": [
    "def SieveOfEratosthenes(n):  \n",
    "    d=[]\n",
    "    prime = [True for i in range(n+1)] \n",
    "    p = 2\n",
    "    while (p * p <= n): \n",
    "        if (prime[p] == True): \n",
    "              \n",
    "            # Update all multiples of p \n",
    "            for i in range(p * p, n+1, p): \n",
    "                prime[i] = False\n",
    "        p += 1\n",
    "    for p in range(2, n+1):\n",
    "        if prime[p]: \n",
    "            d.append(p) \n",
    "    return d"
   ]
  },
  {
   "cell_type": "code",
   "execution_count": 14,
   "metadata": {},
   "outputs": [],
   "source": [
    "a=SieveOfEratosthenes(50)"
   ]
  },
  {
   "cell_type": "code",
   "execution_count": 15,
   "metadata": {},
   "outputs": [
    {
     "data": {
      "text/plain": [
       "[2, 3, 5, 7, 11, 13, 17, 19, 23, 29, 31, 37, 41, 43, 47]"
      ]
     },
     "execution_count": 15,
     "metadata": {},
     "output_type": "execute_result"
    }
   ],
   "source": [
    "a"
   ]
  },
  {
   "cell_type": "code",
   "execution_count": 19,
   "metadata": {},
   "outputs": [
    {
     "data": {
      "text/plain": [
       "0.2"
      ]
     },
     "execution_count": 19,
     "metadata": {},
     "output_type": "execute_result"
    }
   ],
   "source": [
    "1/5"
   ]
  },
  {
   "cell_type": "code",
   "execution_count": 20,
   "metadata": {},
   "outputs": [
    {
     "data": {
      "text/plain": [
       "20.0"
      ]
     },
     "execution_count": 20,
     "metadata": {},
     "output_type": "execute_result"
    }
   ],
   "source": [
    "0.2*100"
   ]
  },
  {
   "cell_type": "code",
   "execution_count": null,
   "metadata": {},
   "outputs": [],
   "source": [
    "20"
   ]
  },
  {
   "cell_type": "code",
   "execution_count": 3,
   "metadata": {},
   "outputs": [
    {
     "name": "stdout",
     "output_type": "stream",
     "text": [
      "0\n"
     ]
    }
   ],
   "source": [
    "rating = [2,1,3]\n",
    "count=0\n",
    "for i in range(len(rating)):\n",
    "    for j in range(i+1,len(rating)):\n",
    "        for k in range(j+1,len(rating)):\n",
    "            if((rating[i]<rating[j]<rating[k] and i < j < k) or (rating[i]>rating[j]>rating[k] and i<j<k)):\n",
    "                count+=1\n",
    "print(count)"
   ]
  },
  {
   "cell_type": "code",
   "execution_count": 12,
   "metadata": {
    "collapsed": true
   },
   "outputs": [
    {
     "ename": "NameError",
     "evalue": "name 'List' is not defined",
     "output_type": "error",
     "traceback": [
      "\u001b[1;31m---------------------------------------------------------------------------\u001b[0m",
      "\u001b[1;31mNameError\u001b[0m                                 Traceback (most recent call last)",
      "\u001b[1;32m<ipython-input-12-806d0cf62244>\u001b[0m in \u001b[0;36m<module>\u001b[1;34m\u001b[0m\n\u001b[1;32m----> 1\u001b[1;33m \u001b[1;32mclass\u001b[0m \u001b[0mSolution\u001b[0m\u001b[1;33m:\u001b[0m\u001b[1;33m\u001b[0m\u001b[1;33m\u001b[0m\u001b[0m\n\u001b[0m\u001b[0;32m      2\u001b[0m     \u001b[1;32mdef\u001b[0m \u001b[0mmaxCoins\u001b[0m\u001b[1;33m(\u001b[0m\u001b[0mself\u001b[0m\u001b[1;33m,\u001b[0m \u001b[0mpiles\u001b[0m\u001b[1;33m:\u001b[0m \u001b[0mList\u001b[0m\u001b[1;33m[\u001b[0m\u001b[0mint\u001b[0m\u001b[1;33m]\u001b[0m\u001b[1;33m)\u001b[0m \u001b[1;33m->\u001b[0m \u001b[0mint\u001b[0m\u001b[1;33m:\u001b[0m\u001b[1;33m\u001b[0m\u001b[1;33m\u001b[0m\u001b[0m\n\u001b[0;32m      3\u001b[0m         \u001b[0msort\u001b[0m\u001b[1;33m=\u001b[0m\u001b[0msorted\u001b[0m\u001b[1;33m(\u001b[0m\u001b[0mpiles\u001b[0m\u001b[1;33m,\u001b[0m\u001b[0mreverse\u001b[0m\u001b[1;33m=\u001b[0m\u001b[1;32mTrue\u001b[0m\u001b[1;33m)\u001b[0m\u001b[1;33m\u001b[0m\u001b[1;33m\u001b[0m\u001b[0m\n\u001b[0;32m      4\u001b[0m         \u001b[0ml\u001b[0m\u001b[1;33m=\u001b[0m\u001b[0mlen\u001b[0m\u001b[1;33m(\u001b[0m\u001b[0msort\u001b[0m\u001b[1;33m)\u001b[0m\u001b[1;33m\u001b[0m\u001b[1;33m\u001b[0m\u001b[0m\n\u001b[0;32m      5\u001b[0m         \u001b[0myou\u001b[0m\u001b[1;33m=\u001b[0m\u001b[1;36m0\u001b[0m\u001b[1;33m\u001b[0m\u001b[1;33m\u001b[0m\u001b[0m\n",
      "\u001b[1;32m<ipython-input-12-806d0cf62244>\u001b[0m in \u001b[0;36mSolution\u001b[1;34m()\u001b[0m\n\u001b[0;32m      1\u001b[0m \u001b[1;32mclass\u001b[0m \u001b[0mSolution\u001b[0m\u001b[1;33m:\u001b[0m\u001b[1;33m\u001b[0m\u001b[1;33m\u001b[0m\u001b[0m\n\u001b[1;32m----> 2\u001b[1;33m     \u001b[1;32mdef\u001b[0m \u001b[0mmaxCoins\u001b[0m\u001b[1;33m(\u001b[0m\u001b[0mself\u001b[0m\u001b[1;33m,\u001b[0m \u001b[0mpiles\u001b[0m\u001b[1;33m:\u001b[0m \u001b[0mList\u001b[0m\u001b[1;33m[\u001b[0m\u001b[0mint\u001b[0m\u001b[1;33m]\u001b[0m\u001b[1;33m)\u001b[0m \u001b[1;33m->\u001b[0m \u001b[0mint\u001b[0m\u001b[1;33m:\u001b[0m\u001b[1;33m\u001b[0m\u001b[1;33m\u001b[0m\u001b[0m\n\u001b[0m\u001b[0;32m      3\u001b[0m         \u001b[0msort\u001b[0m\u001b[1;33m=\u001b[0m\u001b[0msorted\u001b[0m\u001b[1;33m(\u001b[0m\u001b[0mpiles\u001b[0m\u001b[1;33m,\u001b[0m\u001b[0mreverse\u001b[0m\u001b[1;33m=\u001b[0m\u001b[1;32mTrue\u001b[0m\u001b[1;33m)\u001b[0m\u001b[1;33m\u001b[0m\u001b[1;33m\u001b[0m\u001b[0m\n\u001b[0;32m      4\u001b[0m         \u001b[0ml\u001b[0m\u001b[1;33m=\u001b[0m\u001b[0mlen\u001b[0m\u001b[1;33m(\u001b[0m\u001b[0msort\u001b[0m\u001b[1;33m)\u001b[0m\u001b[1;33m\u001b[0m\u001b[1;33m\u001b[0m\u001b[0m\n\u001b[0;32m      5\u001b[0m         \u001b[0myou\u001b[0m\u001b[1;33m=\u001b[0m\u001b[1;36m0\u001b[0m\u001b[1;33m\u001b[0m\u001b[1;33m\u001b[0m\u001b[0m\n",
      "\u001b[1;31mNameError\u001b[0m: name 'List' is not defined"
     ]
    }
   ],
   "source": [
    "class Solution:\n",
    "    def maxCoins(self, piles: List[int]) -> int:\n",
    "        sort=sorted(piles,reverse=True)\n",
    "        l=len(sort)\n",
    "        you=0\n",
    "        for i in range(l -l//3):\n",
    "            if i%2!=0:\n",
    "                you+=sort[i]\n",
    "            \n",
    "            \n",
    "        return you"
   ]
  },
  {
   "cell_type": "code",
   "execution_count": null,
   "metadata": {},
   "outputs": [],
   "source": []
  },
  {
   "cell_type": "code",
   "execution_count": 32,
   "metadata": {},
   "outputs": [
    {
     "name": "stdout",
     "output_type": "stream",
     "text": [
      "9 doijlksam\n"
     ]
    }
   ],
   "source": [
    "a='abcdefghhdkjsdfkljsdmkafsddoijlksam'\n",
    "b=''\n",
    "c=0\n",
    "d=''\n",
    "for i in a:\n",
    "    if(i not in b):\n",
    "        b+=i\n",
    "        if(len(b)>c):\n",
    "            d=b\n",
    "            c=len(b)\n",
    "    elif(i in b):\n",
    "        b=b[b.index(i)+1:]\n",
    "        b+=i\n",
    "print(c,d)"
   ]
  },
  {
   "cell_type": "code",
   "execution_count": 35,
   "metadata": {},
   "outputs": [
    {
     "data": {
      "text/plain": [
       "3"
      ]
     },
     "execution_count": 35,
     "metadata": {},
     "output_type": "execute_result"
    }
   ],
   "source": [
    "10023%10"
   ]
  },
  {
   "cell_type": "code",
   "execution_count": 37,
   "metadata": {},
   "outputs": [
    {
     "data": {
      "text/plain": [
       "3"
      ]
     },
     "execution_count": 37,
     "metadata": {},
     "output_type": "execute_result"
    }
   ],
   "source": [
    "10053%10"
   ]
  },
  {
   "cell_type": "code",
   "execution_count": 38,
   "metadata": {},
   "outputs": [
    {
     "data": {
      "text/plain": [
       "7152"
      ]
     },
     "execution_count": 38,
     "metadata": {},
     "output_type": "execute_result"
    }
   ],
   "source": [
    "3*298*8"
   ]
  },
  {
   "cell_type": "code",
   "execution_count": 39,
   "metadata": {},
   "outputs": [
    {
     "data": {
      "text/plain": [
       "3264"
      ]
     },
     "execution_count": 39,
     "metadata": {},
     "output_type": "execute_result"
    }
   ],
   "source": [
    "51*64"
   ]
  },
  {
   "cell_type": "code",
   "execution_count": 40,
   "metadata": {},
   "outputs": [
    {
     "data": {
      "text/plain": [
       "4913"
      ]
     },
     "execution_count": 40,
     "metadata": {},
     "output_type": "execute_result"
    }
   ],
   "source": [
    "17**3"
   ]
  },
  {
   "cell_type": "code",
   "execution_count": 41,
   "metadata": {},
   "outputs": [
    {
     "data": {
      "text/plain": [
       "15841"
      ]
     },
     "execution_count": 41,
     "metadata": {},
     "output_type": "execute_result"
    }
   ],
   "source": [
    "7152+3264+4913+512"
   ]
  },
  {
   "cell_type": "code",
   "execution_count": 44,
   "metadata": {},
   "outputs": [
    {
     "data": {
      "text/plain": [
       "9375"
      ]
     },
     "execution_count": 44,
     "metadata": {},
     "output_type": "execute_result"
    }
   ],
   "source": [
    "125*75"
   ]
  },
  {
   "cell_type": "code",
   "execution_count": 46,
   "metadata": {},
   "outputs": [
    {
     "data": {
      "text/plain": [
       "2.5"
      ]
     },
     "execution_count": 46,
     "metadata": {},
     "output_type": "execute_result"
    }
   ],
   "source": [
    "10/4"
   ]
  },
  {
   "cell_type": "code",
   "execution_count": 47,
   "metadata": {},
   "outputs": [
    {
     "data": {
      "text/plain": [
       "91"
      ]
     },
     "execution_count": 47,
     "metadata": {},
     "output_type": "execute_result"
    }
   ],
   "source": [
    "56+35"
   ]
  },
  {
   "cell_type": "code",
   "execution_count": 49,
   "metadata": {},
   "outputs": [
    {
     "data": {
      "text/plain": [
       "91"
      ]
     },
     "execution_count": 49,
     "metadata": {},
     "output_type": "execute_result"
    }
   ],
   "source": [
    "91%6345"
   ]
  },
  {
   "cell_type": "code",
   "execution_count": 1,
   "metadata": {},
   "outputs": [
    {
     "name": "stdout",
     "output_type": "stream",
     "text": [
      "2 2\n",
      "4 5\n",
      "7 3\n",
      "2 2\n",
      "5 1\n"
     ]
    }
   ],
   "source": [
    "a,b=map(int,input().split())\n",
    "c=[]\n",
    "d=[]\n",
    "for i in range(a):\n",
    "    c.append(list(map(int,input().split())))\n",
    "for i in range(a):\n",
    "    d.append(list(map(int,input().split())))"
   ]
  },
  {
   "cell_type": "code",
   "execution_count": 7,
   "metadata": {},
   "outputs": [
    {
     "name": "stdout",
     "output_type": "stream",
     "text": [
      "2 3 \n",
      "2 2 \n"
     ]
    }
   ],
   "source": [
    "for i in range(len(c)):\n",
    "    for j in range(len(c[i])):\n",
    "        print(c[i][j]-d[i][j],end=' ')\n",
    "    print()"
   ]
  },
  {
   "cell_type": "code",
   "execution_count": 11,
   "metadata": {},
   "outputs": [
    {
     "name": "stdout",
     "output_type": "stream",
     "text": [
      "sharada\n"
     ]
    }
   ],
   "source": [
    "a = input()\n",
    "b=-1\n",
    "d=''\n",
    "for i in range(len(a)):\n",
    "    for j in range(len(a)):\n",
    "        if(a[i]==a[b]):\n",
    "            c=a[i:j+1]\n",
    "            if(c==c[::-1] and len(d)<len(c)):\n",
    "                d=c\n",
    "        else:\n",
    "            b=b-1\n",
    "    b=-1\n",
    "print(d)"
   ]
  },
  {
   "cell_type": "code",
   "execution_count": 22,
   "metadata": {},
   "outputs": [
    {
     "name": "stdout",
     "output_type": "stream",
     "text": [
      "3\n",
      "1 0 1\n",
      "0 1 0\n",
      "0 2 1\n",
      "Yes\n"
     ]
    }
   ],
   "source": [
    "a = int(input())\n",
    "b=[]\n",
    "for i in range(a):\n",
    "    b.append(list(map(int,input().split())))\n",
    "d=0\n",
    "e='Yes'\n",
    "for i in b:\n",
    "    if(i.index(1)==d):\n",
    "        d+=1\n",
    "    else:\n",
    "        e='No'\n",
    "        break\n",
    "if(e=='Yes'):\n",
    "    print('Yes')\n",
    "else:\n",
    "    print('No')"
   ]
  },
  {
   "cell_type": "code",
   "execution_count": 25,
   "metadata": {},
   "outputs": [],
   "source": [
    "a='23245'\n",
    "b=sorted(str(a))\n",
    "d=''\n",
    "for i in b:\n",
    "    d+=i"
   ]
  },
  {
   "cell_type": "code",
   "execution_count": 31,
   "metadata": {},
   "outputs": [
    {
     "name": "stdout",
     "output_type": "stream",
     "text": [
      "0\n"
     ]
    }
   ],
   "source": [
    "print(bin(0).count('1'))"
   ]
  },
  {
   "cell_type": "code",
   "execution_count": null,
   "metadata": {},
   "outputs": [],
   "source": []
  },
  {
   "cell_type": "code",
   "execution_count": 5,
   "metadata": {},
   "outputs": [],
   "source": [
    "a=[1,2,3 ,1,2,5,1,2,3,4,6,42,1,2,1]\n",
    "b=[]\n",
    "for i in range(len(a)):\n",
    "    if(a[i] not in b):\n",
    "        b.append(a[i])\n",
    "    elif(a[i] in b and (a[i-1] in b) or (a[i+1] in b)):\n",
    "        pass"
   ]
  },
  {
   "cell_type": "code",
   "execution_count": 6,
   "metadata": {},
   "outputs": [
    {
     "data": {
      "text/plain": [
       "[1, 2, 3, 5, 4, 6, 42]"
      ]
     },
     "execution_count": 6,
     "metadata": {},
     "output_type": "execute_result"
    }
   ],
   "source": [
    "b"
   ]
  },
  {
   "cell_type": "code",
   "execution_count": 7,
   "metadata": {},
   "outputs": [
    {
     "name": "stdout",
     "output_type": "stream",
     "text": [
      "[1, 2, 3, 4, 5, 6, 42]\n"
     ]
    }
   ],
   "source": [
    "a=[1,2,3 ,1,2,5,1,2,3,4,6,42,1,2,1]\n",
    "print(list(set(a)))"
   ]
  },
  {
   "cell_type": "code",
   "execution_count": 17,
   "metadata": {},
   "outputs": [
    {
     "name": "stdout",
     "output_type": "stream",
     "text": [
      "1\n",
      "5 9\n",
      "1\n"
     ]
    }
   ],
   "source": [
    "for i in range(int(input())):\n",
    "    a = list(map(int,input().split()))\n",
    "    b=2\n",
    "    for i in a:\n",
    "        if(i%2==1):\n",
    "            b=1 \n",
    "            break\n",
    "    print(b)"
   ]
  },
  {
   "cell_type": "code",
   "execution_count": 10,
   "metadata": {},
   "outputs": [
    {
     "name": "stdout",
     "output_type": "stream",
     "text": [
      "4 5 6\n",
      "6 4 5 "
     ]
    }
   ],
   "source": [
    "a = list(map(int,input().split()))\n",
    "b=[]\n",
    "b.append(a[-1])\n",
    "b.extend(a)\n",
    "b=b[:-1]\n",
    "for i in b:\n",
    "    print(i,end=' ')"
   ]
  },
  {
   "cell_type": "code",
   "execution_count": 24,
   "metadata": {},
   "outputs": [
    {
     "name": "stdout",
     "output_type": "stream",
     "text": [
      "abhiram\n",
      "a\n"
     ]
    }
   ],
   "source": [
    "a=input()\n",
    "b=list(set(a))\n",
    "c=0\n",
    "d=''\n",
    "for i in b:\n",
    "    e=a.count(i)\n",
    "    if(e>c):\n",
    "        c=e\n",
    "        d=i\n",
    "print(d)"
   ]
  },
  {
   "cell_type": "code",
   "execution_count": 3,
   "metadata": {},
   "outputs": [
    {
     "data": {
      "text/plain": [
       "['a', 'abcdefghij', 'abhi', 'anirudh', 'komali', 'narayanarao', 'paidimarri']"
      ]
     },
     "execution_count": 3,
     "metadata": {},
     "output_type": "execute_result"
    }
   ],
   "source": [
    "a=['abhi','narayanarao','komali','anirudh','paidimarri','abcdefghij','a']\n",
    "sorted(a)"
   ]
  },
  {
   "cell_type": "code",
   "execution_count": null,
   "metadata": {},
   "outputs": [],
   "source": []
  },
  {
   "cell_type": "code",
   "execution_count": null,
   "metadata": {},
   "outputs": [],
   "source": []
  },
  {
   "cell_type": "code",
   "execution_count": null,
   "metadata": {},
   "outputs": [],
   "source": []
  },
  {
   "cell_type": "code",
   "execution_count": null,
   "metadata": {},
   "outputs": [],
   "source": []
  },
  {
   "cell_type": "code",
   "execution_count": null,
   "metadata": {},
   "outputs": [],
   "source": []
  },
  {
   "cell_type": "code",
   "execution_count": null,
   "metadata": {},
   "outputs": [],
   "source": []
  },
  {
   "cell_type": "code",
   "execution_count": null,
   "metadata": {},
   "outputs": [],
   "source": []
  },
  {
   "cell_type": "code",
   "execution_count": null,
   "metadata": {},
   "outputs": [],
   "source": []
  },
  {
   "cell_type": "code",
   "execution_count": null,
   "metadata": {},
   "outputs": [],
   "source": []
  },
  {
   "cell_type": "code",
   "execution_count": null,
   "metadata": {},
   "outputs": [],
   "source": []
  },
  {
   "cell_type": "code",
   "execution_count": null,
   "metadata": {},
   "outputs": [],
   "source": []
  },
  {
   "cell_type": "code",
   "execution_count": null,
   "metadata": {},
   "outputs": [],
   "source": []
  },
  {
   "cell_type": "code",
   "execution_count": null,
   "metadata": {},
   "outputs": [],
   "source": []
  },
  {
   "cell_type": "code",
   "execution_count": null,
   "metadata": {},
   "outputs": [],
   "source": []
  },
  {
   "cell_type": "code",
   "execution_count": null,
   "metadata": {},
   "outputs": [],
   "source": []
  },
  {
   "cell_type": "code",
   "execution_count": null,
   "metadata": {},
   "outputs": [],
   "source": []
  },
  {
   "cell_type": "code",
   "execution_count": null,
   "metadata": {},
   "outputs": [],
   "source": []
  },
  {
   "cell_type": "code",
   "execution_count": null,
   "metadata": {},
   "outputs": [],
   "source": []
  },
  {
   "cell_type": "code",
   "execution_count": null,
   "metadata": {},
   "outputs": [],
   "source": []
  },
  {
   "cell_type": "code",
   "execution_count": null,
   "metadata": {},
   "outputs": [],
   "source": []
  },
  {
   "cell_type": "code",
   "execution_count": null,
   "metadata": {},
   "outputs": [],
   "source": []
  },
  {
   "cell_type": "code",
   "execution_count": null,
   "metadata": {},
   "outputs": [],
   "source": []
  },
  {
   "cell_type": "code",
   "execution_count": null,
   "metadata": {},
   "outputs": [],
   "source": []
  },
  {
   "cell_type": "code",
   "execution_count": null,
   "metadata": {},
   "outputs": [],
   "source": []
  },
  {
   "cell_type": "code",
   "execution_count": null,
   "metadata": {},
   "outputs": [],
   "source": []
  },
  {
   "cell_type": "code",
   "execution_count": null,
   "metadata": {},
   "outputs": [],
   "source": []
  },
  {
   "cell_type": "code",
   "execution_count": null,
   "metadata": {},
   "outputs": [],
   "source": []
  },
  {
   "cell_type": "code",
   "execution_count": null,
   "metadata": {},
   "outputs": [],
   "source": []
  },
  {
   "cell_type": "code",
   "execution_count": null,
   "metadata": {},
   "outputs": [],
   "source": []
  },
  {
   "cell_type": "code",
   "execution_count": null,
   "metadata": {},
   "outputs": [],
   "source": []
  },
  {
   "cell_type": "code",
   "execution_count": null,
   "metadata": {},
   "outputs": [],
   "source": []
  },
  {
   "cell_type": "code",
   "execution_count": null,
   "metadata": {},
   "outputs": [],
   "source": []
  },
  {
   "cell_type": "code",
   "execution_count": null,
   "metadata": {},
   "outputs": [],
   "source": []
  },
  {
   "cell_type": "code",
   "execution_count": null,
   "metadata": {},
   "outputs": [],
   "source": []
  },
  {
   "cell_type": "code",
   "execution_count": null,
   "metadata": {},
   "outputs": [],
   "source": []
  },
  {
   "cell_type": "code",
   "execution_count": null,
   "metadata": {},
   "outputs": [],
   "source": []
  },
  {
   "cell_type": "code",
   "execution_count": null,
   "metadata": {},
   "outputs": [],
   "source": []
  },
  {
   "cell_type": "code",
   "execution_count": null,
   "metadata": {},
   "outputs": [],
   "source": []
  },
  {
   "cell_type": "code",
   "execution_count": null,
   "metadata": {},
   "outputs": [],
   "source": []
  },
  {
   "cell_type": "code",
   "execution_count": null,
   "metadata": {},
   "outputs": [],
   "source": []
  },
  {
   "cell_type": "code",
   "execution_count": null,
   "metadata": {},
   "outputs": [],
   "source": []
  },
  {
   "cell_type": "code",
   "execution_count": null,
   "metadata": {},
   "outputs": [],
   "source": []
  },
  {
   "cell_type": "code",
   "execution_count": null,
   "metadata": {},
   "outputs": [],
   "source": []
  },
  {
   "cell_type": "code",
   "execution_count": null,
   "metadata": {},
   "outputs": [],
   "source": []
  },
  {
   "cell_type": "code",
   "execution_count": null,
   "metadata": {},
   "outputs": [],
   "source": []
  },
  {
   "cell_type": "code",
   "execution_count": null,
   "metadata": {},
   "outputs": [],
   "source": []
  },
  {
   "cell_type": "code",
   "execution_count": null,
   "metadata": {},
   "outputs": [],
   "source": []
  },
  {
   "cell_type": "code",
   "execution_count": null,
   "metadata": {},
   "outputs": [],
   "source": []
  },
  {
   "cell_type": "code",
   "execution_count": null,
   "metadata": {},
   "outputs": [],
   "source": []
  },
  {
   "cell_type": "code",
   "execution_count": null,
   "metadata": {},
   "outputs": [],
   "source": []
  },
  {
   "cell_type": "code",
   "execution_count": null,
   "metadata": {},
   "outputs": [],
   "source": []
  },
  {
   "cell_type": "code",
   "execution_count": null,
   "metadata": {},
   "outputs": [],
   "source": []
  },
  {
   "cell_type": "code",
   "execution_count": null,
   "metadata": {},
   "outputs": [],
   "source": []
  },
  {
   "cell_type": "code",
   "execution_count": null,
   "metadata": {},
   "outputs": [],
   "source": []
  },
  {
   "cell_type": "code",
   "execution_count": null,
   "metadata": {},
   "outputs": [],
   "source": []
  },
  {
   "cell_type": "code",
   "execution_count": null,
   "metadata": {},
   "outputs": [],
   "source": []
  },
  {
   "cell_type": "code",
   "execution_count": null,
   "metadata": {},
   "outputs": [],
   "source": []
  },
  {
   "cell_type": "code",
   "execution_count": null,
   "metadata": {},
   "outputs": [],
   "source": []
  },
  {
   "cell_type": "code",
   "execution_count": null,
   "metadata": {},
   "outputs": [],
   "source": []
  },
  {
   "cell_type": "code",
   "execution_count": null,
   "metadata": {},
   "outputs": [],
   "source": []
  },
  {
   "cell_type": "code",
   "execution_count": null,
   "metadata": {},
   "outputs": [],
   "source": []
  },
  {
   "cell_type": "code",
   "execution_count": null,
   "metadata": {},
   "outputs": [],
   "source": []
  },
  {
   "cell_type": "code",
   "execution_count": null,
   "metadata": {},
   "outputs": [],
   "source": []
  },
  {
   "cell_type": "code",
   "execution_count": null,
   "metadata": {},
   "outputs": [],
   "source": []
  },
  {
   "cell_type": "code",
   "execution_count": null,
   "metadata": {},
   "outputs": [],
   "source": []
  },
  {
   "cell_type": "code",
   "execution_count": null,
   "metadata": {},
   "outputs": [],
   "source": []
  },
  {
   "cell_type": "code",
   "execution_count": null,
   "metadata": {},
   "outputs": [],
   "source": []
  },
  {
   "cell_type": "code",
   "execution_count": null,
   "metadata": {},
   "outputs": [],
   "source": []
  },
  {
   "cell_type": "code",
   "execution_count": null,
   "metadata": {},
   "outputs": [],
   "source": []
  },
  {
   "cell_type": "code",
   "execution_count": null,
   "metadata": {},
   "outputs": [],
   "source": []
  },
  {
   "cell_type": "code",
   "execution_count": null,
   "metadata": {},
   "outputs": [],
   "source": []
  },
  {
   "cell_type": "code",
   "execution_count": null,
   "metadata": {},
   "outputs": [],
   "source": []
  }
 ],
 "metadata": {
  "kernelspec": {
   "display_name": "Python 3",
   "language": "python",
   "name": "python3"
  },
  "language_info": {
   "codemirror_mode": {
    "name": "ipython",
    "version": 3
   },
   "file_extension": ".py",
   "mimetype": "text/x-python",
   "name": "python",
   "nbconvert_exporter": "python",
   "pygments_lexer": "ipython3",
   "version": "3.7.3"
  }
 },
 "nbformat": 4,
 "nbformat_minor": 4
}
