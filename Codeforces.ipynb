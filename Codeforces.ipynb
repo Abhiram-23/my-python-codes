{
 "cells": [
  {
   "cell_type": "code",
   "execution_count": null,
   "metadata": {},
   "outputs": [],
   "source": [
    "c = \"abcdefghijklmnopqrstuvwxyz\"\n",
    "a = int(input())\n",
    "b = input()\n",
    "b = b.lower()\n",
    "d=\"\"\n",
    "count=0\n",
    "for i in b:\n",
    "    if(i in c and i not in d):\n",
    "        d+=i\n",
    "        count+=1\n",
    "if(count==26):\n",
    "    print('YES')\n",
    "else:\n",
    "    print('NO')"
   ]
  },
  {
   "cell_type": "code",
   "execution_count": null,
   "metadata": {},
   "outputs": [],
   "source": [
    "a = input()\n",
    "b = input()\n",
    "lea = len(a)\n",
    "leb = len(b)\n",
    "count = 0\n",
    "if(a=='' ):\n",
    "    print(lenb)\n",
    "elif(b==\"\"):\n",
    "    print(lea)\n",
    "else:\n",
    "    while(lea!=leb or a!=b ):\n",
    "        if(lea>leb):\n",
    "            count+=1\n",
    "            a=a[1:]\n",
    "            lea-=1\n",
    "        else:\n",
    "            count+=1\n",
    "            b=b[1:]\n",
    "            leb-=1\n",
    "    print(count)"
   ]
  },
  {
   "cell_type": "code",
   "execution_count": null,
   "metadata": {},
   "outputs": [],
   "source": [
    "Tetrahedron. Tetrahedron has 4 triangular faces.\n",
    "Cube. Cube has 6 square faces.\n",
    "Octahedron. Octahedron has 8 triangular faces.\n",
    "Dodecahedron. Dodecahedron has 12 pentagonal faces.\n",
    "Icosahedron. Icosahedron has 20 triangular faces."
   ]
  },
  {
   "cell_type": "code",
   "execution_count": null,
   "metadata": {},
   "outputs": [],
   "source": [
    "b={'Tetrahedron':4,'Cube':6,'Octahedron':8,'Dodecahedron':12,'Icosahedron':20}\n",
    "count=0\n",
    "for i in range(int(input())):\n",
    "    count += b[input()]\n",
    "print(count)"
   ]
  },
  {
   "cell_type": "code",
   "execution_count": null,
   "metadata": {},
   "outputs": [],
   "source": [
    "for i in range(int(input())):\n",
    "    a = int(input())\n",
    "    b = input()\n",
    "    c = [int(b[0])]\n",
    "    d = 0\n",
    "    e = 1\n",
    "    f = ''\n",
    "    while(e<len(b)):\n",
    "        f = f+b[e]\n",
    "        if(int(f)> c[d]):\n",
    "            c.append(int(f))\n",
    "            d+=1\n",
    "            f=''\n",
    "        e+=1\n",
    "        if(e==len(b) and f!='' and len(c)>=2):\n",
    "            c[-1] = int(str(c[-1])+f)\n",
    "            print('YES')\n",
    "            print(len(c))\n",
    "            for i in c:\n",
    "                print(i , end =\" \")\n",
    "            print()\n",
    "        elif(e==len(b)and f!='' and len(c)<2):\n",
    "            print('NO')\n",
    "        elif(e==len(b) and f=='' and len(c)>=2):\n",
    "            c[-1] = int(str(c[-1])+f)\n",
    "            print('YES')\n",
    "            print(len(c))\n",
    "            for i in c:\n",
    "                print(i , end =\" \")\n",
    "            print()"
   ]
  },
  {
   "cell_type": "code",
   "execution_count": null,
   "metadata": {},
   "outputs": [],
   "source": [
    "a = list(map(int,input().split()))\n",
    "a = sorted(a)\n",
    "b = list(map(str,input().split()))\n",
    "if(0 in a and '*' in b):\n",
    "    print(0)\n",
    "else:\n",
    "    for i in range(len(b)):\n",
    "        if(b[i]=='*'):\n",
    "            a.append(a[0]*a[1])\n",
    "            a=a[2:]\n",
    "            a = sorted(a)\n",
    "    print(sum(a))"
   ]
  },
  {
   "cell_type": "code",
   "execution_count": null,
   "metadata": {},
   "outputs": [],
   "source": [
    "30+7+8"
   ]
  },
  {
   "cell_type": "code",
   "execution_count": null,
   "metadata": {},
   "outputs": [],
   "source": [
    "for _ in range(int(input())):\n",
    "    a = int(input())\n",
    "    b=[]\n",
    "    c = []\n",
    "    d=[]\n",
    "    for i in range(1,a+1):\n",
    "        if(a%i==0):\n",
    "            b.append(i)\n",
    "    d.append(b[0])\n",
    "    for j in range(1,len(b)-1):\n",
    "        for k in range(j,len(b)-1):\n",
    "            if(b[k]%b[j]==0 and b[k]not in c):\n",
    "                c.append(b[k])\n",
    "            elif(b[k] in c):\n",
    "                break\n",
    "            else:\n",
    "                d.append(b[k])\n",
    "    print(d)"
   ]
  },
  {
   "cell_type": "code",
   "execution_count": null,
   "metadata": {},
   "outputs": [],
   "source": [
    "primes = [2,3,5,7,11,13,17,19,23]\n",
    "for _ in range(int(input())):\n",
    "    a = int(input())\n",
    "    b=[]\n",
    "    c = []\n",
    "    for i in range(1,a+1):\n",
    "        if(i in primes):\n",
    "            c.append(i)\n",
    "        if(len(c)<=1):\n",
    "            if(a%i==0):\n",
    "                b.append(i)\n",
    "    print(b)"
   ]
  },
  {
   "cell_type": "code",
   "execution_count": null,
   "metadata": {},
   "outputs": [],
   "source": [
    "for _ in range(int(input())):\n",
    "    a = int(input())\n",
    "    b=[]\n",
    "    c = []\n",
    "    d=[]\n",
    "    for i in range(a,0,-1):\n",
    "        if(a%i==0):\n",
    "            b.append(i)\n",
    "    print(b[0],end=\" \")\n",
    "    i=1\n",
    "    e=[]\n",
    "    while(i<len(b)):\n",
    "        if(b[i-1]%b[i]==0):\n",
    "            print(b[i],end=\" \")\n",
    "        else:\n",
    "            b[i]=b[i-1]\n",
    "        i=i+1\n",
    "\n",
    "    print()\n"
   ]
  },
  {
   "cell_type": "code",
   "execution_count": null,
   "metadata": {},
   "outputs": [],
   "source": []
  },
  {
   "cell_type": "code",
   "execution_count": null,
   "metadata": {},
   "outputs": [],
   "source": [
    "3\n",
    "#cookOff#P1\n",
    "U@code4CHEFINA\n",
    "gR3@tPWD"
   ]
  },
  {
   "cell_type": "code",
   "execution_count": null,
   "metadata": {},
   "outputs": [],
   "source": [
    "alpha = 'abcdefghijklmnopqrstuvwxyz'\n",
    "bigalpha = 'ABCDEFGHIJKLMNOPQRSTUVWXYZ'\n",
    "num ='0123456789'\n",
    "special = ' @#%&?'\n",
    "for _ in range(int(input())):\n",
    "    a = input()\n",
    "    di=0\n",
    "    up=0\n",
    "    sp=0\n",
    "    al=0\n",
    "    if(len(a)<10):\n",
    "        print('NO')\n",
    "    else:\n",
    "        for i in range(1,len(a)-1):\n",
    "            if(a[i] in bigalpha and up==0):\n",
    "                up=1\n",
    "            elif(a[i] in num and di==0):\n",
    "                di=1\n",
    "            elif(a[i] in special and sp==0):\n",
    "                sp=1\n",
    "            elif(a[i] in alpha and al==0):\n",
    "                al=1\n",
    "        if(a[0] in alpha or a[-1] in alpha):\n",
    "            al=1\n",
    "        if(up==1 and di==1 and sp==1 and al==1):\n",
    "            print('YES')\n",
    "        else:\n",
    "            print('NO')"
   ]
  },
  {
   "cell_type": "code",
   "execution_count": null,
   "metadata": {},
   "outputs": [],
   "source": [
    "3\n",
    "#cookOff#P1\n",
    "U@code4CHEFINA\n",
    "gR3@tPWD"
   ]
  },
  {
   "cell_type": "code",
   "execution_count": null,
   "metadata": {
    "scrolled": true
   },
   "outputs": [],
   "source": [
    "for _ in range(int(input())):\n",
    "    a,b = map(int,input().split())\n",
    "    c=[]\n",
    "    for i in range(a,b+1):\n",
    "        for j in range(i,b+1):\n",
    "            c.append(i+j)\n",
    "    print(len(set(c)))"
   ]
  },
  {
   "cell_type": "code",
   "execution_count": null,
   "metadata": {},
   "outputs": [],
   "source": [
    "c"
   ]
  },
  {
   "cell_type": "code",
   "execution_count": null,
   "metadata": {},
   "outputs": [],
   "source": [
    "1 2 3 4 5 6"
   ]
  },
  {
   "cell_type": "code",
   "execution_count": null,
   "metadata": {},
   "outputs": [],
   "source": [
    "2 3 5 7 11 13 17 19 23 29"
   ]
  },
  {
   "cell_type": "code",
   "execution_count": null,
   "metadata": {},
   "outputs": [],
   "source": [
    "import math\n",
    "def prime(n):\n",
    "    a=[True]*(n+1)\n",
    "    d=[]\n",
    "    a[0]=False\n",
    "    a[1]=False\n",
    "    for i in range(2,int(math.sqrt(n+1))):\n",
    "        if(a[i]==True):\n",
    "            for j in range(i*i,n+1,i):\n",
    "                a[j]=False\n",
    "    for i in range(len(a)):\n",
    "        if(a[i]==True):\n",
    "            d.append(i)\n",
    "    return d\n",
    "for _ in range(int(input())):\n",
    "    b = int(input())\n",
    "    c = prime(b)\n",
    "    print(c)"
   ]
  },
  {
   "cell_type": "code",
   "execution_count": null,
   "metadata": {},
   "outputs": [],
   "source": []
  },
  {
   "cell_type": "code",
   "execution_count": null,
   "metadata": {},
   "outputs": [],
   "source": [
    "def SieveOfEratosthenes(n):\n",
    "    prime = [True for i in range(n+1)]\n",
    "    p = 2\n",
    "    d=[]\n",
    "    while (p * p <= n):\n",
    "        if (prime[p] == True):\n",
    "            for i in range(p * p, n+1, p):\n",
    "                prime[i] = False\n",
    "        p += 1\n",
    "    for p in range(2, n+1):\n",
    "        if prime[p]:\n",
    "            d.append(p)\n",
    "    return(d)\n",
    "e=[]\n",
    "e=e+(SieveOfEratosthenes(1000000))"
   ]
  },
  {
   "cell_type": "code",
   "execution_count": null,
   "metadata": {},
   "outputs": [],
   "source": [
    "for _ in range(int(input())):\n",
    "    a = int(input())\n",
    "    b = SieveOfEratosthenes(a)\n",
    "    count=0\n",
    "    for i in range(len(b)):\n",
    "        for j in range(i,len(b)):\n",
    "            if(b[i]>a):\n",
    "                break\n",
    "            if(b[i]+b[j] in b):\n",
    "                count+=1\n",
    "    print(count)"
   ]
  },
  {
   "cell_type": "code",
   "execution_count": null,
   "metadata": {},
   "outputs": [],
   "source": [
    "print(e)"
   ]
  },
  {
   "cell_type": "code",
   "execution_count": null,
   "metadata": {},
   "outputs": [],
   "source": [
    "def SieveOfEratosthenes(n):\n",
    "    prime = [True for i in range(n+1)]\n",
    "    p = 2\n",
    "    d=[]\n",
    "    while (p * p <= n):\n",
    "        if (prime[p] == True):\n",
    "            for i in range(p * p, n+1, p):\n",
    "                prime[i] = False\n",
    "        p += 1\n",
    "    for p in range(2, n+1):\n",
    "        if prime[p]:\n",
    "            d.append(p)\n",
    "    return(d)\n",
    "e=[]\n",
    "e=e+(SieveOfEratosthenes(1000000))\n",
    "for _ in range(int(input())):\n",
    "    a = int(input())\n",
    "    b=0\n",
    "    if(a%2==1):\n",
    "        print('YES')\n",
    "    else:\n",
    "        for i in e:\n",
    "            if(i<=a):\n",
    "                if(a%i==0 and i>1 and i!=2):\n",
    "                    b=1\n",
    "                    print(i)\n",
    "                    break\n",
    "            else:\n",
    "                break\n",
    "        if(b==1):\n",
    "            print('YES')\n",
    "        else:\n",
    "            print('NO')"
   ]
  },
  {
   "cell_type": "code",
   "execution_count": null,
   "metadata": {},
   "outputs": [],
   "source": [
    "4041\n",
    "4042\n",
    "8081\n",
    "8079"
   ]
  },
  {
   "cell_type": "code",
   "execution_count": null,
   "metadata": {},
   "outputs": [],
   "source": [
    "(2021*15)+2020*10"
   ]
  },
  {
   "cell_type": "code",
   "execution_count": null,
   "metadata": {},
   "outputs": [],
   "source": [
    "50515%2020"
   ]
  },
  {
   "cell_type": "code",
   "execution_count": null,
   "metadata": {},
   "outputs": [],
   "source": [
    "2021*15"
   ]
  },
  {
   "cell_type": "code",
   "execution_count": null,
   "metadata": {},
   "outputs": [],
   "source": [
    "2020*15"
   ]
  },
  {
   "cell_type": "code",
   "execution_count": null,
   "metadata": {},
   "outputs": [],
   "source": [
    "50515%2020"
   ]
  },
  {
   "cell_type": "code",
   "execution_count": null,
   "metadata": {},
   "outputs": [],
   "source": [
    "8079//2020"
   ]
  },
  {
   "cell_type": "code",
   "execution_count": null,
   "metadata": {},
   "outputs": [],
   "source": [
    "50515-(2021*15)"
   ]
  },
  {
   "cell_type": "code",
   "execution_count": null,
   "metadata": {},
   "outputs": [],
   "source": [
    "20200%2020"
   ]
  },
  {
   "cell_type": "code",
   "execution_count": null,
   "metadata": {},
   "outputs": [],
   "source": [
    "for _ in range(int(input())):\n",
    "    a = int(input())\n",
    "    if(a<2020):\n",
    "        print('NO')\n",
    "    else:\n",
    "        b=a%2020\n",
    "        if(b<=9):\n",
    "            c=a-(2021*b)\n",
    "            if(c%2020==0):\n",
    "                print('YES')\n",
    "            else:\n",
    "                print('NO')\n",
    "        else:\n",
    "            print('NO')"
   ]
  },
  {
   "cell_type": "code",
   "execution_count": null,
   "metadata": {},
   "outputs": [],
   "source": [
    "b"
   ]
  },
  {
   "cell_type": "code",
   "execution_count": null,
   "metadata": {},
   "outputs": [],
   "source": [
    "2020+2020+2021"
   ]
  },
  {
   "cell_type": "code",
   "execution_count": null,
   "metadata": {},
   "outputs": [],
   "source": [
    "8080-6060"
   ]
  },
  {
   "cell_type": "code",
   "execution_count": null,
   "metadata": {},
   "outputs": [],
   "source": [
    "alpha=\"abcdefghijklmnopqrstuvwxyz\"\n",
    "a = input()\n",
    "b = input()\n",
    "a = a.lower()\n",
    "b = b.lower()\n",
    "ca = 0\n",
    "cb = 0\n",
    "for i in range(len(a)):\n",
    "    if(alpha.index(a[i])<alpha.index(b[i])):\n",
    "        ca+=1\n",
    "    elif(alpha.index(a[i])<alpha.index(b[i])):\n",
    "        cb+=1\n",
    "if(ca>cb):\n",
    "    print(1)\n",
    "elif(ca<cb):\n",
    "    print(-1)\n",
    "else:\n",
    "    print(0)"
   ]
  },
  {
   "cell_type": "code",
   "execution_count": null,
   "metadata": {},
   "outputs": [],
   "source": [
    "ca"
   ]
  },
  {
   "cell_type": "code",
   "execution_count": null,
   "metadata": {},
   "outputs": [],
   "source": [
    "cb"
   ]
  },
  {
   "cell_type": "code",
   "execution_count": null,
   "metadata": {},
   "outputs": [],
   "source": []
  },
  {
   "cell_type": "code",
   "execution_count": null,
   "metadata": {},
   "outputs": [],
   "source": [
    "for _ in range(int(input())):\n",
    "    a = int(input())\n",
    "    b = list(map(int,input().split()))\n",
    "    maxcount = 0\n",
    "    count = 0\n",
    "    d = []\n",
    "    for i in range(len(b)):\n",
    "        if(b[i] not in d):\n",
    "            d.append(b[i])\n",
    "            count=0\n",
    "            count+=1\n",
    "        elif(b[i] in d):\n",
    "            count+=1\n",
    "        if(maxcount<count):\n",
    "            maxcount=count\n",
    "    print(maxcount)"
   ]
  },
  {
   "cell_type": "code",
   "execution_count": null,
   "metadata": {},
   "outputs": [],
   "source": [
    "5\n",
    "6\n",
    "1 1 1 2 3 4\n",
    "5\n",
    "1 1 2 2 3\n",
    "4\n",
    "2 2 2 2\n",
    "3\n",
    "1 2 3\n",
    "1\n",
    "1"
   ]
  },
  {
   "cell_type": "code",
   "execution_count": null,
   "metadata": {},
   "outputs": [],
   "source": [
    "d"
   ]
  },
  {
   "cell_type": "code",
   "execution_count": null,
   "metadata": {},
   "outputs": [],
   "source": [
    "count"
   ]
  },
  {
   "cell_type": "code",
   "execution_count": null,
   "metadata": {},
   "outputs": [],
   "source": [
    "52-7*7"
   ]
  },
  {
   "cell_type": "code",
   "execution_count": null,
   "metadata": {},
   "outputs": [],
   "source": [
    "a = int(input())\n",
    "b = list(map(int,input().split()))\n",
    "if(min(b)<=0):\n",
    "    c = min(b)\n",
    "    d = max(b)\n",
    "    print(d+c)\n",
    "else:\n",
    "    b = sorted(b)\n",
    "    c = c[0]\n",
    "    d = c[1]\n",
    "    print(c+d)"
   ]
  },
  {
   "cell_type": "code",
   "execution_count": null,
   "metadata": {},
   "outputs": [],
   "source": [
    "a = int(input())\n",
    "b = str(a)\n",
    "b = b[::-1]\n",
    "if(b[-1]=='-'):\n",
    "    b=b[:-1]\n",
    "    b = int(b)\n",
    "    print(a+b)\n",
    "else:\n",
    "    b = int(b)\n",
    "    print(a-b)"
   ]
  },
  {
   "cell_type": "code",
   "execution_count": null,
   "metadata": {},
   "outputs": [],
   "source": [
    "-534614+416435"
   ]
  },
  {
   "cell_type": "code",
   "execution_count": null,
   "metadata": {},
   "outputs": [],
   "source": [
    "a = int(input())\n",
    "b = 0\n",
    "c = 1\n",
    "e = [0,1]\n",
    "for i in range(a-2):\n",
    "    d = b+c\n",
    "    b = c\n",
    "    c = d\n",
    "    e.append(c)\n",
    "print(sum(e))"
   ]
  },
  {
   "cell_type": "code",
   "execution_count": null,
   "metadata": {},
   "outputs": [],
   "source": [
    "a,b = map(int,raw_input().split())\n",
    "c = list(map(int,raw_input().split()))\n",
    "c = sorted(c)\n",
    "print(c[b-1])"
   ]
  },
  {
   "cell_type": "code",
   "execution_count": null,
   "metadata": {},
   "outputs": [],
   "source": [
    "a,b=map(int,input().split())\n",
    "c=[]\n",
    "for i in range(a):\n",
    "    c.append(list(map(int,input().split())))\n",
    "ma = 1000000\n",
    "d=[]\n",
    "for j in range(b):\n",
    "    for k in range(len(c)):\n",
    "        if(c[k][j]<ma):\n",
    "            ma=c[k][j]\n",
    "    d.append(ma)\n",
    "    ma=1000000\n",
    "for i in d:\n",
    "    print(i,end=\" \")"
   ]
  },
  {
   "cell_type": "code",
   "execution_count": null,
   "metadata": {},
   "outputs": [],
   "source": [
    "max = 1000000\n",
    "d=[]\n",
    "for j in range(b):\n",
    "    for k in range(len(c)):\n",
    "        if(c[k][j]<max):\n",
    "            max=c[k][j]\n",
    "    d.append(max)\n",
    "    max=1000000"
   ]
  },
  {
   "cell_type": "code",
   "execution_count": null,
   "metadata": {},
   "outputs": [],
   "source": [
    "d\n",
    "\n",
    "c[1][0]"
   ]
  },
  {
   "cell_type": "code",
   "execution_count": null,
   "metadata": {},
   "outputs": [],
   "source": [
    "a = int(raw_input())\n",
    "b = list(map(int,raw_input().split()))\n",
    "c,d = map(int,raw_input().split())\n",
    "e=[]\n",
    "f = b[c:d+1]\n",
    "e=b[:c]+f[::-1]+b[d+1:]\n",
    "for i in e:\n",
    "    print(i),"
   ]
  },
  {
   "cell_type": "code",
   "execution_count": null,
   "metadata": {},
   "outputs": [],
   "source": [
    "e"
   ]
  },
  {
   "cell_type": "code",
   "execution_count": null,
   "metadata": {},
   "outputs": [],
   "source": [
    "b[:c]"
   ]
  },
  {
   "cell_type": "code",
   "execution_count": null,
   "metadata": {},
   "outputs": [],
   "source": [
    "b[c:d+1]"
   ]
  },
  {
   "cell_type": "code",
   "execution_count": null,
   "metadata": {},
   "outputs": [],
   "source": [
    "a = int(raw_input())\n",
    "b = str(a)\n",
    "c = []\n",
    "for i in b:\n",
    "    c.append(int(i))\n",
    "print(min(c))"
   ]
  },
  {
   "cell_type": "code",
   "execution_count": null,
   "metadata": {},
   "outputs": [],
   "source": [
    "a = int(input())\n",
    "b = list(map(int,input().split()))\n",
    "c= list(set(b))\n",
    "d = []\n",
    "if(len(c)==1):\n",
    "    print(0)\n",
    "else:\n",
    "    for i in c:\n",
    "        d.append(b.count(i))\n",
    "    mi = min(d)\n",
    "    miIndex = c[d.index(mi)]\n",
    "    ma = max(d)\n",
    "    maIndex = c[d.index(ma)]\n",
    "    while(maIndex<miIndex):\n",
    "        c.remove(maIndex)\n",
    "        d.remove(ma)\n",
    "        ma = max(d)\n",
    "        maIndex = c[d.index(ma)]\n",
    "    if(maIndex>miIndex):\n",
    "        print(ma-mi)"
   ]
  },
  {
   "cell_type": "code",
   "execution_count": null,
   "metadata": {},
   "outputs": [],
   "source": [
    "d"
   ]
  },
  {
   "cell_type": "code",
   "execution_count": null,
   "metadata": {},
   "outputs": [],
   "source": [
    "c"
   ]
  },
  {
   "cell_type": "code",
   "execution_count": null,
   "metadata": {},
   "outputs": [],
   "source": [
    "mi"
   ]
  },
  {
   "cell_type": "code",
   "execution_count": null,
   "metadata": {},
   "outputs": [],
   "source": [
    "ma"
   ]
  },
  {
   "cell_type": "code",
   "execution_count": null,
   "metadata": {},
   "outputs": [],
   "source": [
    "miIndex"
   ]
  },
  {
   "cell_type": "code",
   "execution_count": null,
   "metadata": {},
   "outputs": [],
   "source": [
    "mi = min(d)\n",
    "miIndex = c[d.index(mi)]\n",
    "ma = max(d)\n",
    "maIndex = c[d.index(ma)]\n",
    "while(miIndex>maIndex):\n",
    "    d.remove(mi)\n",
    "    c.remove(miIndex)\n",
    "\n",
    "if(miIndex<maIndex):\n",
    "    print(ma-mi)\n"
   ]
  },
  {
   "cell_type": "code",
   "execution_count": null,
   "metadata": {},
   "outputs": [],
   "source": [
    "N = int(raw_input())\n",
    "l = list(map(int,raw_input().split()))\n",
    "d = {}\n",
    "for i in l:\n",
    "    if(i in d.keys()):\n",
    "        d[i]=d[i]-1\n",
    "    else:\n",
    "        d[i]=1\n",
    "print(max(d.values())-min(d.values()))"
   ]
  },
  {
   "cell_type": "code",
   "execution_count": null,
   "metadata": {},
   "outputs": [],
   "source": [
    "a = int(input())\n",
    "b = str(a)\n",
    "c = ''\n",
    "for i in b:\n",
    "    d = int(i)\n",
    "    if(d==0):\n",
    "        d=d+1\n",
    "        c+=str(d)\n",
    "    elif(d%2==0):\n",
    "        d=d+1\n",
    "        c+=str(d)\n",
    "    else:\n",
    "        d=d-1\n",
    "        c+=str(d)\n",
    "print(int(c))"
   ]
  },
  {
   "cell_type": "code",
   "execution_count": null,
   "metadata": {},
   "outputs": [],
   "source": [
    "a = int(raw_input())\n",
    "b = list(map(int,raw_input().split()))\n",
    "b = sorted(b)\n",
    "c = len(b)//2\n",
    "d=0\n",
    "e=-1\n",
    "for i in range(c):\n",
    "    print(b[e]),\n",
    "    print(b[d])\n",
    "    d=d+1\n",
    "    e=e-1\n",
    "if(len(b)%2!=0):\n",
    "    print(b[c]),\n",
    "    print(0)"
   ]
  },
  {
   "cell_type": "code",
   "execution_count": null,
   "metadata": {},
   "outputs": [],
   "source": [
    "a = int(raw_input())\n",
    "c = str(a)\n",
    "b = len(c)\n",
    "d = 0\n",
    "for i in c:\n",
    "    d+=int(i)**b\n",
    "final = 0\n",
    "if(d==a):\n",
    "    for i in c:\n",
    "        e = int(i)\n",
    "        if(e%2==0 or e==0):\n",
    "            final+=e\n",
    "else:\n",
    "    for i in c:\n",
    "        e = int(i)\n",
    "        if(e%2!=0 or e==1):\n",
    "            final+=e\n",
    "print(final)"
   ]
  },
  {
   "cell_type": "code",
   "execution_count": null,
   "metadata": {},
   "outputs": [],
   "source": [
    "a = int(input())\n",
    "b = list(map(int,input().split()))\n",
    "count=0\n",
    "for i in b:\n",
    "    if(i<0):\n",
    "        count+=1\n",
    "print(count)"
   ]
  },
  {
   "cell_type": "code",
   "execution_count": null,
   "metadata": {},
   "outputs": [],
   "source": [
    "def SieveOfEratosthenes(n):\n",
    "    prime = [True for i in range(n+1)]\n",
    "    p = 2\n",
    "    d=[]\n",
    "    while (p * p <= n):\n",
    "        if (prime[p] == True):\n",
    "            for i in range(p * p, n+1, p):\n",
    "                prime[i] = False\n",
    "        p += 1\n",
    "    for p in range(2, n+1):\n",
    "        if prime[p]:\n",
    "            d.append(p)\n",
    "    return(d)\n",
    "e=SieveOfEratosthenes(10000)\n",
    "a = int(raw_input())\n",
    "b = list(map(int,raw_input().split()))\n",
    "f = []\n",
    "k = []\n",
    "for i in b:\n",
    "    if(i in e):\n",
    "        f.append(i)\n",
    "    else:\n",
    "        k.append(i)\n",
    "f=f+k\n",
    "for j in f:\n",
    "    print(j),"
   ]
  },
  {
   "cell_type": "code",
   "execution_count": null,
   "metadata": {},
   "outputs": [],
   "source": [
    "from itertools import permutations \n",
    "for i in range(int(input())):\n",
    "    a = int(input())\n",
    "    b = str(a)\n",
    "    pe = [''.join(p) for p in permutations(b)] \n",
    "    count = 0\n",
    "    d = []\n",
    "    for i in pe:\n",
    "        c = int(i)\n",
    "        if(c%7==0 and c not in d and c>0):\n",
    "            d.append(c)\n",
    "            count+=1\n",
    "    print(count)"
   ]
  },
  {
   "cell_type": "code",
   "execution_count": null,
   "metadata": {},
   "outputs": [],
   "source": []
  },
  {
   "cell_type": "code",
   "execution_count": null,
   "metadata": {},
   "outputs": [],
   "source": [
    "for _ in range(int(input())):\n",
    "    a = input()\n",
    "    b = input()"
   ]
  },
  {
   "cell_type": "code",
   "execution_count": null,
   "metadata": {},
   "outputs": [],
   "source": [
    "b='helloooowwwworlllld'\n"
   ]
  },
  {
   "cell_type": "code",
   "execution_count": null,
   "metadata": {},
   "outputs": [],
   "source": [
    "for _ in range(int(input())):\n",
    "    a = input()\n",
    "    a = a.lower()\n",
    "    if('?' in a):\n",
    "        a=a.replace('?',\"\")\n",
    "        a = a.replace(' ','')\n",
    "    b = a[::-1]\n",
    "    if(a==b):\n",
    "        print('YES')\n",
    "    else:\n",
    "        print('NO')"
   ]
  },
  {
   "cell_type": "code",
   "execution_count": null,
   "metadata": {},
   "outputs": [],
   "source": [
    "a = int(input())\n",
    "b = list(map(int,input().split()))\n",
    "lucky=0\n",
    "nearlyLucky = 0\n",
    "notLucky = 0\n",
    "for i in b:\n",
    "    c = str(i)\n",
    "    f = c\n",
    "    f = f.replace('4','')\n",
    "    f = f.replace('7','') \n",
    "    if(len(f)==0):\n",
    "        lucky+=1\n",
    "    else:\n",
    "        count = 0\n",
    "        d = \"47\"\n",
    "        su = 0\n",
    "        for j in c:\n",
    "            su = su + int(j)\n",
    "            if(j in d):\n",
    "                count+=1\n",
    "        e = str(count)\n",
    "        e = e.replace('4','')\n",
    "        e = e.replace('7','')\n",
    "        s = str(su)\n",
    "        s = s.replace('4','')\n",
    "        s = s.replace('7','')\n",
    "        if(len(s)==0 and len(e)==0):\n",
    "            nearlyLucky+=1\n",
    "        else:\n",
    "            notLucky+=1\n",
    "print(lucky,nearlyLucky,notLucky)"
   ]
  },
  {
   "cell_type": "code",
   "execution_count": null,
   "metadata": {},
   "outputs": [],
   "source": [
    "e"
   ]
  },
  {
   "cell_type": "code",
   "execution_count": null,
   "metadata": {},
   "outputs": [],
   "source": [
    "su"
   ]
  },
  {
   "cell_type": "code",
   "execution_count": null,
   "metadata": {},
   "outputs": [],
   "source": [
    "a = int(input())\n",
    "for i in range(10,0,-1):\n",
    "    if(a%i==0):\n",
    "        print(i)\n",
    "        break"
   ]
  },
  {
   "cell_type": "code",
   "execution_count": null,
   "metadata": {},
   "outputs": [],
   "source": [
    "for _ in range(int(input())):\n",
    "    a = int(input())\n",
    "    b = list(map(int,input().split()))\n",
    "    c = list(set(b))\n",
    "    b = sorted(b)\n",
    "    c = sorted(c)\n",
    "    if(len(c)>=3):\n",
    "        d =abs(c[0]-c[1])+abs(c[1]-c[-1])+abs(c[-1]-c[0])\n",
    "    else:\n",
    "        d = abs(b[0]-b[1])+abs(b[1]-b[-1])+abs(b[-1]-b[0])\n",
    "    print(d)"
   ]
  },
  {
   "cell_type": "code",
   "execution_count": null,
   "metadata": {},
   "outputs": [],
   "source": [
    "# cook your dish here\n",
    "for _ in range(int(input())):\n",
    "    a = input()\n",
    "    op=''\n",
    "    if(a[-2:]=='AM'):\n",
    "        if(a[:2]=='12'):\n",
    "            a='00'+a[2:-2]\n",
    "        else:\n",
    "            a = a[:-2]\n",
    "    else:\n",
    "        if(a[:2]=='12'):\n",
    "            a='12'+a[2:-2]\n",
    "        else:\n",
    "            a = str(int(a[:2])+12) + a[2:-3]\n",
    "    givenTimeHour = int(a[:2])\n",
    "    givenTimeMin = int(a[3:])\n",
    "    b = int(input())\n",
    "    for i in range(b):\n",
    "        d = input()\n",
    "        c = d\n",
    "        if(c[6:8]=='AM'):\n",
    "            if(c[:2]=='12'):\n",
    "                c='00'+c[2:5]\n",
    "            else:\n",
    "                c = c[:5]\n",
    "        else:\n",
    "            if(c[:2]=='12'):\n",
    "                c ='12'+c[2:5]\n",
    "            else:\n",
    "                c = str(int(c[:2])+12) + c[2:5]\n",
    "        if(d[-2:]=='AM'):\n",
    "            if(d[9:11]=='12'):\n",
    "                d='00'+d[12:14]\n",
    "            else:\n",
    "                d = d[9:14]\n",
    "        else:\n",
    "            if(d[9:11]=='12'):\n",
    "                d ='12'+d[11:14]\n",
    "            else:\n",
    "                d = str(int(d[9:11])+12) + d[11:14]\n",
    "        friendSTTimeHour = int(c[:2])\n",
    "        friendSTTimeMin = int(c[3:])\n",
    "        friendENTimeHour = int(d[:2])\n",
    "        friendENTimeMin = int(d[3:])\n",
    "        if(friendSTTimeHour<=givenTimeHour and friendENTimeHour>=givenTimeHour):\n",
    "            if(friendSTTimeHour==givenTimeHour):\n",
    "                if(friendSTTimeMin<=givenTimeMin):\n",
    "                    op+='1'\n",
    "                else:\n",
    "                    op+='0'\n",
    "            elif(friendENTimeHour==givenTimeHour):\n",
    "                if(friendENTimeMin>=givenTimeMin):\n",
    "                    op+='1'\n",
    "                else:\n",
    "                    op+='0'\n",
    "            elif(friendSTTimeHour<givenTimeHour and friendENTimeHour>givenTimeHour):\n",
    "                op+='1'\n",
    "        else:\n",
    "            op+='0'\n",
    "    print(op)"
   ]
  },
  {
   "cell_type": "code",
   "execution_count": null,
   "metadata": {},
   "outputs": [],
   "source": [
    "3\n",
    "12:24 PM\n",
    "3\n",
    "11:50 AM 01:30 PM\n",
    "12:03 PM 02:05 PM\n",
    "10:18 AM 12:00 PM\n",
    "01:15 AM \n",
    "3\n",
    "12:50 AM 02:30 AM\n",
    "12:03 AM 01:15 AM\n",
    "12:00 AM 12:00 PM\n",
    "05:54 PM \n",
    "4\n",
    "03:50 PM 06:00 PM\n",
    "07:03 PM 10:05 PM\n",
    "12:18 AM 12:00 PM\n",
    "05:00 PM 06:00 PM"
   ]
  },
  {
   "cell_type": "code",
   "execution_count": null,
   "metadata": {},
   "outputs": [],
   "source": [
    "5\n",
    "12:05 AM\n",
    "1\n",
    "12:00 AM 03:00 AM\n",
    "06:00 PM\n",
    "1\n",
    "11:00 AM 07:00 PM\n",
    "07:30 PM\n",
    "1\n",
    "06:00 AM 06:00 PM\n",
    "02:00 PM\n",
    "1\n",
    "12:00 PM 03:00 PM\n",
    "09:00 AM\n",
    "1\n",
    "11:00 PM 10:00 AM"
   ]
  },
  {
   "cell_type": "code",
   "execution_count": null,
   "metadata": {},
   "outputs": [],
   "source": [
    "d = []\n",
    "e = {}\n",
    "c = 'yes'\n",
    "while c=='yes':\n",
    "    a = input(\"enter name \")\n",
    "    b = input(\"enter desc \")\n",
    "    e['name'] = a\n",
    "    e['desc'] = b\n",
    "    d.append(e)\n",
    "    e={}\n",
    "    c = input(\"enter yes or no : \")\n",
    "    if(c=='no'):\n",
    "        f = input('do you want to display yes or no')\n",
    "        if(f=='yes'):\n",
    "            for i in d:\n",
    "                for j in i:\n",
    "                    print(i[j],end=\", \")\n",
    "                print()"
   ]
  },
  {
   "cell_type": "code",
   "execution_count": null,
   "metadata": {},
   "outputs": [],
   "source": [
    "d"
   ]
  },
  {
   "cell_type": "code",
   "execution_count": null,
   "metadata": {},
   "outputs": [],
   "source": [
    "for i in d:\n",
    "    for j in i:\n",
    "        print(i[j])"
   ]
  },
  {
   "cell_type": "code",
   "execution_count": 1,
   "metadata": {},
   "outputs": [],
   "source": [
    "def sieve(n):\n",
    "    prime = [True]*(n+1)\n",
    "    p=2\n",
    "    d = []\n",
    "    while(p*p<=n):\n",
    "        if(prime[p]==True):\n",
    "            for i in range(p*p,n+1,p):\n",
    "                prime[i]=False\n",
    "        p+=1\n",
    "    for j in range(2,n+1):\n",
    "        if(prime[j]==True):\n",
    "            d.append(j)\n",
    "    return d"
   ]
  },
  {
   "cell_type": "code",
   "execution_count": 8,
   "metadata": {},
   "outputs": [
    {
     "name": "stdout",
     "output_type": "stream",
     "text": [
      "[2, 3, 5, 7, 11, 13, 17, 19, 23, 29, 31, 37, 41, 43, 47, 53, 59, 61, 67, 71, 73, 79, 83, 89, 97, 101, 103, 107, 109, 113, 127, 131, 137, 139, 149, 151, 157, 163, 167, 173, 179, 181, 191, 193, 197, 199, 211, 223, 227, 229, 233, 239, 241, 251, 257, 263, 269, 271, 277, 281, 283, 293, 307, 311, 313, 317, 331, 337, 347, 349, 353, 359, 367, 373, 379, 383, 389, 397, 401, 409, 419, 421, 431, 433, 439, 443, 449, 457, 461, 463, 467, 479, 487, 491, 499, 503, 509, 521, 523, 541, 547, 557, 563, 569, 571, 577, 587, 593, 599, 601, 607, 613, 617, 619, 631, 641, 643, 647, 653, 659, 661, 673, 677, 683, 691, 701, 709, 719, 727, 733, 739, 743, 751, 757, 761, 769, 773, 787, 797, 809, 811, 821, 823, 827, 829, 839, 853, 857, 859, 863, 877, 881, 883, 887, 907, 911, 919, 929, 937, 941, 947, 953, 967, 971, 977, 983, 991, 997]\n"
     ]
    }
   ],
   "source": [
    "print((sieve(1000)))"
   ]
  },
  {
   "cell_type": "code",
   "execution_count": 22,
   "metadata": {},
   "outputs": [],
   "source": [
    "def sieve(n):\n",
    "    prime = [True]*(n+1)\n",
    "    p = 2\n",
    "    d = []\n",
    "    while(p*p<=n):\n",
    "        if(prime[p]==True):\n",
    "            for i in range(p*p,n+1,p):\n",
    "                prime[i] = False\n",
    "        p+=1\n",
    "    for j in range(2,n+1):\n",
    "        if(prime[j]==True):\n",
    "            d.append(j)\n",
    "    return d\n"
   ]
  },
  {
   "cell_type": "code",
   "execution_count": 23,
   "metadata": {},
   "outputs": [
    {
     "name": "stdout",
     "output_type": "stream",
     "text": [
      "[2, 3, 5, 7, 11, 13, 17, 19, 23, 29, 31, 37, 41, 43, 47, 53, 59, 61, 67, 71, 73, 79, 83, 89, 97]\n"
     ]
    }
   ],
   "source": [
    "print(sieve(100))"
   ]
  },
  {
   "cell_type": "code",
   "execution_count": null,
   "metadata": {},
   "outputs": [],
   "source": []
  },
  {
   "cell_type": "code",
   "execution_count": 10,
   "metadata": {},
   "outputs": [
    {
     "name": "stdout",
     "output_type": "stream",
     "text": [
      "1\n",
      "4 5\n",
      "5\n"
     ]
    }
   ],
   "source": [
    "def SieveOfEratosthenes(n):\n",
    "    prime = [True for i in range(n+1)]\n",
    "    p = 2\n",
    "    d=[]\n",
    "    while (p * p <= n):\n",
    "        if (prime[p] == True):\n",
    "            for i in range(p * p, n+1, p):\n",
    "\n",
    "                prime[i] = False\n",
    "        p += 1\n",
    "    for p in range(2, n+1):\n",
    "        if prime[p]:\n",
    "            d.append(p)\n",
    "    return(d)\n",
    "primes = SieveOfEratosthenes(10**6)\n",
    "for _ in range(int(input())):\n",
    "    l,r = map(int,input().split())\n",
    "    if(l==r):\n",
    "        print(0)\n",
    "    else:\n",
    "        mi = 0\n",
    "        ma = 0\n",
    "        for i in range(l,r):\n",
    "            if(i in primes):\n",
    "                mi = i \n",
    "                break\n",
    "        for j in range(r,l,-1):\n",
    "            if(j in primes):\n",
    "                ma = j\n",
    "                break\n",
    "        if(mi==0 and ma==0):\n",
    "            print(-1)\n",
    "        else:\n",
    "            print(ma-mi)"
   ]
  },
  {
   "cell_type": "code",
   "execution_count": 4,
   "metadata": {},
   "outputs": [
    {
     "data": {
      "text/plain": [
       "2"
      ]
     },
     "execution_count": 4,
     "metadata": {},
     "output_type": "execute_result"
    }
   ],
   "source": [
    "ma"
   ]
  },
  {
   "cell_type": "code",
   "execution_count": 5,
   "metadata": {},
   "outputs": [
    {
     "data": {
      "text/plain": [
       "2"
      ]
     },
     "execution_count": 5,
     "metadata": {},
     "output_type": "execute_result"
    }
   ],
   "source": [
    "mi"
   ]
  },
  {
   "cell_type": "code",
   "execution_count": null,
   "metadata": {},
   "outputs": [],
   "source": []
  },
  {
   "cell_type": "code",
   "execution_count": null,
   "metadata": {},
   "outputs": [],
   "source": []
  },
  {
   "cell_type": "code",
   "execution_count": null,
   "metadata": {},
   "outputs": [],
   "source": []
  },
  {
   "cell_type": "code",
   "execution_count": null,
   "metadata": {},
   "outputs": [],
   "source": []
  },
  {
   "cell_type": "code",
   "execution_count": null,
   "metadata": {},
   "outputs": [],
   "source": []
  },
  {
   "cell_type": "code",
   "execution_count": null,
   "metadata": {},
   "outputs": [],
   "source": []
  },
  {
   "cell_type": "code",
   "execution_count": null,
   "metadata": {},
   "outputs": [],
   "source": []
  },
  {
   "cell_type": "code",
   "execution_count": null,
   "metadata": {},
   "outputs": [],
   "source": []
  },
  {
   "cell_type": "code",
   "execution_count": null,
   "metadata": {},
   "outputs": [],
   "source": []
  },
  {
   "cell_type": "code",
   "execution_count": null,
   "metadata": {},
   "outputs": [],
   "source": []
  },
  {
   "cell_type": "code",
   "execution_count": null,
   "metadata": {},
   "outputs": [],
   "source": []
  },
  {
   "cell_type": "code",
   "execution_count": null,
   "metadata": {},
   "outputs": [],
   "source": []
  }
 ],
 "metadata": {
  "kernelspec": {
   "display_name": "Python 3",
   "language": "python",
   "name": "python3"
  },
  "language_info": {
   "codemirror_mode": {
    "name": "ipython",
    "version": 3
   },
   "file_extension": ".py",
   "mimetype": "text/x-python",
   "name": "python",
   "nbconvert_exporter": "python",
   "pygments_lexer": "ipython3",
   "version": "3.7.3"
  }
 },
 "nbformat": 4,
 "nbformat_minor": 4
}
