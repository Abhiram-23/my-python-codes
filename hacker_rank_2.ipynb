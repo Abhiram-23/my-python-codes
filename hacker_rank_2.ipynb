{
 "cells": [
  {
   "cell_type": "code",
   "execution_count": null,
   "metadata": {},
   "outputs": [],
   "source": [
    "a=[2,4]\n",
    "b=[16,32,96]\n",
    "maxA = max(a)\n",
    "minB = min(b)\n",
    "count = 0\n",
    "for i in range(maxA, minB+1):\n",
    "    if all([i%j==0  for j in a]):\n",
    "        if all([j%i==0  for j in b]):\n",
    "            count += 1\n",
    "print(count)"
   ]
  },
  {
   "cell_type": "code",
   "execution_count": null,
   "metadata": {},
   "outputs": [],
   "source": [
    "s1='hello'\n",
    "s2='w'\n",
    "a='Yes'\n",
    "for i in s1:\n",
    "    if(i in s2):\n",
    "        a='NO'\n",
    "        break\n",
    "print(a)"
   ]
  },
  {
   "cell_type": "code",
   "execution_count": null,
   "metadata": {},
   "outputs": [],
   "source": [
    "s = 'AAABBB'\n",
    "a=s[0]\n",
    "count=0\n",
    "for i in range(1,len(s)):\n",
    "    if(a==s[i]):\n",
    "        count+=1\n",
    "        a=s[i]\n",
    "    else:\n",
    "        a=s[i]"
   ]
  },
  {
   "cell_type": "code",
   "execution_count": null,
   "metadata": {},
   "outputs": [],
   "source": [
    "print(count)"
   ]
  },
  {
   "cell_type": "code",
   "execution_count": null,
   "metadata": {},
   "outputs": [],
   "source": [
    "import numpy as np\n",
    "import random"
   ]
  },
  {
   "cell_type": "code",
   "execution_count": null,
   "metadata": {},
   "outputs": [],
   "source": [
    "random.random(36)"
   ]
  },
  {
   "cell_type": "code",
   "execution_count": null,
   "metadata": {},
   "outputs": [],
   "source": [
    "a=int(input())"
   ]
  },
  {
   "cell_type": "markdown",
   "metadata": {},
   "source": [
    "# codevita edyst Q-1 March"
   ]
  },
  {
   "cell_type": "code",
   "execution_count": null,
   "metadata": {},
   "outputs": [],
   "source": [
    "import math\n",
    "t = int(input())\n",
    "while(t>0):\n",
    "    t-=1\n",
    "    N = list(map(int,input().split()))\n",
    "    for i in range(1,len(N)):\n",
    "        if(N[i]==-1):\n",
    "            if(N[i-1]%2==0 and N[i+1]%2==0 or N[i-1]%2==1 and N[i+1]%2==1):\n",
    "                      N[i]=abs(N[i-1]-N[i+1])\n",
    "            else:\n",
    "                N[i]=math.floor((N[i-1]+N[i+1])/2)\n",
    "    for i in range(1,len(N)-1):\n",
    "        if(N[i]>1):\n",
    "            N[i]=N[i]-1\n",
    "        else:\n",
    "            N[i]=N[i]\n",
    "        print(N[i],end='')\n",
    "    print(N[len(N)-1])"
   ]
  },
  {
   "cell_type": "markdown",
   "metadata": {},
   "source": [
    "# codevita edyst Q-2 March"
   ]
  },
  {
   "cell_type": "code",
   "execution_count": null,
   "metadata": {},
   "outputs": [],
   "source": [
    "t = int(input())\n",
    "for i in range(t):\n",
    "    s = input()\n",
    "    l1 = int(input())\n",
    "    l2 = int(input())\n",
    "    if(s=='rectangle'):\n",
    "        print(l1**2)\n",
    "    elif(s=='square'):\n",
    "        print(int(0.5*l1*l2))\n",
    "    elif(s=='triangle'):\n",
    "        print(l1*l2)\n",
    "    else:\n",
    "        print(0)"
   ]
  },
  {
   "cell_type": "markdown",
   "metadata": {},
   "source": [
    "# codevita edyst Q-3 March"
   ]
  },
  {
   "cell_type": "code",
   "execution_count": null,
   "metadata": {},
   "outputs": [],
   "source": [
    "t = int(input())\n",
    "alpha ='abcdefghijklmnopqrstuvwxyz'\n",
    "for i in range(t):\n",
    "    n = list(map(int,input().split()))"
   ]
  },
  {
   "cell_type": "code",
   "execution_count": null,
   "metadata": {},
   "outputs": [],
   "source": [
    "a=[]\n",
    "b=n[0]-1\n",
    "for i in range(1,n[0]+1):\n",
    "    if(b>0):\n",
    "        a.append(((b)*n[0])+i)\n",
    "        b=b-2\n",
    "        c=b\n",
    "    else:\n",
    "        a.append((c*n[0])+i)\n",
    "        c=c+2\n",
    "print(a)"
   ]
  },
  {
   "cell_type": "code",
   "execution_count": null,
   "metadata": {},
   "outputs": [],
   "source": [
    "s=''\n",
    "h=[]\n",
    "for i in a:\n",
    "    h.append(n[i+1])"
   ]
  },
  {
   "cell_type": "code",
   "execution_count": null,
   "metadata": {},
   "outputs": [],
   "source": [
    "for i in h:\n",
    "    if(i>26):\n",
    "        i=i%26\n",
    "        s=s+alpha[i-1]\n",
    "    else:\n",
    "        s=s+alpha[i-1]\n",
    "print(s)"
   ]
  },
  {
   "cell_type": "markdown",
   "metadata": {},
   "source": [
    "# codevita edyst Q-4 March"
   ]
  },
  {
   "cell_type": "code",
   "execution_count": null,
   "metadata": {},
   "outputs": [],
   "source": [
    "t = int(input())\n",
    "for i in range(t):\n",
    "    s = input()\n",
    "    a=[]\n",
    "    c=1\n",
    "    d=''\n",
    "    i=0\n",
    "    b=len(s)\n",
    "    while(b>0): \n",
    "        a.append(s[i:i+c])\n",
    "        i=c+i\n",
    "        c=c+1\n",
    "        b=b-c"
   ]
  },
  {
   "cell_type": "code",
   "execution_count": null,
   "metadata": {},
   "outputs": [],
   "source": [
    "print(a)"
   ]
  },
  {
   "cell_type": "code",
   "execution_count": null,
   "metadata": {},
   "outputs": [],
   "source": [
    "for i in a:\n",
    "    if(len(i)>1):\n",
    "        d=d+i[0]+i[-1]\n",
    "    else:\n",
    "        d=d+i"
   ]
  },
  {
   "cell_type": "code",
   "execution_count": null,
   "metadata": {},
   "outputs": [],
   "source": [
    "d"
   ]
  },
  {
   "cell_type": "markdown",
   "metadata": {},
   "source": [
    "# codevita edyst Q-5 March"
   ]
  },
  {
   "cell_type": "code",
   "execution_count": null,
   "metadata": {},
   "outputs": [],
   "source": [
    "t = int(input())\n",
    "for i in range(t):\n",
    "    n = list(map(int,input().split()))\n",
    "    f = int(input())\n",
    "    k = int(input())\n",
    "    c=[]\n",
    "    d='No'\n",
    "    for i in range(1,len(n)):\n",
    "        if(n[i]<=k):\n",
    "            if(n[i]<=f):\n",
    "                c.append(n[i])\n",
    "    print(c)"
   ]
  },
  {
   "cell_type": "code",
   "execution_count": null,
   "metadata": {},
   "outputs": [],
   "source": [
    "e=0\n",
    "from itertools import permutations\n",
    "perm = permutations(c) \n",
    "for i in (list(perm)):\n",
    "    "
   ]
  },
  {
   "cell_type": "code",
   "execution_count": null,
   "metadata": {},
   "outputs": [],
   "source": [
    "from itertools import combinations as c\n",
    " \n",
    "for _ in range(int(input())):\n",
    " \n",
    "        l=list(map(int,input().split()))[1:]\n",
    "\n",
    "        f=int(input());kk=int(input())\n",
    "\n",
    "        l1=[j for j in l if j<=kk]\n",
    "        data=0\n",
    "\n",
    "        for i in range(len(l1)+1):\n",
    "\n",
    "            for i in c(l1,i):\n",
    "\n",
    "                if(sum(list(i))==f):\n",
    "\n",
    "                    data=1\n",
    "\n",
    "                    break\n",
    "\n",
    "        if(data==1):\n",
    "\n",
    "            print(\"Yes\")\n",
    "\n",
    "        else:\n",
    "\n",
    "            print(\"No\")"
   ]
  },
  {
   "cell_type": "markdown",
   "metadata": {},
   "source": [
    "# codevita edyst Q-6"
   ]
  },
  {
   "cell_type": "code",
   "execution_count": null,
   "metadata": {},
   "outputs": [],
   "source": [
    "a=['a','ab','ac']"
   ]
  },
  {
   "cell_type": "code",
   "execution_count": null,
   "metadata": {},
   "outputs": [],
   "source": [
    "b=a[0]\n",
    "a[0]=a[-1]\n",
    "a[-1]=b"
   ]
  },
  {
   "cell_type": "code",
   "execution_count": null,
   "metadata": {},
   "outputs": [],
   "source": [
    "a"
   ]
  },
  {
   "cell_type": "code",
   "execution_count": null,
   "metadata": {},
   "outputs": [],
   "source": [
    "def has_lucky_number(nums):\n",
    "    for num in nums:\n",
    "        if ((num % 7) == 0):\n",
    "            return True\n",
    "        else:\n",
    "            return False"
   ]
  },
  {
   "cell_type": "code",
   "execution_count": null,
   "metadata": {},
   "outputs": [],
   "source": [
    "nums=[1,2,3,7,6,14,28]"
   ]
  },
  {
   "cell_type": "code",
   "execution_count": null,
   "metadata": {},
   "outputs": [],
   "source": [
    "print(has_lucky_number(nums))"
   ]
  },
  {
   "cell_type": "code",
   "execution_count": null,
   "metadata": {},
   "outputs": [],
   "source": [
    "12345%10"
   ]
  },
  {
   "cell_type": "code",
   "execution_count": null,
   "metadata": {},
   "outputs": [],
   "source": [
    "a=[0]*10"
   ]
  },
  {
   "cell_type": "code",
   "execution_count": null,
   "metadata": {},
   "outputs": [],
   "source": [
    "a"
   ]
  },
  {
   "cell_type": "code",
   "execution_count": null,
   "metadata": {},
   "outputs": [],
   "source": [
    "n = int(input())\n",
    "m = list(map(int,input().split()))\n"
   ]
  },
  {
   "cell_type": "code",
   "execution_count": null,
   "metadata": {},
   "outputs": [],
   "source": [
    "c=[]\n",
    "for i in m:\n",
    "    a=max(str(i))\n",
    "    b=min(str(i))\n",
    "    d=(int(a)*11+int(b)*7)\n",
    "    print(d)\n",
    "    if(len(str(d))>2):\n",
    "        d = int(d)%100\n",
    "    c.append(d)"
   ]
  },
  {
   "cell_type": "code",
   "execution_count": null,
   "metadata": {},
   "outputs": [],
   "source": [
    "c"
   ]
  },
  {
   "cell_type": "code",
   "execution_count": null,
   "metadata": {},
   "outputs": [],
   "source": [
    "o = [0,0,0,0,0,0,0,0,0,0]\n",
    "e = [0,0,0,0,0,0,0,0,0,0]\n",
    "for i in range(len(c)):\n",
    "    if(i%2==0):\n",
    "        a=int(c[i]/10)\n",
    "        e[a]+=1\n",
    "    else:\n",
    "        a=int(c[i]/10)\n",
    "        o[a]+=1\n",
    "print(o,e)   "
   ]
  },
  {
   "cell_type": "code",
   "execution_count": null,
   "metadata": {},
   "outputs": [],
   "source": [
    "count=0\n",
    "for i in o:\n",
    "    if(i==2):\n",
    "        count +=1\n",
    "    elif(i>2):\n",
    "        count +=2\n",
    "for i in e:\n",
    "    if(i==2):\n",
    "        count +=1\n",
    "    elif(i>2):\n",
    "        count +=2  "
   ]
  },
  {
   "cell_type": "code",
   "execution_count": null,
   "metadata": {},
   "outputs": [],
   "source": [
    "count"
   ]
  },
  {
   "cell_type": "code",
   "execution_count": null,
   "metadata": {},
   "outputs": [],
   "source": [
    "min('19')"
   ]
  },
  {
   "cell_type": "code",
   "execution_count": null,
   "metadata": {},
   "outputs": [],
   "source": [
    "m = list(map(int,input().split()))\n",
    "c=[]\n",
    "for i in range(1,len(m)):\n",
    "    a=max(str(m[i]))\n",
    "    b=min(str(m[i]))\n",
    "    d=(int(a)*11+int(b)*7)\n",
    "    if(len(str(d))>2):\n",
    "        d = int(d)%100\n",
    "    c.append(d)\n",
    "o = [0,0,0,0,0,0,0,0,0,0]\n",
    "e = [0,0,0,0,0,0,0,0,0,0]\n",
    "for i in range(len(c)):\n",
    "    if(i%2==0):\n",
    "        a=int(c[i]/10)\n",
    "        e[a]+=1\n",
    "    else:\n",
    "        a=int(c[i]/10)\n",
    "        o[a]+=1\n",
    "count=0\n",
    "for i in o:\n",
    "    if(i==2):\n",
    "        count +=1\n",
    "    elif(i>2):\n",
    "        count +=2\n",
    "for i in e:\n",
    "    if(i==2):\n",
    "        count +=1\n",
    "    elif(i>2):\n",
    "        count +=2  \n",
    "print(count)"
   ]
  },
  {
   "cell_type": "code",
   "execution_count": null,
   "metadata": {},
   "outputs": [],
   "source": [
    "a =[25 ,30, 35, 20, 90, 110, 45, 70, 80, 12, 30, 35, 85]\n",
    "len(a)"
   ]
  },
  {
   "cell_type": "code",
   "execution_count": null,
   "metadata": {},
   "outputs": [],
   "source": [
    "sorted(a)"
   ]
  },
  {
   "cell_type": "code",
   "execution_count": null,
   "metadata": {},
   "outputs": [],
   "source": [
    "sum([110,12,25,85,30,70])"
   ]
  },
  {
   "cell_type": "code",
   "execution_count": null,
   "metadata": {},
   "outputs": [],
   "source": [
    "sum([20,90,30,80,35,45,35])"
   ]
  },
  {
   "cell_type": "code",
   "execution_count": null,
   "metadata": {},
   "outputs": [],
   "source": [
    "a = list(map(int , input().split()))\n",
    "a =sorted(a)\n",
    "l = len(a)\n",
    "b=[]\n",
    "c=[]\n",
    "if((len(a)%2)!=0):\n",
    "    c.append(a[int(l/2)+1])\n",
    "    a.remove(a[int(l/2)+1])\n",
    "else:\n",
    "    c.append(a[int(l/2)])\n",
    "    c.append(a[int((l/2)+1)])\n",
    "    a.remove(a[int(l/2)])\n",
    "    a.remove(a[int((l/2)+1)])\n",
    "for i in range(int(len(a)/2)):\n",
    "    if(i%2==0):\n",
    "        b.append(max(a))\n",
    "        b.append(min(a))\n",
    "        a.remove(max(a))\n",
    "        a.remove(min(a))\n",
    "    else:\n",
    "        c.append(max(a))\n",
    "        c.append(min(a))\n",
    "        a.remove(max(a))\n",
    "        a.remove(min(a))\n",
    "sb = sum(b)\n",
    "sc = sum(c)\n",
    "if(sb>sc):\n",
    "    sb = sb+"
   ]
  },
  {
   "cell_type": "code",
   "execution_count": null,
   "metadata": {},
   "outputs": [],
   "source": [
    "print(sum(b))\n",
    "print(sum(c))"
   ]
  },
  {
   "cell_type": "code",
   "execution_count": null,
   "metadata": {},
   "outputs": [],
   "source": [
    "def cal(a,n):\n",
    "    s = sum(a)\n",
    "    dp = [[0 for i in range(s+1)]for j in range(n+1)]\n",
    "    for i in range(n+1):\n",
    "        dp[i][0]=True\n",
    "    for j in range(1,s+1):\n",
    "        dp[0][i]=False\n",
    "    for i in range(1,n+1):\n",
    "        for j in range(1,s+1):\n",
    "            dp[i][j]=dp[i-1][j]\n",
    "            if(a[i-1]<=j):\n",
    "                dp[i][j] |= dp[i-1][j-a[i-1]]\n",
    "        for j in range(s//2,-1,-1):\n",
    "            if(dp[n][j]==True):\n",
    "                diff = s-(2*j)\n",
    "                break\n",
    "        return diff\n",
    "S = list(map(int,input().split()))\n",
    "diff=cal(S,len(S)-1)\n",
    "min_p  = (sum(S)-diff)/2\n",
    "max_p = min_p+diff\n",
    "print(int(max_p))"
   ]
  },
  {
   "cell_type": "code",
   "execution_count": null,
   "metadata": {},
   "outputs": [],
   "source": [
    "t = int(input())\n",
    "while(t!=0):\n",
    "    n = int(input())\n",
    "    monkey = list(map(int,input().split()))\n",
    "    steps = set()\n",
    "    monkey.insert(0,0) #  i am adding 0 at 0th index so that i can start iteration from 1st index.\n",
    "    for i in range(1,n+1):\n",
    "        if(monkey[i]==0):\n",
    "            continue\n",
    "        count = 0\n",
    "        current = i\n",
    "        block = i\n",
    "        while(True):\n",
    "            current = monkey[current]\n",
    "            monkey[block]=0\n",
    "            block=current\n",
    "            count+=1\n",
    "            if(current==i):\n",
    "                break\n",
    "        steps.add(count)\n",
    "\n",
    "    if(len(steps)==1):\n",
    "        for x in steps:\n",
    "            print(x)\n",
    "    else:\n",
    "        print(\"LCM of steps values\")#calculate lcm of steps values and print that LCM here\n",
    "    t-=1\n",
    "    print(len(steps))"
   ]
  },
  {
   "cell_type": "code",
   "execution_count": null,
   "metadata": {},
   "outputs": [],
   "source": [
    "def abc(monkeys):\n",
    "    y=monkeys\n",
    "    x=[0]*len(monkeys)\n",
    "    count=0\n",
    "    while(x!=monkeys):\n",
    "        count+=1\n",
    "        x=[0]*len(monkeys)\n",
    "        for i in range(len(monkeys)):\n",
    "            x[monkeys[i]-1]=y[i]\n",
    "        y=x\n",
    "    return(count)\n",
    "T = int(input())\n",
    "while T>0:\n",
    "    n = int(input())\n",
    "    monkeys = list(map(int,input().split()))\n",
    "    res = abc(monkeys)\n",
    "    print(res)\n",
    "    T-=1"
   ]
  },
  {
   "cell_type": "code",
   "execution_count": null,
   "metadata": {},
   "outputs": [],
   "source": [
    "from math import gcd, factorial, floor, ceil\n",
    "from fractions import Fraction\n",
    "import operator as op\n",
    "from functools import reduce\n",
    "\n",
    "def nCr(n, r):\n",
    "    r = min(r, n-r)\n",
    "    numer = reduce(op.mul, range(n, n-r, -1), 1)\n",
    "    denom = reduce(op.mul, range(1, r+1), 1)\n",
    "    return Fraction(numer,denom)\n",
    "\n",
    "T = int(input().strip())\n",
    "for _ in range(T):\n",
    "    A, H, L1, L2, M, C = tuple(map(int,input().strip().split()))\n",
    "    special_needed, L = ceil((H-M*A)/C), Fraction(L1,L2)\n",
    "\n",
    "    count = Fraction(0)\n",
    "    for k in range(special_needed,M+1):\n",
    "        count += nCr(M,k)*L**k*(1-L)**(M-k)\n",
    "\n",
    "    p1,p2 = count.numerator, count.denominator\n",
    "    if p1==0:\n",
    "        print('RIP')\n",
    "    else:\n",
    "        _ = gcd(p1,p2)\n",
    "        print('{}/{}'.format(p1//_,p2//_))"
   ]
  },
  {
   "cell_type": "code",
   "execution_count": null,
   "metadata": {},
   "outputs": [],
   "source": []
  },
  {
   "cell_type": "code",
   "execution_count": null,
   "metadata": {},
   "outputs": [],
   "source": [
    "year = int(input())\n",
    "if(year <= 1917):\n",
    "    if(year%4 == 0):\n",
    "        print('12.09.'+str(year))\n",
    "    else:\n",
    "        print('13.09.'+str(year))\n",
    "elif(year >=1919):\n",
    "    if(year%4==0):\n",
    "        if(year%100==0):\n",
    "            if(year%400==0):\n",
    "                print('12.09.'+str(year))\n",
    "            else:\n",
    "                print('13.09.'+str(year))\n",
    "        else:\n",
    "            print('12.09.'+str(year))\n",
    "    else:\n",
    "        print('13.09.'+str(year))\n",
    "elif(year == 1918):\n",
    "    print('28.09.'+str(year))"
   ]
  },
  {
   "cell_type": "code",
   "execution_count": null,
   "metadata": {},
   "outputs": [],
   "source": []
  },
  {
   "cell_type": "code",
   "execution_count": null,
   "metadata": {},
   "outputs": [],
   "source": [
    "scores = list(map(int,input().split()))\n",
    "alice = list(map(int,input().split()))\n",
    "a = list(set(scores))\n",
    "a.sort(reverse=True)"
   ]
  },
  {
   "cell_type": "code",
   "execution_count": null,
   "metadata": {},
   "outputs": [],
   "source": [
    "for i in alice:\n",
    "    for j in range(len(a)):\n",
    "        if(i==a[j]):\n",
    "            print(j+1)\n",
    "            break\n",
    "        elif(i>a[j]):\n",
    "            print(j+1)\n",
    "            break\n",
    "        elif(j==len(a)-1):\n",
    "            print(len(a)+1)\n",
    "            break"
   ]
  },
  {
   "cell_type": "code",
   "execution_count": null,
   "metadata": {},
   "outputs": [],
   "source": [
    "h=list(map(int,input().split()))\n",
    "word = 'abc'\n",
    "a=['a','b','c','d','e','f','g','h','i','j','k','l','m','n','o','p','q','r','s','t','u','v','w','x','y','z']\n",
    "c=[]\n",
    "for i in word:\n",
    "    b=a.index(i)\n",
    "    c.append(h[b])\n",
    "d = max(c)\n",
    "e=len(word)\n",
    "print(d*e)"
   ]
  },
  {
   "cell_type": "code",
   "execution_count": null,
   "metadata": {},
   "outputs": [],
   "source": [
    "t = int(input().strip()) \n",
    "for i in range(t): \n",
    "    n = int(input().strip()) \n",
    "    ht = 1 \n",
    "    if(n==0): \n",
    "        ht=1\n",
    "    else:\n",
    "        for j in range(1,n+1):\n",
    "            if(j%2==0):\n",
    "                ht+=1\n",
    "            elif(j%2!=0):\n",
    "                ht+=ht\n",
    "                print(ht)"
   ]
  },
  {
   "cell_type": "code",
   "execution_count": null,
   "metadata": {},
   "outputs": [],
   "source": []
  },
  {
   "cell_type": "code",
   "execution_count": null,
   "metadata": {},
   "outputs": [],
   "source": [
    "for i in range(int(input())):\n",
    "    n,k = map(int,input().split())\n",
    "    a = list(map(int,input().split()))\n",
    "    c=0\n",
    "    for i in a:\n",
    "        if(i<=0):\n",
    "            c+=1\n",
    "    if(c>=k):\n",
    "        print('NO')\n",
    "    else:\n",
    "        print('YES')"
   ]
  },
  {
   "cell_type": "code",
   "execution_count": null,
   "metadata": {},
   "outputs": [],
   "source": [
    "n,m,k = map(int,input().split())\n",
    "b=[]\n",
    "c=[]\n",
    "for i in range(n,m+1):\n",
    "    b.append(i)\n",
    "    r=0\n",
    "    while(i>0):\n",
    "        a=i%10\n",
    "        r=r*10+a\n",
    "        i=i//10\n",
    "    c.append(r)"
   ]
  },
  {
   "cell_type": "code",
   "execution_count": null,
   "metadata": {},
   "outputs": [],
   "source": [
    "print(b,c)"
   ]
  },
  {
   "cell_type": "code",
   "execution_count": null,
   "metadata": {},
   "outputs": [],
   "source": [
    "count=0\n",
    "for i in range(len(b)):\n",
    "    d=abs(b[i]-c[i])\n",
    "    if(d%k==0):\n",
    "        count+=1\n",
    "print(count)"
   ]
  },
  {
   "cell_type": "code",
   "execution_count": null,
   "metadata": {},
   "outputs": [],
   "source": []
  },
  {
   "cell_type": "code",
   "execution_count": null,
   "metadata": {},
   "outputs": [],
   "source": [
    "import math\n",
    "n = int(input())\n",
    "i=0\n",
    "a=5\n",
    "b=[]\n",
    "while(i<n):\n",
    "    d=math.floor(a/2)\n",
    "    b.append(d) \n",
    "    a=d*3\n",
    "    i=i+1\n",
    "print(sum(b))"
   ]
  },
  {
   "cell_type": "code",
   "execution_count": null,
   "metadata": {},
   "outputs": [],
   "source": []
  },
  {
   "cell_type": "code",
   "execution_count": null,
   "metadata": {},
   "outputs": [],
   "source": [
    "n,m,s=map(int,input().split())\n",
    "# n no of prisoners\n",
    "# m no of sweets\n",
    "# s starting chair no\n",
    "a=[]\n",
    "for i in range(1,n+1):\n",
    "    a.append(i)\n",
    "a"
   ]
  },
  {
   "cell_type": "code",
   "execution_count": null,
   "metadata": {},
   "outputs": [],
   "source": [
    "c=s-1\n",
    "while m>0:\n",
    "    if(c==len(a)):\n",
    "        c=0\n",
    "    b=a[c]\n",
    "    c=c+1\n",
    "    m=m-1"
   ]
  },
  {
   "cell_type": "code",
   "execution_count": null,
   "metadata": {},
   "outputs": [],
   "source": [
    "print(c)"
   ]
  },
  {
   "cell_type": "code",
   "execution_count": null,
   "metadata": {},
   "outputs": [],
   "source": []
  },
  {
   "cell_type": "code",
   "execution_count": null,
   "metadata": {},
   "outputs": [],
   "source": [
    "n,k,q = map(int,input().split())\n",
    "a = list(map(int,input().split()))\n",
    "k=k%n"
   ]
  },
  {
   "cell_type": "code",
   "execution_count": null,
   "metadata": {},
   "outputs": [],
   "source": [
    "b=[]\n",
    "while(k>0):\n",
    "    k=k-1\n",
    "    b.append(a[-1])\n",
    "    a.remove(a[-1])\n",
    "b=b[::-1]"
   ]
  },
  {
   "cell_type": "code",
   "execution_count": null,
   "metadata": {},
   "outputs": [],
   "source": [
    "k"
   ]
  },
  {
   "cell_type": "code",
   "execution_count": null,
   "metadata": {},
   "outputs": [],
   "source": [
    "b"
   ]
  },
  {
   "cell_type": "code",
   "execution_count": null,
   "metadata": {},
   "outputs": [],
   "source": [
    "for i in range(q):\n",
    "    d=int(input())\n",
    "    print(b[d])"
   ]
  },
  {
   "cell_type": "code",
   "execution_count": null,
   "metadata": {},
   "outputs": [],
   "source": [
    "a=[1,2,3,4]\n",
    "b=[5,6,7]\n"
   ]
  },
  {
   "cell_type": "code",
   "execution_count": null,
   "metadata": {},
   "outputs": [],
   "source": [
    "b=b+a"
   ]
  },
  {
   "cell_type": "code",
   "execution_count": null,
   "metadata": {},
   "outputs": [],
   "source": [
    "b"
   ]
  },
  {
   "cell_type": "code",
   "execution_count": null,
   "metadata": {},
   "outputs": [],
   "source": []
  },
  {
   "cell_type": "code",
   "execution_count": null,
   "metadata": {},
   "outputs": [],
   "source": [
    "n=int(input())\n",
    "c=[]\n",
    "for i in range(n):\n",
    "    c.append(int(input()))\n",
    "c.sort()\n",
    "d=[]\n",
    "for i in range(n):\n",
    "    d.append(c[i]*(n-i))\n",
    "print(max(d))"
   ]
  },
  {
   "cell_type": "code",
   "execution_count": null,
   "metadata": {},
   "outputs": [],
   "source": [
    "4\n",
    "30\n",
    "20\n",
    "53\n",
    "14\n"
   ]
  },
  {
   "cell_type": "code",
   "execution_count": null,
   "metadata": {},
   "outputs": [],
   "source": [
    "d=[]\n",
    "for i in c:\n",
    "    count=0\n",
    "    for j in c:\n",
    "        if(i<=j):\n",
    "            count+=1\n",
    "    d.append(count)"
   ]
  },
  {
   "cell_type": "code",
   "execution_count": null,
   "metadata": {},
   "outputs": [],
   "source": [
    "d"
   ]
  },
  {
   "cell_type": "code",
   "execution_count": null,
   "metadata": {},
   "outputs": [],
   "source": [
    "e=[]\n",
    "for i in range(len(c)):\n",
    "    e.append(c[i]*d[i])"
   ]
  },
  {
   "cell_type": "code",
   "execution_count": null,
   "metadata": {},
   "outputs": [],
   "source": [
    "e"
   ]
  },
  {
   "cell_type": "code",
   "execution_count": null,
   "metadata": {},
   "outputs": [],
   "source": [
    "c"
   ]
  },
  {
   "cell_type": "code",
   "execution_count": null,
   "metadata": {
    "scrolled": false
   },
   "outputs": [],
   "source": []
  },
  {
   "cell_type": "code",
   "execution_count": null,
   "metadata": {},
   "outputs": [],
   "source": [
    "t = int(input())\n",
    "for i in range(t):\n",
    "    i = int(input())\n",
    "    r=0\n",
    "    while(i>0):\n",
    "        a=i%10\n",
    "        r=r*10+a\n",
    "        i=i//10\n",
    "    print(r)"
   ]
  },
  {
   "cell_type": "code",
   "execution_count": null,
   "metadata": {},
   "outputs": [],
   "source": []
  },
  {
   "cell_type": "code",
   "execution_count": null,
   "metadata": {},
   "outputs": [],
   "source": [
    "t=int(input())\n",
    "for i in range(t):\n",
    "    a = input()\n",
    "    b=len(a)\n",
    "    c=''\n",
    "    d=''\n",
    "    if(len(a)%2 != 0):\n",
    "        c=(a[0:len(a)//2])\n",
    "        d=(a[(len(a)//2)+1:])\n",
    "    else:\n",
    "        c=(a[0:len(a)//2])\n",
    "        d=(a[(len(a)//2):])\n",
    "    for i in range(len(c)):\n",
    "        if(c[i] in d):\n",
    "            d=d.replace(c[i],'',1)\n",
    "    if(len(d)==0):\n",
    "        print('Yes')\n",
    "    else:\n",
    "        print('No')"
   ]
  },
  {
   "cell_type": "code",
   "execution_count": null,
   "metadata": {},
   "outputs": [],
   "source": []
  },
  {
   "cell_type": "code",
   "execution_count": 3,
   "metadata": {},
   "outputs": [
    {
     "name": "stdout",
     "output_type": "stream",
     "text": [
      "1\n",
      "5\n",
      "4 5 1 2 3\n",
      "2\n"
     ]
    }
   ],
   "source": [
    "t = int(input())\n",
    "for i in range(t):\n",
    "    a = int(input())\n",
    "    b = list(map(int,input().split()))\n",
    "    c=1\n",
    "    d=b[0]\n",
    "    for i in b:\n",
    "        if(i<d):\n",
    "            d=i\n",
    "            c+=1\n",
    "print(c)"
   ]
  },
  {
   "cell_type": "code",
   "execution_count": null,
   "metadata": {},
   "outputs": [],
   "source": []
  },
  {
   "cell_type": "code",
   "execution_count": 12,
   "metadata": {},
   "outputs": [
    {
     "name": "stdout",
     "output_type": "stream",
     "text": [
      "4\n",
      "1 2 3 4 5\n",
      "5 1 2 3 4 "
     ]
    }
   ],
   "source": [
    "d = int(input())\n",
    "a = list(map(int,input().split()))\n",
    "b=[]\n",
    "if(d>len(a)):\n",
    "    d=d%len(a)\n",
    "for i in range(d):\n",
    "    b.append(a[0])\n",
    "    a.remove(a[0])\n",
    "for i in b:\n",
    "    a.append(i)\n",
    "for i in a:\n",
    "    print(i,end=' ')"
   ]
  },
  {
   "cell_type": "code",
   "execution_count": 52,
   "metadata": {},
   "outputs": [],
   "source": [
    "a=['abcde','sdaklfj','asdjf','na','basdn','sdaklfj','asdjf','na','asdjf','na','basdn','sdaklfj','asdjf']\n",
    "b=['abcde','sdaklfj','asdjf','na','basdn']"
   ]
  },
  {
   "cell_type": "code",
   "execution_count": 53,
   "metadata": {},
   "outputs": [],
   "source": [
    "e=[]\n",
    "for i in b:\n",
    "    d=0\n",
    "    for j in a:\n",
    "        if(i == j):\n",
    "            d+=1\n",
    "    e.append(d)"
   ]
  },
  {
   "cell_type": "code",
   "execution_count": 71,
   "metadata": {},
   "outputs": [
    {
     "data": {
      "text/plain": [
       "[1, 2, 1, 2, 1, 2]"
      ]
     },
     "execution_count": 71,
     "metadata": {},
     "output_type": "execute_result"
    }
   ],
   "source": [
    "l=[1,2,3,4,5,6]\n",
    "l[0:2]*3"
   ]
  },
  {
   "cell_type": "code",
   "execution_count": null,
   "metadata": {},
   "outputs": [],
   "source": []
  },
  {
   "cell_type": "code",
   "execution_count": null,
   "metadata": {},
   "outputs": [],
   "source": []
  },
  {
   "cell_type": "code",
   "execution_count": null,
   "metadata": {},
   "outputs": [],
   "source": []
  },
  {
   "cell_type": "code",
   "execution_count": null,
   "metadata": {},
   "outputs": [],
   "source": []
  }
 ],
 "metadata": {
  "kernelspec": {
   "display_name": "Python 3",
   "language": "python",
   "name": "python3"
  },
  "language_info": {
   "codemirror_mode": {
    "name": "ipython",
    "version": 3
   },
   "file_extension": ".py",
   "mimetype": "text/x-python",
   "name": "python",
   "nbconvert_exporter": "python",
   "pygments_lexer": "ipython3",
   "version": "3.7.3"
  }
 },
 "nbformat": 4,
 "nbformat_minor": 4
}
