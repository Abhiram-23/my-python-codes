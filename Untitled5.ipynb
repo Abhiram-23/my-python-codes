{
 "cells": [
  {
   "cell_type": "code",
   "execution_count": null,
   "metadata": {},
   "outputs": [],
   "source": [
    "class Job:\n",
    "    def __init__(self,job_id,company,job_role,start_salary,high_salary):\n",
    "        self.job_id=job_id\n",
    "        self.company=company\n",
    "        self.job_role=job_role\n",
    "        self.start_salary=start_salary\n",
    "        self.high_salary=high_salary\n",
    "class Jobsportal:\n",
    "    def __init__(self,portal_name,job_list):\n",
    "        self.portal_name=portal_name\n",
    "        self.job_list=job_list\n",
    "    def get_bestjobbyrole(self):\n",
    "        pass\n",
    "    def jobswithsalary(self,salary):\n",
    "        pass\n",
    "if __name__=='__main__':\n",
    "    a = int(input())\n",
    "    for i in range(a):\n",
    "        job_id=int(input())\n",
    "        company=input()\n",
    "        job_role=input()\n",
    "        start_salary=int(input())\n",
    "        high_salary=int(input())"
   ]
  },
  {
   "cell_type": "code",
   "execution_count": null,
   "metadata": {},
   "outputs": [],
   "source": [
    "job_id=[]\n",
    "company=[]\n",
    "job_role=[]\n",
    "start_salary=[]\n",
    "high_salary=[]\n",
    "for i in range(int(input())):\n",
    "    job_id.append(int(input()))\n",
    "    company.append(input())\n",
    "    job_role.append(input())\n",
    "    start_salary.append(int(input()))\n",
    "    high_salary.append(int(input()))\n",
    "a = input()\n",
    "b = int(input())"
   ]
  },
  {
   "cell_type": "code",
   "execution_count": null,
   "metadata": {},
   "outputs": [],
   "source": [
    "c=False\n",
    "for i in range(len(job_role)):\n",
    "    if(job_role[i]==a):\n",
    "        print(job_id[i] company[i] start_salary[i])\n",
    "        c=True\n",
    "if(c==False):\n",
    "    print('Job not Found for the given role')\n"
   ]
  },
  {
   "cell_type": "code",
   "execution_count": null,
   "metadata": {},
   "outputs": [],
   "source": []
  },
  {
   "cell_type": "code",
   "execution_count": null,
   "metadata": {},
   "outputs": [],
   "source": []
  },
  {
   "cell_type": "code",
   "execution_count": null,
   "metadata": {},
   "outputs": [],
   "source": []
  },
  {
   "cell_type": "code",
   "execution_count": null,
   "metadata": {},
   "outputs": [],
   "source": []
  },
  {
   "cell_type": "code",
   "execution_count": null,
   "metadata": {},
   "outputs": [],
   "source": [
    "bucket = int(input())\n",
    "mug = int(input())\n",
    "c=(80/bucket)*100\n",
    "b=0\n",
    "count=0\n",
    "while(True):\n",
    "    a = int(input())\n",
    "    if(mug>bucket):\n",
    "        print(\"INVALID INPUT\")\n",
    "        break\n",
    "    elif( a<=0 or a>mug):\n",
    "        print(\"INVALID INPUT\")\n",
    "        break\n",
    "    else:\n",
    "        b=b+a\n",
    "        count=count+1\n",
    "        if(b>=int(c)):\n",
    "            print(count)\n",
    "            break"
   ]
  },
  {
   "cell_type": "code",
   "execution_count": null,
   "metadata": {},
   "outputs": [],
   "source": [
    "c"
   ]
  },
  {
   "cell_type": "code",
   "execution_count": null,
   "metadata": {},
   "outputs": [],
   "source": [
    "(80/100)*100"
   ]
  },
  {
   "cell_type": "code",
   "execution_count": null,
   "metadata": {},
   "outputs": [],
   "source": [
    "80.0/10"
   ]
  },
  {
   "cell_type": "code",
   "execution_count": null,
   "metadata": {},
   "outputs": [],
   "source": [
    "a = []\n",
    "count=0\n",
    "d='abcdefghijklmnopqrstuvwxyzABCDEFGHIJKLMNOPQRSTUVWXYZ'\n",
    "while(True):\n",
    "    b=input()\n",
    "    if(b=='q' or b=='Q'):\n",
    "        break\n",
    "    a.append(b)\n",
    "if(len(a)<5 or len(a)>5):\n",
    "    print(\"INPUT LIMIT IS 5\")\n",
    "else:\n",
    "    for i in a:\n",
    "        if(len(i)<10 or len(i)>10):\n",
    "            count+=1\n",
    "            continue\n",
    "        for j in i:\n",
    "            if(j in d):\n",
    "                count+=1\n",
    "                break\n",
    "    print(count)"
   ]
  },
  {
   "cell_type": "code",
   "execution_count": null,
   "metadata": {},
   "outputs": [],
   "source": []
  },
  {
   "cell_type": "code",
   "execution_count": 20,
   "metadata": {},
   "outputs": [
    {
     "name": "stdout",
     "output_type": "stream",
     "text": [
      "8\n",
      "prathik\n",
      "joy\n",
      "nimesh\n",
      "nikhil\n",
      "suresh\n",
      "ramesh\n",
      "jitu\n",
      "ashish\n",
      "swayam\n",
      "harsh\n",
      "lara\n",
      "mitesh\n",
      "santosh\n",
      "raj\n",
      "q\n",
      "5.6\n",
      "5.5\n",
      "5.4\n",
      "5.5\n",
      "5.6\n",
      "5.4\n",
      "5.7\n",
      "5.9\n",
      "6.1\n",
      "6.2\n",
      "6.5\n",
      "6.8\n",
      "7.1\n",
      "6.8\n",
      "santosh\n",
      "mitesh\n",
      "raj\n",
      "lara\n",
      "harsh\n",
      "swayam\n",
      "ashish\n",
      "jitu\n"
     ]
    }
   ],
   "source": [
    "m = int(input())\n",
    "a=[]\n",
    "while(True):\n",
    "    b=input()\n",
    "    if(b=='q' or b=='Q'):\n",
    "        break\n",
    "    else:\n",
    "        a.append(b) \n",
    "c=[]\n",
    "for i in range(len(a)):\n",
    "    c.append(float(input()))\n",
    "d=sorted(c,reverse=True)\n",
    "for i in range(m):\n",
    "    print(a[c.index(d[i])])\n",
    "    a.remove(a[c.index(d[i])])\n",
    "    c.remove(d[i])"
   ]
  },
  {
   "cell_type": "code",
   "execution_count": 12,
   "metadata": {},
   "outputs": [],
   "source": []
  },
  {
   "cell_type": "code",
   "execution_count": 19,
   "metadata": {},
   "outputs": [
    {
     "name": "stdout",
     "output_type": "stream",
     "text": [
      "lsjadflk\n",
      "ljsdfalk\n",
      "djsflkj\n"
     ]
    }
   ],
   "source": []
  },
  {
   "cell_type": "code",
   "execution_count": 15,
   "metadata": {},
   "outputs": [
    {
     "data": {
      "text/plain": [
       "[3.5, 3.4, 3.4, 2.0, 1.5]"
      ]
     },
     "execution_count": 15,
     "metadata": {},
     "output_type": "execute_result"
    }
   ],
   "source": [
    "d"
   ]
  },
  {
   "cell_type": "code",
   "execution_count": 17,
   "metadata": {},
   "outputs": [
    {
     "data": {
      "text/plain": [
       "[1.5, 2.0, 3.5, 3.4, 3.4]"
      ]
     },
     "execution_count": 17,
     "metadata": {},
     "output_type": "execute_result"
    }
   ],
   "source": [
    "c"
   ]
  },
  {
   "cell_type": "code",
   "execution_count": 18,
   "metadata": {},
   "outputs": [
    {
     "data": {
      "text/plain": [
       "['ahbi', 'sjadlkf', 'lsjadflk', 'ljsdfalk', 'djsflkj']"
      ]
     },
     "execution_count": 18,
     "metadata": {},
     "output_type": "execute_result"
    }
   ],
   "source": [
    "a"
   ]
  },
  {
   "cell_type": "code",
   "execution_count": null,
   "metadata": {},
   "outputs": [],
   "source": [
    "a.remove(4)"
   ]
  },
  {
   "cell_type": "code",
   "execution_count": null,
   "metadata": {},
   "outputs": [],
   "source": [
    "a"
   ]
  },
  {
   "cell_type": "code",
   "execution_count": 16,
   "metadata": {},
   "outputs": [],
   "source": [
    "softToys=['Giant-Teddy-Bear','giraffe','cat','maga-bear','dog','lion','billy-bear','besty-bear','monkey','bobby-bear','bunny-rabbit',\n",
    "         'benjamin-bear','kung-fu-panda','brown-bear','pink-bear','baby-elephant','bluefish','hippo','cute-pig','pikachu','doremon','tortoise'\n",
    "         ,'caterpillar','candydoll']"
   ]
  },
  {
   "cell_type": "code",
   "execution_count": 17,
   "metadata": {
    "scrolled": true
   },
   "outputs": [
    {
     "name": "stdout",
     "output_type": "stream",
     "text": [
      "tortoise\n",
      "1 . Giant-Teddy-Bear\n",
      "2 . giraffe\n",
      "3 . cat\n",
      "4 . maga-bear\n",
      "5 . dog\n",
      "6 . lion\n",
      "7 . billy-bear\n",
      "8 . besty-bear\n",
      "9 . monkey\n",
      "10 . bobby-bear\n",
      "11 . bunny-rabbit\n",
      "12 . benjamin-bear\n",
      "13 . kung-fu-panda\n",
      "14 . brown-bear\n",
      "15 . pink-bear\n",
      "16 . baby-elephant\n",
      "17 . bluefish\n",
      "18 . hippo\n",
      "19 . cute-pig\n",
      "20 . pikachu\n",
      "21 . doremon\n",
      "22 . caterpillar\n",
      "23 . candydoll\n"
     ]
    }
   ],
   "source": [
    "a = input()\n",
    "if(a in softToys):\n",
    "    softToys.remove(a)\n",
    "    for i in range(len(softToys)):\n",
    "        print(i+1,'.',softToys[i])\n",
    "elif(a not in softToys):\n",
    "    print('ITEM UNAVAILABLE')\n",
    "else:\n",
    "    print('INVALID INPUT')"
   ]
  },
  {
   "cell_type": "code",
   "execution_count": 13,
   "metadata": {},
   "outputs": [],
   "source": []
  },
  {
   "cell_type": "code",
   "execution_count": 18,
   "metadata": {},
   "outputs": [
    {
     "name": "stdout",
     "output_type": "stream",
     "text": [
      "1.Samsung 10000\n",
      "2.Onida 7000\n",
      "3.HDLC 6000\n",
      "2\n",
      "Want to take Exchange Offer\n",
      "1.Yes\n",
      "2.No\n",
      "1\n",
      "1.Working\n",
      "2.Not Working\n",
      "2\n",
      "6850 INR\n"
     ]
    }
   ],
   "source": [
    "print('1.Samsung 10000')\n",
    "print('2.Onida 7000')\n",
    "print('3.HDLC 6000')\n",
    "a = int(input())\n",
    "print('Want to take Exchange Offer')\n",
    "print('1.Yes')\n",
    "print('2.No')\n",
    "b = int(input())\n",
    "if(b==1):\n",
    "    print('1.Working')\n",
    "    print('2.Not Working')\n",
    "    c=int(input())\n",
    "    if(c==1):\n",
    "        if(a==1):\n",
    "            print(80000,'INR')\n",
    "        elif(a==2):\n",
    "            print(5600,'INR')\n",
    "        elif(a==3):\n",
    "            print(4800,'INR')\n",
    "        else:\n",
    "            print('INVALID INPUT')\n",
    "    elif(c==2):\n",
    "        if(a==1):\n",
    "            print(9800,'INR')\n",
    "        elif(a==2):\n",
    "            print(6850,'INR')\n",
    "        elif(a==3):\n",
    "            print(5880.0,'INR')\n",
    "        else:\n",
    "            print('INVALID INPUT')\n",
    "elif(b==2):\n",
    "    if(a==1):\n",
    "        print(10000,'INR')\n",
    "    elif(a==2):\n",
    "        print(7000,'INR')\n",
    "    elif(a==3):\n",
    "        print(6000,'INR')\n",
    "    else:\n",
    "        print('INVALID INPUT')\n",
    "else:\n",
    "    print('INVALID INPUT')"
   ]
  },
  {
   "cell_type": "code",
   "execution_count": null,
   "metadata": {},
   "outputs": [],
   "source": []
  },
  {
   "cell_type": "code",
   "execution_count": 21,
   "metadata": {},
   "outputs": [],
   "source": [
    "key=['False', 'None', 'True', 'and', 'as', 'assert', 'async', 'await', 'break', 'class', 'continue',\n",
    "     'def', 'del', 'elif', 'else', 'except', 'finally', 'for', 'from', 'global', 'if', 'import', 'in',\n",
    "     'is', 'lambda', 'nonlocal', 'not', 'or', 'pass', 'raise', 'return', 'try', 'while', 'with', 'yield']\n",
    "num=\"1234567890\""
   ]
  },
  {
   "cell_type": "code",
   "execution_count": 1,
   "metadata": {},
   "outputs": [],
   "source": [
    "a=0b10100"
   ]
  },
  {
   "cell_type": "code",
   "execution_count": 81,
   "metadata": {},
   "outputs": [],
   "source": [
    "for i in text:\n",
    "    if(i in key):\n",
    "        k.append(i)\n",
    "    if(i==(\"+\" or \"-\" or \"*\" or \"/\" or \"%\" or \"**\" or \"//\" or \"=\" or \"==\" or \"+=\" or \"-=\" or \"%=\" or \"*=\" or \"/=\" or \"//=\"\n",
    "            or \"**=\" or \"&=\" or \"|=\" or \">>=\" or \"<<=\" or \"^=\" or \"==\" or \"!=\" or \">\" or \"<\" or \">=\" or \"<=\" or \"or\" or \"and\"\n",
    "            or \"not\" or \"is\" or \"is not\" or \"in\" or \"not in\" or \"&\" or \"|\" or \"^\" or \"~\" or \"<<\" or \">>\")):\n",
    "        oper.append(i)\n",
    "    if(i!=\"\"):  \n",
    "        if(i[0] not in num or (\"@\" or \"$\" or \"%\")not in i):\n",
    "            ide.append(i)\n",
    "    if(type(i)==(int or float or bool or list or dict or set or None or tuple)):\n",
    "        lite.append(i)\n",
    "    "
   ]
  },
  {
   "cell_type": "code",
   "execution_count": 82,
   "metadata": {},
   "outputs": [
    {
     "name": "stdout",
     "output_type": "stream",
     "text": [
      "['and', 'or', 'not', 'not', 'in', 'in', 'in', 'as', 'in']\n"
     ]
    }
   ],
   "source": [
    "print(k)"
   ]
  },
  {
   "cell_type": "code",
   "execution_count": 83,
   "metadata": {},
   "outputs": [
    {
     "name": "stdout",
     "output_type": "stream",
     "text": [
      "['Wrote', '123', '+', '-', '**', 'water', 'woman', 'and', 'or', 'not', 'not', 'in', 'of', 'heart', 'it', 'total', 'other.', 'By', 'in', 'entirely', 'securing', 'suitable', 'graceful', 'at', 'families', 'improved.', 'Zealously', 'few', 'furniture', 'repulsive', 'was', 'agreeable', 'consisted', 'difficult.', 'Collected', 'breakfast', 'estimable', 'questions', 'in', 'to', 'favourite', 'it.', 'Known', 'he', 'place', 'worth', 'words', 'it', 'as', 'to.', 'Spoke', 'now', 'noise', 'off', 'smart', 'her', 'ready.', 'Nor', 'hence', 'hoped', 'her', 'after', 'other', 'known', 'defer', 'his.', 'For', 'county', 'now', 'sister', 'engage', 'had', 'season', 'better', 'had', 'waited.', 'Occasional', 'mrs', 'interested', 'far', 'expression', 'acceptance.', 'Day', 'either', 'mrs', 'talent', 'pulled', 'men', 'rather', 'regret', 'admire', 'but.', 'Life', 'ye', 'sake', 'it', 'shed.', 'Five', 'lady', 'he', 'cold', 'in', 'meet', 'up.', 'Service', 'get', 'met', 'adapted', 'matters', 'offence', 'for.', 'Principles', 'man', 'any', 'insipidity', 'age', 'you', 'simplicity', 'understood.', 'Do', 'offering', 'pleasure', 'no', 'ecstatic', 'whatever', 'on', 'mr', 'directly.']\n"
     ]
    }
   ],
   "source": [
    "print(ide)"
   ]
  },
  {
   "cell_type": "code",
   "execution_count": 85,
   "metadata": {},
   "outputs": [
    {
     "name": "stdout",
     "output_type": "stream",
     "text": [
      "['+']\n"
     ]
    }
   ],
   "source": [
    "print(oper)"
   ]
  },
  {
   "cell_type": "code",
   "execution_count": 100,
   "metadata": {},
   "outputs": [
    {
     "name": "stdout",
     "output_type": "stream",
     "text": [
      "keys are : ['and', 'or', 'not', 'not', 'in', 'in', 'in', 'as', 'in'] literals are : [] identifiers are :  ['Wrote', '123', '+', '-', '**', 'water', 'woman', 'and', 'or', 'not', 'not', 'in', 'of', 'heart', 'it', 'total', 'other.', 'By', 'in', 'entirely', 'securing', 'suitable', 'graceful', 'at', 'families', 'improved.', 'Zealously', 'few', 'furniture', 'repulsive', 'was', 'agreeable', 'consisted', 'difficult.', 'Collected', 'breakfast', 'estimable', 'questions', 'in', 'to', 'favourite', 'it.', 'Known', 'he', 'place', 'worth', 'words', 'it', 'as', 'to.', 'Spoke', 'now', 'noise', 'off', 'smart', 'her', 'ready.', 'Nor', 'hence', 'hoped', 'her', 'after', 'other', 'known', 'defer', 'his.', 'For', 'county', 'now', 'sister', 'engage', 'had', 'season', 'better', 'had', 'waited.', 'Occasional', 'mrs', 'interested', 'far', 'expression', 'acceptance.', 'Day', 'either', 'mrs', 'talent', 'pulled', 'men', 'rather', 'regret', 'admire', 'but.', 'Life', 'ye', 'sake', 'it', 'shed.', 'Five', 'lady', 'he', 'cold', 'in', 'meet', 'up.', 'Service', 'get', 'met', 'adapted', 'matters', 'offence', 'for.', 'Principles', 'man', 'any', 'insipidity', 'age', 'you', 'simplicity', 'understood.', 'Do', 'offering', 'pleasure', 'no', 'ecstatic', 'whatever', 'on', 'mr', 'directly.'] operators are : ['+']\n"
     ]
    }
   ],
   "source": [
    "text = \"Wrote 123 + - ** water woman and or not not in of heart it total other. By in entirely securing suitable graceful at families improved. Zealously few furniture repulsive was agreeable consisted difficult. Collected breakfast estimable questions in to favourite it. Known he place worth words it as to. Spoke now noise off smart her ready. Nor hence hoped her after other known defer his. For county now sister engage had season better had waited. Occasional mrs interested far expression acceptance. Day either mrs talent pulled men rather regret admire but. Life ye sake it shed. Five lady he cold in meet up. Service get met adapted matters offence for. Principles man any insipidity age you simplicity understood. Do offering pleasure no ecstatic whatever on mr directly. \"\n",
    "key=['False', 'None', 'True', 'and', 'as', 'assert', 'async', 'await', 'break', 'class', 'continue',\n",
    "     'def', 'del', 'elif', 'else', 'except', 'finally', 'for', 'from', 'global', 'if', 'import', 'in',\n",
    "     'is', 'lambda', 'nonlocal', 'not', 'or', 'pass', 'raise', 'return', 'try', 'while', 'with', 'yield']\n",
    "num=\"1234567890\"\n",
    "k=[]\n",
    "ide=[]\n",
    "lite=[]\n",
    "oper=[]\n",
    "text=text.split(sep=\" \")\n",
    "for i in text:\n",
    "    if(i in key):\n",
    "        k.append(i)\n",
    "    if(i==(\"+\" or \"-\" or \"*\" or \"/\" or \"%\" or \"**\" or \"//\" or \"=\" or \"==\" or \"+=\" or \"-=\" or \"%=\" or \"*=\" or \"/=\" or \"//=\"\n",
    "            or \"**=\" or \"&=\" or \"|=\" or \">>=\" or \"<<=\" or \"^=\" or \"==\" or \"!=\" or \">\" or \"<\" or \">=\" or \"<=\" or \"or\" or \"and\"\n",
    "            or \"not\" or \"is\" or \"is not\" or \"in\" or \"not in\" or \"&\" or \"|\" or \"^\" or \"~\" or \"<<\" or \">>\")):\n",
    "        oper.append(i)\n",
    "    if(i!=\"\"):  \n",
    "        if(i[0] not in num or (\"@\" or \"$\" or \"%\")not in i):\n",
    "            ide.append(i)\n",
    "    if(type(i)==(int or float or bool or list or dict or set or None or tuple)):\n",
    "        lite.append(i)\n",
    "\n",
    "print(\"keys are :\",k,\"literals are :\",lite,\"identifiers are : \",ide,\"operators are :\",oper)"
   ]
  },
  {
   "cell_type": "code",
   "execution_count": 91,
   "metadata": {},
   "outputs": [
    {
     "name": "stdout",
     "output_type": "stream",
     "text": [
      "abhi\n",
      "+\n",
      "-\n",
      "sdlkfj\n"
     ]
    }
   ],
   "source": [
    "a=['abhi','+','-','sdlkfj']\n",
    "b=[]\n",
    "for i in a:\n",
    "    if(i==(\"+\" or \"-\" or \"*\" or \"/\" or \"%\" or \"**\" or \"//\" or \"=\" or \"==\" or \"+=\" or \"-=\" or \"%=\" or \"*=\" or \"/=\" or \"//=\"\n",
    "            or \"**=\" or \"&=\" or \"|=\" or \">>=\" or \"<<=\" or \"^=\" or \"==\" or \"!=\" or \">\" or \"<\" or \">=\" or \"<=\" or \"or\" or \"and\"\n",
    "            or \"not\" or \"is\" or \"is not\" or \"in\" or \"not in\" or \"&\" or \"|\" or \"^\" or \"~\" or \"<<\" or \">>\")):\n",
    "        b.append(i)\n",
    "    print(i)"
   ]
  },
  {
   "cell_type": "code",
   "execution_count": 92,
   "metadata": {},
   "outputs": [
    {
     "name": "stdout",
     "output_type": "stream",
     "text": [
      "['+']\n"
     ]
    }
   ],
   "source": [
    "print(b)"
   ]
  },
  {
   "cell_type": "code",
   "execution_count": 1,
   "metadata": {},
   "outputs": [
    {
     "data": {
      "text/plain": [
       "0"
      ]
     },
     "execution_count": 1,
     "metadata": {},
     "output_type": "execute_result"
    }
   ],
   "source": [
    "2000000000%40"
   ]
  },
  {
   "cell_type": "code",
   "execution_count": null,
   "metadata": {},
   "outputs": [],
   "source": []
  },
  {
   "cell_type": "code",
   "execution_count": null,
   "metadata": {},
   "outputs": [],
   "source": []
  },
  {
   "cell_type": "code",
   "execution_count": null,
   "metadata": {},
   "outputs": [],
   "source": []
  },
  {
   "cell_type": "code",
   "execution_count": null,
   "metadata": {},
   "outputs": [],
   "source": []
  }
 ],
 "metadata": {
  "kernelspec": {
   "display_name": "Python 3",
   "language": "python",
   "name": "python3"
  },
  "language_info": {
   "codemirror_mode": {
    "name": "ipython",
    "version": 3
   },
   "file_extension": ".py",
   "mimetype": "text/x-python",
   "name": "python",
   "nbconvert_exporter": "python",
   "pygments_lexer": "ipython3",
   "version": "3.7.3"
  }
 },
 "nbformat": 4,
 "nbformat_minor": 4
}
