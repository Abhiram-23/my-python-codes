{
 "cells": [
  {
   "cell_type": "code",
   "execution_count": null,
   "metadata": {},
   "outputs": [],
   "source": [
    "a = list(map(int,input().split()))\n",
    "b=[]\n",
    "for i in a:\n",
    "    if(i not in b):\n",
    "        b.append(i)"
   ]
  },
  {
   "cell_type": "code",
   "execution_count": null,
   "metadata": {},
   "outputs": [],
   "source": [
    "b"
   ]
  },
  {
   "cell_type": "code",
   "execution_count": null,
   "metadata": {},
   "outputs": [],
   "source": [
    "a = list(map(int,input().split()))\n",
    "b = list(map(int,input().split()))\n",
    "c = []\n",
    "if(len(a)>len(b)):\n",
    "    for i in a:\n",
    "        if(i in b):\n",
    "            c.append(i)\n",
    "else:\n",
    "    for i in b:\n",
    "        if(i in a):\n",
    "            c.append(i)"
   ]
  },
  {
   "cell_type": "code",
   "execution_count": null,
   "metadata": {},
   "outputs": [],
   "source": [
    "c"
   ]
  },
  {
   "cell_type": "code",
   "execution_count": 4,
   "metadata": {},
   "outputs": [
    {
     "name": "stdout",
     "output_type": "stream",
     "text": [
      "89 1 56 58 57 90 92 94 93 91 45\n",
      "6\n"
     ]
    }
   ],
   "source": [
    "a = list(map(int,input().split()))\n",
    "n = len(a)\n",
    "lis = [1]*n\n",
    "for i in range(1,n):\n",
    "    for j in range(0,i):\n",
    "        if(a[i]>a[j] and lis[i]<lis[j]+1):\n",
    "            lis[i] = lis[j]+1\n",
    "maxi = 0\n",
    "for i in range(n):\n",
    "    maxi = max(maxi,lis[i])\n",
    "print(maxi)"
   ]
  },
  {
   "cell_type": "code",
   "execution_count": null,
   "metadata": {},
   "outputs": [],
   "source": [
    "lis"
   ]
  },
  {
   "cell_type": "code",
   "execution_count": 5,
   "metadata": {},
   "outputs": [
    {
     "name": "stdout",
     "output_type": "stream",
     "text": [
      "89 1 56 58 57 90 92 94 93 91 45\n",
      "1\n"
     ]
    }
   ],
   "source": [
    "maxi = 0\n",
    "n = 11\n",
    "arr = list(map(int,input().split()))\n",
    "\n",
    "for i in range(n-1):\n",
    "    count = 1\n",
    "    for j in range(i,n-1):\n",
    "        if(arr[j+1]==arr[j]):\n",
    "            count+=1\n",
    "        else:\n",
    "            break\n",
    "    maxi = max(maxi,count)\n",
    "    i = j\n",
    "print(maxi)"
   ]
  },
  {
   "cell_type": "code",
   "execution_count": null,
   "metadata": {},
   "outputs": [],
   "source": []
  }
 ],
 "metadata": {
  "kernelspec": {
   "display_name": "Python 3",
   "language": "python",
   "name": "python3"
  },
  "language_info": {
   "codemirror_mode": {
    "name": "ipython",
    "version": 3
   },
   "file_extension": ".py",
   "mimetype": "text/x-python",
   "name": "python",
   "nbconvert_exporter": "python",
   "pygments_lexer": "ipython3",
   "version": "3.7.3"
  }
 },
 "nbformat": 4,
 "nbformat_minor": 4
}
