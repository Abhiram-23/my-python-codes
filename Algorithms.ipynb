{
 "cells": [
  {
   "cell_type": "markdown",
   "metadata": {},
   "source": [
    "# Jump search"
   ]
  },
  {
   "cell_type": "code",
   "execution_count": 1,
   "metadata": {},
   "outputs": [
    {
     "name": "stdout",
     "output_type": "stream",
     "text": [
      "10\n"
     ]
    }
   ],
   "source": [
    "import math\n",
    "def jumpSearch(arr,x,n):\n",
    "    step = math.sqrt(n)\n",
    "    prev = 0\n",
    "    while arr[int(min(step, n)-1)] < x: \n",
    "        prev = step\n",
    "        step+=math.sqrt(n)\n",
    "        if prev>=n:\n",
    "            return -1\n",
    "    while arr[int(prev)] < x: \n",
    "        prev += 1\n",
    "        if prev == min(step, n): \n",
    "            return -1\n",
    "    if arr[int(prev)] == x: \n",
    "        return prev \n",
    "      \n",
    "    return -1\n",
    "arr = [ 0, 1, 1, 2, 3, 5, 8, 13, 21, \n",
    "    34, 55, 89, 144, 233, 377, 610 ] \n",
    "x = 55\n",
    "n = len(arr)\n",
    "index = jumpSearch(arr,x,n)\n",
    "print(int(index))"
   ]
  },
  {
   "cell_type": "markdown",
   "metadata": {},
   "source": [
    "# selection sort"
   ]
  },
  {
   "cell_type": "code",
   "execution_count": 36,
   "metadata": {},
   "outputs": [
    {
     "name": "stdout",
     "output_type": "stream",
     "text": [
      "[-1, 0, 0, 0, 4, 5, 5, 10, 15, 23]\n"
     ]
    }
   ],
   "source": [
    "a = [0,5,10,15,0,4,5,23,0,-1]\n",
    "for i in range(len(a)-1):\n",
    "    for j in range(len(a)-1):\n",
    "        if(a[j]>a[j+1]):\n",
    "            a[j],a[j+1] = a[j+1],a[j]\n",
    "print(a)"
   ]
  },
  {
   "cell_type": "code",
   "execution_count": 31,
   "metadata": {},
   "outputs": [
    {
     "name": "stdout",
     "output_type": "stream",
     "text": [
      "[0, 4, 5, 5, 10, 15, 23]\n"
     ]
    }
   ],
   "source": [
    "a=[0,5,10,15,4,5,23]\n",
    "for i in range(len(a)-1):\n",
    "    b = min(a[i:])\n",
    "    c = a.index(b,i)\n",
    "    a[i],a[c] = a[c],a[i]\n",
    "print(a)"
   ]
  },
  {
   "cell_type": "markdown",
   "metadata": {},
   "source": [
    "# insertion sort"
   ]
  },
  {
   "cell_type": "code",
   "execution_count": 40,
   "metadata": {},
   "outputs": [
    {
     "data": {
      "text/plain": [
       "[0, 1, 1, 2, 3, 4, 5, 7]"
      ]
     },
     "execution_count": 40,
     "metadata": {},
     "output_type": "execute_result"
    }
   ],
   "source": [
    "def insertion(my_list):\n",
    "    for i in range(1,len(my_list)):\n",
    "        cur_element=my_list[i]\n",
    "        pos = i\n",
    "        while(pos>0 and cur_element<my_list[pos-1]):\n",
    "            my_list[pos] = my_list[pos-1]\n",
    "            pos-=1\n",
    "        my_list[pos]=cur_element\n",
    "a = [1,5,3,1,2,4,7,0]\n",
    "insertion(a)\n",
    "a"
   ]
  },
  {
   "cell_type": "markdown",
   "metadata": {},
   "source": [
    "# Quick sort"
   ]
  },
  {
   "cell_type": "markdown",
   "metadata": {},
   "source": [
    "## for ascending order sorting and pivot is first element\n",
    "##### we are taking pivot as first element\n",
    "##### first condition is left <= right\n",
    "##### second condition is a[left]<=pivot\n",
    "##### third condition is a[right]>=pivot\n",
    "##### if(left<=right but list[left]>pivot and list[right]<pivot) \n",
    "##### then we need to swap left and right elements as mentioned in else block\n",
    "##### if(right<left) then we need to break the loop as mentioned in if block\n",
    "##### and we need to swap the right with the first element "
   ]
  },
  {
   "cell_type": "code",
   "execution_count": 42,
   "metadata": {},
   "outputs": [],
   "source": [
    "def pivot_place(list1,first,last):\n",
    "    pivot = list1[first]\n",
    "    left = first+1\n",
    "    right = last\n",
    "    while True:\n",
    "        while left<=right and list1[left]<=pivot:\n",
    "            left += 1\n",
    "        while left<=right and list1[right]>=pivot:\n",
    "            right -= 1 \n",
    "        if right<left:\n",
    "            break\n",
    "        else:\n",
    "            list1[left],list1[right] = list1[right],list1[left]\n",
    "    list1[first],list1[right] = list1[right],list1[first]\n",
    "    return right"
   ]
  },
  {
   "cell_type": "code",
   "execution_count": 43,
   "metadata": {},
   "outputs": [],
   "source": [
    "def quicksort(list1,first,last):\n",
    "    if(first<last):\n",
    "        p = pivot_place(list1,first,last)\n",
    "        quicksort(list1,first,p-1)\n",
    "        quicksort(list1,p+1,last)"
   ]
  },
  {
   "cell_type": "code",
   "execution_count": 46,
   "metadata": {},
   "outputs": [
    {
     "name": "stdout",
     "output_type": "stream",
     "text": [
      "[0, 1, 2, 2, 51, 51, 121, 941]\n"
     ]
    }
   ],
   "source": [
    "list1 = [1,2,941,0,121,51,51,2]\n",
    "n = len(list1)\n",
    "quicksort(list1,0,n-1)\n",
    "print(list1)"
   ]
  },
  {
   "cell_type": "code",
   "execution_count": 19,
   "metadata": {},
   "outputs": [
    {
     "name": "stdout",
     "output_type": "stream",
     "text": [
      "[0, 1, 1, 2, 3, 3, 5, 12, 19]\n"
     ]
    }
   ],
   "source": [
    "def pivot(list1,first,last):\n",
    "    piv = list1[first]\n",
    "    left =first+1\n",
    "    right =last\n",
    "    while True:\n",
    "        while(left<=right and list1[left]<=piv):\n",
    "            left+=1\n",
    "        while(left<=right and list1[right]>=piv):\n",
    "            right-=1\n",
    "        if(left>right):\n",
    "            break\n",
    "        else:\n",
    "            list1[left],list1[right] = list1[right],list1[left]\n",
    "    list1[first],list1[right] = list1[right],list1[first]\n",
    "    return right\n",
    "def quicksort(list1,first,last):\n",
    "    if(first<last):\n",
    "        p = pivot(list1,first,last)\n",
    "        quicksort(list1,first,p-1)\n",
    "        quicksort(list1,p+1,last)\n",
    "list1 = [1,2,5,0,3,19,12,3,1]\n",
    "n = len(list1)\n",
    "quicksort(list1,0,n-1)\n",
    "print(list1)        "
   ]
  },
  {
   "cell_type": "markdown",
   "metadata": {},
   "source": [
    "# Merge sort"
   ]
  },
  {
   "cell_type": "code",
   "execution_count": 14,
   "metadata": {},
   "outputs": [],
   "source": [
    "def merge(left,right):\n",
    "    result = []\n",
    "    i,j = 0,0\n",
    "    while i<len(left) and j<len(right):\n",
    "        if(left[i]<=right[j]):\n",
    "            result.append(left[i])\n",
    "            i+=1\n",
    "        else:\n",
    "            result.append(right[j])\n",
    "            j+=1\n",
    "    result+=(left[i:])\n",
    "    result+=(right[j:])\n",
    "    return result"
   ]
  },
  {
   "cell_type": "code",
   "execution_count": 22,
   "metadata": {},
   "outputs": [
    {
     "name": "stdout",
     "output_type": "stream",
     "text": [
      "[0, 1, 2, 3, 4, 5, 6]\n"
     ]
    }
   ],
   "source": [
    "def mergesort(lst):\n",
    "    if(len(lst)<=1):\n",
    "        return lst\n",
    "    mid = int(len(lst)//2)\n",
    "    left = mergesort(lst[:mid])\n",
    "    right = mergesort(lst[mid:])\n",
    "    return merge(left,right)\n",
    "arr= [1,2,3,4,6,5,0]\n",
    "print(mergesort(arr))"
   ]
  },
  {
   "cell_type": "code",
   "execution_count": 23,
   "metadata": {},
   "outputs": [
    {
     "data": {
      "text/plain": [
       "[1, 2, 2, 3, 3, 3, 4, 4, 5, 5, 5, 5, 22, 25]"
      ]
     },
     "execution_count": 23,
     "metadata": {},
     "output_type": "execute_result"
    }
   ],
   "source": [
    "def mergesort(lst):\n",
    "    if(len(lst)<=1):\n",
    "        return lst\n",
    "    mid=int(len(lst)//2)\n",
    "    left=mergesort(lst[:mid])\n",
    "    right=mergesort(lst[mid:])\n",
    "    return merge(left,right)\n",
    "def merge(left,right):\n",
    "    i=0\n",
    "    j=0\n",
    "    res=[]\n",
    "    while(i<len(left) and j<len(right)):\n",
    "        if(left[i]<=right[j]):\n",
    "            res.append(left[i])\n",
    "            i+=1\n",
    "        else:\n",
    "            res.append(right[j])\n",
    "            j+=1\n",
    "    res+=(left[i:])\n",
    "    res+=(right[j:])\n",
    "    return res\n",
    "a=[4,5,1,22,4,5,3,25,3,2,5,3,2,5]\n",
    "mergesort(a)"
   ]
  },
  {
   "cell_type": "markdown",
   "metadata": {},
   "source": [
    "# Kadanes Algorithm"
   ]
  },
  {
   "cell_type": "code",
   "execution_count": 3,
   "metadata": {},
   "outputs": [
    {
     "name": "stdout",
     "output_type": "stream",
     "text": [
      "20 17 0 5\n"
     ]
    }
   ],
   "source": [
    "a = [1,2,3,4,-5,15,-2,-1]\n",
    "m = 0\n",
    "c = 0\n",
    "s = 0\n",
    "e = 0\n",
    "p = 0\n",
    "for i in range(len(a)):\n",
    "    c+=a[i]\n",
    "    if(m<c):\n",
    "        s=p\n",
    "        e = i\n",
    "        m=c\n",
    "    if(c<0):\n",
    "        c=0\n",
    "        p = i+1\n",
    "print(m,c,s,e)"
   ]
  },
  {
   "cell_type": "code",
   "execution_count": 12,
   "metadata": {},
   "outputs": [
    {
     "name": "stdout",
     "output_type": "stream",
     "text": [
      "2400\n"
     ]
    }
   ],
   "source": [
    "a = [1,-100,500,-100,2000]\n",
    "ma=0\n",
    "c=0\n",
    "for i in range(len(a)):\n",
    "    c+=a[i]\n",
    "    if(c>ma):\n",
    "        ma=c\n",
    "    if(c<0):\n",
    "        c=0\n",
    "print(ma)"
   ]
  },
  {
   "cell_type": "markdown",
   "metadata": {},
   "source": [
    "# Reversing a string"
   ]
  },
  {
   "cell_type": "code",
   "execution_count": 8,
   "metadata": {},
   "outputs": [
    {
     "data": {
      "text/plain": [
       "'ABHI ram'"
      ]
     },
     "execution_count": 8,
     "metadata": {},
     "output_type": "execute_result"
    }
   ],
   "source": [
    "a= 'mar IHBA'\n",
    "r=''\n",
    "for i in a:\n",
    "    r=i+r\n",
    "r"
   ]
  },
  {
   "cell_type": "code",
   "execution_count": 9,
   "metadata": {},
   "outputs": [
    {
     "name": "stdout",
     "output_type": "stream",
     "text": [
      "anirudh abhiram\n"
     ]
    }
   ],
   "source": [
    "a='marihba hdurina'\n",
    "print(a[::-1])"
   ]
  },
  {
   "cell_type": "markdown",
   "metadata": {},
   "source": [
    "# KMP algorithm"
   ]
  },
  {
   "cell_type": "code",
   "execution_count": 24,
   "metadata": {},
   "outputs": [
    {
     "name": "stdout",
     "output_type": "stream",
     "text": [
      "16\n",
      "34\n"
     ]
    }
   ],
   "source": [
    "###### KMP Algorithm ##########\n",
    "def KMPSearch(pat, txt): \n",
    "    M = len(pat) \n",
    "    N = len(txt) \n",
    "    lps = [0]*M \n",
    "    computeLPSArray(pat, M, lps) \n",
    "    i = 0\n",
    "    j = 0 \n",
    "    while i < N: \n",
    "        if pat[j] == txt[i]:\n",
    "            i += 1\n",
    "            j += 1\n",
    "        else:\n",
    "            if j != 0: \n",
    "                j = lps[j-1] \n",
    "            else: \n",
    "                i += 1\n",
    "        if j == M: \n",
    "            print(i-j) \n",
    "            j = lps[j-1] \n",
    "def computeLPSArray(pat, M, lps): \n",
    "    len = 0 \n",
    "    i = 1\n",
    "    lps[0] = 0\n",
    "    while i < M: \n",
    "        if pat[i]== pat[len]: \n",
    "            len += 1\n",
    "            lps[i] = len\n",
    "            i += 1\n",
    "        else: \n",
    "            if len != 0: \n",
    "                len = lps[len-1] \n",
    "            else: \n",
    "                lps[i] = 0\n",
    "                i += 1\n",
    "txt = \"asjdjanirudasndkanirudhansdkljanuranirudhasduhk\"\n",
    "pat = \"anirudh\"\n",
    "KMPSearch(pat, txt)  "
   ]
  },
  {
   "cell_type": "code",
   "execution_count": null,
   "metadata": {},
   "outputs": [],
   "source": []
  },
  {
   "cell_type": "markdown",
   "metadata": {},
   "source": [
    "# Sieve of Eratosthenes o(n*lon(logn))"
   ]
  },
  {
   "cell_type": "code",
   "execution_count": 20,
   "metadata": {},
   "outputs": [],
   "source": [
    "import math\n",
    "def SieveOfEratosthenes(n):  \n",
    "    d=[]\n",
    "    prime = [True]*(n+1)\n",
    "    prime[0]=False\n",
    "    prime[1]=False\n",
    "    for i in range(2,int(math.sqrt(n))+1):\n",
    "        if(prime[i]==True):\n",
    "            for j in range(i*i,n+1,i):\n",
    "                prime[j]=False\n",
    "    for i in range(len(prime)):\n",
    "        if(prime[i]==True):\n",
    "            d.append(i)\n",
    "    return d"
   ]
  },
  {
   "cell_type": "code",
   "execution_count": 21,
   "metadata": {},
   "outputs": [
    {
     "name": "stdout",
     "output_type": "stream",
     "text": [
      "[2, 3, 5, 7, 11, 13, 17, 19, 23, 29, 31, 37, 41, 43, 47]\n"
     ]
    }
   ],
   "source": [
    "print(SieveOfEratosthenes(50))"
   ]
  },
  {
   "cell_type": "code",
   "execution_count": null,
   "metadata": {},
   "outputs": [],
   "source": []
  },
  {
   "cell_type": "markdown",
   "metadata": {},
   "source": [
    "# linked list"
   ]
  },
  {
   "cell_type": "code",
   "execution_count": 49,
   "metadata": {},
   "outputs": [
    {
     "name": "stdout",
     "output_type": "stream",
     "text": [
      "5\n",
      "40\n",
      "1500\n",
      "10\n",
      "20\n",
      "30\n"
     ]
    }
   ],
   "source": [
    "class Node:\n",
    "    def __init__(self,data):\n",
    "        self.data = data\n",
    "        self.next = None\n",
    "class LinkedList:\n",
    "    def __init__(self):\n",
    "        self.head = None\n",
    "    def insertion(self,newNode):\n",
    "        if self.head == None:\n",
    "            self.head = newNode\n",
    "        else:\n",
    "            ll = self.head\n",
    "            while True:\n",
    "                if ll.next == None:\n",
    "                    break\n",
    "                ll = ll.next\n",
    "            ll.next = newNode\n",
    "    def insertion_beginning(self,newNode):\n",
    "        if self.head == None:\n",
    "            self.head = newNode\n",
    "        else:\n",
    "            ll = self.head\n",
    "            self.head = newNode\n",
    "            newNode.next = ll\n",
    "    def insertion_atmiddle(self,newnode,position):\n",
    "        if self.head == None:\n",
    "            print(\"the list is empty so the node after which you want to insert is not present in the list\")\n",
    "        else:\n",
    "            currnode=self.head\n",
    "            currpos=0\n",
    "\n",
    "        while True:\n",
    "            if currpos == position - 1 :\n",
    "                break\n",
    "            currnode=currnode.next\n",
    "            currpos += 1\n",
    "    \n",
    "            \n",
    "        tempnode=currnode.next\n",
    "        currnode.next=newnode\n",
    "        newnode.next=tempnode\n",
    "    \n",
    "    def printList(self):\n",
    "        if self.head == None:\n",
    "            print(\"list is empty\")\n",
    "        else:\n",
    "            ll = self.head\n",
    "            while True:\n",
    "                if(ll == None):\n",
    "                    break\n",
    "                print(ll.data)\n",
    "                ll = ll.next\n",
    "                \n",
    "                \n",
    "firstNode = Node(10)\n",
    "linkedList = LinkedList()\n",
    "linkedList.insertion(firstNode)\n",
    "secondNode = Node(20)\n",
    "linkedList.insertion(secondNode)\n",
    "thirdNode = Node(30)\n",
    "linkedList.insertion(thirdNode)\n",
    "# linkedList.printList()\n",
    "four = Node(40)\n",
    "linkedList.insertion_beginning(four)\n",
    "linkedList.insertion_beginning(Node(5))\n",
    "five = Node(1500)\n",
    "linkedList.insertion_atmiddle(five,2)\n",
    "linkedList.printList()\n"
   ]
  },
  {
   "cell_type": "markdown",
   "metadata": {},
   "source": [
    "# BFS "
   ]
  },
  {
   "cell_type": "code",
   "execution_count": 97,
   "metadata": {},
   "outputs": [],
   "source": [
    "class Node:\n",
    "    def __init__(self,key):\n",
    "        self.data = key\n",
    "        self.left = None\n",
    "        self.right= None\n",
    "def insertion(root,node):\n",
    "    if root == None:\n",
    "        root = node\n",
    "    else:\n",
    "        if(root.data<node.data):\n",
    "            if(root.right==None):\n",
    "                root.right = node\n",
    "            else:\n",
    "                insertion(root.right,node)\n",
    "        else:\n",
    "            if(root.left==None):\n",
    "                root.left = node\n",
    "            else:\n",
    "                insertion(root.left,node)\n",
    "def display(root):\n",
    "    if(root):\n",
    "        display(root.left)\n",
    "        print(root.data)\n",
    "        display(root.right)\n",
    "def search(root,key):\n",
    "    if(root is None or root.data == key):\n",
    "        return root\n",
    "    if(root.data<key):\n",
    "        return search(root.right,key)\n",
    "    else:\n",
    "        return search(root.left,key)\n",
    "def inorder(root):\n",
    "    if(root):\n",
    "        inorder(root.left)\n",
    "        print(root.data)\n",
    "        inorder(root.right)\n",
    "def preorder(root):\n",
    "    if(root):\n",
    "        print(root.data)\n",
    "        preorder(root.left)\n",
    "        preorder(root.right)\n",
    "def postorder(root):\n",
    "    if(root):\n",
    "        postorder(root.left)\n",
    "        postorder(root.right)\n",
    "        print(root.data)\n",
    "def bfs(root):\n",
    "    if(root == None):\n",
    "        return\n",
    "    q=[]\n",
    "    q.append(root)\n",
    "    while(len(q)>0):\n",
    "        print(q[0].data)\n",
    "        temp = q.pop(0)\n",
    "        if(temp.left!=None):\n",
    "            q.append(temp.left)\n",
    "        if(temp.right!=None):\n",
    "            q.append(temp.right)\n",
    "def topview(root):\n",
    "    if(root==None):\n",
    "        return\n",
    "    q=[]\n",
    "    val = {}\n",
    "    hd = 0\n",
    "    root.hd = hd\n",
    "    q.append(root)\n",
    "    while(len(q)>0):\n",
    "        cur= q.pop(0)\n",
    "        hd = cur.hd\n",
    "        if(hd not in val):\n",
    "            val[hd]= cur.data\n",
    "        if cur.left is not None:\n",
    "            cur.left.hd=hd-1\n",
    "            q.append(cur.left)\n",
    "        if cur.right is not None:\n",
    "            cur.right.hd  = hd+1\n",
    "            q.append(cur.right)\n",
    "    print(val)\n",
    "    for i in sorted(val):\n",
    "        print(val[i])"
   ]
  },
  {
   "cell_type": "code",
   "execution_count": 98,
   "metadata": {
    "collapsed": true
   },
   "outputs": [
    {
     "name": "stdout",
     "output_type": "stream",
     "text": [
      "--------------------------\n",
      "1\n",
      "2\n",
      "3\n",
      "5\n",
      "11\n",
      "12\n",
      "15\n",
      "100\n",
      "111\n",
      "---------------------------\n",
      "value found <__main__.Node object at 0x0000016A488A6668>\n",
      "1\n",
      "2\n",
      "3\n",
      "5\n",
      "11\n",
      "12\n",
      "15\n",
      "100\n",
      "111\n",
      "------------------------------\n",
      "12\n",
      "11\n",
      "5\n",
      "1\n",
      "3\n",
      "2\n",
      "15\n",
      "111\n",
      "100\n",
      "------------------------------\n",
      "2\n",
      "3\n",
      "1\n",
      "5\n",
      "11\n",
      "100\n",
      "111\n",
      "15\n",
      "12\n",
      "------------------------------\n",
      "12\n",
      "11\n",
      "15\n",
      "5\n",
      "111\n",
      "1\n",
      "100\n",
      "3\n",
      "2\n",
      "------------------------------\n",
      "{0: 12, -1: 11, 1: 15, -2: 5, 2: 111, -3: 1}\n",
      "1\n",
      "5\n",
      "11\n",
      "12\n",
      "15\n",
      "111\n"
     ]
    }
   ],
   "source": [
    "root = Node(12)\n",
    "insertion(root,Node(15))\n",
    "insertion(root,Node(11))\n",
    "insertion(root,Node(5))\n",
    "insertion(root,Node(111))\n",
    "insertion(root,Node(1))\n",
    "insertion(root,Node(100))\n",
    "insertion(root,Node(3))\n",
    "insertion(root,Node(2))\n",
    "print('--------------------------')\n",
    "display(root)\n",
    "print('---------------------------')\n",
    "a = search(root,100)\n",
    "if(a==None):\n",
    "    print('value not found')\n",
    "else:\n",
    "    print('value found',a)\n",
    "inorder(root)\n",
    "print('------------------------------')\n",
    "preorder(root)\n",
    "print('------------------------------')\n",
    "postorder(root)\n",
    "print('------------------------------')\n",
    "bfs(root)\n",
    "print('------------------------------')\n",
    "topview(root)"
   ]
  },
  {
   "cell_type": "markdown",
   "metadata": {},
   "source": [
    "# codevita solved question prime time again"
   ]
  },
  {
   "cell_type": "code",
   "execution_count": 53,
   "metadata": {},
   "outputs": [
    {
     "name": "stdout",
     "output_type": "stream",
     "text": [
      "24 2\n",
      "3\n"
     ]
    }
   ],
   "source": [
    "d,p=map(int,input().split())\n",
    "e = d//p\n",
    "c=[]\n",
    "d=[]\n",
    "for i in range(e):\n",
    "    d.append(i)\n",
    "    for j in range(p-1):\n",
    "        i = i+e\n",
    "        d.append(i)\n",
    "    c.append(d)\n",
    "    d=[]\n",
    "prime=[2, 3, 5, 7, 11, 13, 17, 19, 23, 29, 31, 37, 41, 43, 47, 53, 59, 61, 67, 71, 73, 79, 83, 89, 97, 101, 103, 107, 109, 113, 127, 131, 137, 139, 149, 151, 157, 163, 167, 173, 179, 181, 191, 193, 197, 199, 211, 223, 227, 229, 233, 239, 241, 251, 257, 263, 269, 271, 277, 281, 283, 293, 307, 311, 313, 317, 331, 337, 347, 349, 353, 359, 367, 373, 379, 383, 389, 397, 401, 409, 419, 421, 431, 433, 439, 443, 449, 457, 461, 463, 467, 479, 487, 491, 499]\n",
    "count=0\n",
    "co=0\n",
    "for i in c:\n",
    "    for j in i:\n",
    "        if j in prime:\n",
    "            count+=1\n",
    "    if(count==p):\n",
    "        co+=1\n",
    "    count=0\n",
    "print(co)"
   ]
  },
  {
   "cell_type": "code",
   "execution_count": 2,
   "metadata": {},
   "outputs": [
    {
     "data": {
      "text/plain": [
       "'5 qwertyuiopasdfghjklzxcvbnm\\nPh\\nPcssi\\nBpke_kdc_epclc_jcijsc_mihyo?\\nEpcf_kdc_liswhyo_EIED_hy_Vimcvpcn_Zkdvp_siyo_viyecle.\\nIpp!'"
      ]
     },
     "execution_count": 2,
     "metadata": {},
     "output_type": "execute_result"
    }
   ],
   "source": [
    "'''5 qwertyuiopasdfghjklzxcvbnm\n",
    "Ph\n",
    "Pcssi\n",
    "Bpke_kdc_epclc_jcijsc_mihyo?\n",
    "Epcf_kdc_liswhyo_EIED_hy_Vimcvpcn_Zkdvp_siyo_viyecle.\n",
    "Ipp!'''"
   ]
  },
  {
   "cell_type": "code",
   "execution_count": 29,
   "metadata": {},
   "outputs": [
    {
     "name": "stdout",
     "output_type": "stream",
     "text": [
      "5 qwertyuiopasdfghjklzxcvbnm\n",
      "Ph\n",
      "Hi\n",
      "Pcssi\n",
      "Hello\n",
      "Bpke_kdc_epclc_jcijsc_mihyo?\n"
     ]
    },
    {
     "ename": "ValueError",
     "evalue": "substring not found",
     "output_type": "error",
     "traceback": [
      "\u001b[1;31m---------------------------------------------------------------------------\u001b[0m",
      "\u001b[1;31mValueError\u001b[0m                                Traceback (most recent call last)",
      "\u001b[1;32m<ipython-input-29-48871a92b5cb>\u001b[0m in \u001b[0;36m<module>\u001b[1;34m\u001b[0m\n\u001b[0;32m      7\u001b[0m         \u001b[1;32mif\u001b[0m\u001b[1;33m(\u001b[0m\u001b[0mi\u001b[0m\u001b[1;33m==\u001b[0m\u001b[0mi\u001b[0m\u001b[1;33m.\u001b[0m\u001b[0mupper\u001b[0m\u001b[1;33m(\u001b[0m\u001b[1;33m)\u001b[0m\u001b[1;33m)\u001b[0m\u001b[1;33m:\u001b[0m\u001b[1;33m\u001b[0m\u001b[1;33m\u001b[0m\u001b[0m\n\u001b[0;32m      8\u001b[0m             \u001b[0mf\u001b[0m \u001b[1;33m=\u001b[0m \u001b[0mi\u001b[0m\u001b[1;33m.\u001b[0m\u001b[0mlower\u001b[0m\u001b[1;33m(\u001b[0m\u001b[1;33m)\u001b[0m\u001b[1;33m\u001b[0m\u001b[1;33m\u001b[0m\u001b[0m\n\u001b[1;32m----> 9\u001b[1;33m             \u001b[0mf\u001b[0m\u001b[1;33m=\u001b[0m\u001b[0mb\u001b[0m\u001b[1;33m[\u001b[0m\u001b[0md\u001b[0m\u001b[1;33m.\u001b[0m\u001b[0mindex\u001b[0m\u001b[1;33m(\u001b[0m\u001b[0mf\u001b[0m\u001b[1;33m)\u001b[0m\u001b[1;33m]\u001b[0m\u001b[1;33m\u001b[0m\u001b[1;33m\u001b[0m\u001b[0m\n\u001b[0m\u001b[0;32m     10\u001b[0m             \u001b[0mf\u001b[0m\u001b[1;33m=\u001b[0m\u001b[0mf\u001b[0m\u001b[1;33m.\u001b[0m\u001b[0mupper\u001b[0m\u001b[1;33m(\u001b[0m\u001b[1;33m)\u001b[0m\u001b[1;33m\u001b[0m\u001b[1;33m\u001b[0m\u001b[0m\n\u001b[0;32m     11\u001b[0m             \u001b[0me\u001b[0m\u001b[1;33m+=\u001b[0m\u001b[0mf\u001b[0m\u001b[1;33m\u001b[0m\u001b[1;33m\u001b[0m\u001b[0m\n",
      "\u001b[1;31mValueError\u001b[0m: substring not found"
     ]
    }
   ],
   "source": [
    "a,b = map(str,input().split())\n",
    "d = 'abcdefghijklmnopqrstuvwxyz'\n",
    "for i in range(int(a)):\n",
    "    c = input()\n",
    "    e=''\n",
    "    for i in c:\n",
    "        if(i=='_'):\n",
    "            e+=' '\n",
    "        elif(i=='!' or i=='@' or i=='$' or i=='%' or i=='^'or i=='&' or i=='*' or i=='(' or i==')'):\n",
    "            e+=i\n",
    "        elif(i==i.upper()):\n",
    "            f = i.lower()\n",
    "            f=b[d.index(f)]\n",
    "            f=f.upper()\n",
    "            e+=f\n",
    "        elif(i==i.lower()):\n",
    "            f =b[d.index(i)]\n",
    "            e+=f\n",
    "    print(e)   "
   ]
  },
  {
   "cell_type": "code",
   "execution_count": 27,
   "metadata": {},
   "outputs": [
    {
     "data": {
      "text/plain": [
       "'Hi'"
      ]
     },
     "execution_count": 27,
     "metadata": {},
     "output_type": "execute_result"
    }
   ],
   "source": [
    "e"
   ]
  },
  {
   "cell_type": "code",
   "execution_count": 22,
   "metadata": {},
   "outputs": [],
   "source": [
    "import math\n",
    "def siev(n):\n",
    "    p = [True]*(n+1)\n",
    "    b=[]\n",
    "    p[0]=False\n",
    "    p[1]=False\n",
    "    for i in range(2,int(math.sqrt(n))+1):\n",
    "        if(p[i]==True):\n",
    "            for j in range(i*i,n+1,i):\n",
    "                p[j]=False\n",
    "    for i in range(len(p)):\n",
    "        if(p[i]==True):\n",
    "            b.append(i)\n",
    "    return b"
   ]
  },
  {
   "cell_type": "code",
   "execution_count": 30,
   "metadata": {},
   "outputs": [
    {
     "name": "stdout",
     "output_type": "stream",
     "text": [
      "[2, 3, 5, 7, 11, 13, 17, 19, 23, 29, 31, 37, 41, 43, 47, 53, 59, 61, 67, 71, 73, 79, 83, 89, 97]\n"
     ]
    }
   ],
   "source": [
    "print(siev(100))"
   ]
  },
  {
   "cell_type": "code",
   "execution_count": null,
   "metadata": {},
   "outputs": [],
   "source": []
  },
  {
   "cell_type": "code",
   "execution_count": null,
   "metadata": {},
   "outputs": [],
   "source": []
  },
  {
   "cell_type": "code",
   "execution_count": null,
   "metadata": {},
   "outputs": [],
   "source": []
  },
  {
   "cell_type": "code",
   "execution_count": null,
   "metadata": {},
   "outputs": [],
   "source": []
  },
  {
   "cell_type": "code",
   "execution_count": null,
   "metadata": {},
   "outputs": [],
   "source": []
  },
  {
   "cell_type": "code",
   "execution_count": null,
   "metadata": {},
   "outputs": [],
   "source": []
  },
  {
   "cell_type": "code",
   "execution_count": null,
   "metadata": {},
   "outputs": [],
   "source": []
  },
  {
   "cell_type": "code",
   "execution_count": null,
   "metadata": {},
   "outputs": [],
   "source": []
  },
  {
   "cell_type": "code",
   "execution_count": null,
   "metadata": {},
   "outputs": [],
   "source": []
  },
  {
   "cell_type": "code",
   "execution_count": null,
   "metadata": {},
   "outputs": [],
   "source": []
  },
  {
   "cell_type": "code",
   "execution_count": null,
   "metadata": {},
   "outputs": [],
   "source": []
  },
  {
   "cell_type": "code",
   "execution_count": null,
   "metadata": {},
   "outputs": [],
   "source": []
  },
  {
   "cell_type": "code",
   "execution_count": null,
   "metadata": {},
   "outputs": [],
   "source": []
  },
  {
   "cell_type": "code",
   "execution_count": null,
   "metadata": {},
   "outputs": [],
   "source": []
  },
  {
   "cell_type": "code",
   "execution_count": null,
   "metadata": {},
   "outputs": [],
   "source": []
  },
  {
   "cell_type": "code",
   "execution_count": null,
   "metadata": {},
   "outputs": [],
   "source": []
  },
  {
   "cell_type": "code",
   "execution_count": null,
   "metadata": {},
   "outputs": [],
   "source": []
  },
  {
   "cell_type": "code",
   "execution_count": null,
   "metadata": {},
   "outputs": [],
   "source": []
  },
  {
   "cell_type": "code",
   "execution_count": null,
   "metadata": {},
   "outputs": [],
   "source": []
  },
  {
   "cell_type": "code",
   "execution_count": null,
   "metadata": {},
   "outputs": [],
   "source": []
  },
  {
   "cell_type": "code",
   "execution_count": null,
   "metadata": {},
   "outputs": [],
   "source": []
  },
  {
   "cell_type": "code",
   "execution_count": null,
   "metadata": {},
   "outputs": [],
   "source": []
  },
  {
   "cell_type": "code",
   "execution_count": null,
   "metadata": {},
   "outputs": [],
   "source": []
  },
  {
   "cell_type": "code",
   "execution_count": null,
   "metadata": {},
   "outputs": [],
   "source": []
  },
  {
   "cell_type": "code",
   "execution_count": null,
   "metadata": {},
   "outputs": [],
   "source": []
  }
 ],
 "metadata": {
  "kernelspec": {
   "display_name": "Python 3",
   "language": "python",
   "name": "python3"
  },
  "language_info": {
   "codemirror_mode": {
    "name": "ipython",
    "version": 3
   },
   "file_extension": ".py",
   "mimetype": "text/x-python",
   "name": "python",
   "nbconvert_exporter": "python",
   "pygments_lexer": "ipython3",
   "version": "3.7.3"
  }
 },
 "nbformat": 4,
 "nbformat_minor": 4
}
