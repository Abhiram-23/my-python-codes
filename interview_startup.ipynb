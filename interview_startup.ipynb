{
 "cells": [
  {
   "cell_type": "code",
   "execution_count": 4,
   "metadata": {},
   "outputs": [
    {
     "name": "stdout",
     "output_type": "stream",
     "text": [
      "madam\n"
     ]
    }
   ],
   "source": [
    "a=input()"
   ]
  },
  {
   "cell_type": "code",
   "execution_count": 5,
   "metadata": {},
   "outputs": [
    {
     "name": "stdout",
     "output_type": "stream",
     "text": [
      "madam\n"
     ]
    }
   ],
   "source": [
    "print(a)"
   ]
  },
  {
   "cell_type": "code",
   "execution_count": 11,
   "metadata": {},
   "outputs": [
    {
     "name": "stdout",
     "output_type": "stream",
     "text": [
      "m 2\n",
      "a 2\n",
      "d 1\n"
     ]
    }
   ],
   "source": [
    "b=''\n",
    "d=[]\n",
    "for i in range(len(a)):\n",
    "    b=a[i]\n",
    "    c=1\n",
    "    if(a[i] not in d):\n",
    "        d.append(a[i])\n",
    "        for j in range(i+1,len(a)):\n",
    "            if(a[j]==b ):\n",
    "                c+=1\n",
    "        print(b,c)"
   ]
  },
  {
   "cell_type": "code",
   "execution_count": 25,
   "metadata": {},
   "outputs": [
    {
     "name": "stdout",
     "output_type": "stream",
     "text": [
      "lol\n"
     ]
    }
   ],
   "source": [
    "a=input()\n",
    "b=''"
   ]
  },
  {
   "cell_type": "code",
   "execution_count": 26,
   "metadata": {},
   "outputs": [
    {
     "name": "stdout",
     "output_type": "stream",
     "text": [
      "palindrom\n"
     ]
    }
   ],
   "source": [
    "for i in (a[::-1]):\n",
    "    b+=i\n",
    "if(a==b):\n",
    "    print('palindrom')\n",
    "else:\n",
    "    print('not')"
   ]
  },
  {
   "cell_type": "code",
   "execution_count": null,
   "metadata": {},
   "outputs": [],
   "source": []
  },
  {
   "cell_type": "code",
   "execution_count": null,
   "metadata": {},
   "outputs": [],
   "source": [
    "1\t\t\t\n",
    "2\t4\t\t\n",
    "3\t5\t7\t\n",
    "6\t8\t10\t12\n",
    "7\t5\t3\t\n",
    "4\t2\t\t\n",
    "1\t\t\t"
   ]
  },
  {
   "cell_type": "code",
   "execution_count": 60,
   "metadata": {},
   "outputs": [],
   "source": []
  },
  {
   "cell_type": "code",
   "execution_count": 1,
   "metadata": {},
   "outputs": [
    {
     "name": "stdout",
     "output_type": "stream",
     "text": [
      "4\n",
      "1 \n",
      "2 4 \n",
      "3 5 7 \n",
      "6 8 10 12 \n",
      "7 5 3 \n",
      "4 2 \n",
      "1 \n",
      "\n"
     ]
    }
   ],
   "source": [
    "a=int(input())\n",
    "odd=0\n",
    "even=0\n",
    "for i in range(1,a+1):\n",
    "    for j in range(i):\n",
    "        if(i%2!=0):\n",
    "            print(odd+1,end=' ')\n",
    "            odd=odd+2\n",
    "        else:\n",
    "            print(even+2,end=' ')\n",
    "            even+=2\n",
    "    print()\n",
    "if(i%2==0):\n",
    "    even=even-i*2\n",
    "    for i in range(1,a+1):\n",
    "        for j in range(a-i):\n",
    "            if(i%2!=0):\n",
    "                print(odd-1,end=' ')\n",
    "                odd-=2\n",
    "            else:\n",
    "                print(even,end=' ')\n",
    "                even-=2\n",
    "        print()\n",
    "else:\n",
    "    odd=odd-i*2\n",
    "    for i in range(1,a+1):\n",
    "        for j in range(a-i):\n",
    "            if(i%2!=1):\n",
    "                print(odd-1,end=' ')\n",
    "                odd-=2\n",
    "            else:\n",
    "                print(even,end=' ')\n",
    "                even-=2\n",
    "        print()"
   ]
  },
  {
   "cell_type": "code",
   "execution_count": 9,
   "metadata": {},
   "outputs": [
    {
     "name": "stdout",
     "output_type": "stream",
     "text": [
      "[5, 4, 3, 2, 1]\n"
     ]
    }
   ],
   "source": [
    "a = [1,2,3,4,5]\n",
    "b = []\n",
    "for i in a:\n",
    "    b.insert(0,i)\n",
    "print(b)"
   ]
  },
  {
   "cell_type": "code",
   "execution_count": null,
   "metadata": {},
   "outputs": [],
   "source": []
  },
  {
   "cell_type": "code",
   "execution_count": null,
   "metadata": {},
   "outputs": [],
   "source": [
    "1\t\t\t\n",
    "2\t4\t\t\n",
    "3\t5\t7\t\n",
    "6\t8\t10\t12\n",
    "7\t5\t3\t\n",
    "4\t2\t\t\n",
    "1\t\t\t"
   ]
  },
  {
   "cell_type": "code",
   "execution_count": null,
   "metadata": {},
   "outputs": [],
   "source": []
  },
  {
   "cell_type": "code",
   "execution_count": null,
   "metadata": {},
   "outputs": [],
   "source": []
  },
  {
   "cell_type": "code",
   "execution_count": null,
   "metadata": {},
   "outputs": [],
   "source": []
  },
  {
   "cell_type": "code",
   "execution_count": null,
   "metadata": {},
   "outputs": [],
   "source": []
  },
  {
   "cell_type": "code",
   "execution_count": null,
   "metadata": {},
   "outputs": [],
   "source": []
  },
  {
   "cell_type": "code",
   "execution_count": null,
   "metadata": {},
   "outputs": [],
   "source": []
  },
  {
   "cell_type": "code",
   "execution_count": null,
   "metadata": {},
   "outputs": [],
   "source": []
  },
  {
   "cell_type": "code",
   "execution_count": null,
   "metadata": {},
   "outputs": [],
   "source": []
  },
  {
   "cell_type": "code",
   "execution_count": null,
   "metadata": {},
   "outputs": [],
   "source": []
  },
  {
   "cell_type": "code",
   "execution_count": 6,
   "metadata": {},
   "outputs": [
    {
     "name": "stdout",
     "output_type": "stream",
     "text": [
      "8\n",
      "1 2 3 1 2 3 3 3\n",
      "[2, 2, 4]\n",
      "2\n"
     ]
    }
   ],
   "source": [
    "a = int(input())\n",
    "b = list(map(int,input().split()))\n",
    "c = list(set(b))\n",
    "d = []\n",
    "for i in c:\n",
    "    d.append(b.count(i))\n",
    "print(d)\n",
    "d.remove(max(d))\n",
    "print(len(d))"
   ]
  },
  {
   "cell_type": "code",
   "execution_count": 9,
   "metadata": {},
   "outputs": [
    {
     "data": {
      "text/plain": [
       "4"
      ]
     },
     "execution_count": 9,
     "metadata": {},
     "output_type": "execute_result"
    }
   ],
   "source": [
    "sum(d)"
   ]
  },
  {
   "cell_type": "code",
   "execution_count": 8,
   "metadata": {},
   "outputs": [
    {
     "data": {
      "text/plain": [
       "[1, 2, 3]"
      ]
     },
     "execution_count": 8,
     "metadata": {},
     "output_type": "execute_result"
    }
   ],
   "source": [
    "c"
   ]
  },
  {
   "cell_type": "code",
   "execution_count": 69,
   "metadata": {},
   "outputs": [],
   "source": [
    "d=[]\n",
    "e=[]\n",
    "l=nq\n",
    "for i in range(nq,n):\n",
    "    l=l+1\n",
    "    e.append(l)\n",
    "    e.append(mq)\n",
    "    if(e not in c and l>0 and l<=n):\n",
    "        d.append(e)\n",
    "        e=[]\n",
    "    else:\n",
    "        break\n"
   ]
  },
  {
   "cell_type": "code",
   "execution_count": 70,
   "metadata": {},
   "outputs": [],
   "source": [
    "e=[]\n",
    "l=nq\n",
    "for i in range(nq,0,-1):\n",
    "    l=l-1\n",
    "    e.append(l)\n",
    "    e.append(mq)\n",
    "    if(e not in c and l>0 and l<=n):\n",
    "        d.append(e)\n",
    "        e=[]\n",
    "    else:\n",
    "        break"
   ]
  },
  {
   "cell_type": "code",
   "execution_count": 71,
   "metadata": {},
   "outputs": [],
   "source": [
    "e=[]\n",
    "l=mq\n",
    "for i in range(mq,n):\n",
    "    l=l+1\n",
    "    e.append(nq)\n",
    "    e.append(l)\n",
    "    if(e not in c and l>0 and l<=n):\n",
    "        d.append(e)\n",
    "        e=[]\n",
    "    else:\n",
    "        break"
   ]
  },
  {
   "cell_type": "code",
   "execution_count": 82,
   "metadata": {},
   "outputs": [
    {
     "name": "stdout",
     "output_type": "stream",
     "text": [
      "100000 0\n",
      "4187 5068\n",
      "309250\n"
     ]
    }
   ],
   "source": [
    "n,k = map(int,input().split())\n",
    "nq,mq = map(int,input().split())\n",
    "c=[]\n",
    "for i in range(k):\n",
    "    c.append(list(map(int,input().split())))\n",
    "d=[]\n",
    "e=[]\n",
    "l=nq\n",
    "for i in range(nq,n):\n",
    "    l=l+1\n",
    "    e.append(l)\n",
    "    e.append(mq)\n",
    "    if(e not in c and l>0 and l<=n):\n",
    "        d.append(e)\n",
    "        e=[]\n",
    "    else:\n",
    "        break\n",
    "e=[]\n",
    "l=nq\n",
    "for i in range(nq,0,-1):\n",
    "    l=l-1\n",
    "    e.append(l)\n",
    "    e.append(mq)\n",
    "    if(e not in c and l>0 and l<=n):\n",
    "        d.append(e)\n",
    "        e=[]\n",
    "    else:\n",
    "        break\n",
    "e=[]\n",
    "l=mq\n",
    "for i in range(mq,n):\n",
    "    l=l+1\n",
    "    e.append(nq)\n",
    "    e.append(l)\n",
    "    if(e not in c and l>0 and l<=n):\n",
    "        d.append(e)\n",
    "        e=[]\n",
    "    else:\n",
    "        break\n",
    "e=[]\n",
    "l=mq\n",
    "for i in range(mq,0,-1):\n",
    "    l=l-1\n",
    "    e.append(nq)\n",
    "    e.append(l)\n",
    "    if(e not in c and l>0 and l<=n):\n",
    "        d.append(e)\n",
    "        e=[]\n",
    "    else:\n",
    "        break\n",
    "e=[]\n",
    "l=nq\n",
    "m=mq\n",
    "for i in range(nq,n):\n",
    "    l=l+1\n",
    "    m=m+1\n",
    "    e.append(l)\n",
    "    e.append(m)\n",
    "    if(e not in c and l>0 and l<=n):\n",
    "        d.append(e)\n",
    "        e=[]\n",
    "    else:\n",
    "        break\n",
    "e=[]\n",
    "l=nq\n",
    "m=mq\n",
    "for i in range(nq,0,-1):\n",
    "    l=l-1\n",
    "    m=m-1\n",
    "    e.append(l)\n",
    "    e.append(m)\n",
    "    if(e not in c and l>0 and l<=n and m>0 and m<=n):\n",
    "        d.append(e)\n",
    "        e=[]\n",
    "    else:\n",
    "        break\n",
    "e=[]\n",
    "l=nq\n",
    "m=mq\n",
    "for i in range(nq,n):\n",
    "    l=l+1\n",
    "    m=m-1\n",
    "    e.append(l)\n",
    "    e.append(m)\n",
    "    if(e not in c and l>0 and l<=n and m>0 and m<=n):\n",
    "        d.append(e)\n",
    "        e=[]\n",
    "    else:\n",
    "        break\n",
    "e=[]\n",
    "l=nq\n",
    "m=mq\n",
    "for i in range(nq,0,-1):\n",
    "    l=l-1\n",
    "    m=m+1\n",
    "    e.append(l)\n",
    "    e.append(m)\n",
    "    if(e not in c and l>0 and l<=n and m>0 and m<=n):\n",
    "        d.append(e)\n",
    "        e=[]\n",
    "    else:\n",
    "        break\n",
    "print(len(d))"
   ]
  },
  {
   "cell_type": "code",
   "execution_count": null,
   "metadata": {},
   "outputs": [],
   "source": []
  },
  {
   "cell_type": "code",
   "execution_count": 96,
   "metadata": {},
   "outputs": [
    {
     "name": "stdout",
     "output_type": "stream",
     "text": [
      "5\n",
      "10 10\n",
      "1 1 1\n",
      "20\n",
      "5 9 \n",
      "2 3 4\n",
      "3 6\n",
      "9 1 1\n",
      "12\n",
      "7 7\n",
      "4 2 1\n",
      "35\n",
      "3 3 \n",
      "1 9 2\n",
      "12\n"
     ]
    }
   ],
   "source": [
    "for i in range(int(input())):\n",
    "    b,w = map(int,input().split())\n",
    "    bc,wc,z = map(int,input().split())\n",
    "    if(bc<wc and bc+z<wc):\n",
    "        print((b*bc)+(w*z)+(w*bc))\n",
    "    elif(wc<bc and wc+z<bc):\n",
    "        print((w*wc)+(b*z)+(b*wc))\n",
    "    elif((bc<wc or wc<bc) and (bc+z>wc or wc+z>bc)):\n",
    "        print((b*bc)+(w*wc))\n",
    "    elif(bc==wc):\n",
    "        print((b*bc)+(w*wc))    "
   ]
  },
  {
   "cell_type": "code",
   "execution_count": 104,
   "metadata": {},
   "outputs": [
    {
     "name": "stdout",
     "output_type": "stream",
     "text": [
      "5 9\n",
      "2 3 4\n",
      "37\n"
     ]
    }
   ],
   "source": [
    "b,w = map(int,input().split())\n",
    "bc,wc,z = map(int,input().split())\n",
    "if((bc<wc or wc<bc) and (bc+z>wc or wc+z>bc)):\n",
    "        print((b*bc)+(w*wc))"
   ]
  },
  {
   "cell_type": "code",
   "execution_count": 101,
   "metadata": {},
   "outputs": [
    {
     "data": {
      "text/plain": [
       "True"
      ]
     },
     "execution_count": 101,
     "metadata": {},
     "output_type": "execute_result"
    }
   ],
   "source": [
    "bc<wc"
   ]
  },
  {
   "cell_type": "code",
   "execution_count": 103,
   "metadata": {},
   "outputs": [
    {
     "data": {
      "text/plain": [
       "False"
      ]
     },
     "execution_count": 103,
     "metadata": {},
     "output_type": "execute_result"
    }
   ],
   "source": [
    "wc+z<bc"
   ]
  },
  {
   "cell_type": "code",
   "execution_count": 3,
   "metadata": {},
   "outputs": [
    {
     "name": "stdout",
     "output_type": "stream",
     "text": [
      "3\n",
      "1\n",
      "abu\n",
      "1\n",
      "1\n",
      "o\n",
      "0\n",
      "54\n",
      "as\n",
      "0\n"
     ]
    }
   ],
   "source": [
    "for i in range(int(input())):\n",
    "    a = int(input())\n",
    "    b = input()\n",
    "    c=0\n",
    "    d='aeiouAEIOU'\n",
    "    for i in range(0,len(b)-1):\n",
    "        if(b[i]not in d and b[i+1] in d):\n",
    "            c+=1\n",
    "    print(c)"
   ]
  },
  {
   "cell_type": "code",
   "execution_count": null,
   "metadata": {},
   "outputs": [],
   "source": []
  },
  {
   "cell_type": "code",
   "execution_count": 10,
   "metadata": {},
   "outputs": [
    {
     "name": "stdout",
     "output_type": "stream",
     "text": [
      "6\n",
      "15478 8452 8232 874 985 4512\n",
      "OUI\n"
     ]
    }
   ],
   "source": [
    "a = input()\n",
    "b = list(map(str,input().split()))\n",
    "c = ''\n",
    "d=b[len(b)//2:]\n",
    "b = b[:len(b)//2]\n",
    "for i in b:\n",
    "    c+=i[0]\n",
    "for i in d:\n",
    "    c+=i[-1]\n",
    "c=int(c)\n",
    "if(c%11==0):\n",
    "    print('OUI')\n",
    "else:\n",
    "    print('NON')"
   ]
  },
  {
   "cell_type": "code",
   "execution_count": 11,
   "metadata": {},
   "outputs": [
    {
     "name": "stdout",
     "output_type": "stream",
     "text": [
      "2\n",
      "3\n",
      "A\n",
      "5\n",
      "B\n"
     ]
    }
   ],
   "source": [
    "for i in range(int(input())):\n",
    "    b = int(input())\n",
    "    if(b<7-b):\n",
    "        print('A')\n",
    "    elif(b>7-b):\n",
    "        print('B')\n",
    "    else:\n",
    "        print('A')"
   ]
  },
  {
   "cell_type": "code",
   "execution_count": null,
   "metadata": {},
   "outputs": [],
   "source": []
  }
 ],
 "metadata": {
  "kernelspec": {
   "display_name": "Python 3",
   "language": "python",
   "name": "python3"
  },
  "language_info": {
   "codemirror_mode": {
    "name": "ipython",
    "version": 3
   },
   "file_extension": ".py",
   "mimetype": "text/x-python",
   "name": "python",
   "nbconvert_exporter": "python",
   "pygments_lexer": "ipython3",
   "version": "3.7.3"
  }
 },
 "nbformat": 4,
 "nbformat_minor": 4
}
