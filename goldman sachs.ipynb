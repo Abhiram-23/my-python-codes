{
 "cells": [
  {
   "cell_type": "code",
   "execution_count": null,
   "metadata": {},
   "outputs": [],
   "source": [
    "l1 = list(map(int,input().split()))\n",
    "r1 = list(map(int,input().split()))\n",
    "l2 = list(map(int,input().split()))\n",
    "r2 = list(map(int,input().split()))\n"
   ]
  },
  {
   "cell_type": "code",
   "execution_count": null,
   "metadata": {},
   "outputs": [],
   "source": [
    "print(l1,r1,l2,r2)"
   ]
  },
  {
   "cell_type": "code",
   "execution_count": null,
   "metadata": {},
   "outputs": [],
   "source": [
    "if(l1[0]>= r2[0] or l2[0] >= r1[0]): \n",
    "        print(False)\n",
    "  \n",
    "    # If one rectangle is above other \n",
    "if(l1[1] <= r2[1] or l2[1] <= r1[1]): \n",
    "        print(False)\n",
    "print(True)"
   ]
  },
  {
   "cell_type": "markdown",
   "metadata": {},
   "source": [
    "# geeks for geeks easy 2"
   ]
  },
  {
   "cell_type": "code",
   "execution_count": null,
   "metadata": {},
   "outputs": [],
   "source": [
    "a = [(1, 3), (-2, 2)]\n",
    "k = int(input())\n"
   ]
  },
  {
   "cell_type": "code",
   "execution_count": null,
   "metadata": {},
   "outputs": [],
   "source": [
    "b=[]\n",
    "for i in range(len(a)):\n",
    "    b.append(a[i][0]**2 + a[i][1]**2)"
   ]
  },
  {
   "cell_type": "code",
   "execution_count": null,
   "metadata": {},
   "outputs": [],
   "source": [
    "c=[]\n",
    "for i in range(k):\n",
    "    c.append(a[b.index(min(b))])\n",
    "    a.remove(a[b.index(min(b))])\n",
    "    b.remove(min(b))"
   ]
  },
  {
   "cell_type": "code",
   "execution_count": null,
   "metadata": {},
   "outputs": [],
   "source": [
    "c"
   ]
  },
  {
   "cell_type": "markdown",
   "metadata": {},
   "source": [
    "# geeks for geeks easy 3"
   ]
  },
  {
   "cell_type": "code",
   "execution_count": null,
   "metadata": {},
   "outputs": [],
   "source": [
    "a=[1,2,3,4,5]\n",
    "b=len(a)//2"
   ]
  },
  {
   "cell_type": "code",
   "execution_count": null,
   "metadata": {},
   "outputs": [],
   "source": [
    "a[b]"
   ]
  },
  {
   "cell_type": "code",
   "execution_count": null,
   "metadata": {},
   "outputs": [],
   "source": [
    "a=a[:b]"
   ]
  },
  {
   "cell_type": "code",
   "execution_count": null,
   "metadata": {},
   "outputs": [],
   "source": [
    "a\n",
    "b=len(a)//2"
   ]
  },
  {
   "cell_type": "code",
   "execution_count": null,
   "metadata": {},
   "outputs": [],
   "source": [
    "b"
   ]
  },
  {
   "cell_type": "code",
   "execution_count": null,
   "metadata": {},
   "outputs": [],
   "source": [
    "1//2"
   ]
  },
  {
   "cell_type": "code",
   "execution_count": null,
   "metadata": {},
   "outputs": [],
   "source": [
    "for i in range(int(input())):\n",
    "    n,m = map(int,input().split())\n",
    "    a = list(map(int,input().split()))\n",
    "    c=-1\n",
    "    while(len(a)>1):\n",
    "        b=len(a)//2\n",
    "        if(m>a[b]):\n",
    "            a=a[b:]\n",
    "        elif(m<a[b]):\n",
    "            a=a[:b]\n",
    "        elif(m==a[b]):\n",
    "            c=1\n",
    "            break\n",
    "    if(c==1):\n",
    "        print(1)\n",
    "    else:\n",
    "        print(-1)"
   ]
  },
  {
   "cell_type": "code",
   "execution_count": null,
   "metadata": {},
   "outputs": [],
   "source": [
    "for i in range(int(input())):\n",
    "    n,x=map(int,input().split())\n",
    "    a = list(map(int,input().split()))\n",
    "    print(a.count(x))"
   ]
  },
  {
   "cell_type": "code",
   "execution_count": null,
   "metadata": {},
   "outputs": [],
   "source": [
    "for i in range(int(input())):\n",
    "    n=map(int,input().split())\n",
    "    a = list(map(int,input().split()))\n",
    "    b=[]\n",
    "    c=[]\n",
    "    for i in range(len(a)):\n",
    "        if(a.count(a[i])>1):\n",
    "            b.append(a[i])\n",
    "        if(i+1 in a):\n",
    "            pass\n",
    "        else:\n",
    "            c.append(i+1)\n",
    "    print(min(b),min(c))"
   ]
  },
  {
   "cell_type": "code",
   "execution_count": null,
   "metadata": {},
   "outputs": [],
   "source": [
    "a=[1,2,3,4,5,6,7,8,9,10,11]\n",
    "m=12\n",
    "i=1\n",
    "while(i<len(a) and a[i]<=m):\n",
    "    i = i*2\n",
    "i=i//2\n",
    "if(a[i]==m):\n",
    "    print('yes')\n",
    "else:\n",
    "    a=a[i:]\n",
    "    while(len(a)>1):\n",
    "        b=len(a)//2\n",
    "        if(m>a[b]):\n",
    "            a=a[b:]\n",
    "        elif(m<a[b]):\n",
    "            a=a[:b]\n",
    "        elif(m==a[b]):\n",
    "            c=1\n",
    "            break\n",
    "    if(c==1):\n",
    "        print('yes')\n",
    "    else:\n",
    "        print('no')"
   ]
  },
  {
   "cell_type": "code",
   "execution_count": null,
   "metadata": {},
   "outputs": [],
   "source": [
    "for i in range(int(input())):\n",
    "    n,m=map(int,input().split())\n",
    "    a = list(map(int,input().split()))\n",
    "    c=0\n",
    "    d=[]\n",
    "    for i in range(len(a)):\n",
    "        s=a[i]\n",
    "        for j in range(i+1,len(a)):\n",
    "            s = s+a[j]\n",
    "            if(s==m):\n",
    "                d.append(i+1)\n",
    "                d.append(j+1)\n",
    "                c=1\n",
    "    if(c==1):\n",
    "        print(d[0],d[1])\n",
    "    else:\n",
    "        print(-1)\n",
    "            "
   ]
  },
  {
   "cell_type": "code",
   "execution_count": null,
   "metadata": {},
   "outputs": [],
   "source": []
  },
  {
   "cell_type": "code",
   "execution_count": null,
   "metadata": {},
   "outputs": [],
   "source": [
    "for i in range(int(input())):\n",
    "    a = int(input())\n",
    "    b = list(map(int,input().split()))\n",
    "    b = sorted(b)\n",
    "    d = len(b)\n",
    "    if(d%2==0):\n",
    "        print((b[d//2-1]+b[d//2])//2)\n",
    "    else:\n",
    "        print(b[d//2])"
   ]
  },
  {
   "cell_type": "code",
   "execution_count": null,
   "metadata": {},
   "outputs": [],
   "source": [
    "for i in range(int(input())):\n",
    "    n = input()\n",
    "    m = n[::-1]\n",
    "    print((int(n)**int(m))%1000000007)"
   ]
  },
  {
   "cell_type": "code",
   "execution_count": null,
   "metadata": {},
   "outputs": [],
   "source": [
    "a = [4,10,3]\n",
    "d=[]\n",
    "for i in range(len(a)):\n",
    "    c=1\n",
    "    for j in range(len(a)):\n",
    "        if(i==j):\n",
    "            pass\n",
    "        else:\n",
    "            c=c*a[j]\n",
    "    d.append(c)\n",
    "print(d)"
   ]
  },
  {
   "cell_type": "code",
   "execution_count": null,
   "metadata": {},
   "outputs": [],
   "source": [
    "n,k = map(int,input().split())\n",
    "arr = set(map(int,input().split()))\n",
    "count=0\n",
    "for i in range(len(arr)):\n",
    "    for j in range(i+1,len(arr)):\n",
    "        if(abs(arr[i]-arr[j])== k):\n",
    "            count+=1"
   ]
  },
  {
   "cell_type": "code",
   "execution_count": 5,
   "metadata": {},
   "outputs": [
    {
     "name": "stdout",
     "output_type": "stream",
     "text": [
      "1 1 1 \n",
      "1 1\n"
     ]
    }
   ],
   "source": [
    "from collections import defaultdict\n",
    "d1 = defaultdict(int)\n",
    "d2 = defaultdict(int)\n",
    "count = 0\n",
    "for i in reversed(a):\n",
    "    if i*r in d2:\n",
    "        count+=d2[i*r]\n",
    "    if i*r in d1:\n",
    "        d2[i]+= d1[i*r]\n",
    "    d1[i]+=1\n",
    "print(count)"
   ]
  },
  {
   "cell_type": "code",
   "execution_count": 8,
   "metadata": {},
   "outputs": [],
   "source": [
    "q = [2, 3, 5, 7, 11, 13, 17, 19, 23, 29, 31, 37, 41, 43, 47, 53, 59, 61, 67, 71, 73, 79, 83, 89, 97, 101, 103, 107, 109, 113, 127, 131, 137, 139, 149, 151, 157, 163, 167, 173, 179, 181, 191, 193, 197, 199, 211, 223, 227, 229, 233, 239, 241, 251, 257, 263, 269, 271, 277, 281, 283, 293, 307, 311, 313, 317, 331, 337, 347, 349, 353, 359, 367, 373, 379, 383, 389, 397, 401, 409, 419, 421, 431, 433, 439, 443, 449, 457, 461, 463, 467, 479, 487, 491, 499, 503, 509, 521, 523, 541, 547, 557, 563, 569, 571, 577, 587, 593, 599, 601, 607, 613, 617, 619, 631, 641, 643, 647, 653, 659, 661, 673, 677, 683, 691, 701, 709, 719, 727, 733, 739, 743, 751, 757, 761, 769, 773, 787, 797, 809, 811, 821, 823, 827, 829, 839, 853, 857, 859, 863, 877, 881, 883, 887, 907, 911, 919, 929, 937, 941, 947, 953, 967, 971, 977, 983, 991, 997, 1009, 1013, 1019, 1021, 1031, 1033, 1039, 1049, 1051, 1061, 1063, 1069, 1087, 1091, 1093, 1097, 1103, 1109, 1117, 1123, 1129, 1151, 1153, 1163, 1171, 1181, 1187, 1193, 1201, 1213, 1217, 1223, 1229, 1231, 1237, 1249, 1259, 1277, 1279, 1283, 1289, 1291, 1297, 1301, 1303, 1307, 1319, 1321, 1327, 1361, 1367, 1373, 1381, 1399, 1409, 1423, 1427, 1429, 1433, 1439, 1447, 1451, 1453, 1459, 1471, 1481, 1483, 1487, 1489, 1493, 1499, 1511, 1523, 1531, 1543, 1549, 1553, 1559, 1567, 1571, 1579, 1583, 1597, 1601, 1607, 1609, 1613, 1619, 1621, 1627, 1637, 1657, 1663, 1667, 1669, 1693, 1697, 1699, 1709, 1721, 1723, 1733, 1741, 1747, 1753, 1759, 1777, 1783, 1787, 1789, 1801, 1811, 1823, 1831, 1847, 1861, 1867, 1871, 1873, 1877, 1879, 1889, 1901, 1907, 1913, 1931, 1933, 1949, 1951, 1973, 1979, 1987, 1993, 1997,  1999]"
   ]
  },
  {
   "cell_type": "code",
   "execution_count": null,
   "metadata": {},
   "outputs": [],
   "source": []
  },
  {
   "cell_type": "code",
   "execution_count": 48,
   "metadata": {},
   "outputs": [
    {
     "name": "stdout",
     "output_type": "stream",
     "text": [
      "12\n",
      "2\n"
     ]
    }
   ],
   "source": [
    "n = int(input())\n",
    "a = str(n)\n",
    "c=0\n",
    "for i in a:\n",
    "    if(int(i)!=0):\n",
    "        if(n%int(i)==0):\n",
    "            c+=1\n",
    "print(c)"
   ]
  },
  {
   "cell_type": "code",
   "execution_count": 44,
   "metadata": {},
   "outputs": [
    {
     "data": {
      "text/plain": [
       "True"
      ]
     },
     "execution_count": 44,
     "metadata": {},
     "output_type": "execute_result"
    }
   ],
   "source": [
    "int(i)!=0"
   ]
  },
  {
   "cell_type": "code",
   "execution_count": 45,
   "metadata": {},
   "outputs": [
    {
     "data": {
      "text/plain": [
       "0"
      ]
     },
     "execution_count": 45,
     "metadata": {},
     "output_type": "execute_result"
    }
   ],
   "source": [
    "1012%1"
   ]
  },
  {
   "cell_type": "code",
   "execution_count": 5,
   "metadata": {},
   "outputs": [
    {
     "name": "stdout",
     "output_type": "stream",
     "text": [
      "1\n",
      "kamkelc k\n",
      "2\n"
     ]
    }
   ],
   "source": [
    "for i in range(int(input())):\n",
    "    a,b =map(str,input().split())\n",
    "    print(a.count(b))"
   ]
  },
  {
   "cell_type": "code",
   "execution_count": 4,
   "metadata": {},
   "outputs": [
    {
     "data": {
      "text/plain": [
       "1"
      ]
     },
     "execution_count": 4,
     "metadata": {},
     "output_type": "execute_result"
    }
   ],
   "source": [
    "a=[1,2,3,4,1]\n",
    "a.count(a[1])"
   ]
  },
  {
   "cell_type": "code",
   "execution_count": 18,
   "metadata": {},
   "outputs": [
    {
     "name": "stdout",
     "output_type": "stream",
     "text": [
      "1\n",
      "AbhiRAM\n"
     ]
    }
   ],
   "source": [
    "for i in range(int(input())):\n",
    "    a = input()\n",
    "    b=''\n",
    "    for i in a:\n",
    "        if(i == i.upper()):\n",
    "            b=b+i.lower()\n",
    "        else:\n",
    "            b=b+i.upper()"
   ]
  },
  {
   "cell_type": "code",
   "execution_count": 16,
   "metadata": {},
   "outputs": [
    {
     "name": "stdout",
     "output_type": "stream",
     "text": [
      "abhi\n"
     ]
    }
   ],
   "source": [
    "a='abhI'\n",
    "if(a[0]==a[0].lower()):\n",
    "    print(a.lower())"
   ]
  },
  {
   "cell_type": "code",
   "execution_count": 14,
   "metadata": {},
   "outputs": [
    {
     "data": {
      "text/plain": [
       "True"
      ]
     },
     "execution_count": 14,
     "metadata": {},
     "output_type": "execute_result"
    }
   ],
   "source": [
    "a[0]==a[0].lower()"
   ]
  },
  {
   "cell_type": "code",
   "execution_count": 20,
   "metadata": {},
   "outputs": [
    {
     "name": "stdout",
     "output_type": "stream",
     "text": [
      "abceabcf\n",
      "4\n",
      "1 3\n",
      "0\n",
      "2 5\n",
      "3\n",
      "3 3\n",
      "0\n",
      "4 4\n",
      "0\n"
     ]
    }
   ],
   "source": [
    "s = input()\n",
    "a=int(input())\n",
    "for i in range(a):\n",
    "    d=0\n",
    "    l,r = map(int,input().split())\n",
    "    b=s[1-1:r]\n",
    "    for i in range(len(b)):\n",
    "        for j in range(len(s)):\n",
    "            if(b[i]==s[j]):\n",
    "                c = s[j:j+len(b)]\n",
    "    for i in range(len(c)):\n",
    "        if(c[i]==b[i]):\n",
    "            d+=1\n",
    "    print(d)"
   ]
  },
  {
   "cell_type": "code",
   "execution_count": 44,
   "metadata": {},
   "outputs": [
    {
     "name": "stdout",
     "output_type": "stream",
     "text": [
      "1\n",
      "wwwwwwwwwww\n"
     ]
    }
   ],
   "source": [
    "for i in range(int(input())):\n",
    "    s='wwwwwwwwwww'\n",
    "    if(len(s)%2==0):\n",
    "        a =s[0:len(s)//2]\n",
    "        b=s[len(s)//2:]\n",
    "        if(a==b):\n",
    "            print(a)\n",
    "        else:\n",
    "            print(s)\n",
    "    else:\n",
    "        print(s)"
   ]
  },
  {
   "cell_type": "code",
   "execution_count": 43,
   "metadata": {},
   "outputs": [
    {
     "data": {
      "text/plain": [
       "15"
      ]
     },
     "execution_count": 43,
     "metadata": {},
     "output_type": "execute_result"
    }
   ],
   "source": [
    "len(s)"
   ]
  },
  {
   "cell_type": "code",
   "execution_count": null,
   "metadata": {},
   "outputs": [],
   "source": [
    "s='kipukkipuk'"
   ]
  },
  {
   "cell_type": "code",
   "execution_count": null,
   "metadata": {},
   "outputs": [],
   "source": []
  },
  {
   "cell_type": "code",
   "execution_count": 46,
   "metadata": {},
   "outputs": [
    {
     "name": "stdout",
     "output_type": "stream",
     "text": [
      "Enter your sentence :kipuk kipuk\n",
      "kipuk\n",
      "kipuk\n"
     ]
    }
   ],
   "source": [
    "x=input ('Enter your sentence :')\n",
    "y=x.split()\n",
    "y.sort()\n",
    "for y in sorted(y):\n",
    "    print (y)"
   ]
  },
  {
   "cell_type": "code",
   "execution_count": null,
   "metadata": {},
   "outputs": [],
   "source": []
  }
 ],
 "metadata": {
  "kernelspec": {
   "display_name": "Python 3",
   "language": "python",
   "name": "python3"
  },
  "language_info": {
   "codemirror_mode": {
    "name": "ipython",
    "version": 3
   },
   "file_extension": ".py",
   "mimetype": "text/x-python",
   "name": "python",
   "nbconvert_exporter": "python",
   "pygments_lexer": "ipython3",
   "version": "3.7.3"
  }
 },
 "nbformat": 4,
 "nbformat_minor": 4
}
