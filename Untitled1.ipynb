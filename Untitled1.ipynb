{
 "cells": [
  {
   "cell_type": "code",
   "execution_count": null,
   "metadata": {},
   "outputs": [],
   "source": [
    "5+6"
   ]
  },
  {
   "cell_type": "code",
   "execution_count": null,
   "metadata": {},
   "outputs": [],
   "source": [
    "11/2"
   ]
  },
  {
   "cell_type": "code",
   "execution_count": null,
   "metadata": {},
   "outputs": [],
   "source": [
    "def avg(*nums):\n",
    "    a = len(nums)\n",
    "    print(nums)"
   ]
  },
  {
   "cell_type": "code",
   "execution_count": null,
   "metadata": {},
   "outputs": [],
   "source": [
    "avg(1,2,3,4)"
   ]
  },
  {
   "cell_type": "code",
   "execution_count": null,
   "metadata": {},
   "outputs": [],
   "source": [
    "6//2"
   ]
  },
  {
   "cell_type": "code",
   "execution_count": null,
   "metadata": {},
   "outputs": [],
   "source": [
    "z = [i for i in range(5)]\n",
    "print(z)"
   ]
  },
  {
   "cell_type": "code",
   "execution_count": null,
   "metadata": {},
   "outputs": [],
   "source": [
    "a = [0,5,2,1,3,4]"
   ]
  },
  {
   "cell_type": "code",
   "execution_count": null,
   "metadata": {},
   "outputs": [],
   "source": [
    "a[a[4]]"
   ]
  },
  {
   "cell_type": "code",
   "execution_count": null,
   "metadata": {},
   "outputs": [],
   "source": [
    "a[4]"
   ]
  },
  {
   "cell_type": "code",
   "execution_count": null,
   "metadata": {},
   "outputs": [],
   "source": [
    "a[5]"
   ]
  },
  {
   "cell_type": "code",
   "execution_count": null,
   "metadata": {},
   "outputs": [],
   "source": [
    "a[4]"
   ]
  },
  {
   "cell_type": "code",
   "execution_count": null,
   "metadata": {},
   "outputs": [],
   "source": [
    "d=[]\n",
    "a=[0,4,3,5,1,2]\n",
    "e = sorted(a)\n",
    "for i in e:\n",
    "    b=a.index(i)\n",
    "    c=a.index(b)\n",
    "    d.append(c)\n",
    "print(a)\n",
    "print(d)"
   ]
  },
  {
   "cell_type": "code",
   "execution_count": null,
   "metadata": {},
   "outputs": [],
   "source": [
    "b"
   ]
  },
  {
   "cell_type": "code",
   "execution_count": null,
   "metadata": {},
   "outputs": [],
   "source": [
    "import statistics\n",
    "n , d =  map(int,input().split())\n",
    "a = list(map(int,input().split()))\n",
    "c=a[:d]\n",
    "e=0\n",
    "for i in range(d,len(a)):\n",
    "    b = statistics.median(c)\n",
    "    if(a[i]>=b*2):\n",
    "        e+=1\n",
    "    c.append(a[i])\n",
    "    c.remove(c[0])\n",
    "print(e)"
   ]
  },
  {
   "cell_type": "code",
   "execution_count": null,
   "metadata": {},
   "outputs": [],
   "source": [
    "a = long(input())"
   ]
  },
  {
   "cell_type": "code",
   "execution_count": null,
   "metadata": {},
   "outputs": [],
   "source": [
    "a = dict\n",
    "a['a']=1"
   ]
  },
  {
   "cell_type": "code",
   "execution_count": null,
   "metadata": {},
   "outputs": [],
   "source": [
    "dict([(1,2)])"
   ]
  },
  {
   "cell_type": "code",
   "execution_count": null,
   "metadata": {},
   "outputs": [],
   "source": [
    "d={}\n",
    "for i in range(int(input())):\n",
    "    a , b = map(str,input().split())\n",
    "    d[a] = b"
   ]
  },
  {
   "cell_type": "code",
   "execution_count": null,
   "metadata": {},
   "outputs": [],
   "source": [
    "d['abhi']"
   ]
  },
  {
   "cell_type": "code",
   "execution_count": null,
   "metadata": {},
   "outputs": [],
   "source": [
    "a = 439"
   ]
  },
  {
   "cell_type": "code",
   "execution_count": null,
   "metadata": {},
   "outputs": [],
   "source": [
    "b = bin(a)"
   ]
  },
  {
   "cell_type": "code",
   "execution_count": null,
   "metadata": {},
   "outputs": [],
   "source": [
    "b"
   ]
  },
  {
   "cell_type": "code",
   "execution_count": null,
   "metadata": {},
   "outputs": [],
   "source": [
    "c = 0\n",
    "count=0\n",
    "for i in range(2,len(b)):\n",
    "    if(b[i]=='1'):\n",
    "        c+=1\n",
    "    else:\n",
    "        if(c>count):\n",
    "            count=c\n",
    "        c=0\n",
    "print(max(count,c))"
   ]
  },
  {
   "cell_type": "code",
   "execution_count": null,
   "metadata": {},
   "outputs": [],
   "source": [
    "arr = [[1,2,3],[4,5,6],[7,8,9]]"
   ]
  },
  {
   "cell_type": "code",
   "execution_count": null,
   "metadata": {},
   "outputs": [],
   "source": [
    "arr[1][1]"
   ]
  },
  {
   "cell_type": "code",
   "execution_count": null,
   "metadata": {},
   "outputs": [],
   "source": [
    "arr = []\n",
    "for _ in range(6):\n",
    "    arr.append(list(map(int, input().rstrip().split())))\n",
    "    "
   ]
  },
  {
   "cell_type": "code",
   "execution_count": null,
   "metadata": {},
   "outputs": [],
   "source": [
    "print(arr)"
   ]
  },
  {
   "cell_type": "code",
   "execution_count": null,
   "metadata": {},
   "outputs": [],
   "source": [
    "c=[]\n",
    "for i in range(1,len(arr)-1):\n",
    "    for j in range(1,len(arr)-1):\n",
    "        c.append(sum([arr[i][j],arr[i-1][j],arr[i-1][j+1],arr[i-1][j-1],arr[i+1][j+1],arr[i+1][j-1],arr[i+1][j]]))"
   ]
  },
  {
   "cell_type": "code",
   "execution_count": null,
   "metadata": {},
   "outputs": [],
   "source": [
    "c"
   ]
  },
  {
   "cell_type": "code",
   "execution_count": null,
   "metadata": {},
   "outputs": [],
   "source": [
    "print(max(c))"
   ]
  },
  {
   "cell_type": "code",
   "execution_count": null,
   "metadata": {},
   "outputs": [],
   "source": [
    "a= 'i.like.this.program.very.much'"
   ]
  },
  {
   "cell_type": "code",
   "execution_count": null,
   "metadata": {},
   "outputs": [],
   "source": [
    "a=a.split('.')"
   ]
  },
  {
   "cell_type": "code",
   "execution_count": null,
   "metadata": {},
   "outputs": [],
   "source": [
    "a.reverse()"
   ]
  },
  {
   "cell_type": "code",
   "execution_count": null,
   "metadata": {},
   "outputs": [],
   "source": [
    "a"
   ]
  },
  {
   "cell_type": "code",
   "execution_count": null,
   "metadata": {},
   "outputs": [],
   "source": [
    "for i in a:\n",
    "    print(i,end='.')"
   ]
  },
  {
   "cell_type": "code",
   "execution_count": null,
   "metadata": {},
   "outputs": [],
   "source": [
    "1/3"
   ]
  },
  {
   "cell_type": "code",
   "execution_count": null,
   "metadata": {},
   "outputs": [],
   "source": [
    "1/4"
   ]
  },
  {
   "cell_type": "code",
   "execution_count": null,
   "metadata": {},
   "outputs": [],
   "source": [
    "1/6"
   ]
  },
  {
   "cell_type": "code",
   "execution_count": null,
   "metadata": {},
   "outputs": [],
   "source": [
    "1/7"
   ]
  },
  {
   "cell_type": "code",
   "execution_count": null,
   "metadata": {},
   "outputs": [],
   "source": [
    "2%8"
   ]
  },
  {
   "cell_type": "code",
   "execution_count": null,
   "metadata": {},
   "outputs": [],
   "source": [
    "c = list(map(int, input().rstrip().split()))\n",
    "k = int(input())"
   ]
  },
  {
   "cell_type": "code",
   "execution_count": null,
   "metadata": {},
   "outputs": [],
   "source": [
    "e=100\n",
    "for i in range(2,len(c)-k):\n",
    "    if(c[i]==0):\n",
    "        e=e-1\n",
    "    elif(c[i]==1):\n",
    "        e=e-1-2\n",
    "    i=i+k-1\n",
    "    if()\n",
    "        "
   ]
  },
  {
   "cell_type": "code",
   "execution_count": null,
   "metadata": {},
   "outputs": [],
   "source": [
    "print(e)"
   ]
  },
  {
   "cell_type": "code",
   "execution_count": null,
   "metadata": {},
   "outputs": [],
   "source": [
    "a = input()\n",
    "b = input()\n",
    "c=[]\n",
    "d=0\n",
    "for i in a:\n",
    "    if(str(i) in b):\n",
    "        c.append(i)\n",
    "        a=a.replace(str(i),'',1)\n",
    "        b=b.replace(str(i),'',1)\n",
    "print(len(a)+len(b))"
   ]
  },
  {
   "cell_type": "code",
   "execution_count": null,
   "metadata": {},
   "outputs": [],
   "source": []
  },
  {
   "cell_type": "code",
   "execution_count": null,
   "metadata": {},
   "outputs": [],
   "source": [
    "s=input()\n",
    "a = ['a','b','c','d','e','f','g','h','i','j','k','l','m','n','o','p','q','r','s','t','u','v','w','x','y','z']\n",
    "b=[]\n",
    "for i in a:\n",
    "    if(i in s):\n",
    "        b.append(s.count(i))"
   ]
  },
  {
   "cell_type": "code",
   "execution_count": null,
   "metadata": {},
   "outputs": [],
   "source": [
    "b"
   ]
  },
  {
   "cell_type": "code",
   "execution_count": null,
   "metadata": {},
   "outputs": [],
   "source": [
    "c=set(b)\n",
    "c=list(c)"
   ]
  },
  {
   "cell_type": "code",
   "execution_count": null,
   "metadata": {},
   "outputs": [],
   "source": [
    "c"
   ]
  },
  {
   "cell_type": "code",
   "execution_count": null,
   "metadata": {},
   "outputs": [],
   "source": [
    "i=0\n",
    "if(len(c)<=2 and b.count(c[i])==1 or b.count(c[i+1])==1):\n",
    "    print('YES')\n",
    "else:\n",
    "    print('NO')"
   ]
  },
  {
   "cell_type": "code",
   "execution_count": null,
   "metadata": {},
   "outputs": [],
   "source": []
  },
  {
   "cell_type": "code",
   "execution_count": null,
   "metadata": {},
   "outputs": [],
   "source": [
    "for i in range(int(input())):\n",
    "    c=[]\n",
    "    for i in range(int(input())):\n",
    "        s,p,v = map(int,input().split())\n",
    "        a=int(p/(s+1))*v\n",
    "        c.append(a)\n",
    "    print(max(c))"
   ]
  },
  {
   "cell_type": "code",
   "execution_count": null,
   "metadata": {},
   "outputs": [],
   "source": [
    "int(*75/100)"
   ]
  },
  {
   "cell_type": "code",
   "execution_count": null,
   "metadata": {},
   "outputs": [],
   "source": [
    "a='1010100101001011010101'"
   ]
  },
  {
   "cell_type": "code",
   "execution_count": null,
   "metadata": {},
   "outputs": [],
   "source": [
    "len(a)"
   ]
  },
  {
   "cell_type": "code",
   "execution_count": null,
   "metadata": {},
   "outputs": [],
   "source": [
    "b=''\n",
    "c=''\n",
    "for i in range (len(a)):\n",
    "    if(i%2==0):\n",
    "        b+=a[i]\n",
    "    else:\n",
    "        c+=a[i]"
   ]
  },
  {
   "cell_type": "code",
   "execution_count": null,
   "metadata": {},
   "outputs": [],
   "source": [
    "print(b,c)"
   ]
  },
  {
   "cell_type": "code",
   "execution_count": null,
   "metadata": {},
   "outputs": [],
   "source": [
    "d = round(len(b)*0.51)\n",
    "for i in range(d):\n",
    "    "
   ]
  },
  {
   "cell_type": "code",
   "execution_count": null,
   "metadata": {},
   "outputs": [],
   "source": [
    "round(11*(51/100))"
   ]
  },
  {
   "cell_type": "code",
   "execution_count": null,
   "metadata": {},
   "outputs": [],
   "source": []
  },
  {
   "cell_type": "code",
   "execution_count": null,
   "metadata": {},
   "outputs": [],
   "source": [
    "for i in range(int(input())):\n",
    "    n,m = map(str,input().split())\n",
    "    n = n.replace(',','')\n",
    "    m = m.replace(',','')"
   ]
  },
  {
   "cell_type": "code",
   "execution_count": null,
   "metadata": {},
   "outputs": [],
   "source": [
    "if(int(n)==int(m)):\n",
    "    print('1')"
   ]
  },
  {
   "cell_type": "code",
   "execution_count": null,
   "metadata": {},
   "outputs": [],
   "source": []
  },
  {
   "cell_type": "code",
   "execution_count": null,
   "metadata": {},
   "outputs": [],
   "source": [
    "for i in range(int(input())):\n",
    "    s = input()\n",
    "    s = s.lower()\n",
    "    if('berhampore'in s and 'serampore' in s):\n",
    "        print(' Both')\n",
    "    elif('berhampore' in s):\n",
    "        print('GCETTB')\n",
    "    elif('serampore' in s):\n",
    "        print('GCETTS')\n",
    "    else:\n",
    "        print('Others')"
   ]
  },
  {
   "cell_type": "code",
   "execution_count": null,
   "metadata": {},
   "outputs": [],
   "source": [
    "for i in range(int(input())):\n",
    "    d=[]\n",
    "    for j in range(int(input())):\n",
    "        a= list(map(str,input().split()))\n",
    "        d.append(a)\n",
    "        "
   ]
  },
  {
   "cell_type": "code",
   "execution_count": null,
   "metadata": {},
   "outputs": [],
   "source": [
    "s=0\n",
    "for i in d:\n",
    "    s=s+int(i[2])\n",
    "h = s/len(d)\n",
    "e=[]\n",
    "for i in d:\n",
    "    if(int(i[2])<h):\n",
    "        print(int(i[2]))\n",
    "        e.append(int(i[2]))"
   ]
  },
  {
   "cell_type": "code",
   "execution_count": null,
   "metadata": {},
   "outputs": [],
   "source": [
    "Rahul 1345964789 47\n",
    "Rupendra 1457856987 58\n",
    "Priya 1478569820 45"
   ]
  },
  {
   "cell_type": "code",
   "execution_count": null,
   "metadata": {},
   "outputs": [],
   "source": [
    "f=sorted(e)"
   ]
  },
  {
   "cell_type": "code",
   "execution_count": null,
   "metadata": {},
   "outputs": [],
   "source": [
    "s"
   ]
  },
  {
   "cell_type": "code",
   "execution_count": null,
   "metadata": {},
   "outputs": [],
   "source": [
    "for i in f:\n",
    "    for j in d:\n",
    "        if(i==int(j[2])):\n",
    "            print(j[0],j[1],j[2])\n",
    "            d.remove(j)"
   ]
  },
  {
   "cell_type": "code",
   "execution_count": null,
   "metadata": {},
   "outputs": [],
   "source": [
    "d"
   ]
  },
  {
   "cell_type": "code",
   "execution_count": null,
   "metadata": {},
   "outputs": [],
   "source": [
    "97+43"
   ]
  },
  {
   "cell_type": "code",
   "execution_count": null,
   "metadata": {},
   "outputs": [],
   "source": [
    "140/2"
   ]
  },
  {
   "cell_type": "code",
   "execution_count": null,
   "metadata": {},
   "outputs": [],
   "source": [
    "5*20/100"
   ]
  },
  {
   "cell_type": "code",
   "execution_count": null,
   "metadata": {},
   "outputs": [],
   "source": [
    "3*20/100"
   ]
  },
  {
   "cell_type": "code",
   "execution_count": null,
   "metadata": {},
   "outputs": [],
   "source": [
    "import math\n",
    "t , x = map(int,input().split())\n",
    "for i in range(t):\n",
    "    n = int(input())\n",
    "    m = math.sqrt(n)\n",
    "    m = int(m)\n",
    "    s = m**2\n",
    "    d = abs(s-n)\n",
    "    e = n*(x/100)\n",
    "    if(d<=e):\n",
    "        print('yes')\n",
    "    else:\n",
    "        print('no')"
   ]
  },
  {
   "cell_type": "code",
   "execution_count": null,
   "metadata": {},
   "outputs": [],
   "source": [
    "print(d)"
   ]
  },
  {
   "cell_type": "code",
   "execution_count": null,
   "metadata": {},
   "outputs": [],
   "source": [
    "5*(20/100)"
   ]
  },
  {
   "cell_type": "code",
   "execution_count": null,
   "metadata": {},
   "outputs": [],
   "source": [
    "20/100"
   ]
  },
  {
   "cell_type": "code",
   "execution_count": null,
   "metadata": {},
   "outputs": [],
   "source": [
    "0.01*20*5"
   ]
  },
  {
   "cell_type": "code",
   "execution_count": null,
   "metadata": {},
   "outputs": [],
   "source": [
    "5-(2**2)<=0.01*5"
   ]
  },
  {
   "cell_type": "code",
   "execution_count": null,
   "metadata": {},
   "outputs": [],
   "source": [
    "math.sqrt(5)"
   ]
  },
  {
   "cell_type": "code",
   "execution_count": null,
   "metadata": {},
   "outputs": [],
   "source": []
  },
  {
   "cell_type": "code",
   "execution_count": null,
   "metadata": {},
   "outputs": [],
   "source": [
    "b=[]\n",
    "for i in range(int(input())):\n",
    "    b.append(int(input()))"
   ]
  },
  {
   "cell_type": "code",
   "execution_count": null,
   "metadata": {},
   "outputs": [],
   "source": [
    "b"
   ]
  },
  {
   "cell_type": "code",
   "execution_count": null,
   "metadata": {},
   "outputs": [],
   "source": [
    "c=[]\n",
    "for i in range(len(b)):\n",
    "    for j in range(i+1,len(b)):\n",
    "        print(b[i]&b[j])"
   ]
  },
  {
   "cell_type": "code",
   "execution_count": null,
   "metadata": {},
   "outputs": [],
   "source": [
    "c"
   ]
  },
  {
   "cell_type": "code",
   "execution_count": null,
   "metadata": {},
   "outputs": [],
   "source": [
    "count=0\n",
    "for i in c:\n",
    "    if(i==1):\n",
    "        count+=1\n",
    "    elif(i==0):\n",
    "        pass\n",
    "    else:\n",
    "        while(i!=2):\n",
    "            i = i/2\n",
    "            if(i==3 or i==0):\n",
    "                break\n",
    "        if(i==2):\n",
    "            count+=1"
   ]
  },
  {
   "cell_type": "code",
   "execution_count": null,
   "metadata": {},
   "outputs": [],
   "source": [
    "count"
   ]
  },
  {
   "cell_type": "code",
   "execution_count": null,
   "metadata": {},
   "outputs": [],
   "source": [
    "a=[]"
   ]
  },
  {
   "cell_type": "code",
   "execution_count": null,
   "metadata": {},
   "outputs": [],
   "source": [
    "b=[1]*4"
   ]
  },
  {
   "cell_type": "code",
   "execution_count": null,
   "metadata": {},
   "outputs": [],
   "source": [
    "a.append(b)"
   ]
  },
  {
   "cell_type": "code",
   "execution_count": null,
   "metadata": {},
   "outputs": [],
   "source": []
  },
  {
   "cell_type": "code",
   "execution_count": null,
   "metadata": {},
   "outputs": [],
   "source": [
    "s= input()\n",
    "b=[]\n",
    "for i in range(len(s)):\n",
    "    if(len(b)==0):\n",
    "        b.append(s[i])\n",
    "    elif(b[-1]==s[i]):\n",
    "        b.pop()\n",
    "    else:\n",
    "        b.append(s[i])"
   ]
  },
  {
   "cell_type": "code",
   "execution_count": null,
   "metadata": {},
   "outputs": [],
   "source": [
    "print(''.join(b))"
   ]
  },
  {
   "cell_type": "code",
   "execution_count": null,
   "metadata": {},
   "outputs": [],
   "source": [
    "s = input()\n",
    "c=1\n",
    "for i in s:\n",
    "    if(i==i.upper()):\n",
    "        c+=1\n",
    "print(c)"
   ]
  },
  {
   "cell_type": "code",
   "execution_count": null,
   "metadata": {},
   "outputs": [],
   "source": [
    "'a'=='a'.upper()"
   ]
  },
  {
   "cell_type": "code",
   "execution_count": null,
   "metadata": {},
   "outputs": [],
   "source": [
    "count = 0    \n",
    "    if any(i.isdigit() for i in password)==False:\n",
    "        count+=1\n",
    "    if any(i.islower() for i in password)==False:\n",
    "        count+=1\n",
    "    if any(i.isupper() for i in password)==False:\n",
    "        count+=1\n",
    "    if any(i in '!@#$%^&*()-+' for i in password)==False:\n",
    "        count+=1\n",
    "    return max(count,6-n)"
   ]
  },
  {
   "cell_type": "code",
   "execution_count": null,
   "metadata": {},
   "outputs": [],
   "source": [
    "s = input()\n",
    "d = list(set(s))"
   ]
  },
  {
   "cell_type": "code",
   "execution_count": null,
   "metadata": {},
   "outputs": [],
   "source": [
    "c=[]\n",
    "for i in range(len(d)):\n",
    "    for j in range(i+1,len(d)):\n",
    "        b=[d[i],d[j]]\n",
    "        c.append(b)"
   ]
  },
  {
   "cell_type": "code",
   "execution_count": null,
   "metadata": {},
   "outputs": [],
   "source": [
    "h=[]\n",
    "for i in c:\n",
    "    for j in range(len(i)):\n",
    "        z=s.replace(s[i],'')\n",
    "    h.append(z)"
   ]
  },
  {
   "cell_type": "code",
   "execution_count": null,
   "metadata": {},
   "outputs": [],
   "source": [
    "h"
   ]
  },
  {
   "cell_type": "code",
   "execution_count": null,
   "metadata": {},
   "outputs": [],
   "source": [
    "co=True\n",
    "count=0\n",
    "m=[]\n",
    "for i in range(len(h)-1):\n",
    "    if(h[i]==h[i+1]):\n",
    "        co = False\n",
    "    else:\n",
    "        count+=1\n",
    "if(co==True):\n",
    "    m.append(count)"
   ]
  },
  {
   "cell_type": "code",
   "execution_count": null,
   "metadata": {},
   "outputs": [],
   "source": []
  },
  {
   "cell_type": "code",
   "execution_count": null,
   "metadata": {
    "scrolled": true
   },
   "outputs": [],
   "source": [
    "n , m = map(int,input().split())\n",
    "b=[]\n",
    "for i in range(n):\n",
    "     b.append(i+1)\n",
    "for i in range(m):\n",
    "    a  = int(input())\n",
    "    if(a in b):\n",
    "        temp = b[0]\n",
    "        b[0] = b[-1]\n",
    "        b[-1] = temp\n",
    "        print(b,sum(b))\n",
    "    else:\n",
    "        b[-1 ] = a\n",
    "        print(b,sum(b))"
   ]
  },
  {
   "cell_type": "code",
   "execution_count": null,
   "metadata": {},
   "outputs": [],
   "source": [
    "k=int(input())\n",
    "o = 'abcdefghijklmnopqrstuvwxyz'\n",
    "k=k%len(o)\n",
    "a = o[k:]+o[:k]\n",
    "s = input()\n",
    "c=''\n",
    "for i in s:\n",
    "    if(i.isalpha()):\n",
    "        if(i==i.upper()):\n",
    "            i=i.lower()\n",
    "            b = o.index(i)\n",
    "            c=c+a[b].upper()\n",
    "        else:\n",
    "            b = o.index(i)\n",
    "            c=c+a[b]\n",
    "    else:\n",
    "        c=c+i\n",
    "print(c)"
   ]
  },
  {
   "cell_type": "code",
   "execution_count": null,
   "metadata": {},
   "outputs": [],
   "source": [
    "s = input()\n",
    "count=0\n",
    "a=0\n",
    "for i in s:\n",
    "    if(a>2):\n",
    "        a=0\n",
    "    if((i=='S' and a==0) or (i=='O' and a==1) or (i=='S' and a==2)):\n",
    "        a=a+1\n",
    "    else:\n",
    "        count+=1\n",
    "        a=a+1\n",
    "print(count)"
   ]
  },
  {
   "cell_type": "code",
   "execution_count": null,
   "metadata": {
    "scrolled": true
   },
   "outputs": [],
   "source": [
    "a = 'abcdefghijklmnopqrstuvwxyzABCDEFGHIJKLMNOPQRSTUVWXYZ'\n",
    "s = input()\n",
    "for i in s:\n",
    "    if(i in a):\n",
    "        s=s.replace(i,'')\n",
    "        a = a.replace(i,'')\n",
    "        a = a.replace(i.lower(),'')\n",
    "        a = a.replace(i.upper(),'')\n",
    "if(len(a)==0):\n",
    "    print('pangram')\n",
    "else:\n",
    "    print('not pangram')"
   ]
  },
  {
   "cell_type": "code",
   "execution_count": null,
   "metadata": {},
   "outputs": [],
   "source": [
    "s=input()\n",
    "queries = list(map(int,input().split()))\n",
    "a=[s[0]]\n",
    "d=[]\n",
    "z='abcdefghijklmnopqrstuvwxyz'\n",
    "for i in range(1,len(s)):\n",
    "    if(s[i] in a[-1]):\n",
    "        b=a[-1]+s[i]\n",
    "        a.append(b)\n",
    "        d.append((z.index(b[0])+1)*len(b))\n",
    "    else:\n",
    "        d.append(z.index(s[i])+1)\n",
    "        a.append(s[i])\n",
    "for i in queries:\n",
    "    if(i in d):\n",
    "        print('Yes')\n",
    "    else:\n",
    "        print('No')"
   ]
  },
  {
   "cell_type": "code",
   "execution_count": null,
   "metadata": {},
   "outputs": [],
   "source": [
    "s = input()\n",
    "count=0\n",
    "if(s!=s[::-1]):\n",
    "    for i in range(len(s)//2):\n",
    "        if(s[i]!=s[-i-1]):\n",
    "            s.replace(s[-i-1],s[i],1)\n",
    "            count+=len(s)-(i)\n",
    "print(count)    "
   ]
  },
  {
   "cell_type": "code",
   "execution_count": null,
   "metadata": {},
   "outputs": [],
   "source": [
    "'abhi'=='abhi'"
   ]
  },
  {
   "cell_type": "code",
   "execution_count": null,
   "metadata": {},
   "outputs": [],
   "source": [
    "a='abhi'"
   ]
  },
  {
   "cell_type": "code",
   "execution_count": null,
   "metadata": {},
   "outputs": [],
   "source": [
    "a[-i-1]=a[i]"
   ]
  },
  {
   "cell_type": "code",
   "execution_count": null,
   "metadata": {},
   "outputs": [],
   "source": [
    "ord('a')-ord('c')"
   ]
  },
  {
   "cell_type": "code",
   "execution_count": null,
   "metadata": {},
   "outputs": [],
   "source": [
    "n = int(input())\n",
    "m = list(map(int,input().split()))\n",
    "o=0\n",
    "a='YES'\n",
    "for i in range(1,len(m)):\n",
    "    if((m[o]%2==0 and m[i]%2==0)or(m[o]%2!=0 and m[i]%2!=0)):\n",
    "        a='NO'\n",
    "        break\n",
    "    else:\n",
    "        o=i\n",
    "if(a==\"NO\"):\n",
    "    print('NO')\n",
    "else:\n",
    "    print('YES')"
   ]
  },
  {
   "cell_type": "code",
   "execution_count": null,
   "metadata": {},
   "outputs": [],
   "source": [
    "nc = int(input())\n",
    "cc = list(map(int,input().split()))\n",
    "ms = int(input())\n",
    "cs = list(map(int,input().split()))\n",
    "for i in range(len(cc)):\n",
    "    min = 0\n",
    "    a = cc[i]-cs[i]\n",
    "    if(min>a):\n",
    "        min = a\n",
    "    if(cs.index(min)>cc.index(cc[i])):\n",
    "        b = 'R'\n",
    "    elif(cs.index(min)<cc.index(cc[i])):\n",
    "        b = 'L'\n",
    "    else:\n",
    "        b='O'\n",
    "    print(min,b)"
   ]
  },
  {
   "cell_type": "code",
   "execution_count": null,
   "metadata": {},
   "outputs": [],
   "source": [
    "nc = int(input())\n",
    "cc = list(map(int,input().split()))\n",
    "ms = int(input())\n",
    "cs = list(map(int,input().split()))\n",
    "cs = sorted(cs)\n",
    "for i in cc:\n",
    "    min=1000\n",
    "    if(i in cs):\n",
    "        print(0,'O')\n",
    "        continue\n",
    "    for j in cs:\n",
    "        if(abs(i-j)<min):\n",
    "            if(j<i):\n",
    "                min =abs(i-j)\n",
    "                c='L'\n",
    "            elif(j>i):\n",
    "                min = abs(i-j)\n",
    "                c='R'\n",
    "            else:  \n",
    "                min = abs(i-j)\n",
    "                c='O'\n",
    "    print(min,c)"
   ]
  },
  {
   "cell_type": "code",
   "execution_count": null,
   "metadata": {},
   "outputs": [],
   "source": [
    "a = [1,2,3,4,5]\n",
    "b = [3,5,6,7,1,2,9]\n",
    "b = sorted(b)"
   ]
  },
  {
   "cell_type": "code",
   "execution_count": null,
   "metadata": {},
   "outputs": [],
   "source": [
    "b"
   ]
  },
  {
   "cell_type": "code",
   "execution_count": null,
   "metadata": {},
   "outputs": [],
   "source": []
  },
  {
   "cell_type": "code",
   "execution_count": null,
   "metadata": {},
   "outputs": [],
   "source": [
    "s = input()\n",
    "a = s[0]\n",
    "b=[]\n",
    "for i in range(1,len(s)):\n",
    "    b.append(abs(ord(a)-ord(s[i])))\n",
    "    a = s[i]\n",
    "s = s[::-1]\n",
    "c=s[0]\n",
    "d=[]\n",
    "for i in range(1,len(s)):\n",
    "    d.append(abs(ord(a)-ord(s[i])))\n",
    "    a = s[i]\n",
    "if(d==b):\n",
    "    print('Funny')\n",
    "else:\n",
    "    print('Not Funny')"
   ]
  },
  {
   "cell_type": "code",
   "execution_count": null,
   "metadata": {},
   "outputs": [],
   "source": []
  },
  {
   "cell_type": "code",
   "execution_count": null,
   "metadata": {},
   "outputs": [],
   "source": [
    "a = list(map(str,input().split()))\n",
    "b = set(a[0])\n",
    "c=0\n",
    "for i in b:\n",
    "    count=0\n",
    "    for j in a:\n",
    "        if(i in j):\n",
    "            count+=1\n",
    "    if(count==len(a)):\n",
    "        c+=1\n",
    "print(c)"
   ]
  },
  {
   "cell_type": "code",
   "execution_count": null,
   "metadata": {},
   "outputs": [],
   "source": []
  },
  {
   "cell_type": "code",
   "execution_count": null,
   "metadata": {},
   "outputs": [],
   "source": [
    "s1 = input()\n",
    "s2 = input()\n",
    "for i in s1:\n",
    "    if i in s2:\n",
    "        s1=s1.replace(i,'',1)\n",
    "        s2=s2.replace(i,'',1)\n",
    "print(len(s1)+len(s2))"
   ]
  },
  {
   "cell_type": "code",
   "execution_count": null,
   "metadata": {},
   "outputs": [],
   "source": []
  },
  {
   "cell_type": "code",
   "execution_count": null,
   "metadata": {},
   "outputs": [],
   "source": [
    "a='aabcbaa'"
   ]
  },
  {
   "cell_type": "code",
   "execution_count": null,
   "metadata": {},
   "outputs": [],
   "source": [
    "s = input()\n",
    "c=[]\n",
    "if(len(s)%2==0):\n",
    "    for i in range(len(s)):\n",
    "        c.append(s.count(s[i]))\n",
    "    d=set(c)\n",
    "    if(len(d)==1):\n",
    "        print('YES')\n",
    "    else:\n",
    "        print('NO')\n",
    "else:\n",
    "    for i in range(len(s)):\n",
    "        c.append(s.count(s[i]))\n",
    "    d = set(c)\n",
    "    d = list(d)\n",
    "    if((len(d)==2) and( d[0]==1 or d[1]==1)):\n",
    "        print('YES')\n",
    "    else:\n",
    "        print('NO')"
   ]
  },
  {
   "cell_type": "code",
   "execution_count": null,
   "metadata": {},
   "outputs": [],
   "source": [
    "d"
   ]
  },
  {
   "cell_type": "code",
   "execution_count": null,
   "metadata": {},
   "outputs": [],
   "source": [
    "c"
   ]
  },
  {
   "cell_type": "code",
   "execution_count": null,
   "metadata": {},
   "outputs": [],
   "source": [
    "len(s)"
   ]
  },
  {
   "cell_type": "code",
   "execution_count": null,
   "metadata": {},
   "outputs": [],
   "source": [
    "dict1 = {'name':'abhi','age':'21','nationality':'indian','skadj':1452,'ahjsdfkn':5123,'sjfkd':515}"
   ]
  },
  {
   "cell_type": "code",
   "execution_count": null,
   "metadata": {},
   "outputs": [],
   "source": [
    "for a,b in dict1.items():\n",
    "    print(a,b)"
   ]
  },
  {
   "cell_type": "code",
   "execution_count": null,
   "metadata": {},
   "outputs": [],
   "source": [
    "from collections import OrderedDict"
   ]
  },
  {
   "cell_type": "code",
   "execution_count": null,
   "metadata": {},
   "outputs": [],
   "source": [
    "di = OrderedDict(dict1)"
   ]
  },
  {
   "cell_type": "code",
   "execution_count": null,
   "metadata": {},
   "outputs": [],
   "source": [
    "di"
   ]
  },
  {
   "cell_type": "code",
   "execution_count": null,
   "metadata": {},
   "outputs": [],
   "source": [
    "dict1"
   ]
  },
  {
   "cell_type": "code",
   "execution_count": null,
   "metadata": {},
   "outputs": [],
   "source": []
  },
  {
   "cell_type": "code",
   "execution_count": null,
   "metadata": {},
   "outputs": [],
   "source": [
    "s = input()\n",
    "a = set(s)\n",
    "c=''\n",
    "count=0\n",
    "if(len(s)==len(a)):\n",
    "    print(len(s))\n",
    "else:\n",
    "    for i in s:\n",
    "        if(i in c):\n",
    "                c+=i\n",
    "        else:\n",
    "            c+=i\n",
    "            count+=1\n",
    "    print(count)"
   ]
  },
  {
   "cell_type": "code",
   "execution_count": null,
   "metadata": {},
   "outputs": [],
   "source": [
    "c"
   ]
  },
  {
   "cell_type": "code",
   "execution_count": null,
   "metadata": {},
   "outputs": [],
   "source": [
    "from collections import Counter\n",
    "s = input()\n",
    "a = Counter(s)\n",
    "b=[]\n",
    "for i,j in a.items():\n",
    "    b.append(j) "
   ]
  },
  {
   "cell_type": "code",
   "execution_count": null,
   "metadata": {},
   "outputs": [],
   "source": [
    "c = Counter(b)"
   ]
  },
  {
   "cell_type": "code",
   "execution_count": null,
   "metadata": {},
   "outputs": [],
   "source": [
    "d=[]\n",
    "for i,j in c.items():\n",
    "    d.append(j) "
   ]
  },
  {
   "cell_type": "code",
   "execution_count": null,
   "metadata": {},
   "outputs": [],
   "source": [
    "d"
   ]
  },
  {
   "cell_type": "code",
   "execution_count": null,
   "metadata": {},
   "outputs": [],
   "source": [
    "len(d)"
   ]
  },
  {
   "cell_type": "code",
   "execution_count": null,
   "metadata": {},
   "outputs": [],
   "source": [
    "1 in d\n"
   ]
  },
  {
   "cell_type": "code",
   "execution_count": null,
   "metadata": {},
   "outputs": [],
   "source": [
    "c"
   ]
  },
  {
   "cell_type": "code",
   "execution_count": null,
   "metadata": {},
   "outputs": [],
   "source": [
    "aaaabbcc"
   ]
  },
  {
   "cell_type": "code",
   "execution_count": null,
   "metadata": {},
   "outputs": [],
   "source": [
    "a='madam'"
   ]
  },
  {
   "cell_type": "code",
   "execution_count": null,
   "metadata": {},
   "outputs": [],
   "source": [
    "a==a[::-1]"
   ]
  },
  {
   "cell_type": "code",
   "execution_count": null,
   "metadata": {},
   "outputs": [],
   "source": [
    "c=0\n",
    "for i in range (len(a)):\n",
    "    b=a[:i]+a[i+1:]\n",
    "    if(b==b[::-1]):\n",
    "        print(i)\n",
    "        break\n",
    "    else:\n",
    "        pass"
   ]
  },
  {
   "cell_type": "code",
   "execution_count": null,
   "metadata": {},
   "outputs": [],
   "source": [
    "a = int(input())\n",
    "c=[]\n",
    "for i in range(a):\n",
    "    b = int(input())\n",
    "    c.append(b)\n",
    "c=sorted(c)\n",
    "for i in c:\n",
    "    print(i)"
   ]
  },
  {
   "cell_type": "code",
   "execution_count": null,
   "metadata": {},
   "outputs": [],
   "source": [
    "c"
   ]
  },
  {
   "cell_type": "code",
   "execution_count": null,
   "metadata": {},
   "outputs": [],
   "source": [
    "n = int(input())\n",
    "arr = list(map(int, input().rstrip().split()))"
   ]
  },
  {
   "cell_type": "code",
   "execution_count": null,
   "metadata": {},
   "outputs": [],
   "source": [
    "b=arr[n-1]"
   ]
  },
  {
   "cell_type": "code",
   "execution_count": null,
   "metadata": {},
   "outputs": [],
   "source": []
  },
  {
   "cell_type": "code",
   "execution_count": null,
   "metadata": {},
   "outputs": [],
   "source": [
    "for i in range(int(input())):\n",
    "    n,m = map(int,input().split())\n",
    "    a  = list(map(int,input().split()))\n",
    "    if(m > n):\n",
    "        m = m%\n",
    "    print(a[m:n]+a[:m])"
   ]
  },
  {
   "cell_type": "code",
   "execution_count": null,
   "metadata": {},
   "outputs": [],
   "source": []
  },
  {
   "cell_type": "code",
   "execution_count": null,
   "metadata": {},
   "outputs": [],
   "source": [
    "for i in range(int(input())):\n",
    "    a = int(input())\n",
    "    b = list(map(int,input().split()))\n",
    "    for i in range(len(b)):\n",
    "        m = b[i:]\n",
    "        n = max(m)\n",
    "        if(b[i]==n):\n",
    "            print(b[i],end=' ')\n",
    "    print()"
   ]
  },
  {
   "cell_type": "code",
   "execution_count": null,
   "metadata": {},
   "outputs": [],
   "source": []
  },
  {
   "cell_type": "code",
   "execution_count": null,
   "metadata": {},
   "outputs": [],
   "source": []
  },
  {
   "cell_type": "code",
   "execution_count": null,
   "metadata": {},
   "outputs": [],
   "source": [
    "for i in range(int(input())):\n",
    "    n,m=map(int,input().split())\n",
    "    o = list(map(int,input().split()))\n",
    "    count=0\n",
    "    d=[]\n",
    "    e=[]\n",
    "    for i in range(len(o)):\n",
    "        d.append(o[i])\n",
    "        count+=1\n",
    "        if(count==m):\n",
    "            count=0\n",
    "            d=d[::-1]\n",
    "            e=e+d\n",
    "            d.clear()\n",
    "    e=e+d[::-1]\n",
    "    for i in e:\n",
    "        print(i,end=' ')\n",
    "    print()"
   ]
  },
  {
   "cell_type": "code",
   "execution_count": null,
   "metadata": {},
   "outputs": [],
   "source": []
  },
  {
   "cell_type": "code",
   "execution_count": null,
   "metadata": {},
   "outputs": [],
   "source": [
    "for i in range(int(input())):\n",
    "    n = int(input())\n",
    "    m = list(map(int,input().split()))\n",
    "    k = int(input())\n",
    "    for i in range(k):\n",
    "        a = min(m)\n",
    "        m.remove(a)\n",
    "    print(a)  "
   ]
  },
  {
   "cell_type": "code",
   "execution_count": null,
   "metadata": {},
   "outputs": [],
   "source": []
  },
  {
   "cell_type": "code",
   "execution_count": null,
   "metadata": {},
   "outputs": [],
   "source": [
    "for i in range(int(input())):\n",
    "    a = int(input())\n",
    "    b = list(map(int,input().split()))\n",
    "    count=0\n",
    "    for i in range(1,len(b)-1):\n",
    "        c=b[:i]\n",
    "        d=b[i:]\n",
    "        e=max(c)\n",
    "        f=max(d)\n",
    "        g = min(e,f)\n",
    "        h = g-b[i]\n",
    "        if(h<0):\n",
    "            h=0\n",
    "        count+=h\n",
    "    print(count)"
   ]
  },
  {
   "cell_type": "code",
   "execution_count": null,
   "metadata": {},
   "outputs": [],
   "source": [
    "a=6\n",
    "b=[3,2,4]\n",
    "for i in range(len(b)):\n",
    "    for j in range(i+1,len(b)):\n",
    "        if(b[i]+b[j]==a):\n",
    "            print(i,j)"
   ]
  },
  {
   "cell_type": "code",
   "execution_count": null,
   "metadata": {},
   "outputs": [],
   "source": []
  },
  {
   "cell_type": "code",
   "execution_count": null,
   "metadata": {},
   "outputs": [],
   "source": [
    "a = int(input())\n",
    "while(a%10==0):\n",
    "    a=a//10\n",
    "b =str(a)\n",
    "c=''\n",
    "if('-' in b):\n",
    "    c='-'\n",
    "    b=b.replace('-','')\n",
    "b = b[::-1]\n",
    "print(c+b)\n"
   ]
  },
  {
   "cell_type": "code",
   "execution_count": null,
   "metadata": {},
   "outputs": [],
   "source": [
    "int('0123')"
   ]
  },
  {
   "cell_type": "code",
   "execution_count": null,
   "metadata": {},
   "outputs": [],
   "source": [
    "c=1200\n",
    "c//10"
   ]
  },
  {
   "cell_type": "code",
   "execution_count": null,
   "metadata": {},
   "outputs": [],
   "source": [
    "a=123"
   ]
  },
  {
   "cell_type": "code",
   "execution_count": null,
   "metadata": {},
   "outputs": [],
   "source": [
    "a//10"
   ]
  },
  {
   "cell_type": "code",
   "execution_count": null,
   "metadata": {},
   "outputs": [],
   "source": [
    "a%10"
   ]
  },
  {
   "cell_type": "code",
   "execution_count": null,
   "metadata": {},
   "outputs": [],
   "source": [
    "123%10"
   ]
  },
  {
   "cell_type": "code",
   "execution_count": null,
   "metadata": {},
   "outputs": [],
   "source": [
    "a=0"
   ]
  },
  {
   "cell_type": "code",
   "execution_count": null,
   "metadata": {},
   "outputs": [],
   "source": [
    "b=0\n",
    "while(a!=0):\n",
    "    b=b*10\n",
    "    b=b+a%10\n",
    "    a=a//10\n",
    "print(b)"
   ]
  },
  {
   "cell_type": "code",
   "execution_count": null,
   "metadata": {},
   "outputs": [],
   "source": [
    "a=-121"
   ]
  },
  {
   "cell_type": "code",
   "execution_count": null,
   "metadata": {},
   "outputs": [],
   "source": [
    "a=a//10\n",
    "a"
   ]
  },
  {
   "cell_type": "code",
   "execution_count": null,
   "metadata": {},
   "outputs": [],
   "source": [
    "a=-121\n",
    "if(a<0):\n",
    "    print('false')"
   ]
  },
  {
   "cell_type": "code",
   "execution_count": null,
   "metadata": {},
   "outputs": [],
   "source": [
    "class Solution:\n",
    "    def isPalindrome(self, x: int) -> bool:\n",
    "        if(x<0):\n",
    "            return'false'\n",
    "        else:\n",
    "            b=0\n",
    "            a=x\n",
    "            while(x!=0):\n",
    "                b=b*10\n",
    "                b=b+x%10\n",
    "                x=x//10\n",
    "            if(a==b):\n",
    "                return 'true'\n",
    "            else:\n",
    "                return 'false'"
   ]
  },
  {
   "cell_type": "code",
   "execution_count": null,
   "metadata": {},
   "outputs": [],
   "source": []
  },
  {
   "cell_type": "code",
   "execution_count": null,
   "metadata": {},
   "outputs": [],
   "source": [
    "a=100120132\n"
   ]
  },
  {
   "cell_type": "code",
   "execution_count": null,
   "metadata": {},
   "outputs": [],
   "source": [
    "b=str(a)\n",
    "b=b.replace('0','5')\n",
    "print(int(b))"
   ]
  },
  {
   "cell_type": "code",
   "execution_count": null,
   "metadata": {},
   "outputs": [],
   "source": [
    "arr=[1,2,2,5,3,5,2,1,3]\n",
    "b=set(arr)"
   ]
  },
  {
   "cell_type": "code",
   "execution_count": null,
   "metadata": {},
   "outputs": [],
   "source": [
    "sorted(b)"
   ]
  },
  {
   "cell_type": "code",
   "execution_count": null,
   "metadata": {},
   "outputs": [],
   "source": [
    "a = list(map(int,input().split()))"
   ]
  },
  {
   "cell_type": "code",
   "execution_count": null,
   "metadata": {},
   "outputs": [],
   "source": [
    "count=0\n",
    "d=[]\n",
    "e=[]\n",
    "for i in range(len(a)):\n",
    "    count+=1\n",
    "    e.append(a[i])\n",
    "    if(count==3):\n",
    "        d.append(e)\n",
    "        count=0\n",
    "        e=[]"
   ]
  },
  {
   "cell_type": "code",
   "execution_count": null,
   "metadata": {},
   "outputs": [],
   "source": [
    "d"
   ]
  },
  {
   "cell_type": "code",
   "execution_count": null,
   "metadata": {},
   "outputs": [],
   "source": []
  },
  {
   "cell_type": "code",
   "execution_count": null,
   "metadata": {},
   "outputs": [],
   "source": []
  },
  {
   "cell_type": "code",
   "execution_count": null,
   "metadata": {},
   "outputs": [],
   "source": [
    "while(d!=[]):\n",
    "    for i in range(len(d)):\n",
    "        "
   ]
  },
  {
   "cell_type": "code",
   "execution_count": null,
   "metadata": {},
   "outputs": [],
   "source": []
  },
  {
   "cell_type": "code",
   "execution_count": null,
   "metadata": {},
   "outputs": [],
   "source": [
    "a=[1, 2 ,3 ,4 ,3 ,3 ,2 ,1]"
   ]
  },
  {
   "cell_type": "code",
   "execution_count": null,
   "metadata": {},
   "outputs": [],
   "source": [
    "b = list(set(a))"
   ]
  },
  {
   "cell_type": "code",
   "execution_count": null,
   "metadata": {},
   "outputs": [],
   "source": [
    "b=sorted(b)"
   ]
  },
  {
   "cell_type": "code",
   "execution_count": null,
   "metadata": {},
   "outputs": [],
   "source": [
    "b"
   ]
  },
  {
   "cell_type": "code",
   "execution_count": null,
   "metadata": {},
   "outputs": [],
   "source": [
    "c=[]\n",
    "for i in b:\n",
    "    c.append(a.count(i))"
   ]
  },
  {
   "cell_type": "code",
   "execution_count": null,
   "metadata": {},
   "outputs": [],
   "source": [
    "c"
   ]
  },
  {
   "cell_type": "code",
   "execution_count": null,
   "metadata": {},
   "outputs": [],
   "source": [
    "d=len(a)\n",
    "for i in c:\n",
    "    print(d)\n",
    "    d=d-i"
   ]
  },
  {
   "cell_type": "code",
   "execution_count": null,
   "metadata": {},
   "outputs": [],
   "source": []
  },
  {
   "cell_type": "code",
   "execution_count": null,
   "metadata": {},
   "outputs": [],
   "source": [
    "a= [135 ,101, 170, 125 ,79 ,159 ,163 ,65 ,106, 146, 82 ,28 ,162 ,92,196, 143, 28 ,37 ,192, 5 ,103 ,154, 93, 183, 22, 117, 119, 96, 48, 127 ,172 ,139 ,70 ,113, 68 ,100 ,36 ,95 ,104 ,12 ,123 ,134]"
   ]
  },
  {
   "cell_type": "code",
   "execution_count": null,
   "metadata": {},
   "outputs": [],
   "source": [
    "a=[1,2,3,5,7]"
   ]
  },
  {
   "cell_type": "code",
   "execution_count": null,
   "metadata": {
    "scrolled": true
   },
   "outputs": [],
   "source": [
    "d=12\n",
    "b=[]\n",
    "e='hai'\n",
    "for i in a:\n",
    "    b.append(i)\n",
    "    c=sum(b)\n",
    "    while(c>d):\n",
    "        b.remove(b[0])\n",
    "        a[a.index(b[0])]=100\n",
    "        c=sum(b)\n",
    "    if(c==d):\n",
    "        print(c,d)\n",
    "        e='bye'\n",
    "        break\n",
    "if(e=='bye'):\n",
    "    print(b)\n",
    "    print(a.index(b[0])+1,a.index(b[-1])+1)\n",
    "else:\n",
    "    print(-1)"
   ]
  },
  {
   "cell_type": "code",
   "execution_count": null,
   "metadata": {},
   "outputs": [],
   "source": [
    "c"
   ]
  },
  {
   "cell_type": "code",
   "execution_count": null,
   "metadata": {},
   "outputs": [],
   "source": [
    "b"
   ]
  },
  {
   "cell_type": "code",
   "execution_count": null,
   "metadata": {},
   "outputs": [],
   "source": [
    "b"
   ]
  },
  {
   "cell_type": "code",
   "execution_count": null,
   "metadata": {},
   "outputs": [],
   "source": [
    "a[38:43]"
   ]
  },
  {
   "cell_type": "code",
   "execution_count": null,
   "metadata": {},
   "outputs": [],
   "source": [
    "h = [28, 68 ,142, 130, 41,28]\n",
    "h[0]=1000\n",
    "h"
   ]
  },
  {
   "cell_type": "code",
   "execution_count": null,
   "metadata": {},
   "outputs": [],
   "source": [
    "\n",
    "a = [28, 68, 142 ,130 ,41 ,14 ,175 ,2 ,78 ,16 ,84 ,14 ,193, 25, 2 ,193, 160, 71 ,29 ,28 ,85, 76, 187, 99 ,171 ,88 ,48, 5 ,104, 22, 64, 107, 164, 11 ,172 ,90 ,41 ,165 ,143, 20, 114, 192, 105 ,19 ,33 ,151, 6 ,176, 140, 104 ,23, 99 ,48 ,185 ,49 ,172 ,65]"
   ]
  },
  {
   "cell_type": "code",
   "execution_count": null,
   "metadata": {},
   "outputs": [],
   "source": []
  },
  {
   "cell_type": "code",
   "execution_count": null,
   "metadata": {},
   "outputs": [],
   "source": [
    "a='feedthedog'"
   ]
  },
  {
   "cell_type": "code",
   "execution_count": null,
   "metadata": {},
   "outputs": [],
   "source": [
    "import math\n",
    "c = math.ceil(math.sqrt(len(a)))\n",
    "for i in range(d):\n",
    "    print(a[i::d],end=' ')"
   ]
  },
  {
   "cell_type": "code",
   "execution_count": null,
   "metadata": {},
   "outputs": [],
   "source": [
    "a=list(map(int,input().split()))\n"
   ]
  },
  {
   "cell_type": "code",
   "execution_count": null,
   "metadata": {},
   "outputs": [],
   "source": [
    "b=list(set(a))\n",
    "d=0\n",
    "c=[]\n",
    "for i in b:\n",
    "    d=a.count(i) \n",
    "    if(d>1):\n",
    "        c.append(i)"
   ]
  },
  {
   "cell_type": "code",
   "execution_count": null,
   "metadata": {},
   "outputs": [],
   "source": [
    "min=10000\n",
    "for i in c:\n",
    "    e=abs(a.index(i,0)-a.index(i,1))\n",
    "    if(e<min):\n",
    "        min=e\n",
    "print(min)"
   ]
  },
  {
   "cell_type": "code",
   "execution_count": null,
   "metadata": {},
   "outputs": [],
   "source": [
    "c"
   ]
  },
  {
   "cell_type": "code",
   "execution_count": null,
   "metadata": {},
   "outputs": [],
   "source": [
    "abs(a.index(7,0)-a.index(7,1))"
   ]
  },
  {
   "cell_type": "code",
   "execution_count": null,
   "metadata": {},
   "outputs": [],
   "source": [
    "a.index(7,1)"
   ]
  },
  {
   "cell_type": "code",
   "execution_count": null,
   "metadata": {},
   "outputs": [],
   "source": []
  },
  {
   "cell_type": "code",
   "execution_count": null,
   "metadata": {},
   "outputs": [],
   "source": [
    "n,k,q = map(int,input().split())\n",
    "a = list(map(int,input().split()))\n",
    "if(k>n):\n",
    "    k=k%n\n",
    "b=[]\n",
    "b=b+a[-k:]+a[:-k]\n",
    "print(b)\n",
    "for i in range(q):\n",
    "    c=int(input())\n",
    "    print(b[c])"
   ]
  },
  {
   "cell_type": "markdown",
   "metadata": {},
   "source": [
    "# wrong answer not satisfied all test cases"
   ]
  },
  {
   "cell_type": "code",
   "execution_count": null,
   "metadata": {},
   "outputs": [],
   "source": [
    "s='aba'\n",
    "t='aba'\n",
    "k = int(input())\n",
    "for i in s:\n",
    "    if(i in t):\n",
    "        s=s.replace(i,'',1)\n",
    "        t=t.replace(i,'',1)"
   ]
  },
  {
   "cell_type": "code",
   "execution_count": null,
   "metadata": {},
   "outputs": [],
   "source": [
    "if(len(s)+len(t)<=k):\n",
    "    print('yes')\n",
    "else:\n",
    "    print('no')"
   ]
  },
  {
   "cell_type": "code",
   "execution_count": null,
   "metadata": {},
   "outputs": [],
   "source": []
  },
  {
   "cell_type": "code",
   "execution_count": null,
   "metadata": {},
   "outputs": [],
   "source": []
  },
  {
   "cell_type": "markdown",
   "metadata": {},
   "source": [
    "## Sherlock and Squares"
   ]
  },
  {
   "cell_type": "code",
   "execution_count": 2,
   "metadata": {},
   "outputs": [
    {
     "name": "stdout",
     "output_type": "stream",
     "text": [
      "2\n",
      "3 9\n",
      "2\n",
      "17 24\n",
      "0\n"
     ]
    }
   ],
   "source": [
    "import math\n",
    "for  i in range(int(input())):\n",
    "    a,b = map(int,input().split())\n",
    "    c=int(math.sqrt(a))\n",
    "    d=c**2\n",
    "    count=0\n",
    "    while(d<=b):\n",
    "        if(d>=a):\n",
    "            count+=1\n",
    "        c=c+1\n",
    "        d=c**2\n",
    "    print(count)"
   ]
  },
  {
   "cell_type": "code",
   "execution_count": 7,
   "metadata": {},
   "outputs": [
    {
     "name": "stdout",
     "output_type": "stream",
     "text": [
      "4 1\n",
      "1 2 3 4\n",
      "2\n"
     ]
    }
   ],
   "source": [
    "def fact(num):\n",
    "    count=1\n",
    "    for i in range(1,num+1):\n",
    "        count=count*i\n",
    "    return count\n",
    "n,k= map(int,input().split())\n",
    "a = list(map(int,input().split()))\n",
    "c=[]\n",
    "for i in a:\n",
    "    if(i%2==0):\n",
    "        c.append(i)\n",
    "d=len(c)\n",
    "print(int(fact(d+k-1)/(fact(k)*fact(d-1))))"
   ]
  },
  {
   "cell_type": "code",
   "execution_count": 14,
   "metadata": {},
   "outputs": [
    {
     "name": "stdout",
     "output_type": "stream",
     "text": [
      "1 2 3 4 5 6\n",
      "[1, 2, 3, 6, 5, 4]\n"
     ]
    }
   ],
   "source": [
    "a=list(map(int,input().split()))\n",
    "a=sorted(a)\n",
    "b=len(a)//2\n",
    "c=a[:b]\n",
    "d=a[b:]\n",
    "print(sorted(c)+sorted(d,reverse=True))"
   ]
  },
  {
   "cell_type": "code",
   "execution_count": 23,
   "metadata": {},
   "outputs": [
    {
     "name": "stdout",
     "output_type": "stream",
     "text": [
      "12,3\n",
      "4\n"
     ]
    }
   ],
   "source": [
    "a,b = map(int,input().split(','))\n",
    "c=[]\n",
    "for i in range(1,a+1):\n",
    "    if(a%i==0):\n",
    "        c.append(i)\n",
    "print(c[-3])"
   ]
  },
  {
   "cell_type": "code",
   "execution_count": 24,
   "metadata": {},
   "outputs": [
    {
     "data": {
      "text/plain": [
       "119"
      ]
     },
     "execution_count": 24,
     "metadata": {},
     "output_type": "execute_result"
    }
   ],
   "source": [
    "3+6+10+15+21+28+36"
   ]
  },
  {
   "cell_type": "code",
   "execution_count": 29,
   "metadata": {},
   "outputs": [
    {
     "name": "stdout",
     "output_type": "stream",
     "text": [
      "1\n",
      "8\n",
      "1 2 3 4 5 6 7 8\n",
      "119\n"
     ]
    }
   ],
   "source": [
    "for i in range(int(input())):\n",
    "    n = int(input())\n",
    "    c = list(map(int,input().split()))\n",
    "    c=sorted(c)\n",
    "    b=0\n",
    "    d=[]\n",
    "    for i in c:\n",
    "        b=b+i\n",
    "        d.append(b)\n",
    "    print(sum(d[1:]))"
   ]
  },
  {
   "cell_type": "code",
   "execution_count": 27,
   "metadata": {},
   "outputs": [
    {
     "data": {
      "text/plain": [
       "[1, 3, 6, 10]"
      ]
     },
     "execution_count": 27,
     "metadata": {},
     "output_type": "execute_result"
    }
   ],
   "source": [
    "d"
   ]
  },
  {
   "cell_type": "code",
   "execution_count": null,
   "metadata": {},
   "outputs": [],
   "source": []
  },
  {
   "cell_type": "code",
   "execution_count": 6,
   "metadata": {},
   "outputs": [
    {
     "name": "stdout",
     "output_type": "stream",
     "text": [
      "3\n",
      "1 -3 71 68 17\n",
      "3\n"
     ]
    }
   ],
   "source": [
    "n = int(input())\n",
    "a = list(map(int,input().split()))\n",
    "c=[]\n",
    "for i in range(len(a)):\n",
    "    for j in range(i+1,len(a)):\n",
    "        c.append(abs(a[i]-a[j]))\n",
    "print(min(c))"
   ]
  },
  {
   "cell_type": "code",
   "execution_count": 3,
   "metadata": {},
   "outputs": [
    {
     "data": {
      "text/plain": [
       "[10, 3, 7]"
      ]
     },
     "execution_count": 3,
     "metadata": {},
     "output_type": "execute_result"
    }
   ],
   "source": [
    "c"
   ]
  },
  {
   "cell_type": "code",
   "execution_count": 43,
   "metadata": {},
   "outputs": [
    {
     "name": "stdout",
     "output_type": "stream",
     "text": [
      "8 5\n",
      "13 1\n",
      "10 1\n",
      "9 1\n",
      "8 1\n",
      "13 1\n",
      "12 1\n",
      "18 1\n",
      "13 1\n",
      "[13, 10, 9, 8, 13, 12, 18, 13] [1, 1, 1, 1, 1, 1, 1, 1]\n"
     ]
    }
   ],
   "source": [
    "n,k = map(int,input().split())\n",
    "a,b=[],[]\n",
    "for i in range(n):\n",
    "    l,t= map(int,input().split())\n",
    "    a.append(l)\n",
    "    b.append(t)\n",
    "print(a,b)\n"
   ]
  },
  {
   "cell_type": "code",
   "execution_count": 44,
   "metadata": {},
   "outputs": [
    {
     "name": "stdout",
     "output_type": "stream",
     "text": [
      "[(13, 1), (10, 1), (9, 1), (8, 1), (13, 1), (12, 1), (18, 1), (13, 1)] [13, 10, 9, 8, 13, 12, 18, 13] [1, 1, 1, 1, 1, 1, 1, 1]\n"
     ]
    }
   ],
   "source": [
    "h=list(zip(a,b))\n",
    "print(h,a,b)"
   ]
  },
  {
   "cell_type": "code",
   "execution_count": 45,
   "metadata": {},
   "outputs": [
    {
     "name": "stdout",
     "output_type": "stream",
     "text": [
      "13\n",
      "10\n",
      "9\n",
      "8\n"
     ]
    }
   ],
   "source": [
    "m=10000\n",
    "for i,j in h:\n",
    "    if(i<m and j!=0):\n",
    "        print(i)\n",
    "        m=i"
   ]
  },
  {
   "cell_type": "code",
   "execution_count": 49,
   "metadata": {},
   "outputs": [
    {
     "name": "stdout",
     "output_type": "stream",
     "text": [
      "54\n"
     ]
    }
   ],
   "source": [
    "a=set(a)\n",
    "print(sum(a)-m)"
   ]
  },
  {
   "cell_type": "code",
   "execution_count": 62,
   "metadata": {},
   "outputs": [
    {
     "name": "stdout",
     "output_type": "stream",
     "text": [
      "5\n",
      "2\n",
      "1\n",
      "2\n",
      "1\n",
      "2\n",
      "1\n"
     ]
    }
   ],
   "source": [
    "n = int(input())\n",
    "k = int(input())\n",
    "c=[]\n",
    "for i in range(n):\n",
    "    c.append(int(input()))\n"
   ]
  },
  {
   "cell_type": "code",
   "execution_count": 63,
   "metadata": {},
   "outputs": [],
   "source": [
    "c=sorted(c)"
   ]
  },
  {
   "cell_type": "code",
   "execution_count": 64,
   "metadata": {},
   "outputs": [],
   "source": [
    "d=c[:k]"
   ]
  },
  {
   "cell_type": "code",
   "execution_count": 65,
   "metadata": {},
   "outputs": [
    {
     "data": {
      "text/plain": [
       "0"
      ]
     },
     "execution_count": 65,
     "metadata": {},
     "output_type": "execute_result"
    }
   ],
   "source": [
    "max(d)-min(d)"
   ]
  },
  {
   "cell_type": "code",
   "execution_count": null,
   "metadata": {},
   "outputs": [],
   "source": [
    "n,k =map(int,input().split())\n",
    "a=[]\n",
    "for i in range(n):\n",
    "    a.appen(int(input()))\n",
    "a=sorted(a)\n",
    "while(a[0]<k):\n",
    "    "
   ]
  },
  {
   "cell_type": "code",
   "execution_count": null,
   "metadata": {},
   "outputs": [],
   "source": []
  },
  {
   "cell_type": "code",
   "execution_count": 9,
   "metadata": {},
   "outputs": [],
   "source": [
    "a='1222311'"
   ]
  },
  {
   "cell_type": "code",
   "execution_count": 10,
   "metadata": {},
   "outputs": [],
   "source": [
    "from itertools import groupby\n",
    "a=list(groupby(a))"
   ]
  },
  {
   "cell_type": "code",
   "execution_count": 11,
   "metadata": {},
   "outputs": [
    {
     "data": {
      "text/plain": [
       "[('1', <itertools._grouper at 0x2414fb8cd30>),\n",
       " ('2', <itertools._grouper at 0x2414fb8cc50>),\n",
       " ('3', <itertools._grouper at 0x2414fb8ceb8>),\n",
       " ('1', <itertools._grouper at 0x2414fb8c588>)]"
      ]
     },
     "execution_count": 11,
     "metadata": {},
     "output_type": "execute_result"
    }
   ],
   "source": [
    "a"
   ]
  },
  {
   "cell_type": "code",
   "execution_count": null,
   "metadata": {},
   "outputs": [],
   "source": []
  },
  {
   "cell_type": "code",
   "execution_count": 10,
   "metadata": {},
   "outputs": [
    {
     "name": "stdout",
     "output_type": "stream",
     "text": [
      "1\n",
      "rm\n",
      "rm\n",
      "0\n"
     ]
    }
   ],
   "source": [
    "n = int(input())\n",
    "bride = input()\n",
    "groom = input()\n",
    "for i in (bride):\n",
    "    if(i in groom):\n",
    "        bride = bride.replace(i,'',1)\n",
    "        groom = groom.replace(i,'',1)\n",
    "    else:\n",
    "        break\n",
    "print(len(bride))"
   ]
  },
  {
   "cell_type": "code",
   "execution_count": 11,
   "metadata": {},
   "outputs": [
    {
     "data": {
      "text/plain": [
       "''"
      ]
     },
     "execution_count": 11,
     "metadata": {},
     "output_type": "execute_result"
    }
   ],
   "source": [
    "bride"
   ]
  },
  {
   "cell_type": "code",
   "execution_count": 12,
   "metadata": {},
   "outputs": [
    {
     "data": {
      "text/plain": [
       "'0b1001'"
      ]
     },
     "execution_count": 12,
     "metadata": {},
     "output_type": "execute_result"
    }
   ],
   "source": [
    "bin(9)"
   ]
  },
  {
   "cell_type": "code",
   "execution_count": 14,
   "metadata": {},
   "outputs": [
    {
     "name": "stdout",
     "output_type": "stream",
     "text": [
      "4 5\n",
      "10101\n",
      "11100\n",
      "11010\n",
      "00101\n"
     ]
    },
    {
     "data": {
      "text/plain": [
       "['10101', '11100', '11010', '00101']"
      ]
     },
     "execution_count": 14,
     "metadata": {},
     "output_type": "execute_result"
    }
   ],
   "source": [
    "n,m = map(int,input().split())\n",
    "a=[]\n",
    "for i in range(n):\n",
    "    a.append(input())\n",
    "a"
   ]
  },
  {
   "cell_type": "code",
   "execution_count": 37,
   "metadata": {},
   "outputs": [
    {
     "name": "stdout",
     "output_type": "stream",
     "text": [
      ".......\n",
      ".......\n",
      ".......\n",
      ".......\n",
      ".......\n",
      ".......\n"
     ]
    }
   ],
   "source": [
    "co=[]\n",
    "for k in range(len(a)):\n",
    "    for i in range(k+1,len(a)):\n",
    "        count=0\n",
    "        d=a[k]\n",
    "        c=a[i]\n",
    "        for j in range(len(d)):\n",
    "            if(d[j]=='1' or c[j]=='1'):\n",
    "                count+=1\n",
    "        co.append(count)"
   ]
  },
  {
   "cell_type": "code",
   "execution_count": 39,
   "metadata": {},
   "outputs": [],
   "source": [
    "ha= max(co)"
   ]
  },
  {
   "cell_type": "code",
   "execution_count": 40,
   "metadata": {},
   "outputs": [
    {
     "name": "stdout",
     "output_type": "stream",
     "text": [
      "5\n",
      "2\n"
     ]
    }
   ],
   "source": [
    "print(ha)\n",
    "print(co.count(ha))"
   ]
  },
  {
   "cell_type": "code",
   "execution_count": null,
   "metadata": {},
   "outputs": [],
   "source": []
  },
  {
   "cell_type": "code",
   "execution_count": null,
   "metadata": {},
   "outputs": [],
   "source": []
  },
  {
   "cell_type": "code",
   "execution_count": null,
   "metadata": {},
   "outputs": [],
   "source": []
  },
  {
   "cell_type": "code",
   "execution_count": null,
   "metadata": {},
   "outputs": [],
   "source": []
  },
  {
   "cell_type": "code",
   "execution_count": null,
   "metadata": {},
   "outputs": [],
   "source": []
  },
  {
   "cell_type": "code",
   "execution_count": null,
   "metadata": {},
   "outputs": [],
   "source": []
  },
  {
   "cell_type": "code",
   "execution_count": null,
   "metadata": {},
   "outputs": [],
   "source": []
  },
  {
   "cell_type": "code",
   "execution_count": null,
   "metadata": {},
   "outputs": [],
   "source": []
  }
 ],
 "metadata": {
  "kernelspec": {
   "display_name": "Python 3",
   "language": "python",
   "name": "python3"
  },
  "language_info": {
   "codemirror_mode": {
    "name": "ipython",
    "version": 3
   },
   "file_extension": ".py",
   "mimetype": "text/x-python",
   "name": "python",
   "nbconvert_exporter": "python",
   "pygments_lexer": "ipython3",
   "version": "3.7.3"
  }
 },
 "nbformat": 4,
 "nbformat_minor": 4
}
