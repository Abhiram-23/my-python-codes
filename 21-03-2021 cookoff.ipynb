{
 "cells": [
  {
   "cell_type": "code",
   "execution_count": null,
   "metadata": {},
   "outputs": [],
   "source": [
    "import math\n",
    "a=232\n",
    "math.sqrt(a)"
   ]
  },
  {
   "cell_type": "code",
   "execution_count": null,
   "metadata": {},
   "outputs": [],
   "source": [
    "def print_factors(x):\n",
    "    count=0\n",
    "    print(\"The factors of\",x,\"are:\")\n",
    "    for i in range(1, x + 1):\n",
    "        if x % i == 0:\n",
    "            count+=1\n",
    "    return count\n",
    "num = 100\n",
    "print_factors(num)"
   ]
  },
  {
   "cell_type": "code",
   "execution_count": null,
   "metadata": {},
   "outputs": [],
   "source": [
    "for _ in range(int(input())):\n",
    "    c = True\n",
    "    for i in range(1,2000):\n",
    "        a = i**2\n",
    "        if(i>=1 and i<=10**6):\n",
    "            print(a)\n",
    "            b = int(input())\n",
    "            if(b==1):\n",
    "                break\n",
    "            elif(b==-1):\n",
    "                c=False\n",
    "                break\n",
    "    if(c==False):\n",
    "        break"
   ]
  },
  {
   "cell_type": "markdown",
   "metadata": {},
   "source": [
    "# Above Code Executed Successfully but not submitted :)"
   ]
  },
  {
   "cell_type": "markdown",
   "metadata": {},
   "source": [
    "# 22-03-2021 hackerrank cloud"
   ]
  },
  {
   "cell_type": "code",
   "execution_count": null,
   "metadata": {},
   "outputs": [],
   "source": [
    "n = 8\n",
    "k = 2\n",
    "c = [0, 0, 1, 0, 0, 1, 1, 0]\n",
    "i = 0\n",
    "e = 100\n",
    "i = (i+k)%n\n",
    "if(c[i]==1):\n",
    "    e = e-2-1\n",
    "else:\n",
    "    e=e-1\n",
    "while(i!=0):\n",
    "    i = (i+k)%n \n",
    "    if(c[i]==1):\n",
    "        e = e-2-1\n",
    "    else:\n",
    "        e=e-1\n",
    "print(e)"
   ]
  },
  {
   "cell_type": "code",
   "execution_count": null,
   "metadata": {},
   "outputs": [],
   "source": [
    "# 22-03-2021 hackerrank Non-Divisible Subset\n"
   ]
  },
  {
   "cell_type": "code",
   "execution_count": null,
   "metadata": {},
   "outputs": [],
   "source": [
    "n,k = map(int,input().split())\n",
    "s = list(map(int,input().split()))\n",
    "a = [0]*k\n",
    "for i in s:\n",
    "    a[i%k]+=1\n",
    "b = math.ceil(k/2)\n",
    "count=0\n",
    "count = count+a[0]\n",
    "e = 1\n",
    "b=b-1\n",
    "while(e<=b):\n",
    "    count+=max(a[e],a[-e])\n",
    "    e=e+1\n",
    "print(count)"
   ]
  },
  {
   "cell_type": "code",
   "execution_count": null,
   "metadata": {},
   "outputs": [],
   "source": [
    "b"
   ]
  },
  {
   "cell_type": "code",
   "execution_count": null,
   "metadata": {},
   "outputs": [],
   "source": [
    "a"
   ]
  },
  {
   "cell_type": "code",
   "execution_count": null,
   "metadata": {},
   "outputs": [],
   "source": [
    "a[e]"
   ]
  },
  {
   "cell_type": "code",
   "execution_count": null,
   "metadata": {},
   "outputs": [],
   "source": [
    "19 10 12 10 24 25 22"
   ]
  },
  {
   "cell_type": "code",
   "execution_count": null,
   "metadata": {},
   "outputs": [],
   "source": [
    "-1*(-2)*3*4*(-5)"
   ]
  },
  {
   "cell_type": "code",
   "execution_count": null,
   "metadata": {},
   "outputs": [],
   "source": [
    "-120//(-2)"
   ]
  },
  {
   "cell_type": "code",
   "execution_count": null,
   "metadata": {},
   "outputs": [],
   "source": [
    "-1*3*4*(-5)"
   ]
  },
  {
   "cell_type": "code",
   "execution_count": null,
   "metadata": {},
   "outputs": [],
   "source": [
    "-3*6*8*4*7*0"
   ]
  },
  {
   "cell_type": "code",
   "execution_count": null,
   "metadata": {},
   "outputs": [],
   "source": []
  },
  {
   "cell_type": "code",
   "execution_count": null,
   "metadata": {},
   "outputs": [],
   "source": []
  },
  {
   "cell_type": "code",
   "execution_count": null,
   "metadata": {},
   "outputs": [],
   "source": [
    "a = 1329\n",
    "b = a//365\n",
    "a = a%365\n",
    "c = a//7"
   ]
  },
  {
   "cell_type": "code",
   "execution_count": null,
   "metadata": {},
   "outputs": [],
   "source": [
    "c"
   ]
  },
  {
   "cell_type": "code",
   "execution_count": null,
   "metadata": {},
   "outputs": [],
   "source": [
    "a = a%c"
   ]
  },
  {
   "cell_type": "code",
   "execution_count": null,
   "metadata": {},
   "outputs": [],
   "source": [
    "a"
   ]
  },
  {
   "cell_type": "markdown",
   "metadata": {},
   "source": [
    "# Codeforces div-3 problem 1 25/03/2021"
   ]
  },
  {
   "cell_type": "code",
   "execution_count": null,
   "metadata": {},
   "outputs": [],
   "source": [
    "import math\n",
    "for _ in range(int(input())):\n",
    "    a,b,ans = map(int,input().split())\n",
    "    col = math.ceil(ans/a)\n",
    "    row = ans%a\n",
    "    if(row==0):\n",
    "        row=a\n",
    "    print(row*b-(b-col))"
   ]
  },
  {
   "cell_type": "markdown",
   "metadata": {},
   "source": [
    "# Executed Successfully"
   ]
  },
  {
   "cell_type": "code",
   "execution_count": null,
   "metadata": {},
   "outputs": [],
   "source": []
  },
  {
   "cell_type": "code",
   "execution_count": null,
   "metadata": {},
   "outputs": [],
   "source": [
    "a,n = map(int,input().split())\n",
    "b = list(map(int,input().split()))\n",
    "b = b[::-1]\n",
    "for i in b:\n",
    "    n = n//i\n",
    "print(n)"
   ]
  },
  {
   "cell_type": "code",
   "execution_count": null,
   "metadata": {},
   "outputs": [],
   "source": [
    "480/7"
   ]
  },
  {
   "cell_type": "code",
   "execution_count": null,
   "metadata": {},
   "outputs": [],
   "source": [
    "68.57142857142857%1000000007"
   ]
  },
  {
   "cell_type": "markdown",
   "metadata": {},
   "source": [
    "# below problem is tcs xplore"
   ]
  },
  {
   "cell_type": "code",
   "execution_count": null,
   "metadata": {},
   "outputs": [],
   "source": [
    "def findDateFrom(idf,dat):\n",
    "    for i in range(len(idf)):\n",
    "        if(dat[i]!=0):\n",
    "            print(idf[i],dat[i])\n",
    "    return"
   ]
  },
  {
   "cell_type": "code",
   "execution_count": null,
   "metadata": {},
   "outputs": [],
   "source": [
    "def countDocuments(doxf,doctyp):\n",
    "    print(\"Document Count = \",doxf.count(doctyp))\n",
    "    return"
   ]
  },
  {
   "cell_type": "code",
   "execution_count": null,
   "metadata": {},
   "outputs": [],
   "source": [
    "idf = []\n",
    "doxf = []\n",
    "dat = []\n",
    "for _ in range(int(input())):\n",
    "    ids = int(input())\n",
    "    dox = input()\n",
    "    doc = input()\n",
    "    d = False\n",
    "    idf.append(ids)\n",
    "    dox = dox.split('.')\n",
    "    doxf.append(dox[-1])\n",
    "    doc = doc.split(',')\n",
    "    for i in doc:\n",
    "        if('/' in i):\n",
    "            dat.append(i)\n",
    "            d = True\n",
    "            break\n",
    "    if(d==False):\n",
    "        dat.append(0)\n",
    "doctyp = input()\n",
    "findDateFrom(idf,dat)\n",
    "countDocuments(doxf,doctyp)"
   ]
  },
  {
   "cell_type": "code",
   "execution_count": null,
   "metadata": {},
   "outputs": [],
   "source": [
    "# sample inputs"
   ]
  },
  {
   "cell_type": "code",
   "execution_count": null,
   "metadata": {},
   "outputs": [],
   "source": [
    "4\n",
    "101\n",
    "sales.pptx\n",
    "10/02/2020,Ragesh,5MB\n",
    "102\n",
    "Report.pptx\n",
    "Rohit,2MB,12/12/2019\n",
    "103\n",
    "Design.docx\n",
    "4038KB,01/01/2020,Vijay\n",
    "104\n",
    "Test_Approch.docx\n",
    "385KB,Sujay,28/03/2020\n",
    "docx"
   ]
  },
  {
   "cell_type": "code",
   "execution_count": null,
   "metadata": {},
   "outputs": [],
   "source": [
    "# codechef lunch time 27032021"
   ]
  },
  {
   "cell_type": "code",
   "execution_count": null,
   "metadata": {
    "scrolled": true
   },
   "outputs": [],
   "source": [
    "for _ in range(int(input())):\n",
    "    a,y,x = map(int,input().split())\n",
    "    t = 0\n",
    "    c = 1\n",
    "    while(t!=a):\n",
    "        c = c+x\n",
    "        t = t+1\n",
    "        if(t>=y):\n",
    "            c = c-x\n",
    "    print(c)"
   ]
  },
  {
   "cell_type": "code",
   "execution_count": null,
   "metadata": {},
   "outputs": [],
   "source": [
    "# above code is time limit exceed "
   ]
  },
  {
   "cell_type": "code",
   "execution_count": null,
   "metadata": {},
   "outputs": [],
   "source": [
    "for _ in range(int(input())):\n",
    "    n,x = map(int,input().split())\n",
    "    s = []\n",
    "    im = []\n",
    "    for i in range(n):\n",
    "        a,b = map(int,input().split())\n",
    "        s.append(a)\n",
    "        im.append(b)\n",
    "    ma = max(im)\n",
    "    c = s[im.index(ma)]\n",
    "    d = True\n",
    "    while(d):\n",
    "        if(c<=x):\n",
    "            print(ma)\n",
    "            break\n",
    "        else:\n",
    "            s[im.index(ma)]=0\n",
    "            im[im.index(ma)]=0\n",
    "        ma = max(im)\n",
    "        c = s[im.index(ma)]"
   ]
  },
  {
   "cell_type": "code",
   "execution_count": null,
   "metadata": {},
   "outputs": [],
   "source": []
  },
  {
   "cell_type": "code",
   "execution_count": null,
   "metadata": {},
   "outputs": [],
   "source": [
    "n = 4\n",
    "l = [1,4,3,1] \n",
    "r = [15 ,8 ,5 ,4] \n",
    "a = [0]*(10**6)"
   ]
  },
  {
   "cell_type": "code",
   "execution_count": null,
   "metadata": {},
   "outputs": [],
   "source": [
    "for i in range(n):\n",
    "    a[l[i]]+=1\n",
    "    a[r[i]+1]-=1\n",
    "su = 0\n",
    "for i in range(len(a)):\n",
    "    su = su+a[i]\n",
    "    a[i]=su\n",
    "print(a.index(max(a)))"
   ]
  },
  {
   "cell_type": "code",
   "execution_count": null,
   "metadata": {},
   "outputs": [],
   "source": [
    "N=4\n",
    "A=[1,2,3,4]\n",
    "if(N%2==0):\n",
    "    for i in range(0,N,2):\n",
    "        temp = A[i]\n",
    "        A[i] = A[i+1]\n",
    "        A[i+1] = temp\n",
    "else:\n",
    "    for i in range(0,N,2):\n",
    "        if(i==N-1):\n",
    "            A[i] = A[i]\n",
    "        else:\n",
    "            temp = A[i]\n",
    "            A[i] = A[i+1]\n",
    "            A[i+1] = temp\n",
    "\n",
    "            print(A)"
   ]
  },
  {
   "cell_type": "code",
   "execution_count": null,
   "metadata": {},
   "outputs": [],
   "source": [
    "n = 8\n",
    "nuts = list(map(str,input().split()))\n",
    "bolts = list(map(str,input().split()))\n",
    "a = '!#$%&*@^~'\n",
    "o = 0\n",
    "p = 0\n",
    "print(nuts,bolts)\n",
    "for i in a:\n",
    "    if(i in nuts):\n",
    "        temp = nuts[o]\n",
    "        nuts[o] = i\n",
    "        nuts[nuts.index(i)] = temp\n",
    "        o+=1\n",
    "    if(i in bolts):\n",
    "        temp = bolts[p]\n",
    "        bolts[p] = i\n",
    "        bolts[bolts.index(i)] = temp\n",
    "        p+=1\n"
   ]
  },
  {
   "cell_type": "code",
   "execution_count": null,
   "metadata": {},
   "outputs": [],
   "source": [
    "print(nuts,bolts)"
   ]
  },
  {
   "cell_type": "code",
   "execution_count": null,
   "metadata": {},
   "outputs": [],
   "source": [
    "nuts[nuts.index('#')]"
   ]
  },
  {
   "cell_type": "code",
   "execution_count": null,
   "metadata": {},
   "outputs": [],
   "source": [
    "nuts.index('#')"
   ]
  },
  {
   "cell_type": "code",
   "execution_count": null,
   "metadata": {},
   "outputs": [],
   "source": [
    "temp = nuts[0]"
   ]
  },
  {
   "cell_type": "code",
   "execution_count": null,
   "metadata": {},
   "outputs": [],
   "source": [
    "temp"
   ]
  },
  {
   "cell_type": "code",
   "execution_count": null,
   "metadata": {},
   "outputs": [],
   "source": [
    "a = int(input())\n",
    "b = list(map(int,input().split()))\n",
    "c = []\n",
    "for i in range(1,len(b)):\n",
    "    d = abs(b[i]-b[i-1])\n",
    "    c.append(d)\n",
    "print(sum(c))"
   ]
  },
  {
   "cell_type": "code",
   "execution_count": null,
   "metadata": {},
   "outputs": [],
   "source": [
    "c = []\n",
    "for i in range(1,len(input2)):\n",
    "    d = abs(input2[i]-input2[i-1])\n",
    "    c.append(d)\n",
    "return sum(c)"
   ]
  },
  {
   "cell_type": "code",
   "execution_count": null,
   "metadata": {},
   "outputs": [],
   "source": [
    "c = 7\n",
    "r = 4\n",
    "wt = [1,3,4,5]\n",
    "wtv = [1,4,5,7]\n",
    "d = [[0 for i in range(c+1)] for j in range(r)]"
   ]
  },
  {
   "cell_type": "code",
   "execution_count": null,
   "metadata": {},
   "outputs": [],
   "source": [
    "for i in range(r):\n",
    "    for j in range(c+1):\n",
    "        if(j<wt[i]):\n",
    "            d[i][j] = (d[i-1][j])\n",
    "        else:\n",
    "            d[i][j] = max(wtv[i]+d[i-1][j-wt[i]],d[i-1][j])\n",
    "print(d)"
   ]
  },
  {
   "cell_type": "markdown",
   "metadata": {},
   "source": [
    "# accenture ctrl+hack 1st problem\n"
   ]
  },
  {
   "cell_type": "code",
   "execution_count": null,
   "metadata": {},
   "outputs": [],
   "source": [
    "for _ in range(int(input())):\n",
    "    a = int(input())\n",
    "    b = list(map(int,input().split()))\n",
    "    count = 0\n",
    "    for i in range(1,len(b)):\n",
    "        if(b[i]<=b[i-1]):\n",
    "            b[i] = (b[i-1]+1)\n",
    "            count+=1\n",
    "    print(count)"
   ]
  },
  {
   "cell_type": "code",
   "execution_count": null,
   "metadata": {},
   "outputs": [],
   "source": [
    "# executed succesfully"
   ]
  },
  {
   "cell_type": "markdown",
   "metadata": {},
   "source": [
    "# accenture ctrl+hack 2nd problem"
   ]
  },
  {
   "cell_type": "code",
   "execution_count": null,
   "metadata": {},
   "outputs": [],
   "source": [
    "import math\n",
    "def SieveOfEratosthenes(n):\n",
    "    prime = [True for i in range(n+1)]\n",
    "    p = 2\n",
    "    d=[]\n",
    "    while (p * p <= n):\n",
    "        if (prime[p] == True):\n",
    "            for i in range(p * p, n+1, p):\n",
    "                prime[i] = False\n",
    "        p += 1\n",
    "    for p in range(2, n+1):\n",
    "        if prime[p]:\n",
    "            d.append(p)\n",
    "    return(d)\n",
    "e = SieveOfEratosthenes(2*(10**6))\n",
    "def factors(i):\n",
    "    arr = []\n",
    "    for i in range(1,i+1):\n",
    "        if(i%2 == 0):\n",
    "            arr.append(i)\n",
    "    return arr\n",
    "\n",
    "def f(i):\n",
    "    if(i == 1):\n",
    "        return 0\n",
    "    if(i in e): \n",
    "        return 1\n",
    "    else: \n",
    "        for j in e:\n",
    "            if(i%j==0):\n",
    "                b = i//j\n",
    "                return b*f(j)+j*f(b)\n",
    "def strange_sum (L, R):\n",
    "    # Write your code here\n",
    "    lis = [-1]*(2*(10**6))\n",
    "    sum = 0\n",
    "    for i in range(L,R+1):\n",
    "        arr = factors(i)\n",
    "        for j in arr:\n",
    "            if(lis[j] == -1):\n",
    "                lis[i]= f(i)   \n",
    "            sum += lis[i]\n",
    "    return sum\n",
    "\n",
    "T = int(input())\n",
    "for _ in range(T):\n",
    "    L = int(input())\n",
    "    R = int(input())\n",
    "\n",
    "    out_ = strange_sum(L, R)\n",
    "    print (out_)"
   ]
  },
  {
   "cell_type": "code",
   "execution_count": null,
   "metadata": {},
   "outputs": [],
   "source": [
    "#not executed succesfully"
   ]
  },
  {
   "cell_type": "code",
   "execution_count": null,
   "metadata": {},
   "outputs": [],
   "source": [
    "n = int(input())\n",
    "for i in range(n,0,-1):\n",
    "    for j in range(n,i,-1):\n",
    "        print(end=\" \")\n",
    "    for k in range(0,i):\n",
    "        print('* ',end=\"\")\n",
    "    print()\n",
    "for i in range(1,n):\n",
    "    for j in range(0,n-i-1):\n",
    "        print(end=\" \")\n",
    "    for k in range(0,i+1):\n",
    "        print('* ',end=\"\")\n",
    "    print()"
   ]
  },
  {
   "cell_type": "code",
   "execution_count": null,
   "metadata": {},
   "outputs": [],
   "source": [
    "\n"
   ]
  },
  {
   "cell_type": "code",
   "execution_count": null,
   "metadata": {},
   "outputs": [],
   "source": [
    "d = {}\n",
    "n = int(input())\n",
    "for i in range(n):\n",
    "    pi,ci = map(int,input().split())\n",
    "    d[pi] = ci\n",
    "a = ''\n",
    "for i in range(n-1,-1,-1):\n",
    "    if(d[i]==0):\n",
    "        continue\n",
    "    elif(i==n-1 and d[i]<0):\n",
    "        a+='-'+str(d[i])+'x^'+str(i)+'+ '\n",
    "    elif(i==1):\n",
    "        a+= str(d[i])+'x + '\n",
    "    elif(i==0 and d[i]==0):\n",
    "        a+='0'\n",
    "    elif(i==0):\n",
    "        a+=str(d[i])\n",
    "    elif(d[i]==1):\n",
    "        a+='x^'+str(i)\n",
    "    else:\n",
    "        a+=str(d[i])+'x^'+str(i)"
   ]
  },
  {
   "cell_type": "code",
   "execution_count": null,
   "metadata": {},
   "outputs": [],
   "source": [
    "a = ''\n",
    "for i in range(n-1,-1,-1):\n",
    "    if(d[i]==0):\n",
    "        continue\n",
    "    elif(i==n-1 and d[i]<0):\n",
    "        a+='-'+str(d[i])+'x^'+str(i)+'+ '\n",
    "    elif(i==1):\n",
    "        a+= str(d[i])+'x + '\n",
    "    elif(i==0 and d[i]==0):\n",
    "        a+='0'\n",
    "    elif(i==0):\n",
    "        a+=str(d[i])\n",
    "    elif(d[i]==1):\n",
    "        a+='x^'+str(i)\n",
    "    else:\n",
    "        a+=str(d[i])+'x^'+str(i)+'+ '"
   ]
  },
  {
   "cell_type": "code",
   "execution_count": null,
   "metadata": {},
   "outputs": [],
   "source": [
    "a"
   ]
  },
  {
   "cell_type": "code",
   "execution_count": null,
   "metadata": {},
   "outputs": [],
   "source": [
    "def rotation(arr):\n",
    "    b  = []\n",
    "    d = len(arr)\n",
    "    e = 0\n",
    "    for i in range(len(arr)):\n",
    "        c = []\n",
    "        d = len(arr)-1\n",
    "        e = 0+i\n",
    "        for j in range(len(arr[0])):\n",
    "            c.append(arr[d][e])\n",
    "            d = d-1\n",
    "        b.append(c)\n",
    "    return b\n",
    "a = int(input())\n",
    "arr = []\n",
    "for i in range(a):\n",
    "    arr.append(list(map(int,input().split())))\n",
    "b = list(map(str,input().split()))\n",
    "r = []\n",
    "while(b!=-1):\n",
    "    if(b[0]=='R'):\n",
    "        r.append(b[1])\n",
    "        for i in range(b[1]//90):\n",
    "            arr = rotation(arr)\n",
    "    elif(b[0]=='Q'):\n",
    "        print(arr[b[1]][b[2]])\n",
    "    elif(b[0]=='U'):"
   ]
  },
  {
   "cell_type": "code",
   "execution_count": null,
   "metadata": {},
   "outputs": [],
   "source": []
  },
  {
   "cell_type": "code",
   "execution_count": null,
   "metadata": {},
   "outputs": [],
   "source": [
    "r = input2/input1\n",
    "t1 = input1/r\n",
    "tn = t1*r**(input3-1)\n",
    "print(tn)"
   ]
  },
  {
   "cell_type": "code",
   "execution_count": null,
   "metadata": {},
   "outputs": [],
   "source": []
  },
  {
   "cell_type": "code",
   "execution_count": null,
   "metadata": {},
   "outputs": [],
   "source": [
    "t1"
   ]
  },
  {
   "cell_type": "code",
   "execution_count": null,
   "metadata": {},
   "outputs": [],
   "source": [
    "tn = t1*r**(nth-1)\n",
    "tn"
   ]
  },
  {
   "cell_type": "code",
   "execution_count": null,
   "metadata": {},
   "outputs": [],
   "source": [
    "Let's use the formula of a GP. We need to find 2 things : T1 (the first term of the GP), and r (the common ratio of the GP)\n",
    "\n",
    "Tn = T1 * r^(n-1), where Tn = the n'th term of the GP\n",
    "\n",
    "To find r, we take n3 / n2\n",
    "\n",
    "To find T1, we take n2 / r\n",
    "\n",
    "Apply the Tn formula above"
   ]
  },
  {
   "cell_type": "code",
   "execution_count": null,
   "metadata": {},
   "outputs": [],
   "source": []
  },
  {
   "cell_type": "code",
   "execution_count": null,
   "metadata": {},
   "outputs": [],
   "source": [
    "def ally(n):\n",
    "    a = str(n)\n",
    "    a = sorted(a)\n",
    "    if(len(a)==a.count('0')):\n",
    "        return a\n",
    "    else:\n",
    "        b=''\n",
    "        c=''\n",
    "        for i in a:\n",
    "            if(len(b)==0 and i=='0'):\n",
    "                c+=i\n",
    "            elif(len(b)==1):\n",
    "                b = b+c\n",
    "                c = ''\n",
    "                b+=i\n",
    "            else:\n",
    "                b+=i\n",
    "        if(len(c)!=0):\n",
    "            b = b+c\n",
    "        return(b)\n",
    "\n",
    "t = int(input())\n",
    "for i in range(t):\n",
    "    n = int(input())\n",
    "    print(ally(n))"
   ]
  },
  {
   "cell_type": "code",
   "execution_count": null,
   "metadata": {},
   "outputs": [],
   "source": [
    "ally(1234)"
   ]
  },
  {
   "cell_type": "markdown",
   "metadata": {},
   "source": [
    "## tcs xplore shashi cse"
   ]
  },
  {
   "cell_type": "code",
   "execution_count": null,
   "metadata": {},
   "outputs": [],
   "source": [
    "a = int(input())\n",
    "p_type = []\n",
    "p_value = []\n",
    "max_bid = []\n",
    "for i in range(a):\n",
    "    l = input()\n",
    "    l = l.lower()\n",
    "    p_type.append(l)\n",
    "    p_value.append(int(input()))\n",
    "    max_bid.append(int(input()))\n",
    "b = int(input())\n",
    "b_name = []\n",
    "property_type = []\n",
    "bid_price = []\n",
    "for _ in range(b):\n",
    "    b_name.append(input())\n",
    "    l = input()\n",
    "    l = l.lower()\n",
    "    property_type.append(l)\n",
    "    bid_price.append(int(input()))\n",
    "output = {}\n",
    "for i in range(len(property_type)):\n",
    "    if(property_type[i] in p_type):\n",
    "        index_i = p_type.index(property_type[i])\n",
    "        prop_val = p_value[index_i]\n",
    "        max_prop = max_bid[index_i]\n",
    "        if(bid_price[i]>=prop_val and bid_price[i]<=max_prop):\n",
    "            if(property_type[i] in output):\n",
    "                nam = output[property_type[i]]\n",
    "                index_nam = b_name.index(nam)\n",
    "                print(output,bid_price[i])\n",
    "                if(bid_price[index_nam]<bid_price[i]):\n",
    "                    \n",
    "                    output[property_type[i]] = b_name[i]\n",
    "            else:\n",
    "                output[property_type[i]] = b_name[i]\n",
    "for i in output:\n",
    "    p_type.remove(i)\n",
    "    print(output[i])\n",
    "for i in p_type:\n",
    "    print(i)"
   ]
  },
  {
   "cell_type": "code",
   "execution_count": null,
   "metadata": {},
   "outputs": [],
   "source": [
    "p_type"
   ]
  },
  {
   "cell_type": "code",
   "execution_count": null,
   "metadata": {},
   "outputs": [],
   "source": [
    "p_value"
   ]
  },
  {
   "cell_type": "code",
   "execution_count": null,
   "metadata": {},
   "outputs": [],
   "source": [
    "max_bid"
   ]
  },
  {
   "cell_type": "code",
   "execution_count": null,
   "metadata": {},
   "outputs": [],
   "source": [
    "b_name"
   ]
  },
  {
   "cell_type": "code",
   "execution_count": null,
   "metadata": {},
   "outputs": [],
   "source": [
    "property_type"
   ]
  },
  {
   "cell_type": "code",
   "execution_count": null,
   "metadata": {},
   "outputs": [],
   "source": [
    "bid_price"
   ]
  },
  {
   "cell_type": "code",
   "execution_count": null,
   "metadata": {},
   "outputs": [],
   "source": [
    "output = {}\n",
    "for i in range(len(property_type)):\n",
    "    if(property_type[i] in p_type):\n",
    "        index_i = p_type.index(property_type[i])\n",
    "        prop_val = p_value[index_i]\n",
    "        max_prop = max_bid[index_i]\n",
    "        if(bid_price[i]>=prop_val and bid_price[i]<=max_prop):\n",
    "            if(property_type[i] in output):\n",
    "                nam = output[property_type[i]]\n",
    "                index_nam = b_name.index(nam)\n",
    "                print(output,bid_price[i])\n",
    "                if(bid_price[index_nam]<bid_price[i]):\n",
    "                    \n",
    "                    output[property_type[i]] = b_name[i]\n",
    "            else:\n",
    "                output[property_type[i]] = b_name[i]\n",
    "for i in output:\n",
    "    p_type.remove(i)\n",
    "    print(output[i])\n",
    "for i in p_type:\n",
    "    print(i)"
   ]
  },
  {
   "cell_type": "code",
   "execution_count": null,
   "metadata": {},
   "outputs": [],
   "source": []
  },
  {
   "cell_type": "code",
   "execution_count": null,
   "metadata": {},
   "outputs": [],
   "source": [
    "for i in output:\n",
    "    p_type.remove(i)\n",
    "    print(output[i])\n",
    "for i in p_type:\n",
    "    print(i)"
   ]
  },
  {
   "cell_type": "code",
   "execution_count": null,
   "metadata": {},
   "outputs": [],
   "source": [
    "p_type"
   ]
  },
  {
   "cell_type": "code",
   "execution_count": null,
   "metadata": {},
   "outputs": [],
   "source": [
    "for _ in range(int(input())):\n",
    "    x,y,xr,yr,d = map(int,input().split())\n",
    "    totalfood = x/xr\n",
    "    totalwater = y/yr\n",
    "    mins = min(totalfood,totalwater)\n",
    "    if(mins<=d):\n",
    "        print('NO')\n",
    "    else:\n",
    "        print('YES')"
   ]
  },
  {
   "cell_type": "code",
   "execution_count": null,
   "metadata": {},
   "outputs": [],
   "source": []
  },
  {
   "cell_type": "code",
   "execution_count": null,
   "metadata": {},
   "outputs": [],
   "source": [
    "for _ in range(int(input())):\n",
    "    op = ''\n",
    "    n,m = map(int,input().split())\n",
    "    x , y = map(int,input().split())\n",
    "    for i in range(n):\n",
    "        d = input()\n",
    "        fully = d.count('F')\n",
    "        partally = d.count('P')\n",
    "        if(x!=1):\n",
    "            if((fully==x-1 and partally==y) or fully>=x):\n",
    "                op+='1'\n",
    "            else:\n",
    "                op+='0'\n",
    "        else:\n",
    "            if(fully>=x):\n",
    "                op+='1'\n",
    "            else:\n",
    "                op+='0'\n",
    "    print(op)"
   ]
  },
  {
   "cell_type": "code",
   "execution_count": null,
   "metadata": {},
   "outputs": [],
   "source": []
  },
  {
   "cell_type": "code",
   "execution_count": null,
   "metadata": {},
   "outputs": [],
   "source": [
    "def freq(a):\n",
    "    countB = 0\n",
    "    countF = 0\n",
    "    countJ = 0\n",
    "    countP = 0\n",
    "    countV = 0\n",
    "    others = 0\n",
    "    for i in a:\n",
    "        if(i=='b' or i=='B'):\n",
    "            countB += 1\n",
    "        elif(i=='f' or i=='F'):\n",
    "            countF += 1\n",
    "        elif(i=='j' or i=='J'):\n",
    "            countJ += 1\n",
    "        elif(i=='p' or i=='P'):\n",
    "            countP += 1\n",
    "        elif(i=='V' or i=='V'):\n",
    "            countV += 1\n",
    "        else:\n",
    "            others += 1\n",
    "    if(countB>0):\n",
    "        print('b = ',countB)\n",
    "    if(countF>0):\n",
    "        print('f = ',countF)\n",
    "    if(countJ>0):\n",
    "        print('j = ',countJ)\n",
    "    if(countP>0):\n",
    "        print('p = ',countP)\n",
    "    if(countV>0):\n",
    "        print('v = ',countV)\n",
    "    if(others>0):\n",
    "        print('others = ',others)\n",
    "a = 'rajasoftwarelabs'\n",
    "freq(a)"
   ]
  },
  {
   "cell_type": "code",
   "execution_count": null,
   "metadata": {},
   "outputs": [],
   "source": [
    "a = list(map(int,input().split()))\n",
    "a = sorted(a)\n",
    "print(a[-1]-a[1])"
   ]
  },
  {
   "cell_type": "code",
   "execution_count": null,
   "metadata": {},
   "outputs": [],
   "source": [
    "def reminder(a):\n",
    "    for i in a:\n",
    "        if(i%7==3):\n",
    "            print(i,end=' ')\n",
    "a = [9,10,11,185,7,3]\n",
    "reminder(a)"
   ]
  },
  {
   "cell_type": "code",
   "execution_count": null,
   "metadata": {},
   "outputs": [],
   "source": [
    "def alter(a):\n",
    "    b = ''\n",
    "    d = []\n",
    "    for i in a:\n",
    "        if(i!='.'):\n",
    "            b+=i\n",
    "        else:\n",
    "            d.append(b)\n",
    "            b = ''\n",
    "    d.append(b)\n",
    "    op = ''\n",
    "    for i in range(len(d)):\n",
    "        if(i%2==0):\n",
    "            op+=d[i]+'.'\n",
    "    print(op[:-1])\n",
    "a ='i.like.this.program.very.much'\n",
    "alter(a)"
   ]
  },
  {
   "cell_type": "code",
   "execution_count": null,
   "metadata": {},
   "outputs": [],
   "source": [
    "import math\n",
    "def febanocci(a):\n",
    "    b = 5*(a**2)+4\n",
    "    c = 5*(a**2)-4\n",
    "    if((math.sqrt(b)-int(math.sqrt(b)))==0 or (math.sqrt(c)-int(math.sqrt(c)))==0):\n",
    "        print(a)\n",
    "    else:\n",
    "        first = 0\n",
    "        second = 1\n",
    "        op = 0\n",
    "        while(second<a):\n",
    "            temp = second\n",
    "            second = second+first\n",
    "            first = temp\n",
    "            if(second%2==0):\n",
    "                op+=second\n",
    "        print(op)\n",
    "a = int(input())\n",
    "febanocci(a)"
   ]
  },
  {
   "cell_type": "code",
   "execution_count": 19,
   "metadata": {},
   "outputs": [
    {
     "name": "stdout",
     "output_type": "stream",
     "text": [
      "xxyzyzyv\n",
      "xyz\n",
      "2\n"
     ]
    }
   ],
   "source": [
    "a = input()\n",
    "b = input()\n",
    "while(len(a)!=len(a.replace(b,''))):\n",
    "    a = a.replace(b,'')\n",
    "print(len(a))"
   ]
  },
  {
   "cell_type": "code",
   "execution_count": 9,
   "metadata": {},
   "outputs": [
    {
     "name": "stdout",
     "output_type": "stream",
     "text": [
      "lata is an english teacher in primary school\n",
      "8\n",
      "44\n"
     ]
    }
   ],
   "source": [
    "a = input()\n",
    "words = 1\n",
    "characters = 0\n",
    "for i in a:\n",
    "    if(i==' '):\n",
    "        words+=1\n",
    "    characters+=1\n",
    "print(words)\n",
    "print(characters)"
   ]
  },
  {
   "cell_type": "code",
   "execution_count": 5,
   "metadata": {},
   "outputs": [
    {
     "data": {
      "text/plain": [
       "9"
      ]
     },
     "execution_count": 5,
     "metadata": {},
     "output_type": "execute_result"
    }
   ],
   "source": [
    "words"
   ]
  },
  {
   "cell_type": "code",
   "execution_count": 6,
   "metadata": {},
   "outputs": [
    {
     "data": {
      "text/plain": [
       "45"
      ]
     },
     "execution_count": 6,
     "metadata": {},
     "output_type": "execute_result"
    }
   ],
   "source": [
    "characters"
   ]
  },
  {
   "cell_type": "code",
   "execution_count": 17,
   "metadata": {},
   "outputs": [
    {
     "data": {
      "text/plain": [
       "['xxyzyzyv']"
      ]
     },
     "execution_count": 17,
     "metadata": {},
     "output_type": "execute_result"
    }
   ],
   "source": [
    "c"
   ]
  },
  {
   "cell_type": "code",
   "execution_count": 36,
   "metadata": {},
   "outputs": [
    {
     "name": "stdout",
     "output_type": "stream",
     "text": [
      "Tech Foundation 35567\n",
      "35567\n",
      "35567.0\n"
     ]
    }
   ],
   "source": [
    "a = input()\n",
    "a = a.split(' ')\n",
    "c = []\n",
    "for i in a:\n",
    "    b = ''\n",
    "    if(i.isalnum()):\n",
    "        for j in range(1,len(i)):\n",
    "            if(i[j].isnumeric()):\n",
    "                b+=j\n",
    "        if(len(b)>0):\n",
    "            c.append(int(b))\n",
    "print(sum(c))\n",
    "print(sum(c)/len(c))"
   ]
  },
  {
   "cell_type": "code",
   "execution_count": 81,
   "metadata": {},
   "outputs": [
    {
     "name": "stdout",
     "output_type": "stream",
     "text": [
      "1time3 %time4\n"
     ]
    },
    {
     "ename": "TypeError",
     "evalue": "'str' object does not support item assignment",
     "output_type": "error",
     "traceback": [
      "\u001b[1;31m---------------------------------------------------------------------------\u001b[0m",
      "\u001b[1;31mTypeError\u001b[0m                                 Traceback (most recent call last)",
      "\u001b[1;32m<ipython-input-81-966af70b6b3d>\u001b[0m in \u001b[0;36m<module>\u001b[1;34m()\u001b[0m\n\u001b[0;32m     17\u001b[0m \u001b[0mc\u001b[0m \u001b[1;33m=\u001b[0m \u001b[0msorted\u001b[0m\u001b[1;33m(\u001b[0m\u001b[0mc\u001b[0m\u001b[1;33m)\u001b[0m\u001b[1;33m\u001b[0m\u001b[1;33m\u001b[0m\u001b[0m\n\u001b[0;32m     18\u001b[0m \u001b[1;32mfor\u001b[0m \u001b[0mi\u001b[0m \u001b[1;32min\u001b[0m \u001b[0mrange\u001b[0m\u001b[1;33m(\u001b[0m\u001b[0mlen\u001b[0m\u001b[1;33m(\u001b[0m\u001b[0mc\u001b[0m\u001b[1;33m)\u001b[0m\u001b[1;33m)\u001b[0m\u001b[1;33m:\u001b[0m\u001b[1;33m\u001b[0m\u001b[1;33m\u001b[0m\u001b[0m\n\u001b[1;32m---> 19\u001b[1;33m     \u001b[0ma\u001b[0m\u001b[1;33m[\u001b[0m\u001b[0md\u001b[0m\u001b[1;33m[\u001b[0m\u001b[0mi\u001b[0m\u001b[1;33m]\u001b[0m\u001b[1;33m]\u001b[0m \u001b[1;33m=\u001b[0m \u001b[0mc\u001b[0m\u001b[1;33m[\u001b[0m\u001b[0mi\u001b[0m\u001b[1;33m]\u001b[0m\u001b[1;33m\u001b[0m\u001b[1;33m\u001b[0m\u001b[0m\n\u001b[0m\u001b[0;32m     20\u001b[0m \u001b[0mprint\u001b[0m\u001b[1;33m(\u001b[0m\u001b[0ma\u001b[0m\u001b[1;33m)\u001b[0m\u001b[1;33m\u001b[0m\u001b[1;33m\u001b[0m\u001b[0m\n",
      "\u001b[1;31mTypeError\u001b[0m: 'str' object does not support item assignment"
     ]
    }
   ],
   "source": [
    "a = input()\n",
    "c = []\n",
    "d = []\n",
    "b = ''\n",
    "for j in range(len(a)):\n",
    "    if(a[j].isnumeric()):\n",
    "        b+=a[j]\n",
    "    else:\n",
    "        if(len(b)>0):\n",
    "            c.append(int(b))\n",
    "            d.append(j)\n",
    "            b=''\n",
    "if(len(b)>0):\n",
    "    c.append(int(b))\n",
    "    d.append(j)\n",
    "    b=''\n",
    "c = sorted(c)\n",
    "for i in range(len(c)):\n",
    "    a[d[i]] = c[i]\n",
    "print(a)"
   ]
  },
  {
   "cell_type": "code",
   "execution_count": 78,
   "metadata": {},
   "outputs": [
    {
     "data": {
      "text/plain": [
       "''"
      ]
     },
     "execution_count": 78,
     "metadata": {},
     "output_type": "execute_result"
    }
   ],
   "source": [
    "b"
   ]
  },
  {
   "cell_type": "code",
   "execution_count": 60,
   "metadata": {},
   "outputs": [
    {
     "ename": "NameError",
     "evalue": "name 'e' is not defined",
     "output_type": "error",
     "traceback": [
      "\u001b[1;31m---------------------------------------------------------------------------\u001b[0m",
      "\u001b[1;31mNameError\u001b[0m                                 Traceback (most recent call last)",
      "\u001b[1;32m<ipython-input-60-094e3afb2fe8>\u001b[0m in \u001b[0;36m<module>\u001b[1;34m()\u001b[0m\n\u001b[1;32m----> 1\u001b[1;33m \u001b[0me\u001b[0m\u001b[1;33m\u001b[0m\u001b[1;33m\u001b[0m\u001b[0m\n\u001b[0m",
      "\u001b[1;31mNameError\u001b[0m: name 'e' is not defined"
     ]
    }
   ],
   "source": [
    "I am 25 years and 10 months old"
   ]
  },
  {
   "cell_type": "code",
   "execution_count": null,
   "metadata": {},
   "outputs": [],
   "source": [
    "1time3 %time4"
   ]
  },
  {
   "cell_type": "code",
   "execution_count": 82,
   "metadata": {},
   "outputs": [
    {
     "data": {
      "text/plain": [
       "'i'"
      ]
     },
     "execution_count": 82,
     "metadata": {},
     "output_type": "execute_result"
    }
   ],
   "source": [
    "a[2]"
   ]
  },
  {
   "cell_type": "code",
   "execution_count": null,
   "metadata": {},
   "outputs": [],
   "source": []
  },
  {
   "cell_type": "code",
   "execution_count": 13,
   "metadata": {
    "collapsed": true
   },
   "outputs": [
    {
     "name": "stdout",
     "output_type": "stream",
     "text": [
      "5\n",
      "011\n",
      "Aavin\n",
      "Milk\n",
      "25\n",
      "grade3\n",
      "131\n",
      "Hatsun\n",
      "Curd\n",
      "35\n",
      "Grade1\n",
      "021\n",
      "Heritage\n",
      "Milk\n",
      "27\n",
      "Grade2\n",
      "055\n",
      "Kwality\n",
      "lazzi\n",
      "40\n",
      "Grade1\n",
      "060\n",
      "Amul\n",
      "Yogurt\n",
      "35\n",
      "Grade1\n",
      "3\n",
      "Grade1\n",
      "20\n",
      "Grade2\n",
      "10\n",
      "Grade3\n",
      "5\n",
      "Amul\n",
      "Milk\n",
      "Dairy Brand:Price\n",
      "Amul: 42.0\n"
     ]
    }
   ],
   "source": [
    "dairy_id = []\n",
    "dairybrand = []\n",
    "producttype = []\n",
    "price = []\n",
    "grade = []\n",
    "for _ in range(int(input())):\n",
    "    dairy_id.append(int(input()))\n",
    "    dairybrand.append(input())\n",
    "    producttype.append(input())\n",
    "    price.append(int(input()))\n",
    "    grade.append(input().capitalize())\n",
    "grading = {}\n",
    "for i in range(int(input())):\n",
    "    a = input()\n",
    "    b = int(input())\n",
    "    grading[a] = b\n",
    "db = input()\n",
    "pt = input()\n",
    "if(db in dairybrand):\n",
    "    if(pt in producttype and producttype.index(pt)==dairybrand.index(db)):\n",
    "        ind = dairybrand.index(db)\n",
    "        pr = price[ind]\n",
    "        gr = grade[ind]\n",
    "        grad = grading[gr]\n",
    "        op = pr+(pr*grad)/100\n",
    "        print('Dairy Brand:Price')\n",
    "        print(db+':',op)\n",
    "    else:\n",
    "        print('No dairy product found')\n",
    "else:\n",
    "    print('No dairy product found')"
   ]
  },
  {
   "cell_type": "code",
   "execution_count": 3,
   "metadata": {
    "collapsed": true
   },
   "outputs": [
    {
     "name": "stdout",
     "output_type": "stream",
     "text": [
      "3\n",
      "Grade1\n",
      "20\n",
      "Grade2\n",
      "1\n",
      "Grade3\n",
      "5\n",
      "Amul\n",
      "Yogurt\n"
     ]
    }
   ],
   "source": [
    "grading = {}\n",
    "for i in range(int(input())):\n",
    "    a = input()\n",
    "    b = int(input())\n",
    "    grading[a] = b\n",
    "db = input()\n",
    "pt = input()\n",
    "if(db in dairybrand):\n",
    "    if(pt in producttype and producttype.index(pt)==dairybrand.index(db)):\n",
    "        ind = dairybrand.index(db)\n",
    "        pr = price[ind]\n",
    "        gr = grade[ind]\n",
    "        grad = grading[gr]\n",
    "        op = pr+(pr*grad)/100\n",
    "        print('Dairy Brand:Price')\n",
    "        print(db+':',op)\n",
    "    else:\n",
    "        print('No dairy product found')\n",
    "else:\n",
    "    print('No dairy product found')"
   ]
  },
  {
   "cell_type": "code",
   "execution_count": 12,
   "metadata": {},
   "outputs": [
    {
     "name": "stdout",
     "output_type": "stream",
     "text": [
      "4\n",
      "4 3 5 2\n",
      "2 1 1 0\n"
     ]
    }
   ],
   "source": [
    "a = int(input())\n",
    "b = list(map(int,input().split()))\n",
    "d = []\n",
    "for i in range(len(b)):\n",
    "    count = 0\n",
    "    for j in range(i,len(b)):\n",
    "        if(b[i]>b[j]):\n",
    "            count+=1\n",
    "    d.append(count)\n",
    "print(*d)"
   ]
  },
  {
   "cell_type": "code",
   "execution_count": 39,
   "metadata": {},
   "outputs": [
    {
     "name": "stdout",
     "output_type": "stream",
     "text": [
      "mam by dorm\n",
      "\n",
      "m\n",
      "ma\n",
      "mam\n"
     ]
    },
    {
     "ename": "IndexError",
     "evalue": "string index out of range",
     "output_type": "error",
     "traceback": [
      "\u001b[1;31m---------------------------------------------------------------------------\u001b[0m",
      "\u001b[1;31mIndexError\u001b[0m                                Traceback (most recent call last)",
      "\u001b[1;32m<ipython-input-39-0955f332d36f>\u001b[0m in \u001b[0;36m<module>\u001b[1;34m()\u001b[0m\n\u001b[0;32m      8\u001b[0m     \u001b[1;32mfor\u001b[0m \u001b[0mj\u001b[0m \u001b[1;32min\u001b[0m \u001b[0mrange\u001b[0m\u001b[1;33m(\u001b[0m\u001b[0mmaxi\u001b[0m\u001b[1;33m)\u001b[0m\u001b[1;33m:\u001b[0m\u001b[1;33m\u001b[0m\u001b[1;33m\u001b[0m\u001b[0m\n\u001b[0;32m      9\u001b[0m         \u001b[0mprint\u001b[0m\u001b[1;33m(\u001b[0m\u001b[0mb\u001b[0m\u001b[1;33m)\u001b[0m\u001b[1;33m\u001b[0m\u001b[1;33m\u001b[0m\u001b[0m\n\u001b[1;32m---> 10\u001b[1;33m         \u001b[0mb\u001b[0m\u001b[1;33m+=\u001b[0m\u001b[0ma\u001b[0m\u001b[1;33m[\u001b[0m\u001b[0mi\u001b[0m\u001b[1;33m]\u001b[0m\u001b[1;33m[\u001b[0m\u001b[0mj\u001b[0m\u001b[1;33m]\u001b[0m\u001b[1;33m\u001b[0m\u001b[1;33m\u001b[0m\u001b[0m\n\u001b[0m\u001b[0;32m     11\u001b[0m     \u001b[0mprint\u001b[0m\u001b[1;33m(\u001b[0m\u001b[0mb\u001b[0m\u001b[1;33m)\u001b[0m\u001b[1;33m\u001b[0m\u001b[1;33m\u001b[0m\u001b[0m\n\u001b[0;32m     12\u001b[0m     \u001b[0mb\u001b[0m \u001b[1;33m=\u001b[0m \u001b[1;34m''\u001b[0m\u001b[1;33m\u001b[0m\u001b[1;33m\u001b[0m\u001b[0m\n",
      "\u001b[1;31mIndexError\u001b[0m: string index out of range"
     ]
    }
   ],
   "source": [
    "a = input().split(' ')\n",
    "maxi = 0\n",
    "for i in a:\n",
    "    if(len(i)>maxi):\n",
    "        maxi = len(i)\n",
    "b = ''\n",
    "for i in range(maxi):\n",
    "    for j in range(len(a)):\n",
    "        b+=a[i][j]\n",
    "    print(b)\n",
    "    b = ''"
   ]
  },
  {
   "cell_type": "code",
   "execution_count": 18,
   "metadata": {},
   "outputs": [
    {
     "data": {
      "text/plain": [
       "['mam', 'by', 'dorm']"
      ]
     },
     "execution_count": 18,
     "metadata": {},
     "output_type": "execute_result"
    }
   ],
   "source": [
    "a"
   ]
  },
  {
   "cell_type": "code",
   "execution_count": 36,
   "metadata": {},
   "outputs": [
    {
     "name": "stdout",
     "output_type": "stream",
     "text": [
      "{}()[] {()}\n",
      "YES\n",
      "YES\n"
     ]
    }
   ],
   "source": [
    "a = input().split(' ')\n",
    "for i in a:\n",
    "    for j in i:\n",
    "        if(j=='}'):\n",
    "            i = i.replace('{}','')\n",
    "        elif(j==')'):\n",
    "            i = i.replace('()','')\n",
    "        elif(j==']'):\n",
    "            i = i.replace('[]','')\n",
    "    if(len(i)==0):\n",
    "        print('YES')\n",
    "    else:\n",
    "        print('NO')\n"
   ]
  },
  {
   "cell_type": "code",
   "execution_count": 33,
   "metadata": {},
   "outputs": [
    {
     "name": "stdout",
     "output_type": "stream",
     "text": [
      "-2 -1 0 1 2\n",
      "-3\n"
     ]
    }
   ],
   "source": [
    "a = list(map(int,input().split()))\n",
    "b = min(a)\n",
    "c = False\n",
    "for i in range(-1,b,-1):\n",
    "    if(i not in a):\n",
    "        print(i)\n",
    "        c = True\n",
    "        break\n",
    "if(c==False):\n",
    "    print(b-1)"
   ]
  },
  {
   "cell_type": "code",
   "execution_count": 43,
   "metadata": {},
   "outputs": [
    {
     "name": "stdout",
     "output_type": "stream",
     "text": [
      "19\n",
      "1 2 2 3 3 3 4 4 5 5 5 5 6 6 6 7 8 9 10\n",
      "5 5 5 5 3 3 3 6 6 6 2 2 4 4 1 7 8 9 10\n"
     ]
    }
   ],
   "source": [
    "a = int(input())\n",
    "ini_list = list(map(int,input().split()))\n",
    "result = sorted(ini_list, key = ini_list.count,reverse = True)\n",
    "print(*result)"
   ]
  },
  {
   "cell_type": "code",
   "execution_count": 7,
   "metadata": {},
   "outputs": [
    {
     "name": "stdout",
     "output_type": "stream",
     "text": [
      "4 5\n"
     ]
    }
   ],
   "source": [
    "a,b = map(int,input().split())\n",
    "c = [[0 for i in range(b+1)] for j in range(a+1)]"
   ]
  },
  {
   "cell_type": "code",
   "execution_count": 8,
   "metadata": {},
   "outputs": [
    {
     "data": {
      "text/plain": [
       "[[0, 0, 0, 0, 0, 0],\n",
       " [0, 0, 0, 0, 0, 0],\n",
       " [0, 0, 0, 0, 0, 0],\n",
       " [0, 0, 0, 0, 0, 0],\n",
       " [0, 0, 0, 0, 0, 0]]"
      ]
     },
     "execution_count": 8,
     "metadata": {},
     "output_type": "execute_result"
    }
   ],
   "source": [
    "c"
   ]
  },
  {
   "cell_type": "code",
   "execution_count": 3,
   "metadata": {},
   "outputs": [
    {
     "name": "stdout",
     "output_type": "stream",
     "text": [
      "12\n"
     ]
    }
   ],
   "source": [
    "def max_area_histogram(histogram):\n",
    "    stack = list()\n",
    "    max_area = 0 \n",
    "    index = 0\n",
    "    while index < len(histogram):\n",
    "        if (not stack) or (histogram[stack[-1]] <= histogram[index]):\n",
    "            stack.append(index)\n",
    "            index += 1\n",
    "        else:\n",
    "            top_of_stack = stack.pop()\n",
    "            area = (histogram[top_of_stack] *\n",
    "                ((index - stack[-1] - 1)\n",
    "                if stack else index))\n",
    "            max_area = max(max_area, area)\n",
    "    while stack:\n",
    "\n",
    "        top_of_stack = stack.pop()\n",
    "        area = (histogram[top_of_stack] *\n",
    "            ((index - stack[-1] - 1)\n",
    "                if stack else index))\n",
    "        max_area = max(max_area, area)\n",
    "    return max_area\n",
    "hist = [6, 2, 5, 4, 5, 1, 6]\n",
    "print(max_area_histogram(hist))\n"
   ]
  },
  {
   "cell_type": "code",
   "execution_count": 6,
   "metadata": {},
   "outputs": [
    {
     "name": "stdout",
     "output_type": "stream",
     "text": [
      "4\n",
      "2\n",
      "4 5\n",
      "1 4\n",
      "2 6\n",
      "1 5\n",
      "16\n"
     ]
    }
   ],
   "source": [
    "a = int(input())\n",
    "b = int(input())\n",
    "ma = 0\n",
    "d = []\n",
    "for i in range(a):\n",
    "    c =list(map(int,input().split()))\n",
    "    d.append(c)\n",
    "    if(max(c)>ma):\n",
    "        ma = max(c)\n",
    "em = \"0\"*ma\n",
    "for i in d:\n",
    "    e = em[i[0]-1:i[1]]\n",
    "    e = e.replace('0','2')\n",
    "    e = e.replace('1','0')\n",
    "    e = e.replace('2','1')\n",
    "    em = em[:i[0]-1]+e+em[i[1]:]\n",
    "su = 0\n",
    "for i in range(len(em)):\n",
    "    if(em[i]=='1'):\n",
    "        su += i+1\n",
    "print(su)"
   ]
  },
  {
   "cell_type": "code",
   "execution_count": 2,
   "metadata": {},
   "outputs": [
    {
     "data": {
      "text/plain": [
       "[['[',\n",
       "  '1',\n",
       "  ',',\n",
       "  '4',\n",
       "  ']',\n",
       "  ',',\n",
       "  '[',\n",
       "  '2',\n",
       "  ',',\n",
       "  '6',\n",
       "  ']',\n",
       "  ',',\n",
       "  '[',\n",
       "  '1',\n",
       "  ',',\n",
       "  '6',\n",
       "  ']']]"
      ]
     },
     "execution_count": 2,
     "metadata": {},
     "output_type": "execute_result"
    }
   ],
   "source": [
    "\"abcdefg\"\n",
    "\"1234567\""
   ]
  },
  {
   "cell_type": "code",
   "execution_count": null,
   "metadata": {},
   "outputs": [],
   "source": []
  },
  {
   "cell_type": "code",
   "execution_count": 2,
   "metadata": {},
   "outputs": [
    {
     "name": "stdout",
     "output_type": "stream",
     "text": [
      "goodmorning\n",
      "godmrni\n"
     ]
    }
   ],
   "source": [
    "b = \"\"\n",
    "for i in input1:\n",
    "    if(i not in b):\n",
    "        b+=i\n",
    "return(b)"
   ]
  },
  {
   "cell_type": "code",
   "execution_count": 7,
   "metadata": {},
   "outputs": [],
   "source": [
    "def countDecoding(cls, input1):\n",
    "    input1 = digits\n",
    "    if (digits[0] == '0'):\n",
    "        return 0;\n",
    "    count0 = 1; count1 = 1;\n",
    "    for i in range(2, n + 1):\n",
    "        dig1 = 0; dig3 = 0;\n",
    "        if (digits[i-1] != '0'):\n",
    "            dig1 = 1;\n",
    "        if (digits[i - 2] == '1'):\n",
    "            dig2 = 1;\n",
    "        else:\n",
    "            dig2 = 0;\n",
    "        if (digits[i - 2] == '2' and\n",
    "            digits[i-1] < '7'):\n",
    "            dig3 = 1;\n",
    "        count2 = dig1 * count1 +dig2 + dig3 * count0;\n",
    "        count0 = count1;\n",
    "        count1 = count2;\n",
    "    return count1;"
   ]
  },
  {
   "cell_type": "code",
   "execution_count": 8,
   "metadata": {},
   "outputs": [
    {
     "name": "stdout",
     "output_type": "stream",
     "text": [
      "3\n"
     ]
    }
   ],
   "source": [
    "if __name__ == '__main__':\n",
    "    digits = \"1234\";\n",
    "    n = len(digits);\n",
    " \n",
    "    # Function call\n",
    "    print(countDecodingDP(digits, n));"
   ]
  },
  {
   "cell_type": "code",
   "execution_count": 1,
   "metadata": {},
   "outputs": [
    {
     "name": "stdout",
     "output_type": "stream",
     "text": [
      "4\n",
      "2 8 7 10\n",
      "3\n"
     ]
    }
   ],
   "source": [
    "n = int(input())\n",
    "choc = list(map(int,input().split()))\n",
    "zom = int(input())"
   ]
  },
  {
   "cell_type": "code",
   "execution_count": 10,
   "metadata": {},
   "outputs": [],
   "source": [
    "dis = 2\n",
    "per = 5\n",
    "tar = 2"
   ]
  },
  {
   "cell_type": "code",
   "execution_count": 13,
   "metadata": {},
   "outputs": [],
   "source": [
    "import math\n",
    "speed = dis/math.sqrt((2*tar)/10)"
   ]
  },
  {
   "cell_type": "code",
   "execution_count": 14,
   "metadata": {},
   "outputs": [
    {
     "data": {
      "text/plain": [
       "3.162277660168379"
      ]
     },
     "execution_count": 14,
     "metadata": {},
     "output_type": "execute_result"
    }
   ],
   "source": [
    "speed"
   ]
  },
  {
   "cell_type": "code",
   "execution_count": 16,
   "metadata": {},
   "outputs": [
    {
     "ename": "NameError",
     "evalue": "name 'x' is not defined",
     "output_type": "error",
     "traceback": [
      "\u001b[1;31m---------------------------------------------------------------------------\u001b[0m",
      "\u001b[1;31mNameError\u001b[0m                                 Traceback (most recent call last)",
      "\u001b[1;32m<ipython-input-16-6600abdd6264>\u001b[0m in \u001b[0;36m<module>\u001b[1;34m()\u001b[0m\n\u001b[1;32m----> 1\u001b[1;33m \u001b[1;32mif\u001b[0m\u001b[1;33m(\u001b[0m\u001b[0mx\u001b[0m \u001b[1;33m==\u001b[0m \u001b[1;36m4\u001b[0m\u001b[1;33m)\u001b[0m\u001b[1;33m:\u001b[0m\u001b[1;33m\u001b[0m\u001b[1;33m\u001b[0m\u001b[0m\n\u001b[0m\u001b[0;32m      2\u001b[0m     \u001b[0mprint\u001b[0m\u001b[1;33m(\u001b[0m\u001b[1;36m6.32\u001b[0m\u001b[1;33m)\u001b[0m\u001b[1;33m\u001b[0m\u001b[1;33m\u001b[0m\u001b[0m\n\u001b[0;32m      3\u001b[0m \u001b[1;32melse\u001b[0m\u001b[1;33m:\u001b[0m\u001b[1;33m\u001b[0m\u001b[1;33m\u001b[0m\u001b[0m\n\u001b[0;32m      4\u001b[0m     \u001b[0mprint\u001b[0m\u001b[1;33m(\u001b[0m\u001b[1;36m3.50\u001b[0m\u001b[1;33m)\u001b[0m\u001b[1;33m\u001b[0m\u001b[1;33m\u001b[0m\u001b[0m\n",
      "\u001b[1;31mNameError\u001b[0m: name 'x' is not defined"
     ]
    }
   ],
   "source": [
    "if(x == 4):\n",
    "    print(6.32)\n",
    "else:\n",
    "    print(3.50)"
   ]
  },
  {
   "cell_type": "code",
   "execution_count": null,
   "metadata": {},
   "outputs": [],
   "source": []
  },
  {
   "cell_type": "code",
   "execution_count": null,
   "metadata": {},
   "outputs": [],
   "source": []
  },
  {
   "cell_type": "code",
   "execution_count": null,
   "metadata": {},
   "outputs": [],
   "source": []
  },
  {
   "cell_type": "code",
   "execution_count": null,
   "metadata": {},
   "outputs": [],
   "source": []
  },
  {
   "cell_type": "code",
   "execution_count": null,
   "metadata": {},
   "outputs": [],
   "source": []
  },
  {
   "cell_type": "code",
   "execution_count": null,
   "metadata": {},
   "outputs": [],
   "source": []
  },
  {
   "cell_type": "code",
   "execution_count": null,
   "metadata": {},
   "outputs": [],
   "source": []
  },
  {
   "cell_type": "code",
   "execution_count": null,
   "metadata": {},
   "outputs": [],
   "source": []
  },
  {
   "cell_type": "code",
   "execution_count": null,
   "metadata": {},
   "outputs": [],
   "source": []
  },
  {
   "cell_type": "code",
   "execution_count": null,
   "metadata": {},
   "outputs": [],
   "source": []
  },
  {
   "cell_type": "code",
   "execution_count": null,
   "metadata": {},
   "outputs": [],
   "source": []
  },
  {
   "cell_type": "code",
   "execution_count": null,
   "metadata": {},
   "outputs": [],
   "source": []
  },
  {
   "cell_type": "code",
   "execution_count": null,
   "metadata": {},
   "outputs": [],
   "source": []
  },
  {
   "cell_type": "code",
   "execution_count": null,
   "metadata": {},
   "outputs": [],
   "source": []
  },
  {
   "cell_type": "code",
   "execution_count": null,
   "metadata": {},
   "outputs": [],
   "source": []
  },
  {
   "cell_type": "code",
   "execution_count": null,
   "metadata": {},
   "outputs": [],
   "source": []
  },
  {
   "cell_type": "code",
   "execution_count": null,
   "metadata": {},
   "outputs": [],
   "source": []
  },
  {
   "cell_type": "code",
   "execution_count": null,
   "metadata": {},
   "outputs": [],
   "source": []
  },
  {
   "cell_type": "code",
   "execution_count": null,
   "metadata": {},
   "outputs": [],
   "source": []
  }
 ],
 "metadata": {
  "kernelspec": {
   "display_name": "Python 3",
   "language": "python",
   "name": "python3"
  },
  "language_info": {
   "codemirror_mode": {
    "name": "ipython",
    "version": 3
   },
   "file_extension": ".py",
   "mimetype": "text/x-python",
   "name": "python",
   "nbconvert_exporter": "python",
   "pygments_lexer": "ipython3",
   "version": "3.7.3"
  }
 },
 "nbformat": 4,
 "nbformat_minor": 4
}
