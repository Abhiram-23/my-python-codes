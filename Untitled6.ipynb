{
 "cells": [
  {
   "cell_type": "code",
   "execution_count": 44,
   "metadata": {},
   "outputs": [
    {
     "name": "stdout",
     "output_type": "stream",
     "text": [
      "int tin int int tin tint\n",
      "int 3\n",
      "tin 2\n",
      "tint 1\n"
     ]
    }
   ],
   "source": [
    "a = list(map(str,input().split()))\n",
    "b = {}\n",
    "for i in a:\n",
    "    if(i not in b):\n",
    "        b[i] = 1\n",
    "    else:\n",
    "        b[i]+=1\n",
    "for key in b:\n",
    "    print(key,end=\" \")\n",
    "    print(b[key])"
   ]
  },
  {
   "cell_type": "code",
   "execution_count": 66,
   "metadata": {},
   "outputs": [
    {
     "name": "stdout",
     "output_type": "stream",
     "text": [
      "0 2 5 7 9 10 26 9\n",
      "14\n",
      "[[5, 9], [9, 5]]\n"
     ]
    }
   ],
   "source": [
    "a = list(map(int,input().split()))\n",
    "b = int(input())\n",
    "c=[]\n",
    "for ik in range(0,len(a)):\n",
    "    for jl in range(0,len(a)):\n",
    "        if(a[ik]+a[jl]==b and ik!=jl):\n",
    "            d.append(a[ik])\n",
    "            d.append(a[jl])\n",
    "            if(d not in c):\n",
    "                c.append(d)\n",
    "            d=[]\n",
    "print(c)"
   ]
  },
  {
   "cell_type": "code",
   "execution_count": 92,
   "metadata": {},
   "outputs": [
    {
     "name": "stdout",
     "output_type": "stream",
     "text": [
      "you you you you you you\n",
      "uoy you uoy you uoy you \n"
     ]
    }
   ],
   "source": [
    "a = list(map(str,input().split()))\n",
    "b = ''\n",
    "for i in range(len(a)):\n",
    "    if(i%2==0):\n",
    "        c = a[i]\n",
    "        c = c[::-1]\n",
    "        b+=c+' '\n",
    "    else:\n",
    "        b+=a[i]+' '\n",
    "print(b)"
   ]
  },
  {
   "cell_type": "code",
   "execution_count": null,
   "metadata": {},
   "outputs": [],
   "source": []
  },
  {
   "cell_type": "code",
   "execution_count": null,
   "metadata": {},
   "outputs": [],
   "source": []
  },
  {
   "cell_type": "code",
   "execution_count": null,
   "metadata": {},
   "outputs": [],
   "source": []
  },
  {
   "cell_type": "code",
   "execution_count": null,
   "metadata": {},
   "outputs": [],
   "source": []
  },
  {
   "cell_type": "code",
   "execution_count": null,
   "metadata": {},
   "outputs": [],
   "source": []
  },
  {
   "cell_type": "code",
   "execution_count": null,
   "metadata": {},
   "outputs": [],
   "source": []
  }
 ],
 "metadata": {
  "kernelspec": {
   "display_name": "Python 3",
   "language": "python",
   "name": "python3"
  },
  "language_info": {
   "codemirror_mode": {
    "name": "ipython",
    "version": 3
   },
   "file_extension": ".py",
   "mimetype": "text/x-python",
   "name": "python",
   "nbconvert_exporter": "python",
   "pygments_lexer": "ipython3",
   "version": "3.7.3"
  }
 },
 "nbformat": 4,
 "nbformat_minor": 4
}
