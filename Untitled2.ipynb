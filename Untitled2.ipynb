{
 "cells": [
  {
   "cell_type": "code",
   "execution_count": null,
   "metadata": {},
   "outputs": [],
   "source": []
  },
  {
   "cell_type": "code",
   "execution_count": null,
   "metadata": {},
   "outputs": [],
   "source": [
    "for i in range(int(input())):\n",
    "    n,m = map(int,input().split())\n",
    "    h=n+1\n",
    "    c=[0]*h\n",
    "    count=0\n",
    "    d=[]\n",
    "    for i in range(m):\n",
    "        a,b=map(int,input().split())\n",
    "        e=str(a)+str(b)\n",
    "        if(d.count(e)<2):\n",
    "            d.append(e)\n",
    "        else:\n",
    "            d.remove(e)\n",
    "            d.remove(e)\n",
    "            continue\n",
    "        if(c[a]==0):\n",
    "            print(a,b,count)\n",
    "            c[a]=1\n",
    "            count+=1\n",
    "        elif(c[b]==0):\n",
    "            print(a,b,count)\n",
    "            c[b]=1\n",
    "            count+=1\n",
    "        elif(c[a]==1 and c[b]==1):\n",
    "            print(a,b,count)\n",
    "    print(min(len(d),count))\n",
    "    l = input('')"
   ]
  },
  {
   "cell_type": "code",
   "execution_count": null,
   "metadata": {},
   "outputs": [],
   "source": []
  },
  {
   "cell_type": "code",
   "execution_count": null,
   "metadata": {},
   "outputs": [],
   "source": [
    "for i in range(int(input())):\n",
    "    h, p = map(int,input().split())\n",
    "    while(p>0 and h>0):\n",
    "        h=h-p\n",
    "        p = p//2\n",
    "    if(h<=0 and p>=0):\n",
    "        print(1)\n",
    "    else:\n",
    "        print(0)"
   ]
  },
  {
   "cell_type": "code",
   "execution_count": null,
   "metadata": {},
   "outputs": [],
   "source": [
    "for i in range(int(input())):\n",
    "    n,m = map(int,input().split())\n",
    "    a = list(map(int,input().split()))\n",
    "    c=[]\n",
    "    for i in a:\n",
    "        if(m%i==0):\n",
    "            c.append(i)\n",
    "    if(len(c)>0):\n",
    "        print(max(c))\n",
    "    else:\n",
    "        print(-1)"
   ]
  },
  {
   "cell_type": "code",
   "execution_count": null,
   "metadata": {},
   "outputs": [],
   "source": []
  },
  {
   "cell_type": "code",
   "execution_count": null,
   "metadata": {},
   "outputs": [],
   "source": [
    "from math import floor,ceil\n",
    "for i in range(int(input())):\n",
    "    c,r = map(int,input().split())\n",
    "    if(len(str(c))==1 and len(str(r))==1):\n",
    "        print(1,len(str(c)))\n",
    "        continue\n",
    "    f = ceil(c/9)\n",
    "    g = ceil(r/9)\n",
    "    if(f<g):\n",
    "        print(0,len(str(c)))\n",
    "    elif(g<f):\n",
    "        print(1,len(str(r)))\n",
    "    elif(g==g):\n",
    "        print(1,len(str(r)))"
   ]
  },
  {
   "cell_type": "code",
   "execution_count": null,
   "metadata": {},
   "outputs": [],
   "source": [
    "f"
   ]
  },
  {
   "cell_type": "code",
   "execution_count": null,
   "metadata": {},
   "outputs": [],
   "source": [
    "g"
   ]
  },
  {
   "cell_type": "code",
   "execution_count": null,
   "metadata": {},
   "outputs": [],
   "source": [
    "e"
   ]
  },
  {
   "cell_type": "code",
   "execution_count": null,
   "metadata": {},
   "outputs": [],
   "source": [
    "from math import ceil,floor\n",
    "ceil(24/9)"
   ]
  },
  {
   "cell_type": "code",
   "execution_count": null,
   "metadata": {},
   "outputs": [],
   "source": [
    "14/9"
   ]
  },
  {
   "cell_type": "code",
   "execution_count": null,
   "metadata": {},
   "outputs": [],
   "source": []
  },
  {
   "cell_type": "code",
   "execution_count": null,
   "metadata": {},
   "outputs": [],
   "source": [
    "a=['flowers','flow','floo']\n",
    "for i in range(len(a[0])):\n",
    "    for j in range(len(a)-1):\n",
    "        if(a[j][i]==a[j+1][i]):\n",
    "            print(a[j][i])\n",
    "            a[j]=a[j+1]"
   ]
  },
  {
   "cell_type": "code",
   "execution_count": null,
   "metadata": {},
   "outputs": [],
   "source": [
    "a"
   ]
  },
  {
   "cell_type": "code",
   "execution_count": null,
   "metadata": {},
   "outputs": [],
   "source": [
    "a[1][0]"
   ]
  },
  {
   "cell_type": "code",
   "execution_count": null,
   "metadata": {},
   "outputs": [],
   "source": []
  },
  {
   "cell_type": "code",
   "execution_count": null,
   "metadata": {},
   "outputs": [],
   "source": [
    "for i in range(int(input())):\n",
    "    n,x = map(int,input().split())\n",
    "    a = list(map(int,input().split()))\n",
    "    b='No'\n",
    "    for i in a:\n",
    "        if(i>x):\n",
    "            b=\"Yes\"\n",
    "            break\n",
    "    if(b=='Yes'):\n",
    "        print('Yes')\n",
    "    else:\n",
    "        print('No')"
   ]
  },
  {
   "cell_type": "code",
   "execution_count": null,
   "metadata": {},
   "outputs": [],
   "source": [
    "24-20\n"
   ]
  },
  {
   "cell_type": "code",
   "execution_count": null,
   "metadata": {},
   "outputs": [],
   "source": [
    "23-16\n"
   ]
  },
  {
   "cell_type": "code",
   "execution_count": null,
   "metadata": {},
   "outputs": [],
   "source": [
    "54-42\n"
   ]
  },
  {
   "cell_type": "code",
   "execution_count": null,
   "metadata": {},
   "outputs": [],
   "source": [
    "11-1"
   ]
  },
  {
   "cell_type": "code",
   "execution_count": null,
   "metadata": {},
   "outputs": [],
   "source": [
    "from itertools import combinations"
   ]
  },
  {
   "cell_type": "code",
   "execution_count": null,
   "metadata": {},
   "outputs": [],
   "source": [
    "a=[1,2,3,4,5,6,7,8,9,10]"
   ]
  },
  {
   "cell_type": "code",
   "execution_count": null,
   "metadata": {},
   "outputs": [],
   "source": [
    "len(list(combinations(a,2)))"
   ]
  },
  {
   "cell_type": "code",
   "execution_count": null,
   "metadata": {},
   "outputs": [],
   "source": [
    "1,1,3,6,10,15,21,28,36,45"
   ]
  },
  {
   "cell_type": "code",
   "execution_count": null,
   "metadata": {},
   "outputs": [],
   "source": [
    "1,2,3,4,5,6,7,8,9,10"
   ]
  },
  {
   "cell_type": "code",
   "execution_count": null,
   "metadata": {},
   "outputs": [],
   "source": [
    "12="
   ]
  },
  {
   "cell_type": "code",
   "execution_count": null,
   "metadata": {},
   "outputs": [],
   "source": [
    "import math\n",
    "for i in range(int(input())):\n",
    "    k = int(input())\n",
    "    a=-2*k\n",
    "    b =(1+(1-4*a)**0.5)/2\n",
    "    c =(1-(1-4*a)**0.5)/2\n",
    "    if(b==int(b)):\n",
    "        print('Possible')\n",
    "    else:\n",
    "        print('Impossible')"
   ]
  },
  {
   "cell_type": "code",
   "execution_count": null,
   "metadata": {},
   "outputs": [],
   "source": []
  },
  {
   "cell_type": "code",
   "execution_count": null,
   "metadata": {},
   "outputs": [],
   "source": [
    "16-24"
   ]
  },
  {
   "cell_type": "code",
   "execution_count": null,
   "metadata": {},
   "outputs": [],
   "source": [
    "17-24"
   ]
  },
  {
   "cell_type": "code",
   "execution_count": null,
   "metadata": {},
   "outputs": [],
   "source": [
    "for i in range(int(input())):\n",
    "    t1 = input()\n",
    "    t2 = input()\n",
    "    a=int(t1[:2])\n",
    "    b=int(t1[3:])\n",
    "    c=int(t2[:2])\n",
    "    d=int(t2[3:])\n",
    "    if(d<=b and a<c):\n",
    "        e=60-(b-d)\n",
    "        f=-(a-c+1)\n",
    "    elif(d>=b and a>c):\n",
    "        e=d-b\n",
    "        f=(24-a)+c\n",
    "    elif(a==c):\n",
    "        e=b-d\n",
    "        f=23\n",
    "    print(f,'hours',e,'minutes')"
   ]
  },
  {
   "cell_type": "code",
   "execution_count": null,
   "metadata": {},
   "outputs": [],
   "source": [
    "if(d<b and a<=c):\n",
    "    e=60-(b-d)\n",
    "    f=-(a-c+1)\n",
    "elif(d>b and a>=c):\n",
    "    e=d-b\n",
    "    f=(24-a)+c\n",
    "elif(a==c):\n",
    "    e=b-d\n",
    "    f=23"
   ]
  },
  {
   "cell_type": "code",
   "execution_count": null,
   "metadata": {},
   "outputs": [],
   "source": []
  },
  {
   "cell_type": "code",
   "execution_count": null,
   "metadata": {},
   "outputs": [],
   "source": [
    "n,d = map(int,input().split())\n",
    "c=[]\n",
    "for i in range(n):\n",
    "    c.append(int(input()))\n",
    "c=sorted(c)\n",
    "count=0\n",
    "for i in range(len(c)-d):\n",
    "    if(c[i]-c[i+1]<=2):\n",
    "        count+=1\n",
    "        print(c[i],c[i+1])\n",
    "        c.remove(c[i])\n",
    "        c.remove(c[i+1])\n",
    "        print(c)"
   ]
  },
  {
   "cell_type": "code",
   "execution_count": null,
   "metadata": {},
   "outputs": [],
   "source": [
    "count"
   ]
  },
  {
   "cell_type": "code",
   "execution_count": null,
   "metadata": {},
   "outputs": [],
   "source": [
    "\n",
    "a=[1,2,3,4,5,6,1,2,3]"
   ]
  },
  {
   "cell_type": "code",
   "execution_count": null,
   "metadata": {},
   "outputs": [],
   "source": []
  },
  {
   "cell_type": "code",
   "execution_count": null,
   "metadata": {},
   "outputs": [],
   "source": [
    "17+19"
   ]
  },
  {
   "cell_type": "code",
   "execution_count": null,
   "metadata": {},
   "outputs": [],
   "source": [
    "a=int(input())\n",
    "if(a>=6):\n",
    "    a=a%6\n",
    "    if(a==0 or a==1 or a==3):\n",
    "        print('yes')\n",
    "    else:\n",
    "        print('no')\n",
    "elif(a==3  or a==1 or a==0):\n",
    "    print('yes')\n",
    "else:\n",
    "    print('no')"
   ]
  },
  {
   "cell_type": "code",
   "execution_count": null,
   "metadata": {},
   "outputs": [],
   "source": [
    "a%6"
   ]
  },
  {
   "cell_type": "code",
   "execution_count": null,
   "metadata": {},
   "outputs": [],
   "source": [
    "22111999"
   ]
  },
  {
   "cell_type": "code",
   "execution_count": null,
   "metadata": {},
   "outputs": [],
   "source": []
  },
  {
   "cell_type": "code",
   "execution_count": null,
   "metadata": {},
   "outputs": [],
   "source": [
    "n1=0\n",
    "n2=1\n",
    "n3=1\n",
    "count=1\n",
    "while(count<=6):\n",
    "    count+=1\n",
    "    print(n3)\n",
    "    n3=n1+n2\n",
    "    n1=n2\n",
    "    n2=n3\n",
    "    "
   ]
  },
  {
   "cell_type": "code",
   "execution_count": null,
   "metadata": {},
   "outputs": [],
   "source": [
    "1%10"
   ]
  },
  {
   "cell_type": "code",
   "execution_count": null,
   "metadata": {},
   "outputs": [],
   "source": [
    "3*35*17*33"
   ]
  },
  {
   "cell_type": "code",
   "execution_count": null,
   "metadata": {},
   "outputs": [],
   "source": [
    "7*34*33*8*31"
   ]
  },
  {
   "cell_type": "code",
   "execution_count": null,
   "metadata": {},
   "outputs": [],
   "source": [
    "58905/1947792"
   ]
  },
  {
   "cell_type": "code",
   "execution_count": null,
   "metadata": {},
   "outputs": [],
   "source": [
    "1/12"
   ]
  },
  {
   "cell_type": "code",
   "execution_count": null,
   "metadata": {},
   "outputs": [],
   "source": [
    "50*49"
   ]
  },
  {
   "cell_type": "code",
   "execution_count": null,
   "metadata": {},
   "outputs": [],
   "source": [
    "26*51"
   ]
  },
  {
   "cell_type": "code",
   "execution_count": null,
   "metadata": {},
   "outputs": [],
   "source": [
    "6/1326"
   ]
  },
  {
   "cell_type": "code",
   "execution_count": null,
   "metadata": {},
   "outputs": [],
   "source": [
    "1/15"
   ]
  },
  {
   "cell_type": "code",
   "execution_count": null,
   "metadata": {},
   "outputs": [],
   "source": [
    "1/221"
   ]
  },
  {
   "cell_type": "code",
   "execution_count": null,
   "metadata": {},
   "outputs": [],
   "source": [
    "13*7"
   ]
  },
  {
   "cell_type": "code",
   "execution_count": null,
   "metadata": {},
   "outputs": [],
   "source": [
    "55*2"
   ]
  },
  {
   "cell_type": "code",
   "execution_count": null,
   "metadata": {},
   "outputs": [],
   "source": [
    "13/110"
   ]
  },
  {
   "cell_type": "code",
   "execution_count": null,
   "metadata": {},
   "outputs": [],
   "source": [
    "13/102"
   ]
  },
  {
   "cell_type": "code",
   "execution_count": null,
   "metadata": {},
   "outputs": [],
   "source": [
    "50/18"
   ]
  },
  {
   "cell_type": "code",
   "execution_count": null,
   "metadata": {},
   "outputs": [],
   "source": [
    "2.8*30"
   ]
  },
  {
   "cell_type": "code",
   "execution_count": null,
   "metadata": {},
   "outputs": [],
   "source": [
    "9000/(75*5)"
   ]
  },
  {
   "cell_type": "code",
   "execution_count": null,
   "metadata": {},
   "outputs": [],
   "source": [
    "11*18"
   ]
  },
  {
   "cell_type": "code",
   "execution_count": null,
   "metadata": {},
   "outputs": [],
   "source": [
    "25*5"
   ]
  },
  {
   "cell_type": "code",
   "execution_count": null,
   "metadata": {},
   "outputs": [],
   "source": [
    "198/125"
   ]
  },
  {
   "cell_type": "code",
   "execution_count": null,
   "metadata": {},
   "outputs": [],
   "source": [
    "for i in range(int(input())):\n",
    "    a,b = map(int,input().split())\n",
    "    c=0\n",
    "    for i in range(a,b+1):\n",
    "        count=1\n",
    "        for j in range(1,i//2+2):\n",
    "            if(i%j==0):\n",
    "                count+=1\n",
    "        if(count%2==1):\n",
    "            c+=1\n",
    "    print(c)"
   ]
  },
  {
   "cell_type": "code",
   "execution_count": null,
   "metadata": {},
   "outputs": [],
   "source": [
    "count"
   ]
  },
  {
   "cell_type": "code",
   "execution_count": null,
   "metadata": {},
   "outputs": [],
   "source": [
    "2//2"
   ]
  },
  {
   "cell_type": "code",
   "execution_count": null,
   "metadata": {},
   "outputs": [],
   "source": [
    "bin(4)&bin(5)"
   ]
  },
  {
   "cell_type": "code",
   "execution_count": null,
   "metadata": {},
   "outputs": [],
   "source": [
    "a=bin(7)\n",
    "b=bin(8)\n",
    "c=int(a[2:])\n",
    "d=int(b[2:])\n",
    "l=[]\n",
    "if(len(str(c))>len(str(d))):\n",
    "    c=int(str(c[1:]))\n",
    "elif(len(str(d))>len(str(c))):\n",
    "    g=str(d)\n",
    "    d=int(g[1:])\n",
    "e=c&d\n",
    "h=int(str(c&d),2)\n",
    "l.append(h)\n",
    "print(max(h))"
   ]
  },
  {
   "cell_type": "code",
   "execution_count": null,
   "metadata": {},
   "outputs": [],
   "source": [
    "int('1001',2)"
   ]
  },
  {
   "cell_type": "code",
   "execution_count": null,
   "metadata": {},
   "outputs": [],
   "source": [
    "bin(7)"
   ]
  },
  {
   "cell_type": "code",
   "execution_count": null,
   "metadata": {},
   "outputs": [],
   "source": [
    "bin(8)"
   ]
  },
  {
   "cell_type": "code",
   "execution_count": null,
   "metadata": {},
   "outputs": [],
   "source": [
    "111&1000"
   ]
  },
  {
   "cell_type": "code",
   "execution_count": null,
   "metadata": {},
   "outputs": [],
   "source": [
    "e"
   ]
  },
  {
   "cell_type": "code",
   "execution_count": null,
   "metadata": {},
   "outputs": [],
   "source": [
    "c"
   ]
  },
  {
   "cell_type": "code",
   "execution_count": null,
   "metadata": {},
   "outputs": [],
   "source": [
    "d"
   ]
  },
  {
   "cell_type": "code",
   "execution_count": null,
   "metadata": {},
   "outputs": [],
   "source": [
    "c&d"
   ]
  },
  {
   "cell_type": "code",
   "execution_count": null,
   "metadata": {},
   "outputs": [],
   "source": [
    "str(1101)"
   ]
  },
  {
   "cell_type": "code",
   "execution_count": null,
   "metadata": {},
   "outputs": [],
   "source": [
    "for i in range(int(input())):\n",
    "    a,b=map(int,input().split())\n",
    "    l=[]\n",
    "    for i in range(a,b):\n",
    "        print(a,a+1)\n",
    "        A = bin(a)\n",
    "        B = bin(a+1)\n",
    "        a=a+1\n",
    "        c=int(A[2:])\n",
    "        d=int(B[2:])\n",
    "        if(len(str(c))>len(str(d))):\n",
    "            c=int(str(c[1:]))\n",
    "        elif(len(str(d))>len(str(c))):\n",
    "            g=str(d)\n",
    "            d=int(g[1:])\n",
    "        e=c&d\n",
    "        h=int(str(c&d),2)\n",
    "        l.append(h)\n",
    "    print(max(l))"
   ]
  },
  {
   "cell_type": "code",
   "execution_count": null,
   "metadata": {},
   "outputs": [],
   "source": [
    "25+144"
   ]
  },
  {
   "cell_type": "code",
   "execution_count": null,
   "metadata": {},
   "outputs": [],
   "source": [
    "a"
   ]
  },
  {
   "cell_type": "code",
   "execution_count": null,
   "metadata": {},
   "outputs": [],
   "source": [
    "# from fractions import gcd\n",
    "def gcd(a,b):\n",
    "    if(b==0):\n",
    "        return a\n",
    "    else:\n",
    "        return gcd(b,a%b)\n",
    "for i in range(int(input())):\n",
    "    a,b,c=map(int,input().split())\n",
    "    if((b*b)+(a*a)==(c*c)):\n",
    "        if(gcd(a,b)==1 and gcd(b,c)==1 and gcd(a,c)==1):\n",
    "            print('YES')\n",
    "    else:\n",
    "        print('NO')"
   ]
  },
  {
   "cell_type": "code",
   "execution_count": null,
   "metadata": {},
   "outputs": [],
   "source": [
    "gcd(2,5)"
   ]
  },
  {
   "cell_type": "code",
   "execution_count": null,
   "metadata": {},
   "outputs": [],
   "source": [
    "a"
   ]
  },
  {
   "cell_type": "code",
   "execution_count": null,
   "metadata": {},
   "outputs": [],
   "source": [
    "(b*b)+(c*c)==(d*d)"
   ]
  },
  {
   "cell_type": "code",
   "execution_count": null,
   "metadata": {},
   "outputs": [],
   "source": [
    "36+64"
   ]
  },
  {
   "cell_type": "code",
   "execution_count": null,
   "metadata": {},
   "outputs": [],
   "source": [
    "from fractions import gcd"
   ]
  },
  {
   "cell_type": "code",
   "execution_count": null,
   "metadata": {},
   "outputs": [],
   "source": [
    "fractions.gcd(4,5)"
   ]
  },
  {
   "cell_type": "code",
   "execution_count": null,
   "metadata": {},
   "outputs": [],
   "source": [
    "gcd(5,1)"
   ]
  },
  {
   "cell_type": "code",
   "execution_count": null,
   "metadata": {},
   "outputs": [],
   "source": []
  },
  {
   "cell_type": "code",
   "execution_count": null,
   "metadata": {},
   "outputs": [],
   "source": [
    "s = input()\n",
    "a = int(input())\n",
    "b=[]\n",
    "c=0\n",
    "d=[]\n",
    "e=''\n",
    "for i in range(a):\n",
    "    b.append(input())\n",
    "for h in a:\n",
    "    for i in b:\n",
    "        for j in range(len(a)):\n",
    "            if(a[j]==i[j]):\n",
    "                e=i.replace(a[j],'',1)\n",
    "        b.remove(b[0])\n",
    "        b.append(e)\n",
    "        e=''\n",
    "for i in b:\n",
    "    for j in range(len(i)):\n",
    "        if(s[j] in i):\n",
    "            i=i.replace(s[j],'',1)\n",
    "        if(i[j]!=s[j]):\n",
    "            if(s[j]=='*'):\n",
    "                pass\n",
    "            else:\n",
    "                c+=1\n",
    "    d.append(c)\n",
    "    c=0\n",
    "count=0\n",
    "for i in d:\n",
    "    if(i==1):\n",
    "        count+=1\n",
    "print(count+1)"
   ]
  },
  {
   "cell_type": "code",
   "execution_count": null,
   "metadata": {},
   "outputs": [],
   "source": [
    "d"
   ]
  },
  {
   "cell_type": "code",
   "execution_count": null,
   "metadata": {},
   "outputs": [],
   "source": [
    "s[j]"
   ]
  },
  {
   "cell_type": "code",
   "execution_count": null,
   "metadata": {},
   "outputs": [],
   "source": [
    "s"
   ]
  },
  {
   "cell_type": "code",
   "execution_count": null,
   "metadata": {},
   "outputs": [],
   "source": [
    "i"
   ]
  },
  {
   "cell_type": "code",
   "execution_count": null,
   "metadata": {},
   "outputs": [],
   "source": [
    "a='abc'"
   ]
  },
  {
   "cell_type": "code",
   "execution_count": null,
   "metadata": {},
   "outputs": [],
   "source": [
    "b='cda'"
   ]
  },
  {
   "cell_type": "code",
   "execution_count": null,
   "metadata": {},
   "outputs": [],
   "source": [
    "for i in a:\n",
    "    if(i in b):\n",
    "        b=b.replace(i,'',1)"
   ]
  },
  {
   "cell_type": "code",
   "execution_count": null,
   "metadata": {},
   "outputs": [],
   "source": [
    "b"
   ]
  },
  {
   "cell_type": "code",
   "execution_count": null,
   "metadata": {},
   "outputs": [],
   "source": [
    "a='a*c'\n",
    "b=['abc','abb','adg']\n",
    "e=''\n",
    "c=[]\n",
    "for i in b:\n",
    "    for j in range(len(a)):\n",
    "        if(a[j]==i[j]):\n",
    "            print(a[j],i[j])\n",
    "            e=i.replace(a[j],'',1)\n",
    "            print(e)\n",
    "    c.append(e)\n",
    "    e=''"
   ]
  },
  {
   "cell_type": "code",
   "execution_count": null,
   "metadata": {},
   "outputs": [],
   "source": []
  },
  {
   "cell_type": "code",
   "execution_count": null,
   "metadata": {},
   "outputs": [],
   "source": [
    "27*3"
   ]
  },
  {
   "cell_type": "code",
   "execution_count": null,
   "metadata": {},
   "outputs": [],
   "source": [
    "11%3"
   ]
  },
  {
   "cell_type": "code",
   "execution_count": null,
   "metadata": {},
   "outputs": [],
   "source": [
    "3*3*3"
   ]
  },
  {
   "cell_type": "code",
   "execution_count": null,
   "metadata": {},
   "outputs": [],
   "source": [
    "9%3"
   ]
  },
  {
   "cell_type": "code",
   "execution_count": null,
   "metadata": {},
   "outputs": [],
   "source": [
    "a=0\n",
    "for i in range(4):\n",
    "    a=3**i"
   ]
  },
  {
   "cell_type": "code",
   "execution_count": null,
   "metadata": {},
   "outputs": [],
   "source": [
    "a"
   ]
  },
  {
   "cell_type": "code",
   "execution_count": null,
   "metadata": {},
   "outputs": [],
   "source": [
    "ord('1')"
   ]
  },
  {
   "cell_type": "code",
   "execution_count": null,
   "metadata": {},
   "outputs": [],
   "source": [
    "6%3"
   ]
  },
  {
   "cell_type": "code",
   "execution_count": null,
   "metadata": {},
   "outputs": [],
   "source": [
    "a=[1,3,9,27,81]"
   ]
  },
  {
   "cell_type": "code",
   "execution_count": null,
   "metadata": {},
   "outputs": [],
   "source": [
    "def power(xs):\n",
    "    result=[[]]\n",
    "    for x in xs:\n",
    "        new = [subset + [x] for subset in result]\n",
    "        result.extend(new)\n",
    "    return result\n",
    "ans=power(a)"
   ]
  },
  {
   "cell_type": "code",
   "execution_count": null,
   "metadata": {},
   "outputs": [],
   "source": [
    "print(ans)"
   ]
  },
  {
   "cell_type": "code",
   "execution_count": null,
   "metadata": {},
   "outputs": [],
   "source": [
    "ans[6]"
   ]
  },
  {
   "cell_type": "code",
   "execution_count": null,
   "metadata": {},
   "outputs": [],
   "source": [
    "10**12"
   ]
  },
  {
   "cell_type": "code",
   "execution_count": null,
   "metadata": {},
   "outputs": [],
   "source": [
    "a=1000000000000\n",
    "count=0\n",
    "while(a>=2):\n",
    "    a=a/2\n",
    "    count+=1"
   ]
  },
  {
   "cell_type": "code",
   "execution_count": null,
   "metadata": {},
   "outputs": [],
   "source": [
    "count"
   ]
  },
  {
   "cell_type": "code",
   "execution_count": null,
   "metadata": {},
   "outputs": [],
   "source": [
    "2**5"
   ]
  },
  {
   "cell_type": "code",
   "execution_count": null,
   "metadata": {},
   "outputs": [],
   "source": [
    "a=3\n",
    "c=[]\n",
    "for i in range(39):\n",
    "    c.append(a**i)"
   ]
  },
  {
   "cell_type": "code",
   "execution_count": null,
   "metadata": {},
   "outputs": [],
   "source": [
    "print(c)"
   ]
  },
  {
   "cell_type": "code",
   "execution_count": null,
   "metadata": {},
   "outputs": [],
   "source": [
    "a=[1,2,3,4,5]"
   ]
  },
  {
   "cell_type": "code",
   "execution_count": null,
   "metadata": {},
   "outputs": [],
   "source": [
    "c=[a[0]]\n",
    "for i in range(1,len(a)):\n",
    "    c.append(a[i]+c[i-1])"
   ]
  },
  {
   "cell_type": "code",
   "execution_count": null,
   "metadata": {},
   "outputs": [],
   "source": [
    "c"
   ]
  },
  {
   "cell_type": "code",
   "execution_count": null,
   "metadata": {},
   "outputs": [],
   "source": [
    "a=[0,1,0,3,12]"
   ]
  },
  {
   "cell_type": "code",
   "execution_count": null,
   "metadata": {},
   "outputs": [],
   "source": [
    "a=sorted(a)"
   ]
  },
  {
   "cell_type": "code",
   "execution_count": null,
   "metadata": {},
   "outputs": [],
   "source": [
    "nums = [1,2,3,4,4,3,2,1]\n",
    "n = 4\n",
    "a=nums[n:]\n",
    "c=[]\n",
    "for i in range(n):\n",
    "    c.append(nums[i])\n",
    "    c.append(a[i])"
   ]
  },
  {
   "cell_type": "code",
   "execution_count": null,
   "metadata": {},
   "outputs": [],
   "source": [
    "c"
   ]
  },
  {
   "cell_type": "code",
   "execution_count": null,
   "metadata": {},
   "outputs": [],
   "source": [
    "a='FlaG'\n",
    "b=True\n",
    "c=''\n",
    "d=''\n",
    "if(a[0]==a[0].upper()):\n",
    "    b=True\n",
    "for i in a:\n",
    "    if(i == i.upper()):\n",
    "        c+=i\n",
    "    else:\n",
    "        d+=i\n",
    "if(len(c)==len(a) or len(c)==1 and a[0]==a[0].upper()):\n",
    "    print(True)\n",
    "elif(len(d)==len(a)):\n",
    "    print(True)\n",
    "else:\n",
    "    print(False)"
   ]
  },
  {
   "cell_type": "code",
   "execution_count": null,
   "metadata": {},
   "outputs": [],
   "source": [
    "len(c)"
   ]
  },
  {
   "cell_type": "code",
   "execution_count": null,
   "metadata": {},
   "outputs": [],
   "source": [
    "len(a)"
   ]
  },
  {
   "cell_type": "code",
   "execution_count": null,
   "metadata": {},
   "outputs": [],
   "source": []
  },
  {
   "cell_type": "code",
   "execution_count": null,
   "metadata": {},
   "outputs": [],
   "source": [
    "for i in range(int(input())):\n",
    "    a = int(input())\n",
    "    b = list(map(int,input().split()))\n",
    "    c = int(input())\n",
    "    d=0\n",
    "    i=0\n",
    "    while(d<c):\n",
    "        d=d+b[i]\n",
    "        if(i==len(b)-1 and d<c):\n",
    "            i=0\n",
    "        elif(i==len(b)-1 and d>=c):\n",
    "            i+=1\n",
    "            break\n",
    "        else:\n",
    "            i+=1\n",
    "    print(i)"
   ]
  },
  {
   "cell_type": "code",
   "execution_count": null,
   "metadata": {},
   "outputs": [],
   "source": [
    "a=[1,3,0,0,0,0,2,3]"
   ]
  },
  {
   "cell_type": "code",
   "execution_count": null,
   "metadata": {},
   "outputs": [],
   "source": [
    "remove_values_from_list(a,0)"
   ]
  },
  {
   "cell_type": "code",
   "execution_count": null,
   "metadata": {},
   "outputs": [],
   "source": [
    "a"
   ]
  },
  {
   "cell_type": "code",
   "execution_count": null,
   "metadata": {},
   "outputs": [],
   "source": [
    "a = [1,2,3]\n",
    "c=0\n",
    "for i in range(len(a)):\n",
    "    for j in range(i+1,len(a)):\n",
    "        if(a[i]==a[j]):\n",
    "            c+=1\n",
    "print(c)"
   ]
  },
  {
   "cell_type": "code",
   "execution_count": null,
   "metadata": {},
   "outputs": [],
   "source": [
    "address = \"1.1.1.1\"\n",
    "address.replace('.','[.]')"
   ]
  },
  {
   "cell_type": "code",
   "execution_count": null,
   "metadata": {},
   "outputs": [],
   "source": [
    "for i in range(int(input())):\n",
    "    n = int(input())\n",
    "    c=[]\n",
    "    a = list(map(int,input().split()))\n",
    "    b = list(set(a))\n",
    "    if(len(b)==len(a)):\n",
    "        b=b[::-1]\n",
    "        for i in b:\n",
    "            print(i,end=' ')\n",
    "        print()\n",
    "    else:    \n",
    "        for i in b:\n",
    "            c.append(a.count(i))\n",
    "        count=0\n",
    "        e=[0]\n",
    "        for i in b:\n",
    "            if(a.count(i)>count):\n",
    "                e.remove(e[0])\n",
    "                e.append(i)\n",
    "                count=a.count(i)\n",
    "            elif(a.count(i)==count):\n",
    "                e.append(i)\n",
    "                count=a.count(i)\n",
    "        e=e[::-1]\n",
    "        for i in e:\n",
    "            print(i,end=' ')\n",
    "        print()"
   ]
  },
  {
   "cell_type": "code",
   "execution_count": null,
   "metadata": {},
   "outputs": [],
   "source": [
    "count=0\n",
    "e=[0]\n",
    "for i in b:\n",
    "    if(a.count(i)>count):\n",
    "        e.remove(e[0])\n",
    "        e.append(i)\n",
    "        count=a.count(i)\n",
    "    elif(a.count(i)==count):\n",
    "        e.append(i)\n",
    "        count=a.count(i)"
   ]
  },
  {
   "cell_type": "code",
   "execution_count": null,
   "metadata": {},
   "outputs": [],
   "source": [
    "a=[1,2,3,4,2]"
   ]
  },
  {
   "cell_type": "code",
   "execution_count": null,
   "metadata": {},
   "outputs": [],
   "source": [
    "b=list(set(a))\n",
    "c=[]\n",
    "for i in b:\n",
    "    c.append(a.count(i))"
   ]
  },
  {
   "cell_type": "code",
   "execution_count": null,
   "metadata": {},
   "outputs": [],
   "source": [
    "print(a[a.index(max(c))])"
   ]
  },
  {
   "cell_type": "code",
   "execution_count": null,
   "metadata": {},
   "outputs": [],
   "source": [
    "c"
   ]
  },
  {
   "cell_type": "code",
   "execution_count": null,
   "metadata": {},
   "outputs": [],
   "source": [
    "for i in range(int(input())):\n",
    "    n = int(input())\n",
    "    c=[]\n",
    "    a = list(map(int,input().split()))\n",
    "    b = list(set(a))\n",
    "    for i in b:\n",
    "        c.append(a.count(i))\n",
    "    print(a[(c.index(max(c)))])"
   ]
  },
  {
   "cell_type": "code",
   "execution_count": null,
   "metadata": {},
   "outputs": [],
   "source": []
  },
  {
   "cell_type": "code",
   "execution_count": null,
   "metadata": {},
   "outputs": [],
   "source": [
    "a =\"aiohn\"\n",
    "i = [3,1,4,2,0]\n",
    "c=''\n",
    "while(len(i)>0):\n",
    "    m = min(i)\n",
    "    c+=a[i.index(m)]\n",
    "    a=a.replace(a[i.index(m)],'',1)\n",
    "    i.remove(min(i))\n",
    "print(c)"
   ]
  },
  {
   "cell_type": "code",
   "execution_count": null,
   "metadata": {},
   "outputs": [],
   "source": [
    "a[i.index(m)]"
   ]
  },
  {
   "cell_type": "code",
   "execution_count": null,
   "metadata": {},
   "outputs": [],
   "source": [
    "a='abcaabcde'"
   ]
  },
  {
   "cell_type": "code",
   "execution_count": null,
   "metadata": {},
   "outputs": [],
   "source": [
    "a=a.replace('a','',3)"
   ]
  },
  {
   "cell_type": "code",
   "execution_count": null,
   "metadata": {},
   "outputs": [],
   "source": [
    "a"
   ]
  },
  {
   "cell_type": "code",
   "execution_count": null,
   "metadata": {},
   "outputs": [],
   "source": []
  },
  {
   "cell_type": "code",
   "execution_count": null,
   "metadata": {},
   "outputs": [],
   "source": [
    "nums = [8,1,2,2,3]\n",
    "b=[0]*len(nums)\n",
    "a = sorted(list(set(nums)))\n",
    "a"
   ]
  },
  {
   "cell_type": "code",
   "execution_count": null,
   "metadata": {},
   "outputs": [],
   "source": [
    "for i in range(len(a)):\n",
    "    nums=nums.replace(str(a[i]),str(i))"
   ]
  },
  {
   "cell_type": "code",
   "execution_count": null,
   "metadata": {},
   "outputs": [],
   "source": [
    "nums=str(nums)"
   ]
  },
  {
   "cell_type": "code",
   "execution_count": null,
   "metadata": {},
   "outputs": [],
   "source": [
    "nums=list(nums)"
   ]
  },
  {
   "cell_type": "code",
   "execution_count": null,
   "metadata": {
    "scrolled": true
   },
   "outputs": [],
   "source": [
    "a=[1,2,3,4,5,6]\n",
    "for i in range(len(a)):\n",
    "    for j in range(i+1,len(a)):\n",
    "        print(a[i],a[j])"
   ]
  },
  {
   "cell_type": "code",
   "execution_count": null,
   "metadata": {},
   "outputs": [],
   "source": []
  },
  {
   "cell_type": "code",
   "execution_count": null,
   "metadata": {},
   "outputs": [],
   "source": [
    "for i in range(int(input())):\n",
    "    s = input()\n",
    "    x,y = map(int,input().split())\n",
    "    for j in range(int(input())):\n",
    "        a,b = map(int(input()))\n",
    "        "
   ]
  },
  {
   "cell_type": "code",
   "execution_count": null,
   "metadata": {},
   "outputs": [],
   "source": [
    "h = \"RLUDRLUD\""
   ]
  },
  {
   "cell_type": "code",
   "execution_count": null,
   "metadata": {},
   "outputs": [],
   "source": [
    "print(h.index('L',0))"
   ]
  },
  {
   "cell_type": "code",
   "execution_count": null,
   "metadata": {},
   "outputs": [],
   "source": [
    "n,m,p,x=3,5,2,1\n",
    "i,j=0<=i<=n-2,0<=j<=m-1\n",
    "a(i,j)^x=a(i,(j+p)%m)^a(i+1,(j+p)%m)"
   ]
  },
  {
   "cell_type": "code",
   "execution_count": null,
   "metadata": {},
   "outputs": [],
   "source": [
    "# 10111\n",
    "# 10 10 1 0\n",
    "int('1010001011',2)"
   ]
  },
  {
   "cell_type": "code",
   "execution_count": null,
   "metadata": {},
   "outputs": [],
   "source": [
    "23^4"
   ]
  },
  {
   "cell_type": "code",
   "execution_count": null,
   "metadata": {},
   "outputs": [],
   "source": [
    "2^1==2^651"
   ]
  },
  {
   "cell_type": "code",
   "execution_count": null,
   "metadata": {},
   "outputs": [],
   "source": [
    "10111^1=10111^10101"
   ]
  },
  {
   "cell_type": "code",
   "execution_count": null,
   "metadata": {},
   "outputs": [],
   "source": [
    "a=[1,1,2,3]\n",
    "b=a[::2]\n",
    "c=a[1::2]\n",
    "print(b,c)\n",
    "d=[]\n",
    "for i in range(len(b)):\n",
    "    d.extend([c[i]]*b[i])\n",
    "d"
   ]
  },
  {
   "cell_type": "code",
   "execution_count": null,
   "metadata": {},
   "outputs": [],
   "source": [
    "n=5\n",
    "start=0\n",
    "i=0\n",
    "a=[]\n",
    "while(i<n):\n",
    "    a.append(start+i*2)\n",
    "    i+=1\n",
    "c=0\n",
    "for i in a:\n",
    "    c=c^i\n",
    "c"
   ]
  },
  {
   "cell_type": "code",
   "execution_count": null,
   "metadata": {},
   "outputs": [],
   "source": []
  },
  {
   "cell_type": "code",
   "execution_count": null,
   "metadata": {},
   "outputs": [],
   "source": [
    "nums = [0,1,2,3,4]\n",
    "index = [0,1,2,2,1]\n",
    "a=[]\n",
    "for i in range(len(nums)):\n",
    "    a.insert(index[i] ,nums[i])\n",
    "a"
   ]
  },
  {
   "cell_type": "code",
   "execution_count": null,
   "metadata": {},
   "outputs": [],
   "source": [
    "10**5"
   ]
  },
  {
   "cell_type": "code",
   "execution_count": null,
   "metadata": {},
   "outputs": [],
   "source": [
    "def hcfnaive(a,b): \n",
    "    if(b==0): \n",
    "        return a \n",
    "    else: \n",
    "        return hcfnaive(b,a%b)"
   ]
  },
  {
   "cell_type": "code",
   "execution_count": null,
   "metadata": {},
   "outputs": [],
   "source": [
    "print (hcfnaive(20,50))"
   ]
  },
  {
   "cell_type": "code",
   "execution_count": null,
   "metadata": {},
   "outputs": [],
   "source": [
    "def hcfnaive(a,b): \n",
    "    if(b==0): \n",
    "        return a \n",
    "    else: \n",
    "        return hcfnaive(b,a%b)\n",
    "n = int(input())\n",
    "a = list(map(int,input().split()))\n",
    "q = int(input())\n",
    "for i in range(q):\n",
    "    b,c,d = map(str,input().split())\n",
    "    if(b=='Q'):\n",
    "        h=a[int(c)+1]\n",
    "        for i in range(int(c),int(d)-1):\n",
    "                h = hcfnaive(h,a[int(i)])\n",
    "        print(h)\n",
    "    else:\n",
    "        a[int(c)-1]=int(d)"
   ]
  },
  {
   "cell_type": "code",
   "execution_count": null,
   "metadata": {},
   "outputs": [],
   "source": [
    "def hcfnaive(a,b): \n",
    "    if(b==0): \n",
    "        return a \n",
    "    else: \n",
    "        return hcfnaive(b,a%b)"
   ]
  },
  {
   "cell_type": "code",
   "execution_count": null,
   "metadata": {},
   "outputs": [],
   "source": [
    "print(hcfnaive(30,60))"
   ]
  },
  {
   "cell_type": "code",
   "execution_count": null,
   "metadata": {},
   "outputs": [],
   "source": [
    "n,m = map(int,input().split())\n",
    "for i in range(1,n+1):\n",
    "    print(m*i,end=' ')\n"
   ]
  },
  {
   "cell_type": "code",
   "execution_count": null,
   "metadata": {},
   "outputs": [],
   "source": [
    "66,"
   ]
  },
  {
   "cell_type": "code",
   "execution_count": null,
   "metadata": {},
   "outputs": [],
   "source": [
    "66%6"
   ]
  },
  {
   "cell_type": "code",
   "execution_count": null,
   "metadata": {},
   "outputs": [],
   "source": [
    "6,12,18,24,30"
   ]
  },
  {
   "cell_type": "code",
   "execution_count": null,
   "metadata": {},
   "outputs": [],
   "source": [
    "a[int(c)]=5"
   ]
  },
  {
   "cell_type": "code",
   "execution_count": null,
   "metadata": {},
   "outputs": [],
   "source": [
    "a"
   ]
  },
  {
   "cell_type": "code",
   "execution_count": null,
   "metadata": {},
   "outputs": [],
   "source": [
    "a"
   ]
  },
  {
   "cell_type": "code",
   "execution_count": null,
   "metadata": {},
   "outputs": [],
   "source": [
    "i=1 \n",
    "while(i<=3):\n",
    "    j=0 \n",
    "    while(j<=i):  \n",
    "        print(j)\n",
    "        print(' ')\n",
    "        j+=1//4\n",
    "    i+=1"
   ]
  },
  {
   "cell_type": "code",
   "execution_count": 5,
   "metadata": {},
   "outputs": [
    {
     "data": {
      "text/plain": [
       "324"
      ]
     },
     "execution_count": 5,
     "metadata": {},
     "output_type": "execute_result"
    }
   ],
   "source": [
    "18**2"
   ]
  },
  {
   "cell_type": "code",
   "execution_count": 16,
   "metadata": {},
   "outputs": [
    {
     "data": {
      "text/plain": [
       "37.027017163147235"
      ]
     },
     "execution_count": 16,
     "metadata": {},
     "output_type": "execute_result"
    }
   ],
   "source": [
    "import math\n",
    "math.sqrt(1371)"
   ]
  },
  {
   "cell_type": "code",
   "execution_count": 8,
   "metadata": {},
   "outputs": [
    {
     "data": {
      "text/plain": [
       "21"
      ]
     },
     "execution_count": 8,
     "metadata": {},
     "output_type": "execute_result"
    }
   ],
   "source": [
    "int('10101',2)"
   ]
  },
  {
   "cell_type": "code",
   "execution_count": 10,
   "metadata": {},
   "outputs": [
    {
     "data": {
      "text/plain": [
       "22875"
      ]
     },
     "execution_count": 10,
     "metadata": {},
     "output_type": "execute_result"
    }
   ],
   "source": [
    "7625*3"
   ]
  },
  {
   "cell_type": "code",
   "execution_count": 14,
   "metadata": {},
   "outputs": [
    {
     "data": {
      "text/plain": [
       "1369"
      ]
     },
     "execution_count": 14,
     "metadata": {},
     "output_type": "execute_result"
    }
   ],
   "source": [
    "1330+39"
   ]
  },
  {
   "cell_type": "code",
   "execution_count": 18,
   "metadata": {},
   "outputs": [
    {
     "data": {
      "text/plain": [
       "45.6"
      ]
     },
     "execution_count": 18,
     "metadata": {},
     "output_type": "execute_result"
    }
   ],
   "source": [
    "456/10"
   ]
  },
  {
   "cell_type": "code",
   "execution_count": 19,
   "metadata": {},
   "outputs": [
    {
     "data": {
      "text/plain": [
       "410.4"
      ]
     },
     "execution_count": 19,
     "metadata": {},
     "output_type": "execute_result"
    }
   ],
   "source": [
    "456-45.6"
   ]
  },
  {
   "cell_type": "code",
   "execution_count": null,
   "metadata": {},
   "outputs": [],
   "source": []
  },
  {
   "cell_type": "code",
   "execution_count": 21,
   "metadata": {},
   "outputs": [
    {
     "data": {
      "text/plain": [
       "0.04722222222222222"
      ]
     },
     "execution_count": 21,
     "metadata": {},
     "output_type": "execute_result"
    }
   ],
   "source": [
    "85/1800"
   ]
  },
  {
   "cell_type": "code",
   "execution_count": 2,
   "metadata": {},
   "outputs": [
    {
     "name": "stdout",
     "output_type": "stream",
     "text": [
      "2 3\n"
     ]
    }
   ],
   "source": [
    "a=3\n",
    "b=2\n",
    "if(a+b<7):\n",
    "    a=a*0+b\n",
    "else:\n",
    "    for i in range(1,4):\n",
    "        a=a+i\n",
    "print(a,b+1)"
   ]
  },
  {
   "cell_type": "code",
   "execution_count": 5,
   "metadata": {},
   "outputs": [],
   "source": [
    "def hai(a):\n",
    "    if(a<1):\n",
    "        return \n",
    "    else:\n",
    "        print(a)\n",
    "        hai(a-1)\n",
    "        print(a)\n",
    "        return "
   ]
  },
  {
   "cell_type": "code",
   "execution_count": 6,
   "metadata": {},
   "outputs": [
    {
     "name": "stdout",
     "output_type": "stream",
     "text": [
      "2\n",
      "1\n",
      "1\n",
      "2\n"
     ]
    }
   ],
   "source": [
    "hai(2)"
   ]
  },
  {
   "cell_type": "code",
   "execution_count": null,
   "metadata": {},
   "outputs": [],
   "source": []
  },
  {
   "cell_type": "code",
   "execution_count": 34,
   "metadata": {},
   "outputs": [
    {
     "name": "stdout",
     "output_type": "stream",
     "text": [
      "4\n",
      "1 1\n",
      "2\n",
      "-1\n",
      "2 4\n",
      "1 1\n",
      "-1\n",
      "3 6\n",
      "3 4 2\n",
      "-1\n",
      "3 6\n",
      "3 4 3\n",
      "-1\n"
     ]
    }
   ],
   "source": [
    "for i in range(int(input())):\n",
    "    n , k = map(int,input().split())\n",
    "    a = list(map(int,input().split()))\n",
    "    b=[0]\n",
    "    count=0\n",
    "    l=True\n",
    "    for i in range(len(a)):\n",
    "        if(sum(b)<k):\n",
    "            b.append(a[i])\n",
    "            if(sum(b)>k and i==0):\n",
    "                l=False\n",
    "            elif(sum(b)>k and i!0):\n",
    "                b.remove(a[i])\n",
    "                count"
   ]
  },
  {
   "cell_type": "code",
   "execution_count": 31,
   "metadata": {},
   "outputs": [
    {
     "name": "stdout",
     "output_type": "stream",
     "text": [
      "1\n",
      "3 6\n",
      "3 4 3\n"
     ]
    }
   ],
   "source": [
    "for i in range(int(input())):\n",
    "    n , k = map(int,input().split())\n",
    "    a = list(map(int,input().split()))"
   ]
  },
  {
   "cell_type": "code",
   "execution_count": 26,
   "metadata": {},
   "outputs": [
    {
     "data": {
      "text/plain": [
       "3"
      ]
     },
     "execution_count": 26,
     "metadata": {},
     "output_type": "execute_result"
    }
   ],
   "source": [
    "i=0\n",
    "b=0\n",
    "l=True\n",
    "count=0\n",
    "while(i<len(a)):\n",
    "    if(b<k):\n",
    "        b=b+a[i]\n",
    "        if(b>k and i!=0):\n",
    "            b.clear()\n",
    "            count+=1\n",
    "            b.append(a[i])\n",
    "    if(b==k):\n",
    "        b.clear()\n",
    "        count+=1\n",
    "    if(i==len(a)-1):\n",
    "        "
   ]
  },
  {
   "cell_type": "code",
   "execution_count": 35,
   "metadata": {},
   "outputs": [],
   "source": [
    "b=[1,2,3]"
   ]
  },
  {
   "cell_type": "code",
   "execution_count": 38,
   "metadata": {},
   "outputs": [],
   "source": [
    "b.clear()"
   ]
  },
  {
   "cell_type": "code",
   "execution_count": 39,
   "metadata": {},
   "outputs": [
    {
     "data": {
      "text/plain": [
       "[]"
      ]
     },
     "execution_count": 39,
     "metadata": {},
     "output_type": "execute_result"
    }
   ],
   "source": [
    "b"
   ]
  },
  {
   "cell_type": "code",
   "execution_count": null,
   "metadata": {},
   "outputs": [],
   "source": []
  },
  {
   "cell_type": "code",
   "execution_count": 25,
   "metadata": {},
   "outputs": [
    {
     "name": "stdout",
     "output_type": "stream",
     "text": [
      "1\n",
      "8\n",
      "5 9 2 9 7 2 5 3\n",
      "[2, 2, 2, 1, 1] [2, 1] [3, 2]\n",
      "2\n"
     ]
    }
   ],
   "source": [
    "for i in range(int(input())):\n",
    "    n = int(input())\n",
    "    a = list(map(int,input().split()))\n",
    "    b=[]\n",
    "    for i in a:\n",
    "        if(i not in b):\n",
    "            b.append(i)\n",
    "    c=[]\n",
    "    \n",
    "    for i in b:\n",
    "        c.append(a.count(i))\n",
    "    d=[]\n",
    "    for i in c:\n",
    "        if(i not in d):\n",
    "            d.append(i)\n",
    "    e=[]\n",
    "    for i in d:\n",
    "        e.append(c.count(i))\n",
    "    mi=10000\n",
    "    if(e.count(max(e))>1):\n",
    "        for i in range(len(e)):\n",
    "            if(d[i]<mi):\n",
    "                mi = d[i]\n",
    "        print(mi)      \n",
    "    else:\n",
    "        print(d[e.index(max(e))])"
   ]
  },
  {
   "cell_type": "code",
   "execution_count": 19,
   "metadata": {},
   "outputs": [
    {
     "data": {
      "text/plain": [
       "2"
      ]
     },
     "execution_count": 19,
     "metadata": {},
     "output_type": "execute_result"
    }
   ],
   "source": [
    "a.count(7)"
   ]
  },
  {
   "cell_type": "code",
   "execution_count": 65,
   "metadata": {},
   "outputs": [
    {
     "name": "stdout",
     "output_type": "stream",
     "text": [
      "5\n",
      "1 2 3 4 2 5 1 4 3 \n"
     ]
    }
   ],
   "source": [
    "n = int(input())\n",
    "a = list(map(int,input().split()))\n",
    "for i in range(len(a)):\n",
    "    count=0\n",
    "    for j in range(len(a)):\n",
    "        if(a[j]%2==0 and abs(i-j)%2==1 and i!=j):\n",
    "            count+=1\n",
    "    print(count,end=' ')"
   ]
  },
  {
   "cell_type": "code",
   "execution_count": 62,
   "metadata": {},
   "outputs": [
    {
     "data": {
      "text/plain": [
       "2"
      ]
     },
     "execution_count": 62,
     "metadata": {},
     "output_type": "execute_result"
    }
   ],
   "source": []
  },
  {
   "cell_type": "code",
   "execution_count": null,
   "metadata": {},
   "outputs": [],
   "source": []
  },
  {
   "cell_type": "code",
   "execution_count": null,
   "metadata": {},
   "outputs": [],
   "source": []
  },
  {
   "cell_type": "code",
   "execution_count": null,
   "metadata": {},
   "outputs": [],
   "source": []
  },
  {
   "cell_type": "code",
   "execution_count": null,
   "metadata": {},
   "outputs": [],
   "source": []
  },
  {
   "cell_type": "code",
   "execution_count": null,
   "metadata": {},
   "outputs": [],
   "source": []
  },
  {
   "cell_type": "code",
   "execution_count": null,
   "metadata": {},
   "outputs": [],
   "source": []
  },
  {
   "cell_type": "code",
   "execution_count": null,
   "metadata": {},
   "outputs": [],
   "source": []
  },
  {
   "cell_type": "code",
   "execution_count": null,
   "metadata": {},
   "outputs": [],
   "source": []
  },
  {
   "cell_type": "code",
   "execution_count": null,
   "metadata": {},
   "outputs": [],
   "source": []
  }
 ],
 "metadata": {
  "kernelspec": {
   "display_name": "Python 3",
   "language": "python",
   "name": "python3"
  },
  "language_info": {
   "codemirror_mode": {
    "name": "ipython",
    "version": 3
   },
   "file_extension": ".py",
   "mimetype": "text/x-python",
   "name": "python",
   "nbconvert_exporter": "python",
   "pygments_lexer": "ipython3",
   "version": "3.7.3"
  }
 },
 "nbformat": 4,
 "nbformat_minor": 4
}
