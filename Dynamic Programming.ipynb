{
 "cells": [
  {
   "cell_type": "markdown",
   "metadata": {},
   "source": [
    "# Dynamic Programming"
   ]
  },
  {
   "cell_type": "markdown",
   "metadata": {},
   "source": [
    "# 0/1 Knapsack Problem"
   ]
  },
  {
   "cell_type": "code",
   "execution_count": 30,
   "metadata": {},
   "outputs": [
    {
     "name": "stdout",
     "output_type": "stream",
     "text": [
      "9\n"
     ]
    },
    {
     "data": {
      "text/plain": [
       "[[0, 1, 1, 1, 1, 1, 1, 1],\n",
       " [0, 1, 1, 4, 5, 5, 5, 5],\n",
       " [0, 1, 1, 4, 5, 6, 6, 9],\n",
       " [0, 1, 1, 4, 5, 7, 8, 9]]"
      ]
     },
     "execution_count": 30,
     "metadata": {},
     "output_type": "execute_result"
    }
   ],
   "source": [
    "c = 7\n",
    "r = 4\n",
    "wt = [1,3,4,5]\n",
    "wtv = [1,4,5,7]\n",
    "d = [[0 for i in range(c+1)] for j in range(r)]\n",
    "for i in range(r):\n",
    "    for j in range(c+1):\n",
    "        if(j<wt[i]):\n",
    "            d[i][j] = (d[i-1][j])\n",
    "        else:\n",
    "            d[i][j] = max(wtv[i]+d[i-1][j-wt[i]],d[i-1][j])\n",
    "print(d[-1][-1])\n",
    "d"
   ]
  },
  {
   "cell_type": "code",
   "execution_count": 31,
   "metadata": {},
   "outputs": [],
   "source": [
    "# where weight = 7 = c \n",
    "# No of values [1,4,5,7] are known as = 4 =r"
   ]
  },
  {
   "cell_type": "markdown",
   "metadata": {},
   "source": [
    "# Longest Common Subsequence"
   ]
  },
  {
   "cell_type": "code",
   "execution_count": 33,
   "metadata": {},
   "outputs": [
    {
     "name": "stdout",
     "output_type": "stream",
     "text": [
      "4\n"
     ]
    },
    {
     "data": {
      "text/plain": [
       "[[0, 0, 0, 0, 0, 0, 0],\n",
       " [0, 1, 1, 1, 1, 1, 1],\n",
       " [0, 1, 1, 2, 2, 2, 2],\n",
       " [0, 1, 2, 2, 2, 2, 2],\n",
       " [0, 1, 2, 3, 3, 3, 3],\n",
       " [0, 1, 2, 3, 3, 3, 4]]"
      ]
     },
     "execution_count": 33,
     "metadata": {},
     "output_type": "execute_result"
    }
   ],
   "source": [
    "ip1 = 'abcdaf'\n",
    "ip2 = 'acbcf'\n",
    "d = [[0 for i in range(len(ip1)+1)] for j in range(len(ip2)+1)]\n",
    "for i in range(len(ip2)+1):\n",
    "    for j in range(len(ip1)+1):\n",
    "        if(i==0 or j==0):\n",
    "            d[i][j] = 0\n",
    "        elif(ip2[i-1]==ip1[j-1]):\n",
    "            d[i][j] = d[i-1][j-1]+1\n",
    "        else:\n",
    "            d[i][j] = max(d[i][j-1],d[i-1][j])\n",
    "print(d[-1][-1])\n",
    "d"
   ]
  },
  {
   "cell_type": "code",
   "execution_count": 74,
   "metadata": {},
   "outputs": [
    {
     "name": "stdout",
     "output_type": "stream",
     "text": [
      "True\n"
     ]
    }
   ],
   "source": [
    "set = [2,3,7,8,10]\n",
    "sum = 11\n",
    "n = len(set)\n",
    "subset =([[False for i in range(sum + 1)]\n",
    "            for i in range(n + 1)])\n",
    "for i in range(n + 1):\n",
    "    subset[i][0] = True\n",
    "for i in range(1, sum + 1):\n",
    "     subset[0][i]= False\n",
    "for i in range(1, n + 1):\n",
    "    for j in range(1, sum + 1):\n",
    "        if j<set[i-1]:\n",
    "            subset[i][j] = subset[i-1][j]\n",
    "        if j>= set[i-1]:\n",
    "            subset[i][j] = (subset[i-1][j] or\n",
    "                            subset[i - 1][j-set[i-1]])\n",
    "print(subset[-1][-1])"
   ]
  },
  {
   "cell_type": "code",
   "execution_count": 107,
   "metadata": {},
   "outputs": [
    {
     "name": "stdout",
     "output_type": "stream",
     "text": [
      "[2, 3, 5, 7, 11, 13, 17, 19, 23, 29, 31, 37, 41, 43, 47, 53, 59, 61, 67, 71, 73, 79, 83, 89, 97]\n"
     ]
    }
   ],
   "source": [
    "def SieveOfEratosthenes(n):\n",
    "    prime = [True for i in range(n+1)]\n",
    "    p = 2\n",
    "    d=[]\n",
    "    while (p * p <= n):\n",
    "        if (prime[p] == True):\n",
    "            for i in range(p * p, n+1, p):\n",
    "                prime[i] = False\n",
    "        p += 1\n",
    "    for p in range(2, n+1):\n",
    "        if prime[p]:\n",
    "            d.append(p)\n",
    "    return(d)\n",
    "e = SieveOfEratosthenes(100)\n",
    "print(e)"
   ]
  },
  {
   "cell_type": "code",
   "execution_count": 108,
   "metadata": {},
   "outputs": [
    {
     "name": "stdout",
     "output_type": "stream",
     "text": [
      "[3, 2, 1]\n"
     ]
    }
   ],
   "source": [
    "a=[1,2,3,4]\n",
    "print(a[-2::-1])"
   ]
  },
  {
   "cell_type": "code",
   "execution_count": 113,
   "metadata": {},
   "outputs": [
    {
     "name": "stdout",
     "output_type": "stream",
     "text": [
      "3\n",
      "1.0 1.0 1.0 10.45\n",
      "YES\n",
      "1.0 1.0 1.0 10.44\n",
      "NO\n",
      "1.0 1.0 0.9 10.44\n",
      "NO\n"
     ]
    }
   ],
   "source": [
    "bolt = 9.58\n",
    "for _ in range(int(input())):\n",
    "    k1,k2,k3,v = map(float,input().split())\n",
    "    a =(k1*k2*k3*v)\n",
    "    final = (round(100/a,2))\n",
    "    if(final < bolt):\n",
    "        print('YES')\n",
    "    else:\n",
    "        print('NO')"
   ]
  },
  {
   "cell_type": "code",
   "execution_count": 117,
   "metadata": {},
   "outputs": [
    {
     "name": "stdout",
     "output_type": "stream",
     "text": [
      "1 2 1\n",
      "YES\n"
     ]
    }
   ],
   "source": [
    "a = list(map(int,input().split()))\n",
    "b = False\n",
    "for i in a:\n",
    "    if(a.count(i)>1):\n",
    "        b = True\n",
    "        break\n",
    "if(b==True):\n",
    "    print('YES')\n",
    "else:\n",
    "    print('NO')"
   ]
  },
  {
   "cell_type": "code",
   "execution_count": 123,
   "metadata": {},
   "outputs": [
    {
     "name": "stdout",
     "output_type": "stream",
     "text": [
      "1 \n",
      "5 2\n",
      "*a*b*\n",
      "NO\n"
     ]
    }
   ],
   "source": [
    "for _ in range(int(input())):\n",
    "    n,k = map(int,input().split())\n",
    "    a = input()\n",
    "    b = False\n",
    "    count = 0\n",
    "    for i in range(len(a)):\n",
    "        if(a[i]=='*'):\n",
    "            count+=1\n",
    "        else:\n",
    "            count = 0\n",
    "        if(count==k):\n",
    "            b = True\n",
    "            break\n",
    "    if(b==True):\n",
    "        print('Yes')\n",
    "    else:\n",
    "        print('NO')"
   ]
  },
  {
   "cell_type": "code",
   "execution_count": 120,
   "metadata": {},
   "outputs": [
    {
     "data": {
      "text/plain": [
       "0"
      ]
     },
     "execution_count": 120,
     "metadata": {},
     "output_type": "execute_result"
    }
   ],
   "source": [
    "count"
   ]
  },
  {
   "cell_type": "code",
   "execution_count": 129,
   "metadata": {},
   "outputs": [
    {
     "name": "stdout",
     "output_type": "stream",
     "text": [
      "1\n",
      "7\n",
      "99\n"
     ]
    }
   ],
   "source": [
    "for _ in range(int(input())):\n",
    "    n = int(input())\n",
    "    a = n%4\n",
    "    if(n<=4):\n",
    "        if(n==1):\n",
    "            print(20)\n",
    "        elif(n==2):\n",
    "            print(36)\n",
    "        elif(n==3):\n",
    "            print(51)\n",
    "        else:\n",
    "            print(60)\n",
    "    elif(n>=4):\n",
    "        b = n-a\n",
    "        c = b/4\n",
    "        d = int(c*44)\n",
    "        if(a==0):\n",
    "            print(d+16)\n",
    "        elif(a==1):\n",
    "            print(d+32)\n",
    "        elif(a==2):\n",
    "            print(d+44)\n",
    "        else:\n",
    "            print(d+55)"
   ]
  },
  {
   "cell_type": "markdown",
   "metadata": {},
   "source": [
    "# area  of a square"
   ]
  },
  {
   "cell_type": "markdown",
   "metadata": {},
   "source": [
    "#### Area of Square\n",
    "Given an MxN matrix filled with X's and O's, find the largest square containing only X's and return its area.\n",
    "If there are no Xs in the entire matrix print 0.\n",
    "\n",
    "Input\n",
    "The first line of input will be containing two space-separated integers, denoting M and N.\n",
    "The next M lines will contain N space-separated integers, denoting the elements of the matrix.\n",
    "\n",
    "Output\n",
    "The output should be a single line containing the area of the maximum square.\n",
    "\n",
    "Explanation\n",
    "4 5\n",
    "X O X O O\n",
    "X O X X X\n",
    "X X O X X\n",
    "X O O X O\n",
    "For example, if the given M, N and elements of matrix are as the following\n",
    "\n",
    "The matrix from indices (1, 3) to (2, 4) has the maximum square with X. So the output should be the area of the maximum rectangle with X, which is 4.\n",
    "\n",
    "Sample Input 1\n",
    "4 5\n",
    "X O X O O\n",
    "X O X X X\n",
    "X X O X X\n",
    "X O O X O\n",
    "Sample Output 1\n",
    "4\n"
   ]
  },
  {
   "cell_type": "code",
   "execution_count": null,
   "metadata": {},
   "outputs": [],
   "source": [
    "a,b = map(int,input().split())\n",
    "c = [[0 for i in range(b+1)] for j in range(a+1)]\n",
    "d = []\n",
    "for i in range(a):\n",
    "    d.append(list(map(str,input().split())))\n",
    "for i in range(len(d)):\n",
    "    for j in range(len(d[i])) :\n",
    "        if(d[i][j] == 'X'):\n",
    "            c[i+1][j+1] = min(c[i][j],c[i+1][j],c[i][j+1])+1 \n",
    "op = 0\n",
    "for i in c:\n",
    "    ma = max(i)\n",
    "    if(ma > op):\n",
    "        op = ma \n",
    "print(op*op)\n",
    "    "
   ]
  },
  {
   "cell_type": "code",
   "execution_count": null,
   "metadata": {},
   "outputs": [],
   "source": []
  }
 ],
 "metadata": {
  "kernelspec": {
   "display_name": "Python 3",
   "language": "python",
   "name": "python3"
  },
  "language_info": {
   "codemirror_mode": {
    "name": "ipython",
    "version": 3
   },
   "file_extension": ".py",
   "mimetype": "text/x-python",
   "name": "python",
   "nbconvert_exporter": "python",
   "pygments_lexer": "ipython3",
   "version": "3.7.3"
  }
 },
 "nbformat": 4,
 "nbformat_minor": 4
}
