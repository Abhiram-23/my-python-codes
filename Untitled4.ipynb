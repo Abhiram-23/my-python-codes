{
 "cells": [
  {
   "cell_type": "code",
   "execution_count": null,
   "metadata": {},
   "outputs": [],
   "source": [
    "import math\n",
    "def prime(number):\n",
    "    primes = []\n",
    "    for i in range(2,number+1):\n",
    "        primes.append(i)\n",
    "    i = 2\n",
    "    while(i <= int(math.sqrt(number))):\n",
    "        if i in primes:\n",
    "            for j in range(i*2, number+1, i):\n",
    "                if j in primes:\n",
    "                    primes.remove(j)\n",
    "        i = i+1\n",
    "    return primes\n",
    "prime(9999)\n",
    "primes=primes[::-1]\n",
    "for i in primes:\n",
    "    b=str(i)\n",
    "    c=0\n",
    "    for j in b:\n",
    "        c=c+int(j)\n",
    "    if(c in primes):\n",
    "        print(i)\n",
    "        break"
   ]
  },
  {
   "cell_type": "code",
   "execution_count": null,
   "metadata": {},
   "outputs": [],
   "source": [
    "import math\n",
    "def prime(number):\n",
    "    primes = []\n",
    "    for i in range(2,number+1):\n",
    "        primes.append(i)\n",
    "    i = 2\n",
    "    while(i <= int(math.sqrt(number))):\n",
    "        if i in primes:\n",
    "            for j in range(i*2, number+1, i):\n",
    "                if j in primes:\n",
    "                    primes.remove(j)\n",
    "        i = i+1\n",
    "    return primes\n",
    "b=prime(50)\n",
    "primes=b[::-1]\n",
    "for i in primes:\n",
    "    b=str(i)\n",
    "    c=0\n",
    "    for j in b:\n",
    "        c=c+int(j)\n",
    "    if(c in primes):\n",
    "        print(i)\n",
    "        break"
   ]
  },
  {
   "cell_type": "code",
   "execution_count": null,
   "metadata": {},
   "outputs": [],
   "source": [
    "\n",
    "print (\"Enter the a number\")\n",
    "number = int(input())\n",
    "\n",
    "primes = []\n",
    "for i in range(2,number+1):\n",
    "    primes.append(i)\n",
    "\n",
    "i = 2\n",
    "#from 2 to sqrt(number)\n",
    "while(i <= int(math.sqrt(number))):\n",
    "    #if i is in list\n",
    "    #then we gotta delete its multiples\n",
    "    if i in primes:\n",
    "        #j will give multiples of i,\n",
    "        #starting from 2*i\n",
    "        for j in range(i*2, number+1, i):\n",
    "            if j in primes:\n",
    "                #deleting the multiple if found in list\n",
    "                primes.remove(j)\n",
    "    i = i+1\n",
    "\n",
    "print (primes)"
   ]
  },
  {
   "cell_type": "code",
   "execution_count": null,
   "metadata": {},
   "outputs": [],
   "source": [
    "from math import *\n",
    "def genprimes(n):\n",
    "    d=[]\n",
    "    primes = [True]*(n+1)\n",
    "    primes[0] = False\n",
    "    primes[1] = False\n",
    "    for p in range(2,int(sqrt(n))+1):\n",
    "        if primes[p] == True:\n",
    "            for i in range(p*p,n+1,p):\n",
    "                primes[i] = False\n",
    "    for i in range(0,len(primes)):\n",
    "        if primes[i] == True:\n",
    "            d.append(i)\n",
    "    return d\n",
    "n =9999\n",
    "a=genprimes(n)\n",
    "a=a[::-1]\n",
    "for i in a:\n",
    "    b=str(i)\n",
    "    c=0\n",
    "    for j in b:\n",
    "        c=c+int(j)\n",
    "    if(c in a):\n",
    "        print(i)\n",
    "        break"
   ]
  },
  {
   "cell_type": "code",
   "execution_count": null,
   "metadata": {},
   "outputs": [],
   "source": [
    "import math\n",
    "int(math.sqrt(7))"
   ]
  },
  {
   "cell_type": "code",
   "execution_count": null,
   "metadata": {},
   "outputs": [],
   "source": [
    "def select(lst):\n",
    "    for i in range(len(lst)-1):\n",
    "        a = min(lst[i:])\n",
    "        b = lst.index(a,i)\n",
    "        lst[i],lst[b]=lst[b],lst[i]\n",
    "    return(lst)\n",
    "select([0,1,48,2,6,1,3,5,3,48,5,6000,4,1])"
   ]
  },
  {
   "cell_type": "code",
   "execution_count": null,
   "metadata": {},
   "outputs": [],
   "source": [
    "def insertion(lst):\n",
    "    for i in range(1,len(lst)):\n",
    "        cur = lst[i]\n",
    "        pos=i\n",
    "        while(pos>0 and cur<lst[pos-1]):\n",
    "            lst[pos] = lst[pos-1]\n",
    "            pos=pos-1\n",
    "        lst[pos]=cur\n",
    "    return lst\n",
    "insertion([1,5,20,52,2,26,6,6,6,22630,54512,3,54])"
   ]
  },
  {
   "cell_type": "code",
   "execution_count": null,
   "metadata": {},
   "outputs": [],
   "source": [
    "import math\n",
    "def prime(n):\n",
    "    a=[True]*(n+1)\n",
    "    d=[]\n",
    "    a[0]=False\n",
    "    a[1]=False\n",
    "    for i in range(2,int(math.sqrt(n+1))):\n",
    "        if(a[i]==True):\n",
    "            for j in range(i*i,n+1,i):\n",
    "                a[j]=False\n",
    "    for i in range(len(a)):\n",
    "        if(a[i]==True):\n",
    "            d.append(i)\n",
    "    return d"
   ]
  },
  {
   "cell_type": "code",
   "execution_count": null,
   "metadata": {},
   "outputs": [],
   "source": [
    "print(prime(100))"
   ]
  },
  {
   "cell_type": "code",
   "execution_count": null,
   "metadata": {},
   "outputs": [],
   "source": [
    "class Node:\n",
    "    def __init__(self,data):\n",
    "        self.data=data\n",
    "        self.next=None\n",
    "class Linked:\n",
    "    def __init__(self):\n",
    "        self.head=None\n",
    "    def insert(self,new):\n",
    "        if(self.head==None):\n",
    "            self.head=new\n",
    "        else:\n",
    "            temp=self.head\n",
    "            while(temp.next!=None):\n",
    "                temp=temp.next\n",
    "            temp.next=new\n",
    "    def print_data(self):\n",
    "        if(self.head==None):\n",
    "            print(None)\n",
    "        else:\n",
    "            temp=self.head\n",
    "            while(temp.next!=None):\n",
    "                print(temp.data)\n",
    "                temp=temp.next\n",
    "            print(temp.data)\n",
    "    def dele(self,d):\n",
    "        if(self.head==None):\n",
    "            print('error')\n",
    "        else:\n",
    "            temp=self.head\n",
    "            while(temp!=None):\n",
    "                if(temp.data==d):\n",
    "                    "
   ]
  },
  {
   "cell_type": "code",
   "execution_count": null,
   "metadata": {},
   "outputs": [],
   "source": [
    "firs=Node(10)\n",
    "ll = Linked()\n",
    "ll.insert(firs)\n",
    "ll.print_data()\n",
    "sec=Node(50)\n",
    "thrd=Node(20)\n",
    "ll.insert(sec)\n",
    "ll.insert(thrd)\n",
    "ll.print_data()"
   ]
  },
  {
   "cell_type": "code",
   "execution_count": null,
   "metadata": {},
   "outputs": [],
   "source": [
    "class Abhi:\n",
    "    def __init__(self,fname,lname):\n",
    "        self.fname=fname\n",
    "        self.lname=lname\n",
    "    def pri(self):\n",
    "        print(self.fname,self.lname)\n",
    "class Ram(Abhi):\n",
    "    pass\n",
    "a=Ram('Paidimarri','Abhiram')\n",
    "a.pri()"
   ]
  },
  {
   "cell_type": "code",
   "execution_count": null,
   "metadata": {},
   "outputs": [],
   "source": [
    "from abc import ABC,abstractmethod\n",
    "class Abhi(ABC):\n",
    "    @abstractmethod\n",
    "    def com(self):\n",
    "        pass\n",
    "class Ani(Abhi):\n",
    "    def com(self):\n",
    "        print('hai i am working')\n",
    "    def lap(self):\n",
    "        print('hai')\n",
    "b=Ani()\n",
    "b.com()\n",
    "b.lap()"
   ]
  },
  {
   "cell_type": "code",
   "execution_count": null,
   "metadata": {},
   "outputs": [],
   "source": [
    "a = [1,2,3,4,5,6]\n",
    "b=[x*5 for x in range(len(a),0,-1)]\n",
    "print(b)"
   ]
  },
  {
   "cell_type": "code",
   "execution_count": null,
   "metadata": {},
   "outputs": [],
   "source": [
    "a = {'abhi':'ram','ani':'rudh','abhi':'ram','ani':'paidimarri','abhi':'paidimarri','hai':'paidimarri'}\n"
   ]
  },
  {
   "cell_type": "code",
   "execution_count": null,
   "metadata": {},
   "outputs": [],
   "source": [
    "b=a.copy()"
   ]
  },
  {
   "cell_type": "code",
   "execution_count": null,
   "metadata": {},
   "outputs": [],
   "source": [
    "del a['abhi']"
   ]
  },
  {
   "cell_type": "code",
   "execution_count": null,
   "metadata": {},
   "outputs": [],
   "source": [
    "a.clear()"
   ]
  },
  {
   "cell_type": "code",
   "execution_count": null,
   "metadata": {},
   "outputs": [],
   "source": [
    "a"
   ]
  },
  {
   "cell_type": "code",
   "execution_count": null,
   "metadata": {},
   "outputs": [],
   "source": [
    "b"
   ]
  },
  {
   "cell_type": "code",
   "execution_count": null,
   "metadata": {},
   "outputs": [],
   "source": [
    "h"
   ]
  },
  {
   "cell_type": "code",
   "execution_count": null,
   "metadata": {},
   "outputs": [],
   "source": [
    "l={'abc':'def','jdsl':'sadj'}\n",
    "j={'abc':'ajsdkl','jdsl':'ksduhk'}\n",
    "k={'l':l,'j':j}"
   ]
  },
  {
   "cell_type": "code",
   "execution_count": null,
   "metadata": {},
   "outputs": [],
   "source": [
    "k"
   ]
  },
  {
   "cell_type": "code",
   "execution_count": null,
   "metadata": {},
   "outputs": [],
   "source": [
    "a=[5,146,956,95626,326,4]\n",
    "for i in range(len(a)-1):\n",
    "    b=min(a[i:])\n",
    "    c=a.index(b,i)\n",
    "    a[i],a[c]=a[c],a[i]\n",
    "print(a)"
   ]
  },
  {
   "cell_type": "code",
   "execution_count": null,
   "metadata": {},
   "outputs": [],
   "source": [
    "a={2:5,3:6,5:9,12:7}\n",
    "b={n:n**2 for n in range(1,5)}\n",
    "print(b)"
   ]
  },
  {
   "cell_type": "code",
   "execution_count": null,
   "metadata": {},
   "outputs": [],
   "source": [
    "a='abhiram'\n",
    "b={c:a.count(c) for c in a}\n",
    "b"
   ]
  },
  {
   "cell_type": "code",
   "execution_count": null,
   "metadata": {},
   "outputs": [],
   "source": [
    "a =input()"
   ]
  },
  {
   "cell_type": "code",
   "execution_count": null,
   "metadata": {},
   "outputs": [],
   "source": [
    "b=map(lambda x:x+3,[1,2,3,4])"
   ]
  },
  {
   "cell_type": "code",
   "execution_count": null,
   "metadata": {},
   "outputs": [],
   "source": [
    "print(list(b))"
   ]
  },
  {
   "cell_type": "code",
   "execution_count": null,
   "metadata": {},
   "outputs": [],
   "source": [
    "c=list(filter(lambda x:x>=5,map(lambda x:x*5 ,[1,2,1,5,51,54562,20])))\n",
    "c"
   ]
  },
  {
   "cell_type": "code",
   "execution_count": null,
   "metadata": {},
   "outputs": [],
   "source": [
    "from functools import reduce\n",
    "def a(x,y):\n",
    "    return x+y\n",
    "d=reduce(a,[1,2,5,4,88,45,5])\n",
    "c=reduce(lambda x,y:x+y,[1,5,54,10,5,22])\n",
    "print(c,d)"
   ]
  },
  {
   "cell_type": "code",
   "execution_count": null,
   "metadata": {},
   "outputs": [],
   "source": [
    "a = int(input())\n",
    "c=[]\n",
    "for i in range(4*a+1):\n",
    "\tc.append(list(map(int,input().split())))"
   ]
  },
  {
   "cell_type": "code",
   "execution_count": null,
   "metadata": {},
   "outputs": [],
   "source": [
    "c"
   ]
  },
  {
   "cell_type": "code",
   "execution_count": null,
   "metadata": {},
   "outputs": [],
   "source": [
    "for i in c:\n",
    "    if(i[::-1] in c):\n",
    "        c.remove(i)\n",
    "        c.remove(i[::-1])"
   ]
  },
  {
   "cell_type": "code",
   "execution_count": null,
   "metadata": {},
   "outputs": [],
   "source": [
    "500000005+500000005"
   ]
  },
  {
   "cell_type": "code",
   "execution_count": null,
   "metadata": {},
   "outputs": [],
   "source": [
    "a=[5,23,4,6,1,2,6,5,48,5,2,10]\n",
    "for i in range(len(a)):\n",
    "    b = a[i:]\n",
    "    c=min(b)\n",
    "    c=a.index(c,i)\n",
    "    a[i],a[c]=a[c],a[i]\n",
    "print(a)"
   ]
  },
  {
   "cell_type": "code",
   "execution_count": null,
   "metadata": {},
   "outputs": [],
   "source": [
    "a=[5,23,4,6,1,2,6,5,48,5,2,10]\n",
    "for i in range(1,len(a)):\n",
    "    cur=a[i]\n",
    "    pos=i\n",
    "    while(pos>0 and cur<a[pos-1]):\n",
    "        a[pos]=a[pos-1]\n",
    "        pos-=1\n",
    "    a[pos]=cur\n",
    "print(a)"
   ]
  },
  {
   "cell_type": "code",
   "execution_count": null,
   "metadata": {},
   "outputs": [],
   "source": [
    "def pivot_place(list1,first,last):\n",
    "    pivot = list1[first]\n",
    "    left = first+1\n",
    "    right = last\n",
    "    while True:\n",
    "        while(left<=right and list1[left]<=pivot ):\n",
    "            left+=1\n",
    "        while(left<=right and list1[right]>=pivot):\n",
    "            right-=1\n",
    "        if(right<left):\n",
    "            break\n",
    "        else:\n",
    "            list1[left],list1[right]=list1[right],list1[left]\n",
    "    list1[first],list1[right]=list1[right],list1[first]\n",
    "    return right\n",
    "def quick(list1,first,last):\n",
    "    if(first<last):\n",
    "        p = pivot_place(list1,first,last)\n",
    "        quick(list1,first,p-1)\n",
    "        quick(list1,p+1,last)\n",
    "        \n",
    "a=[5,23,4,6,1,2,6,5,48,5,2,10]\n",
    "quick(a,0,len(a)-1)\n",
    "a"
   ]
  },
  {
   "cell_type": "code",
   "execution_count": null,
   "metadata": {},
   "outputs": [],
   "source": [
    "for i in range(int(input())):\n",
    "    b = int(input())\n",
    "    \n",
    "    if(b%2==0):\n",
    "        b=b-1\n",
    "    if(b==0):\n",
    "        print(0)\n",
    "    elif(b==1):\n",
    "        print(2)\n",
    "    elif(b==3):\n",
    "        print(3)\n",
    "    elif(b%2==1 and b>3):\n",
    "        b=b//2\n",
    "        print(b+2)"
   ]
  },
  {
   "cell_type": "code",
   "execution_count": null,
   "metadata": {},
   "outputs": [],
   "source": [
    "import math\n",
    "def prime(n):\n",
    "    a=[True]*(n+1)\n",
    "    d=[]\n",
    "    a[0]=False\n",
    "    a[1]=False\n",
    "    for i in range(2,int(math.sqrt(n+1))):\n",
    "        if(a[i]==True):\n",
    "            for j in range(i*i,n+1,i):\n",
    "                a[j]=False\n",
    "    for i in range(len(a)):\n",
    "        if(a[i]==True):\n",
    "            d.append(i)\n",
    "    return d"
   ]
  },
  {
   "cell_type": "code",
   "execution_count": null,
   "metadata": {},
   "outputs": [],
   "source": []
  },
  {
   "cell_type": "code",
   "execution_count": null,
   "metadata": {},
   "outputs": [],
   "source": [
    "import math\n",
    "def prime(n):\n",
    "    a=[True]*(n+1)\n",
    "    d=[]\n",
    "    a[0]=False\n",
    "    a[1]=False\n",
    "    for i in range(2,int(math.sqrt(n+1))):\n",
    "        if(a[i]==True):\n",
    "            for j in range(i*i,n+1,i):\n",
    "                a[j]=False\n",
    "    for i in range(len(a)):\n",
    "        if(a[i]==True):\n",
    "            d.append(i)\n",
    "    return d\n",
    "b=prime(1000000)\n",
    "a = int(input())\n",
    "c=0\n",
    "for i in range(a):\n",
    "    for j in range(i):\n",
    "        c+=1\n",
    "        while(c in b):\n",
    "            c+=1\n",
    "        print(c,end=' ')\n",
    "    print()\n",
    "for i in range(a):\n",
    "    for j in range(a-i):\n",
    "        c+=1\n",
    "        while(c in b):\n",
    "            c+=1\n",
    "        print(c,end=' ')\n",
    "    print()"
   ]
  },
  {
   "cell_type": "code",
   "execution_count": null,
   "metadata": {
    "scrolled": true
   },
   "outputs": [],
   "source": [
    "import math\n",
    "def prime(n):\n",
    "    a=[True]*(n+1)\n",
    "    d=[]\n",
    "    a[0]=False\n",
    "    a[1]=False\n",
    "    for i in range(2,int(math.sqrt(n+1))):\n",
    "        if(a[i]==True):\n",
    "            for j in range(i*i,n+1,i):\n",
    "                a[j]=False\n",
    "    for i in range(len(a)):\n",
    "        if(a[i]==True):\n",
    "            d.append(i)\n",
    "    return d\n",
    "b=prime(1000)\n",
    "a = int(input())\n",
    "c=0\n",
    "for i in range(a):\n",
    "    for j in range(i):\n",
    "        c+=1\n",
    "        while(c in b):\n",
    "            c+=1\n",
    "        print(c,end=' ')\n",
    "    print()\n",
    "for i in range(a):\n",
    "    for j in range(a-i):\n",
    "        c+=1\n",
    "        while(c in b):\n",
    "            c+=1\n",
    "        print(c,end=' ')\n",
    "    print()"
   ]
  },
  {
   "cell_type": "code",
   "execution_count": null,
   "metadata": {},
   "outputs": [],
   "source": [
    "print(b)"
   ]
  },
  {
   "cell_type": "code",
   "execution_count": null,
   "metadata": {},
   "outputs": [],
   "source": [
    "import math\n",
    "def prime(n):\n",
    "    a=[True]*(n+1)\n",
    "    d=[]\n",
    "    a[0]=False\n",
    "    a[1]=False\n",
    "    for i in range(2,int(math.sqrt(n+1))):\n",
    "        if(a[i]==True):\n",
    "            for j in range(i*i,n+1,i):\n",
    "                a[j]=False\n",
    "    for i in range(len(a)):\n",
    "        if(a[i]==True):\n",
    "            d.append(i)\n",
    "    return d"
   ]
  },
  {
   "cell_type": "code",
   "execution_count": null,
   "metadata": {},
   "outputs": [],
   "source": [
    "print(len(prime(250)))"
   ]
  },
  {
   "cell_type": "code",
   "execution_count": null,
   "metadata": {},
   "outputs": [],
   "source": [
    "a = int(input())\n",
    "pri = prime(250)\n",
    "b=0\n",
    "f=1\n",
    "d=[1]\n",
    "e=0\n",
    "for i in range(2,100):\n",
    "    if(i%2==1):\n",
    "        g=b+f\n",
    "        d.append(g)\n",
    "        b=f\n",
    "        f=g\n",
    "        \n",
    "    else:\n",
    "        d.append(pri[e])\n",
    "        e+=1\n",
    "print(d[a-1])"
   ]
  },
  {
   "cell_type": "code",
   "execution_count": null,
   "metadata": {},
   "outputs": [],
   "source": []
  },
  {
   "cell_type": "code",
   "execution_count": null,
   "metadata": {},
   "outputs": [],
   "source": [
    "for i in range(int(input())):\n",
    "    n,k = map(int,input().split())\n",
    "    b = list(map(int,input().split()))\n",
    "    print(1.7500)"
   ]
  },
  {
   "cell_type": "code",
   "execution_count": null,
   "metadata": {},
   "outputs": [],
   "source": [
    "45 48 54 21 89 87 70 78 15"
   ]
  },
  {
   "cell_type": "code",
   "execution_count": null,
   "metadata": {},
   "outputs": [],
   "source": []
  },
  {
   "cell_type": "code",
   "execution_count": null,
   "metadata": {},
   "outputs": [],
   "source": [
    "for i in range(int(input())):\n",
    "    a = int(input())\n",
    "    b = list(map(int,input().split()))\n",
    "    c=0\n",
    "    d=0\n",
    "    e=[]\n",
    "    for i in range(len(b)):\n",
    "        if(c%2==0 and d!=a):\n",
    "            print(b[i],end=' ')\n",
    "            d+=1\n",
    "        elif(c%2==1 and d!=a):\n",
    "            e.append(b[i])\n",
    "            d+=1\n",
    "        if(d==a and c%2==1):\n",
    "            e=e[::-1]\n",
    "            for j in e:\n",
    "                print(j,end=' ')\n",
    "            d=0\n",
    "            c+=1\n",
    "            e=[]\n",
    "        elif(d==a):\n",
    "            d=0\n",
    "            c+=1\n",
    "    print()"
   ]
  },
  {
   "cell_type": "code",
   "execution_count": null,
   "metadata": {},
   "outputs": [],
   "source": [
    "a = input()\n",
    "b=0\n",
    "d=0\n",
    "for i in range(len(a)):\n",
    "    if(i%2==0):\n",
    "        b+=int(a[i])\n",
    "    else:\n",
    "        d+=int(a[i])\n",
    "print(b-d)"
   ]
  },
  {
   "cell_type": "code",
   "execution_count": null,
   "metadata": {},
   "outputs": [],
   "source": [
    "b"
   ]
  },
  {
   "cell_type": "code",
   "execution_count": null,
   "metadata": {},
   "outputs": [],
   "source": [
    "d"
   ]
  },
  {
   "cell_type": "code",
   "execution_count": null,
   "metadata": {},
   "outputs": [],
   "source": [
    "298*5"
   ]
  },
  {
   "cell_type": "code",
   "execution_count": null,
   "metadata": {},
   "outputs": [],
   "source": [
    "82*72"
   ]
  },
  {
   "cell_type": "code",
   "execution_count": null,
   "metadata": {},
   "outputs": [],
   "source": [
    "14000*5"
   ]
  },
  {
   "cell_type": "code",
   "execution_count": null,
   "metadata": {},
   "outputs": [],
   "source": [
    "d=3.16*15**2"
   ]
  },
  {
   "cell_type": "code",
   "execution_count": null,
   "metadata": {},
   "outputs": [],
   "source": [
    "d"
   ]
  },
  {
   "cell_type": "code",
   "execution_count": null,
   "metadata": {},
   "outputs": [],
   "source": [
    "79/4"
   ]
  },
  {
   "cell_type": "code",
   "execution_count": null,
   "metadata": {},
   "outputs": [],
   "source": [
    "19.75*4"
   ]
  },
  {
   "cell_type": "code",
   "execution_count": null,
   "metadata": {},
   "outputs": [],
   "source": [
    "for i in range(int(input())):\n",
    "    r=list(map(int,input().split()))\n",
    "    v=list(map(int,input().split()))\n",
    "    c=int(input())\n",
    "    d=[]\n",
    "    e=0\n",
    "    while(e!=3):\n",
    "        d.append(2*3.14*r[e])\n",
    "        e+=1\n",
    "    f=[]\n",
    "    l=1\n",
    "    for i in range(len(d)):\n",
    "        f.append(d[i]/l)\n",
    "        l+=1\n",
    "    j=f[0]\n",
    "    k=True\n",
    "    for i in f:\n",
    "        if(i!=j):\n",
    "            k=False\n",
    "            break\n",
    "    print(k)      "
   ]
  },
  {
   "cell_type": "code",
   "execution_count": null,
   "metadata": {
    "scrolled": true
   },
   "outputs": [],
   "source": [
    "N=[100]\n",
    "a=1\n",
    "for j in N:\n",
    "    for i in range(1,j+1):\n",
    "        a=a*i\n",
    "    a=str(a)\n",
    "    print((len(a)),a)\n",
    "    a=1"
   ]
  },
  {
   "cell_type": "code",
   "execution_count": null,
   "metadata": {},
   "outputs": [],
   "source": []
  },
  {
   "cell_type": "code",
   "execution_count": 4,
   "metadata": {},
   "outputs": [
    {
     "name": "stdout",
     "output_type": "stream",
     "text": [
      "4\n",
      "nani\n",
      "a\n",
      "i\n",
      "ball\n",
      "a\n",
      "ntng\n",
      "ntng\n",
      "nani\n",
      "a\n",
      "i\n"
     ]
    }
   ],
   "source": [
    "a = int(input())\n",
    "b = 'aeiouAEIOU'\n",
    "d=True\n",
    "for i in range(a):\n",
    "    c = input()\n",
    "    for j in c:\n",
    "        if(j in b):\n",
    "            print(j)\n",
    "            d=False\n",
    "    if(d==True):\n",
    "        print(c)\n",
    "    d=True"
   ]
  },
  {
   "cell_type": "code",
   "execution_count": 10,
   "metadata": {},
   "outputs": [
    {
     "name": "stdout",
     "output_type": "stream",
     "text": [
      "4\n",
      "101\n",
      "a\n",
      "f\n",
      "10000\n",
      "102\n",
      "b\n",
      "m\n",
      "12000\n",
      "103\n",
      "c\n",
      "f\n",
      "45000\n",
      "104\n",
      "d\n",
      "m\n",
      "65000\n",
      "101\n",
      "5\n",
      "500\n"
     ]
    }
   ],
   "source": [
    "a = int(input())\n",
    "pid=[]\n",
    "name=[]\n",
    "gender=[]\n",
    "dis=[]\n",
    "for i in range(a):\n",
    "    pid.append(int(input()))\n",
    "    name.append(input())\n",
    "    gender.append(input())\n",
    "    dis.append(int(input()))\n",
    "b=int(input())\n",
    "d=int(input())\n",
    "if(b in pid):\n",
    "    e=pid.index(b)\n",
    "    print(int((dis[e]/100)*d))\n",
    "else:\n",
    "    print(\"no name \")"
   ]
  },
  {
   "cell_type": "code",
   "execution_count": null,
   "metadata": {},
   "outputs": [],
   "source": []
  },
  {
   "cell_type": "code",
   "execution_count": null,
   "metadata": {},
   "outputs": [],
   "source": []
  },
  {
   "cell_type": "code",
   "execution_count": null,
   "metadata": {},
   "outputs": [],
   "source": []
  },
  {
   "cell_type": "code",
   "execution_count": null,
   "metadata": {},
   "outputs": [],
   "source": []
  },
  {
   "cell_type": "code",
   "execution_count": null,
   "metadata": {},
   "outputs": [],
   "source": []
  },
  {
   "cell_type": "code",
   "execution_count": null,
   "metadata": {},
   "outputs": [],
   "source": []
  },
  {
   "cell_type": "code",
   "execution_count": null,
   "metadata": {},
   "outputs": [],
   "source": []
  },
  {
   "cell_type": "code",
   "execution_count": null,
   "metadata": {},
   "outputs": [],
   "source": []
  },
  {
   "cell_type": "code",
   "execution_count": null,
   "metadata": {},
   "outputs": [],
   "source": []
  },
  {
   "cell_type": "code",
   "execution_count": null,
   "metadata": {},
   "outputs": [],
   "source": []
  },
  {
   "cell_type": "code",
   "execution_count": null,
   "metadata": {},
   "outputs": [],
   "source": []
  },
  {
   "cell_type": "code",
   "execution_count": null,
   "metadata": {},
   "outputs": [],
   "source": []
  },
  {
   "cell_type": "code",
   "execution_count": null,
   "metadata": {},
   "outputs": [],
   "source": []
  },
  {
   "cell_type": "code",
   "execution_count": null,
   "metadata": {},
   "outputs": [],
   "source": []
  },
  {
   "cell_type": "code",
   "execution_count": null,
   "metadata": {},
   "outputs": [],
   "source": []
  },
  {
   "cell_type": "code",
   "execution_count": null,
   "metadata": {},
   "outputs": [],
   "source": []
  },
  {
   "cell_type": "code",
   "execution_count": null,
   "metadata": {},
   "outputs": [],
   "source": []
  },
  {
   "cell_type": "code",
   "execution_count": null,
   "metadata": {},
   "outputs": [],
   "source": []
  },
  {
   "cell_type": "code",
   "execution_count": null,
   "metadata": {},
   "outputs": [],
   "source": []
  },
  {
   "cell_type": "code",
   "execution_count": null,
   "metadata": {},
   "outputs": [],
   "source": []
  },
  {
   "cell_type": "code",
   "execution_count": null,
   "metadata": {},
   "outputs": [],
   "source": []
  },
  {
   "cell_type": "code",
   "execution_count": null,
   "metadata": {},
   "outputs": [],
   "source": []
  },
  {
   "cell_type": "code",
   "execution_count": null,
   "metadata": {},
   "outputs": [],
   "source": []
  },
  {
   "cell_type": "code",
   "execution_count": null,
   "metadata": {},
   "outputs": [],
   "source": []
  }
 ],
 "metadata": {
  "kernelspec": {
   "display_name": "Python 3",
   "language": "python",
   "name": "python3"
  },
  "language_info": {
   "codemirror_mode": {
    "name": "ipython",
    "version": 3
   },
   "file_extension": ".py",
   "mimetype": "text/x-python",
   "name": "python",
   "nbconvert_exporter": "python",
   "pygments_lexer": "ipython3",
   "version": "3.7.3"
  }
 },
 "nbformat": 4,
 "nbformat_minor": 4
}
