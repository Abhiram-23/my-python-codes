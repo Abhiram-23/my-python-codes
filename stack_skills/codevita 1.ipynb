{
 "cells": [
  {
   "cell_type": "code",
   "execution_count": null,
   "metadata": {},
   "outputs": [],
   "source": [
    "for i in range(int(input())):\n",
    "    a=input()\n",
    "    while(a!='END'):\n",
    "        b=a.split(' ')\n",
    "        a=input()"
   ]
  },
  {
   "cell_type": "code",
   "execution_count": null,
   "metadata": {},
   "outputs": [],
   "source": [
    "shoe=0\n",
    "shirt=0\n",
    "q_shoe=0\n",
    "q_shirt=0\n",
    "s_shoes=0\n",
    "s_shirt=0\n",
    "if(b[1]=='SM'):\n",
    "    if(b[2]=='SET_COST'):\n",
    "        if(b[3]=='SHOE'):\n",
    "            shoe=int(b[4])\n",
    "            print(float(shoe))\n",
    "        elif(b[3]=='SHIRT'):\n",
    "            shirt=int(b[4])\n",
    "            print(float(shirt))\n",
    "        \n",
    "    elif(b[2]=='ADD'):\n",
    "        if(b[3]=='SHOE'):\n",
    "            if(b[4]>0):\n",
    "                q_shoe+=int(b[4])\n",
    "                print(q_shoe)\n",
    "            else:\n",
    "                print(-1)\n",
    "        elif(b[3]=='SHIRT'):\n",
    "            if(b[4]>0):\n",
    "                q_shirt+=int(b[4])\n",
    "                print(q_shirt)\n",
    "            else:\n",
    "                print(-1)\n",
    "    elif(b[2]=='DCR'):\n",
    "        if(b[3]=='SHOE'):\n",
    "            if(q_shoe>=int(b[4])):\n",
    "                q_shoe-=int(b[4])\n",
    "            else:\n",
    "                print(-1)\n",
    "        if(b[3]=='SHIRT'):\n",
    "            if(q_shirt>=int(b[4])):\n",
    "                q_shirt-=int(b[4])\n",
    "            else:\n",
    "                print(-1)\n",
    "    elif(b[2]=='INCR'):\n",
    "        if(b[3]=='SHOE'):\n",
    "            if(shoe>0)\n",
    "                q_shoe+=int(b[4])\n",
    "            else:\n",
    "                print(-1)\n",
    "        if(b[3]=='SHIRT'):\n",
    "            if(shirt>0):\n",
    "                q_shirt+=int(b[4])\n",
    "            else:\n",
    "                print(-1)\n",
    "    elif(b[2]=='GET_QTY'):\n",
    "        if(b[3]=='SHIRT'):\n",
    "            print(q_shirt)\n",
    "        elif(b[3]=='SHOE'):\n",
    "            print(q_shoe)\n",
    "    elif(b[2]=='REMOVE'):\n",
    "        if(b[3]=='SHIRT'):\n",
    "            if(q_shirt>0):\n",
    "                print(1)\n",
    "            else:\n",
    "                print(-1)\n",
    "        elif(b[3]=='SHOE'):\n",
    "            if(q_shoe>0):\n",
    "                print(1)\n",
    "            else:\n",
    "                print(-1)\n",
    "elif(b[1]=='S'):\n",
    "    if(b[2]=='ADD'):\n",
    "        if(b[3]=='SHOE'and q_shoe>=int(b[4])):\n",
    "            s_shoe+=int(b[4])\n",
    "            q_shoe-=int(b[4])\n",
    "        elif(b[3]=='SHIRT'and q_shirt>=int(b[4])):\n",
    "            s_shirt+=int(b[4])\n",
    "            q_shirt-=int(b[4])\n",
    "    elif(b[2]=='INC'):\n",
    "        if(d[3]=='SHOE'and s_shoe>0 ):\n",
    "            s_shoe+=int(d[4])\n",
    "            q_shoe-=int(d[4])\n",
    "        else:\n",
    "            print(-1)\n",
    "    "
   ]
  },
  {
   "cell_type": "code",
   "execution_count": null,
   "metadata": {},
   "outputs": [],
   "source": [
    "a=['abhi','ani']"
   ]
  },
  {
   "cell_type": "code",
   "execution_count": null,
   "metadata": {},
   "outputs": [],
   "source": [
    "def primetime(n):\n",
    "    if n<=1:\n",
    "        return False\n",
    "    if n<=3:\n",
    "        return True\n",
    "    else:\n",
    "        for i in range(3,n):\n",
    "            if(n%i==0):\n",
    "            return False\n",
    "          return True\n",
    "    \n",
    "d,p=map(int,input().split())\n",
    "a=d/p\n",
    "N=a\n",
    "c=0\n",
    "while N>1:\n",
    "    i=0\n",
    "    count=0\n",
    "    while True:\n",
    "        if primetime(int((i*a)+N))and((i*a)+N)<=d:\n",
    "            count=count+1\n",
    "        if i==(p-1): \n",
    "            break\n",
    "            i+=1\n",
    "    if count==p: c+=1\n",
    "        N-=1\n",
    "print(c)"
   ]
  },
  {
   "cell_type": "code",
   "execution_count": null,
   "metadata": {},
   "outputs": [],
   "source": []
  },
  {
   "cell_type": "code",
   "execution_count": null,
   "metadata": {},
   "outputs": [],
   "source": [
    "49/7"
   ]
  },
  {
   "cell_type": "code",
   "execution_count": null,
   "metadata": {},
   "outputs": [],
   "source": [
    "d,p=map(int,input().split())\n",
    "e=d//p"
   ]
  },
  {
   "cell_type": "code",
   "execution_count": null,
   "metadata": {},
   "outputs": [],
   "source": [
    "c=[]\n",
    "d=[]\n",
    "for i in range(e):\n",
    "    d.append(i)\n",
    "    for j in range(p-1):\n",
    "        i=i+e\n",
    "        d.append(i)\n",
    "    c.append(d)\n",
    "    d=[]"
   ]
  },
  {
   "cell_type": "code",
   "execution_count": null,
   "metadata": {},
   "outputs": [],
   "source": [
    "prime=[2, 3, 5, 7, 11, 13, 17, 19, 23, 29, 31, 37, 41, 43, 47, 53, 59, 61, 67, 71, 73, 79, 83, 89, 97, 101, 103, 107, 109, 113, 127, 131, 137, 139, 149, 151, 157, 163, 167, 173, 179, 181, 191, 193, 197, 199, 211, 223, 227, 229, 233, 239, 241, 251, 257, 263, 269, 271, 277, 281, 283, 293, 307, 311, 313, 317, 331, 337, 347, 349, 353, 359, 367, 373, 379, 383, 389, 397, 401, 409, 419, 421, 431, 433, 439, 443, 449, 457, 461, 463, 467, 479, 487, 491, 499]\n",
    "count=0\n",
    "co=0\n",
    "for i in c:\n",
    "    for j in i:\n",
    "        if(j in prime):\n",
    "            count+=1\n",
    "    if(count==p):\n",
    "        co+=1\n",
    "    count=0\n",
    "    "
   ]
  },
  {
   "cell_type": "code",
   "execution_count": null,
   "metadata": {},
   "outputs": [],
   "source": [
    "c"
   ]
  },
  {
   "cell_type": "code",
   "execution_count": null,
   "metadata": {},
   "outputs": [],
   "source": [
    "co"
   ]
  },
  {
   "cell_type": "code",
   "execution_count": null,
   "metadata": {},
   "outputs": [],
   "source": [
    "36//3"
   ]
  },
  {
   "cell_type": "code",
   "execution_count": null,
   "metadata": {},
   "outputs": [],
   "source": [
    "day,parts=map(int,input().split())\n",
    "e=day//parts\n",
    "c=[]\n",
    "d=[]\n",
    "for i in range(e):\n",
    "    d.append(i)\n",
    "    for j in range(parts-1):\n",
    "        i=i+e\n",
    "        d.append(i)\n",
    "    c.append(d)\n",
    "    d=[]\n",
    "prime=[2, 3, 5, 7, 11, 13, 17, 19, 23, 29, 31, 37, 41, 43, 47, 53, 59, 61, 67, 71, 73, 79, 83, 89, 97, 101, 103, 107, 109, 113, 127, 131, 137, 139, 149, 151, 157, 163, 167, 173, 179, 181, 191, 193, 197, 199, 211, 223, 227, 229, 233, 239, 241, 251, 257, 263, 269, 271, 277, 281, 283, 293, 307, 311, 313, 317, 331, 337, 347, 349, 353, 359, 367, 373, 379, 383, 389, 397, 401, 409, 419, 421, 431, 433, 439, 443, 449, 457, 461, 463, 467, 479, 487, 491, 499]\n",
    "count=0\n",
    "co=0\n",
    "for i in c:\n",
    "    for j in i:\n",
    "        if(j in prime):\n",
    "            count+=1\n",
    "    if(count==parts):\n",
    "        co+=1\n",
    "    count=0\n",
    "print(co)\n"
   ]
  },
  {
   "cell_type": "markdown",
   "metadata": {},
   "source": [
    "# codevita executed code"
   ]
  },
  {
   "cell_type": "code",
   "execution_count": 10,
   "metadata": {},
   "outputs": [
    {
     "name": "stdout",
     "output_type": "stream",
     "text": [
      "24 2\n",
      "3\n"
     ]
    }
   ],
   "source": [
    "d,p=map(int,input().split())\n",
    "e=d//p\n",
    "c=[]\n",
    "d=[]\n",
    "for i in range(e):\n",
    "    d.append(i)\n",
    "    for j in range(p-1):\n",
    "        i=i+e\n",
    "        d.append(i)\n",
    "    c.append(d)\n",
    "    d=[]\n",
    "prime=[2, 3, 5, 7, 11, 13, 17, 19, 23, 29, 31, 37, 41, 43, 47, 53, 59, 61, 67, 71, 73, 79, 83, 89, 97, 101, 103, 107, 109, 113, 127, 131, 137, 139, 149, 151, 157, 163, 167, 173, 179, 181, 191, 193, 197, 199, 211, 223, 227, 229, 233, 239, 241, 251, 257, 263, 269, 271, 277, 281, 283, 293, 307, 311, 313, 317, 331, 337, 347, 349, 353, 359, 367, 373, 379, 383, 389, 397, 401, 409, 419, 421, 431, 433, 439, 443, 449, 457, 461, 463, 467, 479, 487, 491, 499]\n",
    "count=0\n",
    "co=0\n",
    "for i in c:\n",
    "    for j in i:\n",
    "        if(j in prime):\n",
    "            count+=1\n",
    "    if(count==p):\n",
    "        co+=1\n",
    "    count=0\n",
    "print(co)"
   ]
  },
  {
   "cell_type": "code",
   "execution_count": 11,
   "metadata": {},
   "outputs": [
    {
     "data": {
      "text/plain": [
       "3"
      ]
     },
     "execution_count": 11,
     "metadata": {},
     "output_type": "execute_result"
    }
   ],
   "source": [
    "co"
   ]
  },
  {
   "cell_type": "code",
   "execution_count": 12,
   "metadata": {},
   "outputs": [
    {
     "data": {
      "text/plain": [
       "[[0, 12],\n",
       " [1, 13],\n",
       " [2, 14],\n",
       " [3, 15],\n",
       " [4, 16],\n",
       " [5, 17],\n",
       " [6, 18],\n",
       " [7, 19],\n",
       " [8, 20],\n",
       " [9, 21],\n",
       " [10, 22],\n",
       " [11, 23]]"
      ]
     },
     "execution_count": 12,
     "metadata": {},
     "output_type": "execute_result"
    }
   ],
   "source": [
    "c"
   ]
  },
  {
   "cell_type": "code",
   "execution_count": 13,
   "metadata": {},
   "outputs": [
    {
     "data": {
      "text/plain": [
       "12"
      ]
     },
     "execution_count": 13,
     "metadata": {},
     "output_type": "execute_result"
    }
   ],
   "source": [
    "e"
   ]
  },
  {
   "cell_type": "code",
   "execution_count": 12,
   "metadata": {},
   "outputs": [
    {
     "name": "stdout",
     "output_type": "stream",
     "text": [
      "supreme court\n",
      "su\n"
     ]
    }
   ],
   "source": [
    "t=input()\n",
    "s=input()"
   ]
  },
  {
   "cell_type": "code",
   "execution_count": 13,
   "metadata": {},
   "outputs": [
    {
     "name": "stdout",
     "output_type": "stream",
     "text": [
      "s 0\n",
      "u 1\n",
      "r 3\n",
      "e 4\n",
      "m 5\n",
      "e 6\n",
      "  7\n",
      "c 8\n",
      "o 9\n",
      "u 10\n",
      "u 10\n",
      "t 12\n"
     ]
    },
    {
     "ename": "IndexError",
     "evalue": "string index out of range",
     "output_type": "error",
     "traceback": [
      "\u001b[1;31m---------------------------------------------------------------------------\u001b[0m",
      "\u001b[1;31mIndexError\u001b[0m                                Traceback (most recent call last)",
      "\u001b[1;32m<ipython-input-13-50c51858f0a6>\u001b[0m in \u001b[0;36m<module>\u001b[1;34m\u001b[0m\n\u001b[0;32m     10\u001b[0m         \u001b[1;32mif\u001b[0m\u001b[1;33m(\u001b[0m\u001b[0mi\u001b[0m\u001b[1;33m<\u001b[0m\u001b[0mlen\u001b[0m\u001b[1;33m(\u001b[0m\u001b[0mt\u001b[0m\u001b[1;33m)\u001b[0m\u001b[1;33m)\u001b[0m\u001b[1;33m:\u001b[0m\u001b[1;33m\u001b[0m\u001b[1;33m\u001b[0m\u001b[0m\n\u001b[0;32m     11\u001b[0m             \u001b[0mi\u001b[0m\u001b[1;33m+=\u001b[0m\u001b[1;36m1\u001b[0m\u001b[1;33m\u001b[0m\u001b[1;33m\u001b[0m\u001b[0m\n\u001b[1;32m---> 12\u001b[1;33m         \u001b[0mprint\u001b[0m\u001b[1;33m(\u001b[0m\u001b[0mt\u001b[0m\u001b[1;33m[\u001b[0m\u001b[0mi\u001b[0m\u001b[1;33m]\u001b[0m\u001b[1;33m,\u001b[0m\u001b[0mi\u001b[0m\u001b[1;33m)\u001b[0m\u001b[1;33m\u001b[0m\u001b[1;33m\u001b[0m\u001b[0m\n\u001b[0m\u001b[0;32m     13\u001b[0m \u001b[1;33m\u001b[0m\u001b[0m\n",
      "\u001b[1;31mIndexError\u001b[0m: string index out of range"
     ]
    }
   ],
   "source": [
    "i=0\n",
    "a=''\n",
    "while i<len(t):\n",
    "    if(t[i]in s):\n",
    "        while(t[i] in s):\n",
    "            a+=t[i]\n",
    "            print(t[i],i)\n",
    "            \n",
    "            i+=1\n",
    "    else:\n",
    "        if(i<len(t)):\n",
    "            i+=1\n",
    "        print(t[i],i)\n",
    "        "
   ]
  },
  {
   "cell_type": "code",
   "execution_count": 14,
   "metadata": {},
   "outputs": [
    {
     "data": {
      "text/plain": [
       "13"
      ]
     },
     "execution_count": 14,
     "metadata": {},
     "output_type": "execute_result"
    }
   ],
   "source": [
    "len(t)"
   ]
  },
  {
   "cell_type": "code",
   "execution_count": null,
   "metadata": {},
   "outputs": [],
   "source": []
  },
  {
   "cell_type": "code",
   "execution_count": null,
   "metadata": {},
   "outputs": [],
   "source": []
  },
  {
   "cell_type": "code",
   "execution_count": null,
   "metadata": {},
   "outputs": [],
   "source": []
  },
  {
   "cell_type": "code",
   "execution_count": null,
   "metadata": {},
   "outputs": [],
   "source": []
  },
  {
   "cell_type": "code",
   "execution_count": null,
   "metadata": {},
   "outputs": [],
   "source": []
  },
  {
   "cell_type": "code",
   "execution_count": null,
   "metadata": {},
   "outputs": [],
   "source": []
  },
  {
   "cell_type": "code",
   "execution_count": null,
   "metadata": {},
   "outputs": [],
   "source": []
  },
  {
   "cell_type": "code",
   "execution_count": null,
   "metadata": {},
   "outputs": [],
   "source": []
  },
  {
   "cell_type": "code",
   "execution_count": null,
   "metadata": {},
   "outputs": [],
   "source": []
  },
  {
   "cell_type": "code",
   "execution_count": null,
   "metadata": {},
   "outputs": [],
   "source": [
    "count=0\n",
    "a=''\n",
    "for i in t:\n",
    "    if(i in s):\n",
    "        while(i in s):\n",
    "            a+=i\n",
    "            i+=1\n",
    "        count+=1\n",
    "        t=t.replace(a,'',1)\n",
    "        print(a)\n",
    "        if(a!=s):    \n",
    "            a=a[::-1]\n",
    "            for k in s[::-1]:\n",
    "                if(k==a[0]):\n",
    "                    a=a.replace(a[0],'',1)\n",
    "                    count+=1\n",
    "                else:\n",
    "                    count+=1\n",
    "        else:\n",
    "            pass"
   ]
  },
  {
   "cell_type": "code",
   "execution_count": null,
   "metadata": {},
   "outputs": [],
   "source": [
    "suprme court\n",
    "su"
   ]
  },
  {
   "cell_type": "code",
   "execution_count": 26,
   "metadata": {},
   "outputs": [
    {
     "name": "stdout",
     "output_type": "stream",
     "text": [
      "supreme court is the highest judicial court\n",
      "su\n",
      "1\n",
      "5\n",
      "5\n",
      "5\n",
      "5\n",
      "5\n",
      "5\n",
      "5\n",
      "5\n",
      "5\n",
      "9\n",
      "9\n",
      "9\n",
      "9\n",
      "9\n",
      "hai 1\n",
      "11\n",
      "11\n",
      "11\n",
      "11\n",
      "11\n",
      "11\n",
      "11\n",
      "11\n",
      "11\n",
      "11\n",
      "11\n",
      "hai 1\n",
      "13\n",
      "13\n",
      "13\n",
      "13\n",
      "17\n",
      "17\n",
      "17\n",
      "17\n",
      "17\n",
      "17\n",
      "17\n",
      "17\n",
      "17\n",
      "17\n",
      "21\n",
      "21\n",
      "21\n",
      "21\n"
     ]
    }
   ],
   "source": [
    "t=input()\n",
    "s=input()\n",
    "count=0\n",
    "for i in range(len(t)):\n",
    "    if(t[i] in s and t[i+1] in s):\n",
    "        count+=1\n",
    "    elif(t[i] in s):\n",
    "        if(len(s)-1==s.index(t[i])):\n",
    "            count+=1\n",
    "            count+=1\n",
    "            count+=len(s[:s.index(t[i])])\n",
    "            count+=1\n",
    "        elif(t[i]==s[0]):\n",
    "            count+=1\n",
    "            count+=len(s[1:])\n",
    "            print('hai',len(s[1:]))\n",
    "        else:\n",
    "            count+=1\n",
    "            count+=len(s[s.index(t[i])+1:])\n",
    "            count+=1\n",
    "            count+=len(s[:s.index(t[i])])\n",
    "            count+=1\n",
    "    print(count)\n",
    "print(count)"
   ]
  },
  {
   "cell_type": "code",
   "execution_count": null,
   "metadata": {},
   "outputs": [],
   "source": [
    "supreme court is the highest judicial court"
   ]
  },
  {
   "cell_type": "code",
   "execution_count": 27,
   "metadata": {},
   "outputs": [
    {
     "ename": "TypeError",
     "evalue": "'str' object does not support item assignment",
     "output_type": "error",
     "traceback": [
      "\u001b[1;31m---------------------------------------------------------------------------\u001b[0m",
      "\u001b[1;31mTypeError\u001b[0m                                 Traceback (most recent call last)",
      "\u001b[1;32m<ipython-input-27-2c415d57e1c0>\u001b[0m in \u001b[0;36m<module>\u001b[1;34m\u001b[0m\n\u001b[0;32m      4\u001b[0m     \u001b[1;32mwhile\u001b[0m\u001b[1;33m(\u001b[0m\u001b[0mt\u001b[0m\u001b[1;33m[\u001b[0m\u001b[0mi\u001b[0m\u001b[1;33m]\u001b[0m \u001b[1;32min\u001b[0m \u001b[0ms\u001b[0m\u001b[1;33m)\u001b[0m\u001b[1;33m:\u001b[0m\u001b[1;33m\u001b[0m\u001b[1;33m\u001b[0m\u001b[0m\n\u001b[0;32m      5\u001b[0m         \u001b[0ma\u001b[0m\u001b[1;33m+=\u001b[0m\u001b[0mt\u001b[0m\u001b[1;33m[\u001b[0m\u001b[0mi\u001b[0m\u001b[1;33m]\u001b[0m\u001b[1;33m\u001b[0m\u001b[1;33m\u001b[0m\u001b[0m\n\u001b[1;32m----> 6\u001b[1;33m         \u001b[0mt\u001b[0m\u001b[1;33m[\u001b[0m\u001b[0mi\u001b[0m\u001b[1;33m]\u001b[0m\u001b[1;33m=\u001b[0m\u001b[0mt\u001b[0m\u001b[1;33m[\u001b[0m\u001b[0mi\u001b[0m\u001b[1;33m+\u001b[0m\u001b[1;36m1\u001b[0m\u001b[1;33m]\u001b[0m\u001b[1;33m\u001b[0m\u001b[1;33m\u001b[0m\u001b[0m\n\u001b[0m\u001b[0;32m      7\u001b[0m     \u001b[0mcount\u001b[0m\u001b[1;33m+=\u001b[0m\u001b[1;36m1\u001b[0m\u001b[1;33m\u001b[0m\u001b[1;33m\u001b[0m\u001b[0m\n\u001b[0;32m      8\u001b[0m     \u001b[1;32mif\u001b[0m\u001b[1;33m(\u001b[0m\u001b[0ma\u001b[0m\u001b[1;33m!=\u001b[0m\u001b[0mk\u001b[0m\u001b[1;33m)\u001b[0m\u001b[1;33m:\u001b[0m\u001b[1;33m\u001b[0m\u001b[1;33m\u001b[0m\u001b[0m\n",
      "\u001b[1;31mTypeError\u001b[0m: 'str' object does not support item assignment"
     ]
    }
   ],
   "source": [
    "count=0\n",
    "a=''\n",
    "for i in range(len(t)):\n",
    "    while(t[i] in s):\n",
    "        a+=t[i]\n",
    "        t[i]=t[i+1]\n",
    "    count+=1\n",
    "    if(a!=k):    \n",
    "        a=a[::-1]\n",
    "        for k in s[::-1]:\n",
    "            if(k==a[0]):\n",
    "                a=a.replace(a[0],'',1)\n",
    "                count+=1\n",
    "            else:\n",
    "                count+=1\n",
    "    else:\n",
    "        pass\n",
    "    if(len(s)-1==s.index(i)):\n",
    "        count+=1\n",
    "        count+=1\n",
    "        count+=len(s[:s.index(i)])\n",
    "        count+=1\n",
    "    elif(i==s[0]):\n",
    "        count+=1\n",
    "        count+=len(s[1:])\n",
    "    else:\n",
    "        count+=1\n",
    "        count+=len(s[s.index(i)+1:])\n",
    "        count+=1\n",
    "        count+=len(s[:s.index(i)])\n",
    "        count+=1\n",
    "print(count)"
   ]
  },
  {
   "cell_type": "code",
   "execution_count": null,
   "metadata": {},
   "outputs": [],
   "source": []
  },
  {
   "cell_type": "code",
   "execution_count": null,
   "metadata": {},
   "outputs": [],
   "source": []
  },
  {
   "cell_type": "code",
   "execution_count": null,
   "metadata": {},
   "outputs": [],
   "source": []
  },
  {
   "cell_type": "code",
   "execution_count": null,
   "metadata": {},
   "outputs": [],
   "source": []
  },
  {
   "cell_type": "code",
   "execution_count": null,
   "metadata": {},
   "outputs": [],
   "source": []
  },
  {
   "cell_type": "code",
   "execution_count": null,
   "metadata": {},
   "outputs": [],
   "source": []
  },
  {
   "cell_type": "code",
   "execution_count": null,
   "metadata": {},
   "outputs": [],
   "source": []
  }
 ],
 "metadata": {
  "kernelspec": {
   "display_name": "Python 3",
   "language": "python",
   "name": "python3"
  },
  "language_info": {
   "codemirror_mode": {
    "name": "ipython",
    "version": 3
   },
   "file_extension": ".py",
   "mimetype": "text/x-python",
   "name": "python",
   "nbconvert_exporter": "python",
   "pygments_lexer": "ipython3",
   "version": "3.7.3"
  }
 },
 "nbformat": 4,
 "nbformat_minor": 4
}
