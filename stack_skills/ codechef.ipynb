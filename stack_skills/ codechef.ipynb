{
 "cells": [
  {
   "cell_type": "code",
   "execution_count": null,
   "metadata": {},
   "outputs": [],
   "source": [
    "for i in range(int(input())):\n",
    "    len = 1\n",
    "    a = int(input())\n",
    "    b = list(map(int,input().split()))\n",
    "    c=1\n",
    "    for i in range(1,a):\n",
    "        if b[i-1]<=b[i]:\n",
    "            print(b[i-1],b[i])\n",
    "            len+=1\n",
    "        else:\n",
    "            print(b[i])\n",
    "            len=1\n",
    "        c+=len\n",
    "            \n",
    "    print(c)"
   ]
  },
  {
   "cell_type": "code",
   "execution_count": null,
   "metadata": {},
   "outputs": [],
   "source": [
    "dt = {}\n",
    "dt[2] = dt[3] = 1\n",
    "dt[0] = dt[1] = 0\n",
    "for i in range(4, 1000001):\n",
    "    dt[i] = (dt[i-2]+dt[i-3])%1000000009\n",
    "\n",
    "t = int(input())\n",
    "for _ in range(t):\n",
    "    print(dt[int(input())])"
   ]
  },
  {
   "cell_type": "code",
   "execution_count": null,
   "metadata": {},
   "outputs": [],
   "source": []
  },
  {
   "cell_type": "code",
   "execution_count": null,
   "metadata": {},
   "outputs": [],
   "source": [
    "stack = []\n",
    "stackmax = [0]\n",
    "\n",
    "for i in range(n):\n",
    "\n",
    "    q = list(map(int, input().strip().split(' ')))\n",
    "\n",
    "    if q[0] == 1:\n",
    "\n",
    "        stack.append(q[1])\n",
    "        if q[1] >= stackmax[-1]:\n",
    "            stackmax.append(q[1])\n",
    "\n",
    "    elif q[0] == 2:\n",
    "\n",
    "        if stack.pop() == stackmax[-1]:\n",
    "            stackmax.pop()\n",
    "\n",
    "    else:\n",
    "        print (stackmax[-1])"
   ]
  },
  {
   "cell_type": "code",
   "execution_count": null,
   "metadata": {},
   "outputs": [],
   "source": []
  },
  {
   "cell_type": "code",
   "execution_count": null,
   "metadata": {},
   "outputs": [],
   "source": [
    "n = int(input())\n",
    "for i in range(n):\n",
    "    s = input()\n",
    "    for i in s:\n",
    "        if(i=='}'):\n",
    "            s=s.replace('{}','')\n",
    "        elif(i==']'):\n",
    "            s=s.replace('[]','')\n",
    "        elif(i==')'):\n",
    "            s=s.replace('()','')\n",
    "    if(len(s)==0):\n",
    "        print('YES')\n",
    "    else:\n",
    "        print('NO')"
   ]
  },
  {
   "cell_type": "code",
   "execution_count": null,
   "metadata": {},
   "outputs": [],
   "source": []
  },
  {
   "cell_type": "code",
   "execution_count": null,
   "metadata": {},
   "outputs": [],
   "source": [
    "for i in range(int(input())):\n",
    "    n,m,x = 5,4,10\n",
    "    n = [4 ,2 ,4 ,6 ,1]\n",
    "    m = [2 ,1 ,8 ,5]\n",
    "    s=0\n",
    "    c=0\n",
    "    while(s<=x):\n",
    "        if(n[0]<=m[0] ):\n",
    "            s=s+n[0]\n",
    "            c+=1\n",
    "            n.remove(n[0])\n",
    "        elif(m[0]<=n[0] ):\n",
    "            s=s+m[0]\n",
    "            c+=1\n",
    "            m.remove(m[0])"
   ]
  },
  {
   "cell_type": "code",
   "execution_count": null,
   "metadata": {},
   "outputs": [],
   "source": [
    "print(c-1)"
   ]
  },
  {
   "cell_type": "code",
   "execution_count": null,
   "metadata": {},
   "outputs": [],
   "source": [
    "d=3\n",
    "a =[2, 4, 6, 8, 10, 12, 14 ,16, 18, 20]\n",
    "b=a[0:d]\n",
    "c=a[d:]"
   ]
  },
  {
   "cell_type": "code",
   "execution_count": null,
   "metadata": {},
   "outputs": [],
   "source": [
    "print(b,c)"
   ]
  },
  {
   "cell_type": "code",
   "execution_count": null,
   "metadata": {},
   "outputs": [],
   "source": [
    "for i in c:\n",
    "    print(i,end=' ')\n",
    "for i in b:\n",
    "    print(i,end=' ')\n",
    "print()"
   ]
  },
  {
   "cell_type": "code",
   "execution_count": null,
   "metadata": {},
   "outputs": [],
   "source": [
    "a='geeks'\n",
    "print(a[::-1])"
   ]
  },
  {
   "cell_type": "code",
   "execution_count": null,
   "metadata": {},
   "outputs": [],
   "source": [
    "for i in range(int(input())):\n",
    "    a = int(input())\n",
    "    b = list(map(int,input().split()))\n",
    "    b = sorted(b)\n",
    "    print(b)\n",
    "    for j in range(len(b)):\n",
    "        if(j%2!=0):\n",
    "            print(j)\n",
    "            b[j-1],b[j]=b[j],b[j-1]\n",
    "    print(b)"
   ]
  },
  {
   "cell_type": "code",
   "execution_count": null,
   "metadata": {},
   "outputs": [],
   "source": [
    "for i in range(int(input())):\n",
    "    n = int(input())\n",
    "    a = list(map(int,input().split()))\n",
    "    d = int(input())\n",
    "    b=a[0:d]\n",
    "    c=a[d:]\n",
    "    for i in c:\n",
    "        print(i,end=' ')\n",
    "    for i in b:\n",
    "        print(i,end=' ')\n",
    "    print()"
   ]
  },
  {
   "cell_type": "code",
   "execution_count": null,
   "metadata": {},
   "outputs": [],
   "source": []
  },
  {
   "cell_type": "code",
   "execution_count": null,
   "metadata": {},
   "outputs": [],
   "source": [
    "text_1 = {}\n",
    "for i in range(int(input())):\n",
    "    a = input()\n",
    "    if(a not in text_1):\n",
    "        text_1[a]=1\n",
    "    else:\n",
    "        text_1[a]=text_1[a]+1\n"
   ]
  },
  {
   "cell_type": "code",
   "execution_count": null,
   "metadata": {},
   "outputs": [],
   "source": [
    "text_1"
   ]
  },
  {
   "cell_type": "code",
   "execution_count": null,
   "metadata": {},
   "outputs": [],
   "source": [
    "a = int(input(\"do you want to assign token yes or no : \"))\n",
    "b = 0\n",
    "while(a=='yes'):\n",
    "    b = b+1\n",
    "    a = int(input(\"do you want to assign token yes or no : \"))"
   ]
  },
  {
   "cell_type": "code",
   "execution_count": null,
   "metadata": {},
   "outputs": [],
   "source": [
    "for _ in range(int(input())):\n",
    "    a,b = list(map(int,input().split()))\n",
    "    for i in range(a):\n",
    "        c = 0\n",
    "        for j in range(1,b+1):\n",
    "            c = c+j\n",
    "        b = c\n",
    "    print(c)"
   ]
  },
  {
   "cell_type": "code",
   "execution_count": null,
   "metadata": {},
   "outputs": [],
   "source": [
    "for _ in range(int(input())):\n",
    "    a,b = map(int,input().split())\n",
    "    c = a/(b**2)\n",
    "    if(c<=18):\n",
    "        print(1)\n",
    "    elif(c>=19 and c<=24):\n",
    "        print(2)\n",
    "    elif(c>=25 and c<=29):\n",
    "        print(3)\n",
    "    elif(c>=30):\n",
    "        print(4)"
   ]
  },
  {
   "cell_type": "code",
   "execution_count": null,
   "metadata": {},
   "outputs": [],
   "source": [
    "for _ in range(int(input())):\n",
    "    n,k = map(int,input().split())\n",
    "    a = list(map(int,input().split()))\n",
    "    for i in range(n):\n",
    "        s = input()\n",
    "        count = 0\n",
    "        for j in range(len(s)):\n",
    "            if(s[j]=='1'):\n",
    "                count = count + a[j]\n",
    "        print(count)"
   ]
  },
  {
   "cell_type": "code",
   "execution_count": null,
   "metadata": {},
   "outputs": [],
   "source": [
    "for _ in range(int(input())):\n",
    "    a = int(input())\n",
    "    b = list(map(int,input().split()))\n",
    "    c = sorted(b,reverse=True)\n",
    "    d = []\n",
    "    for i in range(len(b)):\n",
    "        print(c.index(b[i])+1,end=\" \")\n",
    "        c[c.index(b[i])]=-10\n",
    "    print()"
   ]
  },
  {
   "cell_type": "code",
   "execution_count": null,
   "metadata": {},
   "outputs": [],
   "source": [
    "for _ in range(int(input())):\n",
    "    a = int(input())\n",
    "    b = list(map(int,input().split()))\n",
    "    e = [0]*len(b)\n",
    "    d = len(b)\n",
    "    i = 0\n",
    "    while(i<len(b)):\n",
    "        c = min(b)\n",
    "        e[b.index(c)] = d\n",
    "        b[b.index(c)] = 100000\n",
    "        d = d-1\n",
    "        i = i+1\n",
    "    print(*e)"
   ]
  },
  {
   "cell_type": "code",
   "execution_count": null,
   "metadata": {},
   "outputs": [],
   "source": [
    "b"
   ]
  },
  {
   "cell_type": "code",
   "execution_count": null,
   "metadata": {},
   "outputs": [],
   "source": [
    "print(*e)"
   ]
  },
  {
   "cell_type": "code",
   "execution_count": null,
   "metadata": {},
   "outputs": [],
   "source": [
    "a,b = map(int,input().split())\n",
    "l,r = map(int,input().split())\n",
    "e = [0]*a\n",
    "count = 0\n",
    "for i in range(a):\n",
    "    c = list(map(int,input().split()))\n",
    "    d = sum(c)\n",
    "    if(l<=d and d>=r):\n",
    "        count+=1\n",
    "    e = list(map(sum, zip(e, c)))\n",
    "    f = sum(e)\n",
    "    if(l<=f and f>=r):\n",
    "        count+=1\n",
    "print(count)"
   ]
  },
  {
   "cell_type": "code",
   "execution_count": null,
   "metadata": {},
   "outputs": [],
   "source": [
    "e"
   ]
  },
  {
   "cell_type": "code",
   "execution_count": null,
   "metadata": {},
   "outputs": [],
   "source": [
    "d"
   ]
  },
  {
   "cell_type": "code",
   "execution_count": null,
   "metadata": {},
   "outputs": [],
   "source": [
    "for _ in range(int(input())):\n",
    "    a = int(input())\n",
    "    b = list(map(int,input().split()))\n",
    "    for i in range(0,len(b)-1):\n",
    "        if((max(b[i],b[i+1])/min(b[i],b[i+1]))>2):\n",
    "            "
   ]
  },
  {
   "cell_type": "code",
   "execution_count": null,
   "metadata": {},
   "outputs": [],
   "source": [
    "for _ in range(int(input())):\n",
    "    n,k = map(int,input().split())\n",
    "    if(k==0):\n",
    "        print(n)\n",
    "    else:\n",
    "        print(n%k)"
   ]
  },
  {
   "cell_type": "code",
   "execution_count": null,
   "metadata": {},
   "outputs": [],
   "source": [
    "for _ in range(int(input())):\n",
    "    a = list(map(int,input().split()))\n",
    "    b = int(input())\n",
    "    a = a[::-1]\n",
    "    for i in range(len(a)):\n",
    "        if(a[i]<=b):\n",
    "            b = b-a[i]\n",
    "        else:\n",
    "            print(10-i)\n",
    "            break"
   ]
  },
  {
   "cell_type": "code",
   "execution_count": null,
   "metadata": {},
   "outputs": [],
   "source": [
    "def gcd(p,q):\n",
    "    while q != 0:\n",
    "        p, q = q, p%q\n",
    "    return p\n",
    "def is_coprime(x, y):\n",
    "    return gcd(x, y)\n",
    "print(is_coprime(16,10))\n",
    "print(is_coprime(17,10))\n",
    "print(is_coprime(18,9))"
   ]
  },
  {
   "cell_type": "code",
   "execution_count": null,
   "metadata": {
    "scrolled": true
   },
   "outputs": [],
   "source": [
    "l,m = map(int,input().split())\n",
    "for i in range(2,10000):\n",
    "    b = is_coprime(i,l)\n",
    "    count = 0\n",
    "    for j in range(l+1,m+1):\n",
    "        c = is_coprime(i,j)\n",
    "        if(c!=b):\n",
    "            break\n",
    "        count+=1\n",
    "        b = c\n",
    "    if(count==m+1-l+1):\n",
    "        print(i)\n",
    "        break"
   ]
  },
  {
   "cell_type": "code",
   "execution_count": 14,
   "metadata": {},
   "outputs": [
    {
     "name": "stdout",
     "output_type": "stream",
     "text": [
      "1\n",
      "2 1000000\n",
      "1999999973\n"
     ]
    }
   ],
   "source": [
    "def gcd(p,q):\n",
    "    while q != 0:\n",
    "        p, q = q, p%q\n",
    "    return p\n",
    "def is_coprime(x, y):\n",
    "    return gcd(x, y)\n",
    "for _ in range(int(input())):\n",
    "    l,m = map(int,input().split())\n",
    "    for i in range(2*10**9,2,-1):\n",
    "        b = is_coprime(i,l)\n",
    "        count=0\n",
    "        for j in range(l+1,m+1):\n",
    "            c = is_coprime(i,j)\n",
    "            if(c!=b):\n",
    "                break\n",
    "            else:\n",
    "                count+=1\n",
    "                b = c\n",
    "        if(count==(m+1)-(l+1)):\n",
    "            print(i)\n",
    "            break\n",
    "            "
   ]
  },
  {
   "cell_type": "code",
   "execution_count": 10,
   "metadata": {},
   "outputs": [
    {
     "data": {
      "text/plain": [
       "1"
      ]
     },
     "execution_count": 10,
     "metadata": {},
     "output_type": "execute_result"
    }
   ],
   "source": [
    "is_coprime(9999,17)"
   ]
  },
  {
   "cell_type": "code",
   "execution_count": 11,
   "metadata": {},
   "outputs": [
    {
     "data": {
      "text/plain": [
       "1"
      ]
     },
     "execution_count": 11,
     "metadata": {},
     "output_type": "execute_result"
    }
   ],
   "source": [
    "is_coprime(9999,16)"
   ]
  },
  {
   "cell_type": "code",
   "execution_count": null,
   "metadata": {},
   "outputs": [],
   "source": [
    "for _ in range(int(input())):\n",
    "    d,c = map(int,input().split())\n",
    "    day1 = list(map(int,input().split()))\n",
    "    day2 = list(map(int,input().split()))\n",
    "    if(sum(day1)>=150 and sum(day2)>=150):\n",
    "        if(d+d>c):\n",
    "            print('YES')\n",
    "        else:\n",
    "            print('NO')\n",
    "    elif((sum(day1)>=150 and sum(day2)<150) or (sum(day1)<150 and sum(day2)>=150)):\n",
    "        if(d+c<d+d):\n",
    "            print('YES')\n",
    "        else:\n",
    "            print('NO')\n",
    "    else:\n",
    "        print('NO')"
   ]
  },
  {
   "cell_type": "code",
   "execution_count": 3,
   "metadata": {},
   "outputs": [
    {
     "name": "stdout",
     "output_type": "stream",
     "text": [
      "1\n",
      "2\n",
      "1 2\n",
      "1 2\n",
      "2 3 4\n",
      "7\n"
     ]
    }
   ],
   "source": [
    "for _ in range(int(input())):\n",
    "    seasons = int(input())\n",
    "    time_season = list(map(int,input().split()))\n",
    "    count = 0\n",
    "    for i in range(seasons):\n",
    "        epi = list(map(int,input().split()))\n",
    "        count+=epi[1]\n",
    "        if(len(epi)>=3):\n",
    "            a = epi[2:]\n",
    "            b = sum(a)-(len(a)*time_season[i])\n",
    "            count+=b\n",
    "    print(count)"
   ]
  },
  {
   "cell_type": "code",
   "execution_count": 53,
   "metadata": {},
   "outputs": [
    {
     "name": "stdout",
     "output_type": "stream",
     "text": [
      "1\n",
      "5\n",
      "10 50 2 3 6\n",
      "540\n"
     ]
    }
   ],
   "source": [
    "for _ in range(int(input())):\n",
    "    a = int(input())\n",
    "    b = list(map(int,input().split()))\n",
    "    c = sorted(b)\n",
    "    d = c[-1]\n",
    "    e = c[-2]\n",
    "    f = (d*e+max(d-e,e-d))\n",
    "    g = c[0]\n",
    "    h = c[1]\n",
    "    i = (g*h+max(g-h,h-g))\n",
    "    print(max(f,i))"
   ]
  },
  {
   "cell_type": "code",
   "execution_count": 51,
   "metadata": {},
   "outputs": [
    {
     "name": "stdout",
     "output_type": "stream",
     "text": [
      "1\n",
      "4 0\n",
      "0101\n",
      "1010 1010\n",
      "YES\n"
     ]
    }
   ],
   "source": [
    "for _ in range(int(input())):\n",
    "    n,c = (map(int,input().split()))\n",
    "    a = input()\n",
    "    d = '11'+'0'*c\n",
    "    for i in range(len(a)):\n",
    "        a = a[-1]+a[:-1]\n",
    "        c=a.replace(d,'')\n",
    "        print(a,c)\n",
    "        if(len(c.replace('11',''))==len(c)):\n",
    "            print('YES')\n",
    "            break\n",
    "        else:\n",
    "            print('NO')"
   ]
  },
  {
   "cell_type": "code",
   "execution_count": null,
   "metadata": {},
   "outputs": [],
   "source": [
    "for _ in range(int(input())):\n",
    "    n,m = map(int,input().split())\n",
    "    clg = list(map(int,input().split()))\n",
    "    std = list(map(int,input().split()))\n",
    "    for i in range(m):\n",
    "        k = list(map(int,input().split()))\n",
    "        "
   ]
  },
  {
   "cell_type": "code",
   "execution_count": null,
   "metadata": {},
   "outputs": [],
   "source": []
  },
  {
   "cell_type": "code",
   "execution_count": null,
   "metadata": {},
   "outputs": [],
   "source": []
  },
  {
   "cell_type": "code",
   "execution_count": null,
   "metadata": {},
   "outputs": [],
   "source": []
  },
  {
   "cell_type": "code",
   "execution_count": null,
   "metadata": {},
   "outputs": [],
   "source": []
  },
  {
   "cell_type": "code",
   "execution_count": null,
   "metadata": {},
   "outputs": [],
   "source": []
  },
  {
   "cell_type": "code",
   "execution_count": null,
   "metadata": {},
   "outputs": [],
   "source": []
  },
  {
   "cell_type": "code",
   "execution_count": null,
   "metadata": {},
   "outputs": [],
   "source": []
  },
  {
   "cell_type": "code",
   "execution_count": null,
   "metadata": {},
   "outputs": [],
   "source": []
  },
  {
   "cell_type": "code",
   "execution_count": null,
   "metadata": {},
   "outputs": [],
   "source": []
  },
  {
   "cell_type": "code",
   "execution_count": null,
   "metadata": {},
   "outputs": [],
   "source": []
  },
  {
   "cell_type": "code",
   "execution_count": null,
   "metadata": {},
   "outputs": [],
   "source": []
  },
  {
   "cell_type": "code",
   "execution_count": null,
   "metadata": {},
   "outputs": [],
   "source": []
  },
  {
   "cell_type": "code",
   "execution_count": null,
   "metadata": {},
   "outputs": [],
   "source": []
  },
  {
   "cell_type": "code",
   "execution_count": null,
   "metadata": {},
   "outputs": [],
   "source": []
  },
  {
   "cell_type": "code",
   "execution_count": null,
   "metadata": {},
   "outputs": [],
   "source": []
  },
  {
   "cell_type": "code",
   "execution_count": null,
   "metadata": {},
   "outputs": [],
   "source": []
  },
  {
   "cell_type": "code",
   "execution_count": null,
   "metadata": {},
   "outputs": [],
   "source": []
  },
  {
   "cell_type": "code",
   "execution_count": null,
   "metadata": {},
   "outputs": [],
   "source": []
  },
  {
   "cell_type": "code",
   "execution_count": null,
   "metadata": {},
   "outputs": [],
   "source": []
  },
  {
   "cell_type": "code",
   "execution_count": null,
   "metadata": {},
   "outputs": [],
   "source": []
  }
 ],
 "metadata": {
  "kernelspec": {
   "display_name": "Python 3",
   "language": "python",
   "name": "python3"
  },
  "language_info": {
   "codemirror_mode": {
    "name": "ipython",
    "version": 3
   },
   "file_extension": ".py",
   "mimetype": "text/x-python",
   "name": "python",
   "nbconvert_exporter": "python",
   "pygments_lexer": "ipython3",
   "version": "3.7.3"
  }
 },
 "nbformat": 4,
 "nbformat_minor": 4
}
