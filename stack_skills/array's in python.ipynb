{
 "cells": [
  {
   "cell_type": "code",
   "execution_count": 11,
   "metadata": {},
   "outputs": [],
   "source": [
    "lst = [2200,2350,2600,2130,2190]"
   ]
  },
  {
   "cell_type": "code",
   "execution_count": 13,
   "metadata": {},
   "outputs": [
    {
     "data": {
      "text/plain": [
       "150"
      ]
     },
     "execution_count": 13,
     "metadata": {},
     "output_type": "execute_result"
    }
   ],
   "source": [
    "lst[1]-lst[0]"
   ]
  },
  {
   "cell_type": "code",
   "execution_count": 16,
   "metadata": {},
   "outputs": [
    {
     "name": "stdout",
     "output_type": "stream",
     "text": [
      "7150\n"
     ]
    }
   ],
   "source": [
    "tot=0\n",
    "for i in range(len(lst)):\n",
    "    if i<3:\n",
    "        tot=tot+lst[i]\n",
    "print(tot)"
   ]
  },
  {
   "cell_type": "code",
   "execution_count": 21,
   "metadata": {},
   "outputs": [
    {
     "name": "stdout",
     "output_type": "stream",
     "text": [
      "0\n"
     ]
    }
   ],
   "source": [
    "for i in lst:\n",
    "    if i==2200:\n",
    "        print(lst.index(i))"
   ]
  },
  {
   "cell_type": "code",
   "execution_count": 22,
   "metadata": {},
   "outputs": [],
   "source": [
    "lst.append(1980)"
   ]
  },
  {
   "cell_type": "code",
   "execution_count": 23,
   "metadata": {},
   "outputs": [
    {
     "data": {
      "text/plain": [
       "[2200, 2350, 2600, 2130, 2190, 1980]"
      ]
     },
     "execution_count": 23,
     "metadata": {},
     "output_type": "execute_result"
    }
   ],
   "source": [
    "lst"
   ]
  },
  {
   "cell_type": "code",
   "execution_count": 28,
   "metadata": {},
   "outputs": [],
   "source": [
    "lst.insert(3,2130+200)"
   ]
  },
  {
   "cell_type": "code",
   "execution_count": 29,
   "metadata": {},
   "outputs": [
    {
     "data": {
      "text/plain": [
       "[2200, 2350, 2600, 2330, 2130, 2190, 1980]"
      ]
     },
     "execution_count": 29,
     "metadata": {},
     "output_type": "execute_result"
    }
   ],
   "source": [
    "lst"
   ]
  },
  {
   "cell_type": "code",
   "execution_count": 59,
   "metadata": {},
   "outputs": [],
   "source": [
    "heros=['spider man','thor','hulk','iron man','captain america']"
   ]
  },
  {
   "cell_type": "code",
   "execution_count": 60,
   "metadata": {},
   "outputs": [
    {
     "data": {
      "text/plain": [
       "5"
      ]
     },
     "execution_count": 60,
     "metadata": {},
     "output_type": "execute_result"
    }
   ],
   "source": [
    "len(heros)"
   ]
  },
  {
   "cell_type": "code",
   "execution_count": 61,
   "metadata": {},
   "outputs": [],
   "source": [
    "heros.append('black panther')"
   ]
  },
  {
   "cell_type": "code",
   "execution_count": 62,
   "metadata": {},
   "outputs": [
    {
     "data": {
      "text/plain": [
       "['spider man', 'thor', 'hulk', 'iron man', 'captain america', 'black panther']"
      ]
     },
     "execution_count": 62,
     "metadata": {},
     "output_type": "execute_result"
    }
   ],
   "source": [
    "heros"
   ]
  },
  {
   "cell_type": "code",
   "execution_count": 63,
   "metadata": {},
   "outputs": [
    {
     "data": {
      "text/plain": [
       "'black panther'"
      ]
     },
     "execution_count": 63,
     "metadata": {},
     "output_type": "execute_result"
    }
   ],
   "source": [
    "heros.insert(4,'blackpanter')\n",
    "heros.pop()"
   ]
  },
  {
   "cell_type": "code",
   "execution_count": 64,
   "metadata": {},
   "outputs": [
    {
     "data": {
      "text/plain": [
       "['spider man', 'thor', 'hulk', 'iron man', 'blackpanter', 'captain america']"
      ]
     },
     "execution_count": 64,
     "metadata": {},
     "output_type": "execute_result"
    }
   ],
   "source": [
    "heros"
   ]
  },
  {
   "cell_type": "code",
   "execution_count": 65,
   "metadata": {},
   "outputs": [],
   "source": [
    "heros[1:3]=['doctor strange']"
   ]
  },
  {
   "cell_type": "code",
   "execution_count": 66,
   "metadata": {},
   "outputs": [
    {
     "data": {
      "text/plain": [
       "['spider man', 'doctor strange', 'iron man', 'blackpanter', 'captain america']"
      ]
     },
     "execution_count": 66,
     "metadata": {},
     "output_type": "execute_result"
    }
   ],
   "source": [
    "heros"
   ]
  },
  {
   "cell_type": "code",
   "execution_count": 67,
   "metadata": {},
   "outputs": [],
   "source": [
    "heros.sort()"
   ]
  },
  {
   "cell_type": "code",
   "execution_count": 68,
   "metadata": {},
   "outputs": [
    {
     "data": {
      "text/plain": [
       "['blackpanter', 'captain america', 'doctor strange', 'iron man', 'spider man']"
      ]
     },
     "execution_count": 68,
     "metadata": {},
     "output_type": "execute_result"
    }
   ],
   "source": [
    "heros"
   ]
  },
  {
   "cell_type": "code",
   "execution_count": 74,
   "metadata": {
    "scrolled": true
   },
   "outputs": [
    {
     "name": "stdout",
     "output_type": "stream",
     "text": [
      "enter a number :10\n",
      "ls: [1, 3, 5, 7, 9]\n"
     ]
    }
   ],
   "source": [
    "n = int(input('enter a number :'))\n",
    "ls=[]\n",
    "for  i in range(1,n+1):\n",
    "    if(i%2!=0):\n",
    "        ls.append(i)\n",
    "print('ls:' , ls)"
   ]
  },
  {
   "cell_type": "code",
   "execution_count": 71,
   "metadata": {},
   "outputs": [
    {
     "name": "stdout",
     "output_type": "stream",
     "text": [
      "Enter max number: 10\n",
      "Odd numbers:  [1, 3, 5, 7, 9]\n"
     ]
    }
   ],
   "source": [
    "max = int(input(\"Enter max number: \"))\n",
    "\n",
    "odd_numbers = []\n",
    "\n",
    "for i in range(max):\n",
    "    if i%2 == 1:\n",
    "        odd_numbers.append(i)\n",
    "\n",
    "print(\"Odd numbers: \",odd_numbers)"
   ]
  },
  {
   "cell_type": "code",
   "execution_count": 21,
   "metadata": {},
   "outputs": [
    {
     "name": "stdout",
     "output_type": "stream",
     "text": [
      "5\n",
      "15--->\n",
      "15--->10--->\n",
      "15--->10--->5--->\n",
      "15--->10--->5--->33--->\n",
      "15--->10--->5--->33--->12--->\n"
     ]
    }
   ],
   "source": [
    "class Node:\n",
    "    def __init__(self,data,next):\n",
    "        self.data = data\n",
    "        self.next = next\n",
    "class Linked_list:\n",
    "    def __init__(self):\n",
    "        self.head = None\n",
    "    def insert_at_beginning(self,data):\n",
    "        node = Node(data,self.head)\n",
    "        self.head = node\n",
    "    def print(self):\n",
    "        if(self.head==None):\n",
    "            print(\"linked list is empty\")\n",
    "            return\n",
    "        itr= self.head\n",
    "        llstr = ''\n",
    "        \n",
    "        while itr:\n",
    "            llstr +=str(itr.data)+'--->'\n",
    "            itr = itr.next\n",
    "            print(llstr)\n",
    "    def insert_ending(self,data):\n",
    "        if(self.head==None):\n",
    "            node = Node(data,self.head)\n",
    "            self.head = node\n",
    "        itr = self.head\n",
    "        while itr.next:\n",
    "            itr = itr.next\n",
    "        itr.next = Node(data,None) \n",
    "        \n",
    "    def get_len_ll(self):\n",
    "        count = 0\n",
    "        itr = self.head\n",
    "        while itr:\n",
    "            count= count+1\n",
    "            itr = itr.next\n",
    "        return count\n",
    "        \n",
    "if __name__ == '__main__':\n",
    "    \n",
    "    \n",
    "    ll = Linked_list()\n",
    "    ll.insert_at_beginning(5)\n",
    "    ll.insert_at_beginning(10)\n",
    "    ll.insert_at_beginning(15)\n",
    "    ll.insert_ending(33)\n",
    "    ll.insert_ending(12)\n",
    "    print(ll.get_len_ll())\n",
    "    ll.print()"
   ]
  },
  {
   "cell_type": "code",
   "execution_count": 12,
   "metadata": {},
   "outputs": [
    {
     "name": "stdout",
     "output_type": "stream",
     "text": [
      "15--->\n",
      "15--->10--->\n",
      "15--->10--->5--->\n",
      "15--->10--->5--->33--->\n",
      "15--->10--->5--->33--->12--->\n"
     ]
    }
   ],
   "source": [
    "ll.print()"
   ]
  },
  {
   "cell_type": "code",
   "execution_count": 49,
   "metadata": {},
   "outputs": [
    {
     "name": "stdout",
     "output_type": "stream",
     "text": [
      "5\n",
      "40\n",
      "10\n",
      "20\n",
      "1500\n",
      "30\n"
     ]
    }
   ],
   "source": [
    "class Node:\n",
    "    def __init__(self,data):\n",
    "        self.data = data\n",
    "        self.next = None\n",
    "class LinkedList:\n",
    "    def __init__(self):\n",
    "        self.head = None\n",
    "    def insertion(self,newNode):\n",
    "        if self.head == None:\n",
    "            self.head = newNode\n",
    "        else:\n",
    "            ll = self.head\n",
    "            while True:\n",
    "                if ll.next == None:\n",
    "                    break\n",
    "                ll = ll.next\n",
    "            ll.next = newNode\n",
    "    def insertion_beginning(self,newNode):\n",
    "        if self.head == None:\n",
    "            self.head = newNode\n",
    "        else:\n",
    "            ll = self.head\n",
    "            self.head = newNode\n",
    "            newNode.next = ll\n",
    "    def insertion_atmiddle(self,newnode,position):\n",
    "        if self.head == None:\n",
    "            print(\"the list is empty so the node after which you want to insert is not present in the list\")\n",
    "        else:\n",
    "            currnode=self.head\n",
    "            currpos=0\n",
    "\n",
    "        while True:\n",
    "            if currpos == position - 1 :\n",
    "                break\n",
    "            currnode=currnode.next\n",
    "            currpos += 1\n",
    "    \n",
    "            \n",
    "        tempnode=currnode.next\n",
    "        currnode.next=newnode\n",
    "        newnode.next=tempnode\n",
    "    \n",
    "    def printList(self):\n",
    "        if self.head == None:\n",
    "            print(\"list is empty\")\n",
    "        else:\n",
    "            ll = self.head\n",
    "            while True:\n",
    "                if(ll == None):\n",
    "                    break\n",
    "                print(ll.data)\n",
    "                ll = ll.next\n",
    "                \n",
    "                \n",
    "firstNode = Node(10)\n",
    "linkedList = LinkedList()\n",
    "linkedList.insertion(firstNode)\n",
    "secondNode = Node(20)\n",
    "linkedList.insertion(secondNode)\n",
    "thirdNode = Node(30)\n",
    "linkedList.insertion(thirdNode)\n",
    "# linkedList.printList()\n",
    "four = Node(40)\n",
    "linkedList.insertion_beginning(four)\n",
    "linkedList.insertion_beginning(Node(5))\n",
    "five = Node(1500)\n",
    "linkedList.insertion_atmiddle(five,4)\n",
    "linkedList.printList()\n"
   ]
  },
  {
   "cell_type": "code",
   "execution_count": 53,
   "metadata": {},
   "outputs": [
    {
     "name": "stdout",
     "output_type": "stream",
     "text": [
      "['A', 'B', 'C', 'D']\n",
      "['2', '3', '4', '1']\n"
     ]
    }
   ],
   "source": [
    "def sortedList(str1, str2):\n",
    "    zipped_list = zip(str1.split(','), str2.split(','))\n",
    "    sorted_list = sorted(zipped_list)\n",
    "    list1 = [x for x, y in sorted_list]\n",
    "    list2 = [y for x, y in sorted_list]\n",
    "    return list1, list2\n",
    "\n",
    "\n",
    "str1 = \"D,A,B,C\"\n",
    "str2 = \"1,2,3,4\"\n",
    "l1, l2 =sortedList(str1, str2)\n",
    "print(l1)\n",
    "print(l2)\n"
   ]
  },
  {
   "cell_type": "code",
   "execution_count": 54,
   "metadata": {},
   "outputs": [
    {
     "name": "stdout",
     "output_type": "stream",
     "text": [
      "please enter integers1 3 2 4 5 6 1  3 4 3 1 4  1 5\n",
      "['1', '3', '2', '4', '5', '6', '1', '', '3', '4', '3', '1', '4', '', '1', '5']\n",
      "{'1': 1, '3': 1, '2': 1, '4': 1, '5': 1, '6': 1}\n",
      "duplicate 1\n"
     ]
    }
   ],
   "source": [
    "x = input(\"please enter integers\")\n",
    "a = x.split(' ')\n",
    "print(a)\n",
    "d  = {}\n",
    "for a1 in a:\n",
    "    if(d.get(a1)==None):\n",
    "        d[a1] = 1\n",
    "    else:\n",
    "        print(d)\n",
    "        print('duplicate',a1)\n",
    "        break"
   ]
  },
  {
   "cell_type": "code",
   "execution_count": 60,
   "metadata": {},
   "outputs": [
    {
     "name": "stdout",
     "output_type": "stream",
     "text": [
      "[1, 1, 1, 1, 2, 2, 2, 3, 3, 3, 4, 5, 1, 1, 1, 3, 3, 1, 1, 2, 2, 3, 1, 2]\n"
     ]
    }
   ],
   "source": [
    "arr = [1,2,3,4,5,1,3,4,1,2,3,1,2,3,1,2,5,9,10]\n",
    "result=[]\n",
    "for i in range(0, len(arr)):\n",
    "        for j in range(i+1, len(arr)):\n",
    "                if arr[i] == arr[j]:\n",
    "                    result.append(arr[i])\n",
    "print(result)"
   ]
  },
  {
   "cell_type": "code",
   "execution_count": 69,
   "metadata": {},
   "outputs": [
    {
     "name": "stdout",
     "output_type": "stream",
     "text": [
      "10\n",
      "6\n",
      "6\n",
      "1\n",
      "1\n"
     ]
    }
   ],
   "source": [
    "a=list(set(result))\n",
    "for i in a:\n",
    "    print(result.count(i))\n",
    "    "
   ]
  },
  {
   "cell_type": "code",
   "execution_count": 7,
   "metadata": {},
   "outputs": [
    {
     "data": {
      "text/plain": [
       "1"
      ]
     },
     "execution_count": 7,
     "metadata": {},
     "output_type": "execute_result"
    }
   ],
   "source": [
    "50-20\n",
    "30-20\n",
    "10-9"
   ]
  },
  {
   "cell_type": "code",
   "execution_count": 14,
   "metadata": {},
   "outputs": [
    {
     "data": {
      "text/plain": [
       "False"
      ]
     },
     "execution_count": 14,
     "metadata": {},
     "output_type": "execute_result"
    }
   ],
   "source": [
    "def canBuyNMcNuggets(n):\n",
    "    return n >= 0 and (n == 0 or n % 6 == 0 or n % 9 == 0 or n % 20 == 0 or canBuyNMcNuggets(n - 6)\n",
    "                      or canBuyNMcNuggets(n - 9) or canBuyNMcNuggets(n - 20))\n",
    "canBuyNMcNuggets(2)"
   ]
  },
  {
   "cell_type": "code",
   "execution_count": 15,
   "metadata": {},
   "outputs": [],
   "source": [
    "from random import randint"
   ]
  },
  {
   "cell_type": "code",
   "execution_count": 37,
   "metadata": {},
   "outputs": [
    {
     "data": {
      "text/plain": [
       "7"
      ]
     },
     "execution_count": 37,
     "metadata": {},
     "output_type": "execute_result"
    }
   ],
   "source": [
    "def rand5():\n",
    "    return random.randint(1,5)\n",
    "def rand7():\n",
    "    return random.randint(rand5(), 7)\n",
    "rand7()"
   ]
  },
  {
   "cell_type": "code",
   "execution_count": 1,
   "metadata": {},
   "outputs": [],
   "source": [
    "from collections import deque"
   ]
  },
  {
   "cell_type": "code",
   "execution_count": 2,
   "metadata": {},
   "outputs": [],
   "source": [
    "s = deque()"
   ]
  },
  {
   "cell_type": "code",
   "execution_count": 20,
   "metadata": {},
   "outputs": [],
   "source": [
    "s.append('We will conquere COVID-19')"
   ]
  },
  {
   "cell_type": "code",
   "execution_count": 30,
   "metadata": {},
   "outputs": [
    {
     "name": "stdout",
     "output_type": "stream",
     "text": [
      "91-DIVOC ereuqnoc lliw eW\n"
     ]
    }
   ],
   "source": [
    "for i in s:\n",
    "    print(i[::-1])"
   ]
  },
  {
   "cell_type": "code",
   "execution_count": 40,
   "metadata": {},
   "outputs": [],
   "source": [
    "class Stack:\n",
    "    def __init__(self):\n",
    "        self.container = deque()\n",
    "    \n",
    "    def push(self,val):\n",
    "        self.container.append(val)\n",
    "        \n",
    "    def pop(self):\n",
    "        return self.container.pop()\n",
    "    \n",
    "    def peek(self):\n",
    "        return  self.container[-1]\n",
    "    \n",
    "    def is_empty(self):\n",
    "        return len(self.container)==0\n",
    "    \n",
    "    def size(self):\n",
    "        return len(self.container)\n",
    "    def reverse_string(self,val):\n",
    "        for i in val:\n",
    "            return(i[::-1])\n",
    "        "
   ]
  },
  {
   "cell_type": "code",
   "execution_count": 41,
   "metadata": {},
   "outputs": [],
   "source": [
    "s=Stack()\n",
    "s.push('We will conquere COVID-19')"
   ]
  },
  {
   "cell_type": "code",
   "execution_count": 42,
   "metadata": {},
   "outputs": [
    {
     "data": {
      "text/plain": [
       "'We will conquere COVID-19'"
      ]
     },
     "execution_count": 42,
     "metadata": {},
     "output_type": "execute_result"
    }
   ],
   "source": [
    "s.peek()"
   ]
  },
  {
   "cell_type": "code",
   "execution_count": 43,
   "metadata": {},
   "outputs": [
    {
     "data": {
      "text/plain": [
       "'W'"
      ]
     },
     "execution_count": 43,
     "metadata": {},
     "output_type": "execute_result"
    }
   ],
   "source": [
    "s.reverse_string('We will conquere COVID-19')"
   ]
  },
  {
   "cell_type": "code",
   "execution_count": null,
   "metadata": {},
   "outputs": [],
   "source": []
  }
 ],
 "metadata": {
  "kernelspec": {
   "display_name": "Python 3",
   "language": "python",
   "name": "python3"
  },
  "language_info": {
   "codemirror_mode": {
    "name": "ipython",
    "version": 3
   },
   "file_extension": ".py",
   "mimetype": "text/x-python",
   "name": "python",
   "nbconvert_exporter": "python",
   "pygments_lexer": "ipython3",
   "version": "3.7.3"
  }
 },
 "nbformat": 4,
 "nbformat_minor": 4
}
