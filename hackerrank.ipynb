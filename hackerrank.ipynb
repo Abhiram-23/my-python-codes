{
 "cells": [
  {
   "cell_type": "code",
   "execution_count": null,
   "metadata": {},
   "outputs": [],
   "source": [
    "employee_id=[5,3,1,4,6]\n",
    "job_id=[9,8,3,15,1]\n"
   ]
  },
  {
   "cell_type": "code",
   "execution_count": null,
   "metadata": {},
   "outputs": [],
   "source": [
    "a=min(employee_id)\n",
    "a"
   ]
  },
  {
   "cell_type": "code",
   "execution_count": null,
   "metadata": {},
   "outputs": [],
   "source": [
    "def getMinCost(employee_id, job_id):\n",
    "    d=0\n",
    "    for i in range(len(employee_id)):\n",
    "        a=min(employee_id)\n",
    "        b=min(job_id)\n",
    "        c=b-a\n",
    "        d=d+c\n",
    "        employee_id.remove(a)\n",
    "        job_id.remove(b)\n",
    "    print(d)\n",
    "getMinCost(employee_id, job_id)"
   ]
  },
  {
   "cell_type": "code",
   "execution_count": null,
   "metadata": {},
   "outputs": [],
   "source": [
    "def getMinCost(employee_id, job_id):\n",
    "    d=0\n",
    "    for i in range (len(employee_id)):\n",
    "        a=min(employee_id)\n",
    "        b=min(job_id)\n",
    "        c=b-a\n",
    "        d=d+c\n",
    "        employee_id.remove(a)\n",
    "        job_id.remove(b)\n",
    "    print(d)\n",
    "    return d\n",
    "\n",
    "    # Write your code here\n",
    "\n",
    "if __name__ == '__main__':\n",
    "\n",
    "    fptr = open(os.environ['OUTPUT_PATH'], 'w')\n",
    "\n",
    "    employee_id_count = int(input().strip())\n",
    "\n",
    "    employee_id = []\n",
    "\n",
    "    for _ in range(employee_id_count):\n",
    "        employee_id_item = int(input().strip())\n",
    "        employee_id.append(employee_id_item)\n",
    "\n",
    "    job_id_count = int(input().strip())\n",
    "\n",
    "    job_id = []\n",
    "\n",
    "    for _ in range(job_id_count):\n",
    "        job_id_item = int(input().strip())\n",
    "        job_id.append(job_id_item)\n",
    "\n",
    "    result = getMinCost(employee_id, job_id)\n",
    "\n",
    "    fptr.write(str(result) + '\\n')\n",
    "\n",
    "    fptr.close()"
   ]
  },
  {
   "cell_type": "code",
   "execution_count": null,
   "metadata": {},
   "outputs": [],
   "source": []
  },
  {
   "cell_type": "code",
   "execution_count": null,
   "metadata": {},
   "outputs": [],
   "source": [
    "from collections import defaultdict\n",
    "d=defaultdict(list)\n",
    "n,m=map(int,input().split())\n",
    "while(n>0):\n",
    "    A=input()\n",
    "    d['A'].append(A)\n",
    "    n=n-1\n",
    "while(m>0):\n",
    "    B=input()\n",
    "    d['B'].append(B)\n",
    "    m=m-1\n",
    "for i in d.items():\n",
    "    print(i)"
   ]
  },
  {
   "cell_type": "code",
   "execution_count": null,
   "metadata": {},
   "outputs": [],
   "source": [
    "c=d['A']"
   ]
  },
  {
   "cell_type": "code",
   "execution_count": null,
   "metadata": {},
   "outputs": [],
   "source": [
    "e=d['B']"
   ]
  },
  {
   "cell_type": "code",
   "execution_count": null,
   "metadata": {},
   "outputs": [],
   "source": [
    "k=len(e)\n",
    "l=e[0]\n",
    "l"
   ]
  },
  {
   "cell_type": "code",
   "execution_count": null,
   "metadata": {},
   "outputs": [],
   "source": [
    "for i in range (len(e)):\n",
    "    l=e[i]\n",
    "    if(l in c):\n",
    "        for f  in range(len(c)):\n",
    "                if l==c[f]:\n",
    "                    print(f+1,end=\" \")\n",
    "                else:\n",
    "                    print(\"\",end=\"\")\n",
    "    else:\n",
    "        print(-1)\n",
    "    print()"
   ]
  },
  {
   "cell_type": "code",
   "execution_count": null,
   "metadata": {},
   "outputs": [],
   "source": [
    "from collections import namedtuple\n",
    "N = int(input())\n",
    "point = namedtuple('Marks','Class','Name','Id')"
   ]
  },
  {
   "cell_type": "code",
   "execution_count": null,
   "metadata": {},
   "outputs": [],
   "source": [
    "marks"
   ]
  },
  {
   "cell_type": "code",
   "execution_count": null,
   "metadata": {},
   "outputs": [],
   "source": [
    "x = int ( input())\n",
    "y = int ( input()) \n",
    "n = int ( input()) \n",
    "print ([ [ i, j] \n",
    "       for i in range( x + 1) \n",
    "       for j in range( y + 1) \n",
    "       if ( ( i + j ) != n )])"
   ]
  },
  {
   "cell_type": "code",
   "execution_count": null,
   "metadata": {},
   "outputs": [],
   "source": [
    "n = int(input())\n",
    "arr = map(int, input().split())\n",
    "k=list(arr)\n",
    "o= list(dict.fromkeys(k))\n",
    "m=max(o)\n",
    "o.remove(m)\n",
    "m=max(o)\n",
    "print(m)"
   ]
  },
  {
   "cell_type": "code",
   "execution_count": null,
   "metadata": {},
   "outputs": [],
   "source": [
    "n = int(input())\n",
    "student_marks = {}\n",
    "for _ in range(n):\n",
    "    name, *line = input().split()\n",
    "    scores = list(map(float, line))\n",
    "    student_marks[name] = scores\n",
    "query_name = input()\n"
   ]
  },
  {
   "cell_type": "code",
   "execution_count": null,
   "metadata": {},
   "outputs": [],
   "source": [
    "a=student_marks[query_name]"
   ]
  },
  {
   "cell_type": "code",
   "execution_count": null,
   "metadata": {},
   "outputs": [],
   "source": [
    "a"
   ]
  },
  {
   "cell_type": "code",
   "execution_count": null,
   "metadata": {},
   "outputs": [],
   "source": [
    "a=\"abhi Ram\"\n",
    "b=list(a.split(\" \"))\n",
    "b.reverse()\n",
    "for i in range(len(b)):\n",
    "    c=b[i]\n",
    "    l=c\n",
    "    for j in range(len(c)):\n",
    "        if(c[j]==c[j].upper()):\n",
    "            l[j]= c[j].lower()\n",
    "        else:\n",
    "            l[j]=c[j].upper()\n",
    "    print(end=\" \")\n"
   ]
  },
  {
   "cell_type": "code",
   "execution_count": null,
   "metadata": {},
   "outputs": [],
   "source": [
    "l"
   ]
  },
  {
   "cell_type": "code",
   "execution_count": null,
   "metadata": {},
   "outputs": [],
   "source": [
    "b=['abhi','Ram']\n",
    "c=b[0]\n",
    "l[1]=c[1].upper()\n",
    "l"
   ]
  },
  {
   "cell_type": "code",
   "execution_count": null,
   "metadata": {},
   "outputs": [],
   "source": [
    "m=\"A\"\n",
    "l[0]=m.lower()\n",
    "m"
   ]
  },
  {
   "cell_type": "code",
   "execution_count": null,
   "metadata": {},
   "outputs": [],
   "source": [
    "a=\"abhi Ram\"\n",
    "b=list(a.split(\" \"))\n",
    "l=b\n",
    "l[0]=b[0].upper()\n",
    "l[0]\n",
    "b[0]"
   ]
  },
  {
   "cell_type": "code",
   "execution_count": null,
   "metadata": {},
   "outputs": [],
   "source": [
    "a=\"abHi Ram\"\n",
    "b=list(a.split(\" \"))\n",
    "a=\n",
    "for i in range(len(b)):\n",
    "    c=b[i]\n",
    "    for j in range(len(c)):\n",
    "        if(c[j]==c[j].upper()):\n",
    "            l=c[j].lower()\n",
    "            c=c.replace(c[j],l)\n",
    "            print(end= \" \")\n",
    "        else:\n",
    "            k=c[j].upper()\n",
    "            c=c.replace(c[j],k)\n",
    "            print(end=\" \")\n",
    "print(end=\" \")\n"
   ]
  },
  {
   "cell_type": "code",
   "execution_count": null,
   "metadata": {},
   "outputs": [],
   "source": [
    "a"
   ]
  },
  {
   "cell_type": "code",
   "execution_count": null,
   "metadata": {},
   "outputs": [],
   "source": [
    "lst=[1,2,1,1,2,3,4,3,2,1,4,3]"
   ]
  },
  {
   "cell_type": "code",
   "execution_count": null,
   "metadata": {},
   "outputs": [],
   "source": [
    "lst.sort()\n",
    "lst"
   ]
  },
  {
   "cell_type": "code",
   "execution_count": null,
   "metadata": {},
   "outputs": [],
   "source": [
    "a=list(dict.fromkeys(lst))"
   ]
  },
  {
   "cell_type": "code",
   "execution_count": null,
   "metadata": {},
   "outputs": [],
   "source": [
    "a"
   ]
  },
  {
   "cell_type": "code",
   "execution_count": null,
   "metadata": {},
   "outputs": [],
   "source": [
    "count=0\n",
    "for i in a:\n",
    "    k=lst.count(i)\n",
    "    if(k%2==0):\n",
    "        count=count+k/2\n",
    "    else:\n",
    "        count=count+(k-1)/2\n",
    "print(count)    "
   ]
  },
  {
   "cell_type": "code",
   "execution_count": null,
   "metadata": {},
   "outputs": [],
   "source": [
    "n=int(input())\n",
    "s=input()\n"
   ]
  },
  {
   "cell_type": "code",
   "execution_count": null,
   "metadata": {},
   "outputs": [],
   "source": [
    "count=0\n",
    "a=0\n",
    "for i in range(n):\n",
    "    if(s[i]=='U'):\n",
    "            count=count+1\n",
    "    else:\n",
    "        count=count-1\n",
    "    if(s[i]=='U' and count==0):\n",
    "        a=a+1\n",
    "print(count,a)     "
   ]
  },
  {
   "cell_type": "code",
   "execution_count": null,
   "metadata": {},
   "outputs": [],
   "source": [
    "c=0\n",
    "if(c-1==-1):\n",
    "    print(c)\n"
   ]
  },
  {
   "cell_type": "code",
   "execution_count": null,
   "metadata": {},
   "outputs": [],
   "source": [
    "n = int(input())\n",
    "c = list(map(int, input().rstrip().split()))\n",
    "len(c)\n",
    "c[0]"
   ]
  },
  {
   "cell_type": "code",
   "execution_count": null,
   "metadata": {},
   "outputs": [],
   "source": [
    "count=0\n",
    "i=0\n",
    "while(i<len(c)-2):\n",
    "    if(c[i]==0 and c[i+1]==0 and c[i+2]==0):\n",
    "        count+=1 \n",
    "        i=i+2\n",
    "    elif(c[i]==0 and c[i+1]==1 and c[i+2]==0):\n",
    "        count+=1\n",
    "        i=i+2\n",
    "    elif(c[i]==0 and c[i+1]==0 and c[i+2]==1):\n",
    "        count+=1\n",
    "        i=i+1 \n",
    "while(i<len(c)):\n",
    "     if(c[i]==0 and c[i+1]==0):\n",
    "        \n",
    "\n",
    "print(count,i,len(c)-2)"
   ]
  },
  {
   "cell_type": "code",
   "execution_count": null,
   "metadata": {},
   "outputs": [],
   "source": [
    "a=0\n",
    "while a<6:\n",
    "    a=a+1\n",
    "    print(a)"
   ]
  },
  {
   "cell_type": "code",
   "execution_count": null,
   "metadata": {},
   "outputs": [],
   "source": [
    "n = int(input())\n",
    "integer_list = map(int, input().split())"
   ]
  },
  {
   "cell_type": "code",
   "execution_count": null,
   "metadata": {},
   "outputs": [],
   "source": [
    "hash(tuple(integer_list))"
   ]
  },
  {
   "cell_type": "code",
   "execution_count": null,
   "metadata": {},
   "outputs": [],
   "source": [
    "e=int(input())\n",
    "roll_e=set(map(int,input().split()))\n",
    "f=int(input())\n",
    "roll_f=set(map(int,input().split()))\n",
    "print(roll_e^roll_f)"
   ]
  },
  {
   "cell_type": "code",
   "execution_count": null,
   "metadata": {},
   "outputs": [],
   "source": [
    "l=roll_e^roll_f"
   ]
  },
  {
   "cell_type": "code",
   "execution_count": null,
   "metadata": {},
   "outputs": [],
   "source": [
    "len(l)\n"
   ]
  },
  {
   "cell_type": "code",
   "execution_count": null,
   "metadata": {},
   "outputs": [],
   "source": [
    "K=int(input())\n",
    "C=list(map(int,input().split()))"
   ]
  },
  {
   "cell_type": "code",
   "execution_count": null,
   "metadata": {},
   "outputs": [],
   "source": [
    "o=set()\n",
    "t=set()\n",
    "for x in C:\n",
    "    if x not in o:\n",
    "        o.add(x)\n",
    "        t.add(x)\n",
    "    else:\n",
    "        t.discard(x)\n",
    "t.pop()"
   ]
  },
  {
   "cell_type": "code",
   "execution_count": null,
   "metadata": {},
   "outputs": [],
   "source": [
    "o\n",
    "C.count(o[0])"
   ]
  },
  {
   "cell_type": "code",
   "execution_count": null,
   "metadata": {},
   "outputs": [],
   "source": [
    "for i in o:\n",
    "    cap=C.count(i)\n",
    "    if cap==1:\n",
    "        print(i)\n",
    "    "
   ]
  },
  {
   "cell_type": "code",
   "execution_count": null,
   "metadata": {},
   "outputs": [],
   "source": [
    "hai=[1,2,3,4,5,6,2]\n",
    "hai.remove(2)"
   ]
  },
  {
   "cell_type": "code",
   "execution_count": null,
   "metadata": {},
   "outputs": [],
   "source": [
    "hai"
   ]
  },
  {
   "cell_type": "code",
   "execution_count": null,
   "metadata": {},
   "outputs": [],
   "source": [
    "s=\"Hai Hoa\"\n",
    "a=''\n",
    "for i in s:\n",
    "    if i==i.upper():\n",
    "        a+=i.lower()\n",
    "    else:\n",
    "        a+=i.upper()\n",
    "b=list(a.split(\" \"))\n",
    "b.reverse()"
   ]
  },
  {
   "cell_type": "code",
   "execution_count": null,
   "metadata": {},
   "outputs": [],
   "source": [
    "print(b.reverse())\n",
    "# a='abc\n",
    "# a==a.lower()"
   ]
  },
  {
   "cell_type": "code",
   "execution_count": null,
   "metadata": {},
   "outputs": [],
   "source": [
    "a=\"paidimarri abhi ram\"\n",
    "a=a.split(\" \")\n",
    "a"
   ]
  },
  {
   "cell_type": "code",
   "execution_count": null,
   "metadata": {},
   "outputs": [],
   "source": [
    "a=\"-\".join(a)\n",
    "a"
   ]
  },
  {
   "cell_type": "code",
   "execution_count": null,
   "metadata": {},
   "outputs": [],
   "source": [
    "a=\"abhi\"\n",
    "b=\"ram\"\n",
    "print(\"Hello \"+a+\" \"+b+\"! You just delved into python.\")\n"
   ]
  },
  {
   "cell_type": "code",
   "execution_count": null,
   "metadata": {},
   "outputs": [],
   "source": [
    "stri='ABCDCDC'\n",
    "subst='CDC'\n",
    "count=0\n",
    "for i in range(0,len(stri)):\n",
    "    if(stri[i:i+len(subst)]==subst):\n",
    "        count+=1\n",
    "count"
   ]
  },
  {
   "cell_type": "code",
   "execution_count": null,
   "metadata": {},
   "outputs": [],
   "source": [
    "stri='ABCDCDC'\n",
    "stri[0:3+2]"
   ]
  },
  {
   "cell_type": "code",
   "execution_count": null,
   "metadata": {},
   "outputs": [],
   "source": [
    "str='qA2'\n",
    "print(any(c.isalnum()  for c in str))\n",
    "print (c.isalpha() for c in str)\n",
    "print (c.isdigit() for c in str)\n",
    "print (c.islower() for c in str)\n",
    "print (c.isupper() for c in str)"
   ]
  },
  {
   "cell_type": "code",
   "execution_count": null,
   "metadata": {},
   "outputs": [],
   "source": [
    "\n",
    "thickness = int(input()) #This must be an odd number\n",
    "c = 'H'\n",
    "\n",
    "#Top Cone\n",
    "for i in range(thickness):\n",
    "    print((c*i).rjust(thickness-1)+c+(c*i).ljust(thickness-1))\n",
    "\n",
    "#Top Pillars\n",
    "for i in range(thickness+1):\n",
    "    print((c*thickness).center(thickness*2)+(c*thickness).center(thickness*6))\n",
    "\n",
    "#Middle Belt\n",
    "for i in range((thickness+1)//2):\n",
    "    print((c*thickness*5).center(thickness*6))    \n",
    "\n",
    "#Bottom Pillars\n",
    "for i in range(thickness+1):\n",
    "    print((c*thickness).center(thickness*2)+(c*thickness).center(thickness*6))    \n",
    "\n",
    "#Bottom Cone\n",
    "for i in range(thickness):\n",
    "    print(((c*(thickness-i-1)).rjust(thickness)+c+(c*(thickness-i-1)).ljust(thickness)).rjust(thickness*6))"
   ]
  },
  {
   "cell_type": "code",
   "execution_count": null,
   "metadata": {},
   "outputs": [],
   "source": [
    "s='ABCDEFGHIJKLIMNOQRSTUVWXYZ'\n",
    "w=4\n",
    "a=''\n",
    "for i in range(0,len(s),w):\n",
    "    a=a+s[i:i+4]+'\\n'\n",
    "print(a)\n",
    "    "
   ]
  },
  {
   "cell_type": "code",
   "execution_count": null,
   "metadata": {},
   "outputs": [],
   "source": [
    "n,w=map(int,input().split())\n",
    "m=n//2\n",
    "a=\".\"\n",
    "b=\"|\"\n",
    "for i in range(m):\n",
    "    print(((a+b+a)*(i+i)+(a+b+a)).center(w,\"-\"))\n",
    "print('welcome'.center(w,'-'))\n",
    "while(m>0):\n",
    "    m=m-1\n",
    "    print(((a+b+a)*(m+m)+a+b+a).center(w,'-'))\n",
    "    \n",
    "    \n",
    "    "
   ]
  },
  {
   "cell_type": "code",
   "execution_count": null,
   "metadata": {
    "scrolled": true
   },
   "outputs": [],
   "source": [
    "number=17\n",
    "w=2\n",
    "for i in range(1,number+1):\n",
    "        print (str(i).rjust(w,' '),str(oct(i)[2:]).rjust(w,' '),str(hex(i)[2:].upper()).rjust(w,' '),str(bin(i)[2:]).rjust(w,' '),sep=' ')\n"
   ]
  },
  {
   "cell_type": "code",
   "execution_count": null,
   "metadata": {},
   "outputs": [],
   "source": [
    "import string\n",
    "alpha = string.ascii_lowercase\n",
    "\n",
    "n = int(input())\n",
    "L = []\n",
    "for i in range(n):\n",
    "    s = \"-\".join(alpha[i:n])\n",
    "    L.append((s[::-1]+s[1:]).center(4*n-3, \"-\"))\n",
    "print('\\n'.join(L[:0:-1]+L))"
   ]
  },
  {
   "cell_type": "code",
   "execution_count": null,
   "metadata": {},
   "outputs": [],
   "source": [
    "s=\"abhi ram\"\n",
    "k=s.split(\" \")\n",
    "a=\"\"\n",
    "for i in k:\n",
    "    a=a+i.capitalize()+\" \"\n",
    "print(a)"
   ]
  },
  {
   "cell_type": "code",
   "execution_count": null,
   "metadata": {},
   "outputs": [],
   "source": [
    "a=\"\"\n",
    "a=a+k[0].capitalize()\n",
    "\n",
    "a=a+k[1].capitalize()\n",
    "a"
   ]
  },
  {
   "cell_type": "code",
   "execution_count": null,
   "metadata": {},
   "outputs": [],
   "source": []
  },
  {
   "cell_type": "code",
   "execution_count": null,
   "metadata": {},
   "outputs": [],
   "source": [
    "n = int(input())\n",
    "arr = list(map(int, input().split()))"
   ]
  },
  {
   "cell_type": "code",
   "execution_count": null,
   "metadata": {},
   "outputs": [],
   "source": [
    "s=set(arr)\n",
    "s=sum(s)/len(s)\n",
    "s"
   ]
  },
  {
   "cell_type": "code",
   "execution_count": null,
   "metadata": {},
   "outputs": [],
   "source": [
    "ar_count = int(input())\n",
    "ar = list(map(int, input().rstrip().split()))"
   ]
  },
  {
   "cell_type": "code",
   "execution_count": null,
   "metadata": {},
   "outputs": [],
   "source": [
    "sum(ar)"
   ]
  },
  {
   "cell_type": "code",
   "execution_count": null,
   "metadata": {},
   "outputs": [],
   "source": [
    "a=[1000000001,1000000002,1000000003,1000000004,1000000005]\n",
    "sum(a)"
   ]
  },
  {
   "cell_type": "code",
   "execution_count": null,
   "metadata": {},
   "outputs": [],
   "source": [
    "n = int(input().strip())\n",
    "arr=[]\n",
    "for _ in range(n):\n",
    "    arr.append(list(map(int, input().rstrip().split())))\n"
   ]
  },
  {
   "cell_type": "code",
   "execution_count": null,
   "metadata": {},
   "outputs": [],
   "source": [
    "arr[0][2]\n",
    "arr[1][1]\n",
    "arr[2][0]"
   ]
  },
  {
   "cell_type": "code",
   "execution_count": null,
   "metadata": {},
   "outputs": [],
   "source": [
    "a=[]\n",
    "for i in range(len(arr)):\n",
    "    a.append(arr[i][len(arr)-i-1])\n",
    "a"
   ]
  },
  {
   "cell_type": "code",
   "execution_count": null,
   "metadata": {},
   "outputs": [],
   "source": [
    "arr=[-4,3,-9,0,4,1]\n",
    "pos=0\n",
    "neg=0\n",
    "zero=0\n",
    "for i in arr:\n",
    "    if i>0:\n",
    "        pos+=1\n",
    "    elif i<0:\n",
    "        neg+=1\n",
    "    elif i==0:\n",
    "        zero+=1\n",
    "print(\"%.6f\"%pos/len(arr))\n",
    "print(\"%.6f\"%neg/len(arr))\n",
    "print(\"%.6f\"%zero/len(arr))"
   ]
  },
  {
   "cell_type": "code",
   "execution_count": null,
   "metadata": {},
   "outputs": [],
   "source": [
    "n=7\n",
    "for i in range(1,n+1):\n",
    "    print(str(i*\"#\").rjust(n))"
   ]
  },
  {
   "cell_type": "code",
   "execution_count": null,
   "metadata": {},
   "outputs": [],
   "source": [
    "arr=[1,2,3,4,5]\n",
    "k=arr.copy()\n",
    "arr.remove(1)\n",
    "print(sum(arr))\n",
    "k.count(1)"
   ]
  },
  {
   "cell_type": "code",
   "execution_count": null,
   "metadata": {},
   "outputs": [],
   "source": [
    "s=\"12:45:54PM\"\n",
    "if(\"12\"in s and \"PM\"in s):\n",
    "    s=s[:-2]\n",
    "elif('PM'in s):\n",
    "    a=int(s[:2])+12\n",
    "    s=s.replace(s[:2],str(a))\n",
    "    s=s[:-2]\n",
    "elif(\"12\"in s and \"AM\"in s):\n",
    "    a=\"00\"\n",
    "    s=s.replace(s[:2],a)\n",
    "    s=s[:-2]\n",
    "    \n",
    "else:\n",
    "    s=s[:-2]\n",
    "s"
   ]
  },
  {
   "cell_type": "code",
   "execution_count": null,
   "metadata": {},
   "outputs": [],
   "source": [
    "a='abhi'\n",
    "b='adsf'\n",
    "a.replace(a[:2],b)"
   ]
  },
  {
   "cell_type": "code",
   "execution_count": null,
   "metadata": {},
   "outputs": [],
   "source": [
    "grades=[73,67,38,33]\n",
    "l=[]\n",
    "for i in grades:\n",
    "    if(i<38):\n",
    "        l.append(i)\n",
    "    else:\n",
    "        if(i%5 != 0):\n",
    "            a=5-(i%5)\n",
    "            if(a<3):\n",
    "                i=a+i\n",
    "            l.append(i)\n",
    "        else:\n",
    "            l.append(i)\n",
    "l"
   ]
  },
  {
   "cell_type": "code",
   "execution_count": null,
   "metadata": {},
   "outputs": [],
   "source": [
    "s,t,a,b,apples,oranges=7,11,5,15,[-2,2,1],[5,-6]\n",
    "ac=0\n",
    "oc=0\n",
    "for i in range (len(apples)):\n",
    "    apples[i]=apples[i]+a\n",
    "    if(apples[i]>=s and apples[i]<=t):\n",
    "        ac+=1\n",
    "for i in range (len(oranges)):\n",
    "    oranges[i]=oranges[i]+b\n",
    "    if(oranges[i]>=s and oranges[i]<=t):\n",
    "        oc+=1\n",
    "print(ac,oc)"
   ]
  },
  {
   "cell_type": "code",
   "execution_count": null,
   "metadata": {},
   "outputs": [],
   "source": [
    "scores=[10, 5 ,20 ,20, 4 ,5 ,2 ,25, 1]\n",
    "a=scores[0]\n",
    "b=scores[0]\n",
    "best=0\n",
    "worst=0\n",
    "for i in scores:\n",
    "    if(i>a):\n",
    "        best+=1\n",
    "        a=i\n",
    "    if(i<b):\n",
    "        worst+=1\n",
    "        b=i\n",
    "print(best,worst)"
   ]
  },
  {
   "cell_type": "code",
   "execution_count": null,
   "metadata": {},
   "outputs": [],
   "source": [
    "s=[1,2,1,3,2]\n",
    "d=3\n",
    "m=2\n",
    "count=0\n",
    "for i in range(len(s)-m+1):\n",
    "    k=0\n",
    "    for j in range(m):\n",
    "        k=k+s[i+j]\n",
    "    if(k==d):\n",
    "        count+=1\n",
    "count"
   ]
  },
  {
   "cell_type": "code",
   "execution_count": null,
   "metadata": {},
   "outputs": [],
   "source": [
    "ar=[1,3,2,6,1,2]\n",
    "k=3\n",
    "count=0\n",
    "for i in range(len(ar)):\n",
    "    for j in range(1,len(ar)-i):\n",
    "        if((ar[i]+ar[i+j])%k==0):\n",
    "            count+=1\n",
    "count "
   ]
  },
  {
   "cell_type": "code",
   "execution_count": null,
   "metadata": {},
   "outputs": [],
   "source": [
    "arr=[1,4,4,4,5,3]\n",
    "# k=list(set(arr))\n",
    "# sorted(reversed(k))\n",
    "# key=(k.count)[-1]\n",
    "(sorted(reversed(list(set(arr))), key=arr.count)[-1])"
   ]
  },
  {
   "cell_type": "code",
   "execution_count": null,
   "metadata": {},
   "outputs": [],
   "source": [
    "arr=[51,1,4,4,4,5,3,4,1,20,4,10]\n",
    "a=(list(set(arr)))\n",
    "print(a)\n",
    "print(sorted(a))\n",
    "print(list(reversed(a)))\n",
    "print(sorted(reversed(list(set(arr)))))"
   ]
  },
  {
   "cell_type": "code",
   "execution_count": null,
   "metadata": {},
   "outputs": [],
   "source": [
    "from itertools import product\n",
    "A=list(map(int,input().split()))\n",
    "B=list(map(int,input().split()))\n",
    "C=list(product(A,B))\n",
    "for i in C:\n",
    "    print(i,end=\" \")"
   ]
  },
  {
   "cell_type": "code",
   "execution_count": null,
   "metadata": {},
   "outputs": [],
   "source": [
    "from itertools import permutations\n",
    "s=input()\n",
    "a=(list(permutations(sorted(s),3)))\n",
    "for i in a:\n",
    "    i=list(i)\n",
    "    for j in range(len(i)):\n",
    "         print(i[j],end=\"\")\n",
    "    print()"
   ]
  },
  {
   "cell_type": "code",
   "execution_count": null,
   "metadata": {},
   "outputs": [],
   "source": [
    "from itertools import combinations\n",
    "s,k=map(str,input().split())\n",
    "s=sorted(s)\n",
    "k=int(k)\n",
    "a=list(combinations(s,k))\n",
    "for i in a:\n",
    "    i=list(i)\n",
    "    for j in range(len(i)):\n",
    "         print(i[j],end=\"\")\n",
    "    print()"
   ]
  },
  {
   "cell_type": "code",
   "execution_count": null,
   "metadata": {},
   "outputs": [],
   "source": [
    "s=\"aba\"\n",
    "n=10\n",
    "m=''\n",
    "count=1\n",
    "while n>len(s):\n",
    "    if(n%len(s)==0):\n",
    "        z=n\n",
    "        n=len(s)%n\n",
    "        \n",
    "    else:\n",
    "        n-=1\n",
    "        count+=1\n",
    "\n",
    "for i in range(n):\n",
    "    if(len(s)<=i):\n",
    "        s=s+s\n",
    "        m=m+s[i]\n",
    "    else:\n",
    "        m=m+s[i]\n",
    "print(int(m.count('a')*(z/n)))"
   ]
  },
  {
   "cell_type": "code",
   "execution_count": null,
   "metadata": {},
   "outputs": [],
   "source": [
    "s=\"a\"\n",
    "s=len(s)\n",
    "n=1000000\n",
    "while n>s:\n",
    "    if(n%s==0):\n",
    "        n=s%n\n",
    "        print(s)\n",
    "    else:\n",
    "        n-=1\n",
    "        print(n)\n",
    "print(s)"
   ]
  },
  {
   "cell_type": "code",
   "execution_count": null,
   "metadata": {},
   "outputs": [],
   "source": [
    "100/5"
   ]
  },
  {
   "cell_type": "code",
   "execution_count": null,
   "metadata": {},
   "outputs": [],
   "source": [
    "import calendar"
   ]
  },
  {
   "cell_type": "code",
   "execution_count": null,
   "metadata": {},
   "outputs": [],
   "source": [
    "import calendar\n",
    "#calendar.Calendar(calendar.SUNDAY)\n",
    "user_input = input().split()\n",
    "month = int(user_input[0])\n",
    "day = int(user_input[1])\n",
    "year = int(user_input[2])\n",
    "c = calendar.weekday(year, month, day)\n",
    "\n",
    "if c == 0:\n",
    "    print(\"MONDAY\")\n",
    "elif c == 1:\n",
    "    print(\"TUESDAY\")\n",
    "elif c == 2:\n",
    "    print(\"WEDNESDAY\")\n",
    "elif c==3:\n",
    "    print(\"THURSDAY\")\n",
    "elif c==4:\n",
    "    print(\"FRIDAY\")\n",
    "elif c== 5:\n",
    "    print(\"SATURDAY\")\n",
    "elif c==6:\n",
    "    print(\"SUNDAY\")"
   ]
  },
  {
   "cell_type": "code",
   "execution_count": null,
   "metadata": {},
   "outputs": [],
   "source": [
    "l = [1,2,3,4,5]\n",
    "n= int(input())\n",
    "for i in range(n):\n",
    "    l.append(l[0])\n",
    "    l.remove(l[0])\n",
    "print(l)"
   ]
  },
  {
   "cell_type": "code",
   "execution_count": null,
   "metadata": {},
   "outputs": [],
   "source": [
    "def array_left_rotation(a, n, k):\n",
    "    alist = list(a)\n",
    "    b = alist[k:]+alist[:k]\n",
    "    return b\n",
    "array_left_rotation([1,2,3,4],100,6)"
   ]
  },
  {
   "cell_type": "code",
   "execution_count": null,
   "metadata": {},
   "outputs": [],
   "source": [
    "l=[1 ,2 ,5 ,3 ,7 ,8 ,6 ,4]\n",
    "print(l)\n",
    "m =sorted(l)"
   ]
  },
  {
   "cell_type": "code",
   "execution_count": null,
   "metadata": {},
   "outputs": [],
   "source": [
    "m"
   ]
  },
  {
   "cell_type": "code",
   "execution_count": null,
   "metadata": {},
   "outputs": [],
   "source": [
    "count = 0\n",
    "for i in range(len(l)):\n",
    "    k =l[i]\n",
    "    if(m.index(k)-i <= 2 and m.index(k)-i >0):\n",
    "        count = count + m.index(k)-i\n",
    "    elif(m.index(k)-i >2):\n",
    "        count ='Too chaotic'\n",
    "        break\n",
    "print(count)"
   ]
  },
  {
   "cell_type": "code",
   "execution_count": null,
   "metadata": {},
   "outputs": [],
   "source": [
    "a='give me one grand today night'\n",
    "b='give one grand today'\n",
    "a = a.split(' ')\n",
    "b= b.split(' ')"
   ]
  },
  {
   "cell_type": "code",
   "execution_count": null,
   "metadata": {},
   "outputs": [],
   "source": [
    "a"
   ]
  },
  {
   "cell_type": "code",
   "execution_count": null,
   "metadata": {},
   "outputs": [],
   "source": [
    "b"
   ]
  },
  {
   "cell_type": "code",
   "execution_count": null,
   "metadata": {},
   "outputs": [],
   "source": [
    "count = 0\n",
    "for i in b:\n",
    "    if i in a:\n",
    "        a.remove(i)\n",
    "        count += 1"
   ]
  },
  {
   "cell_type": "code",
   "execution_count": null,
   "metadata": {},
   "outputs": [],
   "source": [
    "if count == len(b):\n",
    "    print( True)\n",
    "else:\n",
    "    print(False)"
   ]
  },
  {
   "cell_type": "code",
   "execution_count": null,
   "metadata": {},
   "outputs": [],
   "source": [
    "from collections import defaultdict\n",
    "\n",
    "def ransom_note(magazine, ransom):\n",
    "    dicty = defaultdict(int)\n",
    "    for word in magazine:\n",
    "        dicty[word]+=1\n",
    "    for word in ransom: \n",
    "        if dicty[word]==0 : return False \n",
    "        dicty[word]-=1\n",
    "    return True         \n",
    "magazine='give me one grand today night'\n",
    "ransom='give one grand today'\n",
    "ransom_note(magazine,ransom)"
   ]
  },
  {
   "cell_type": "code",
   "execution_count": null,
   "metadata": {},
   "outputs": [],
   "source": [
    "def bonAppetit(bill, k, b):\n",
    "    bill[k]=0\n",
    "    count = 0\n",
    "    for i in bill:\n",
    "        count+=i\n",
    "    count = count/2\n",
    "    if b==count:\n",
    "        print('Bon Appetit')\n",
    "    else:\n",
    "        print(int(abs(b-count)))"
   ]
  },
  {
   "cell_type": "code",
   "execution_count": null,
   "metadata": {},
   "outputs": [],
   "source": [
    "n=4\n",
    "k=1\n",
    "bill =[3, 10, 2, 9]\n",
    "b=12\n",
    "\n",
    "bonAppetit(bill,k,b)"
   ]
  },
  {
   "cell_type": "code",
   "execution_count": null,
   "metadata": {},
   "outputs": [],
   "source": [
    "bill = [3,10,2,9]\n",
    "bill[1]=0"
   ]
  },
  {
   "cell_type": "code",
   "execution_count": null,
   "metadata": {},
   "outputs": [],
   "source": [
    "bill"
   ]
  },
  {
   "cell_type": "code",
   "execution_count": null,
   "metadata": {},
   "outputs": [],
   "source": [
    "print(min(4//2, 5//2 - 4//2))"
   ]
  },
  {
   "cell_type": "code",
   "execution_count": null,
   "metadata": {},
   "outputs": [],
   "source": [
    "def getMoneySpent(keyboards, drives, b):\n",
    "    l=[]\n",
    "    for i in keyboards:\n",
    "        for j in drives:\n",
    "            l.append(i+j)\n",
    "    return(l)\n",
    "    "
   ]
  },
  {
   "cell_type": "code",
   "execution_count": null,
   "metadata": {},
   "outputs": [],
   "source": [
    "b=10\n",
    "keyboards = 2\n",
    "drivers = 3\n",
    "keyboards=[3 ,1]\n",
    "drivers=[5, 2, 8]"
   ]
  },
  {
   "cell_type": "code",
   "execution_count": null,
   "metadata": {},
   "outputs": [],
   "source": [
    "o = getMoneySpent(keyboards,drivers,b)"
   ]
  },
  {
   "cell_type": "code",
   "execution_count": null,
   "metadata": {},
   "outputs": [],
   "source": [
    "while(max(o)>b):\n",
    "    o.remove(max(o))\n",
    "    print(o)"
   ]
  },
  {
   "cell_type": "code",
   "execution_count": null,
   "metadata": {},
   "outputs": [],
   "source": [
    "spend = -1\n",
    "\n",
    "for itm in keyboards:\n",
    "    for itm2 in pendrives:\n",
    "\n",
    "        val = itm+itm2\n",
    "\n",
    "        if val <= s:\n",
    "            spend = max(val, spend)\n"
   ]
  },
  {
   "cell_type": "code",
   "execution_count": null,
   "metadata": {},
   "outputs": [],
   "source": [
    "n=3 \n",
    "m=2\n",
    "jobs = list(map(int,input().split()))\n",
    "k=[]\n",
    "for i in range(1,n+1):\n",
    "    if(i not in jobs):\n",
    "        k.append(i)\n",
    "    \n",
    "    \n"
   ]
  },
  {
   "cell_type": "code",
   "execution_count": null,
   "metadata": {},
   "outputs": [],
   "source": [
    "chef=[]\n",
    "assi=[]\n",
    "for i in range(len(k)):\n",
    "    if(i%2)==0:\n",
    "        chef.append(k[i])\n",
    "    else:\n",
    "        assi.append(k[i])\n",
    "        "
   ]
  },
  {
   "cell_type": "code",
   "execution_count": null,
   "metadata": {},
   "outputs": [],
   "source": [
    "t=int(input())\n",
    "count=0\n",
    "while(t>0):\n",
    "    X,Y,K,N =map(int,input().split())\n",
    "    while(N>0):\n",
    "        p,c=map(int,input().split())\n",
    "        Z = X-Y\n",
    "        if(p>=Z and c<=K):\n",
    "            count=1\n",
    "        N-=1\n",
    "    if(count==1):\n",
    "        print('LuckyChef')\n",
    "        count=0\n",
    "    else:\n",
    "        print('UnluckyChef')\n",
    "    t-=1"
   ]
  },
  {
   "cell_type": "code",
   "execution_count": null,
   "metadata": {},
   "outputs": [],
   "source": [
    "a,n,k=map(int,input().split())\n",
    "n=n+1\n",
    "b=list()\n",
    "for i in range(k):\n",
    "    b.append(a%n)\n",
    "    a=a//n\n",
    "print(*b)"
   ]
  },
  {
   "cell_type": "code",
   "execution_count": null,
   "metadata": {},
   "outputs": [],
   "source": [
    "t = int(input())\n",
    "while(t>0):\n",
    "    j=input()\n",
    "    s=input()\n",
    "    t=t-1\n",
    "    c=0\n",
    "    for i in s:\n",
    "        if(i in j):\n",
    "            c+=1\n",
    "    print(c)\n",
    "    "
   ]
  },
  {
   "cell_type": "code",
   "execution_count": null,
   "metadata": {},
   "outputs": [],
   "source": [
    "t= int(input())\n",
    "while t:\n",
    "    N=int(input())\n",
    "    O = input()\n",
    "    a=O.count('1')\n",
    "    print((a*(a+1))//2)\n",
    "    t-=1"
   ]
  },
  {
   "cell_type": "code",
   "execution_count": null,
   "metadata": {},
   "outputs": [],
   "source": [
    "t=int(input())\n",
    "while t>0:\n",
    "    t-=1\n",
    "    s=input()\n",
    "    if((\"010\" in s ) and (\"101\" in s)):\n",
    "        print('Good')\n",
    "    elif((\"010\" in s) or (\"101\" in s)):\n",
    "        print(\"Good\")\n",
    "    else:\n",
    "        print(\"Bad\")"
   ]
  },
  {
   "cell_type": "code",
   "execution_count": null,
   "metadata": {},
   "outputs": [],
   "source": [
    "t = int(input())\n",
    "while(t>0):\n",
    "    t-=1\n",
    "    m,n = map(int,input().split())\n",
    "    for i in range(m,n+1):\n",
    "        if(i>1):\n",
    "            for j in range(2,i//2):\n",
    "                if(i%j==0):\n",
    "                    break\n",
    "            else:\n",
    "                print(i)"
   ]
  },
  {
   "cell_type": "code",
   "execution_count": null,
   "metadata": {},
   "outputs": [],
   "source": [
    "t = int(input())\n",
    "while t>0:\n",
    "    t-=1\n",
    "    N=int(input())\n",
    "    S = list(map(int,input().split()))\n",
    "    count = 0\n",
    "    c=S[0]\n",
    "    for i in range(1,len(S)):\n",
    "        count = count + (abs(c-S[i])-1)\n",
    "        c=S[i]\n",
    "    print(count)\n",
    "        "
   ]
  },
  {
   "cell_type": "code",
   "execution_count": null,
   "metadata": {},
   "outputs": [],
   "source": [
    "t = int(input())\n",
    "while(t>0):\n",
    "    t-=1\n",
    "    N = int(input())\n",
    "    chef=0\n",
    "    morty=0\n",
    "    for i in range(N):\n",
    "        A,B = map(str,input().split())\n",
    "        c=0\n",
    "        d=0\n",
    "        for i in A:\n",
    "            c=int(i)+c\n",
    "        for i in B:\n",
    "             d = int(i)+d\n",
    "        if(c>d):\n",
    "            chef += 1\n",
    "        elif(c<d):\n",
    "            morty += 1\n",
    "        else:\n",
    "            chef +=1\n",
    "            morty += 1\n",
    "    if(chef>morty):\n",
    "        print(0,chef)\n",
    "    elif(chef<morty):\n",
    "        print(1,morty)\n",
    "    else:\n",
    "        print(2,chef)"
   ]
  },
  {
   "cell_type": "code",
   "execution_count": null,
   "metadata": {},
   "outputs": [],
   "source": [
    "t = int(input())\n",
    "while t>0:\n",
    "    t-=1\n",
    "    N,X=map(int,input().split())\n",
    "    A = list(map(int,input().split()))\n",
    "    s = sum(A)\n",
    "    if((s/X-s//X)>0.5):\n",
    "        print(-1)\n",
    "    elif((s/X-s//X)<0.5 and (s/X-s//X)>0):\n",
    "        print(1)\n",
    "    elif(s/X-s//X==0):\n",
    "        print(int(s/X))"
   ]
  },
  {
   "cell_type": "code",
   "execution_count": null,
   "metadata": {},
   "outputs": [],
   "source": [
    "18/10\n",
    "import math\n",
    "if((12/10-12//10)>0.5):\n",
    "    print(-1)\n",
    "else:\n",
    "    print(1)"
   ]
  },
  {
   "cell_type": "code",
   "execution_count": null,
   "metadata": {},
   "outputs": [],
   "source": [
    "X"
   ]
  },
  {
   "cell_type": "code",
   "execution_count": null,
   "metadata": {},
   "outputs": [],
   "source": [
    "27//7"
   ]
  },
  {
   "cell_type": "code",
   "execution_count": null,
   "metadata": {},
   "outputs": [],
   "source": [
    "m = int(input())\n",
    "n = int(input())\n",
    "c=[]\n",
    "for i in range(m,n+1):\n",
    "    if(i>1):\n",
    "        for j in range(2,i):\n",
    "            if(i%j==0):\n",
    "                break\n",
    "        else:\n",
    "            c.append(i)\n",
    "print(c)"
   ]
  },
  {
   "cell_type": "code",
   "execution_count": null,
   "metadata": {},
   "outputs": [],
   "source": [
    "a = c[0]\n",
    "count=0\n",
    "for i in range(1,len(c)):\n",
    "    if(c[i]==a):\n",
    "        count += 1\n",
    "        print(c[i])\n",
    "    a=a+c[i]\n",
    "print(count)\n",
    "        "
   ]
  },
  {
   "cell_type": "code",
   "execution_count": null,
   "metadata": {},
   "outputs": [],
   "source": [
    "num = int(input())\n",
    "arr = []\n",
    "sum = 0\n",
    "count = 0\n",
    "if num > 1:\n",
    "    for i in range(2, num + 2):\n",
    "        for j in range(2, i):\n",
    "            if i % j == 0:\n",
    "                break\n",
    "        else:\n",
    "            arr.append(i)\n",
    "def is_prime(sum):\n",
    "    for i in range(2, (sum // 2) +2):\n",
    "        if sum % i == 0:\n",
    "            return False\n",
    "        else:\n",
    "            return True\n",
    "for i in range(0, len(arr)):\n",
    "    sum = sum + arr[i]\n",
    "    if sum <= num:\n",
    "        if is_prime(sum):\n",
    "            count = count + 1\n",
    "\n",
    "print(count)"
   ]
  },
  {
   "cell_type": "code",
   "execution_count": null,
   "metadata": {},
   "outputs": [],
   "source": [
    "s,r = map(int,input().split())\n",
    "l = list(map(int,input().split()))\n",
    "a=[]\n",
    "count=0\n",
    "for i in range(r):\n",
    "    st , en = map(int,input().split())\n",
    "    for i in l:\n",
    "        if(st<= i <= en):\n",
    "            count+=1\n",
    "    a.append(count)\n",
    "    count=0\n",
    "for i in a:\n",
    "    print(i,end=\" \")"
   ]
  },
  {
   "cell_type": "code",
   "execution_count": null,
   "metadata": {},
   "outputs": [],
   "source": [
    "t = int(input())\n",
    "while(t>0):\n",
    "    t-=1\n",
    "    n = int(input())\n",
    "    c = list(map(int,input().split()))\n",
    "    d=[]\n",
    "    b=c[0]\n",
    "    s=0\n",
    "    for i in range(1,len(c)):\n",
    "        b =b+c[i]\n",
    "        d.append(b)\n",
    "    print(d)"
   ]
  },
  {
   "cell_type": "code",
   "execution_count": null,
   "metadata": {},
   "outputs": [],
   "source": [
    "from itertools import permutations"
   ]
  },
  {
   "cell_type": "code",
   "execution_count": null,
   "metadata": {},
   "outputs": [],
   "source": [
    "a = input()\n",
    "b = int(input())\n",
    "c=[]\n",
    "d=[]\n",
    "for i in a:\n",
    "    c.append(i)\n",
    "pe=permutations(c)"
   ]
  },
  {
   "cell_type": "code",
   "execution_count": null,
   "metadata": {},
   "outputs": [],
   "source": [
    "for i in list(pe):\n",
    "    k=''\n",
    "    for j in i:\n",
    "        k=k+j\n",
    "    d.append(int(k))"
   ]
  },
  {
   "cell_type": "code",
   "execution_count": null,
   "metadata": {},
   "outputs": [],
   "source": [
    "e=[]\n",
    "for i in d:\n",
    "    if(i>b):\n",
    "        e.append(i)\n",
    "if(len(e)>1):\n",
    "    print(min(e))\n",
    "else:\n",
    "    print(-1)"
   ]
  },
  {
   "cell_type": "code",
   "execution_count": null,
   "metadata": {},
   "outputs": [],
   "source": [
    "R = int(input(\"Enter the number of rows:\")) \n",
    "C = int(input(\"Enter the number of columns:\")) \n",
    "  \n",
    "# Initialize matrix \n",
    "matrix = [] \n",
    "print(\"Enter the entries rowwise:\") \n",
    "  \n",
    "# For user input \n",
    "for i in range(R):          # A for loop for row entries \n",
    "    a =[] \n",
    "    for j in range(C):      # A for loop for column entries \n",
    "         a.append(int(input())) \n",
    "    matrix.append(a) \n",
    "  \n",
    "# For printing the matrix \n",
    "for i in range(R): \n",
    "    for j in range(C): \n",
    "        print(matrix[i][j], end = \" \") \n",
    "    print()"
   ]
  },
  {
   "cell_type": "code",
   "execution_count": null,
   "metadata": {},
   "outputs": [],
   "source": [
    "matrix[1][2]"
   ]
  },
  {
   "cell_type": "code",
   "execution_count": null,
   "metadata": {},
   "outputs": [],
   "source": [
    "#get the input\n",
    "number = int(input())\n",
    "\n",
    "\n",
    "#find the number of five rupee coins\n",
    "#maximize possible number of coins, after leavinf out 4 rupees to make all possible values till 4\n",
    "five = int((number-4)/5)\n",
    "\n",
    "\n",
    "#find the number of one rupee coins\n",
    "#of the remaining value, number of one rupee coins is 1, if the value is odd & it is 2 if the value is even\n",
    "if((number-5*five) % 2) == 0:\n",
    "    one=2\n",
    "else:\n",
    "    one=1\n",
    "\n",
    "\n",
    "#find the number of two rupee coins\n",
    "#the rest of the amount will be from two rupee coins\n",
    "two=(number-5*five-one)//2\n",
    "\n",
    "\n",
    "#print total coins, five ruppe coins, two rupee coins, one rupee coins    \n",
    "print(one+two+five,five,two,one)"
   ]
  },
  {
   "cell_type": "code",
   "execution_count": null,
   "metadata": {},
   "outputs": [],
   "source": []
  },
  {
   "cell_type": "code",
   "execution_count": null,
   "metadata": {},
   "outputs": [],
   "source": []
  },
  {
   "cell_type": "markdown",
   "metadata": {},
   "source": [
    "# balanced brackets\n"
   ]
  },
  {
   "cell_type": "code",
   "execution_count": null,
   "metadata": {},
   "outputs": [],
   "source": [
    "expression = input()\n",
    "c='YES'\n",
    "# if(len(expression)%2 !=0):\n",
    "#     c='NO'\n",
    "b=[]\n",
    "for i in expression:\n",
    "    if(i=='{' or i=='(' or i=='['):\n",
    "        b.append(i)\n",
    "    elif(i=='}' or i==')' or i==']'):\n",
    "        if(len(b)==0):\n",
    "            c=\"NO\"\n",
    "            break\n",
    "        elif(i=='}' and b.pop()=='{' or i==')' and b.pop()=='(' or i==']' and b.pop()=='['):\n",
    "            pass\n",
    "        else:\n",
    "            c='NO'\n",
    "            break\n",
    "\n",
    "print(c)\n"
   ]
  },
  {
   "cell_type": "code",
   "execution_count": null,
   "metadata": {},
   "outputs": [],
   "source": [
    "def is_matched(e):\n",
    "    while( len(e) > 0):\n",
    "        t = e\n",
    "        e = e.replace('()','')\n",
    "        e = e.replace('{}','')\n",
    "        e = e.replace('[]','')\n",
    "        if t == e:\n",
    "            return False\n",
    "        \n",
    "    return True\n",
    "is_matched('{([([([{}])])])}{[{{{(])}}}]}')"
   ]
  },
  {
   "cell_type": "code",
   "execution_count": null,
   "metadata": {},
   "outputs": [],
   "source": []
  },
  {
   "cell_type": "code",
   "execution_count": null,
   "metadata": {},
   "outputs": [],
   "source": [
    "string = input()\n",
    "k = int(input())"
   ]
  },
  {
   "cell_type": "code",
   "execution_count": null,
   "metadata": {},
   "outputs": [],
   "source": [
    "b = len(string)/k\n",
    "c=[]\n",
    "d=''"
   ]
  },
  {
   "cell_type": "code",
   "execution_count": null,
   "metadata": {},
   "outputs": [],
   "source": [
    "count = 0\n",
    "for i in range(len(string)):\n",
    "    count+=1\n",
    "    d=d+string[i]\n",
    "    if(count==b):\n",
    "        count=0\n",
    "        c.append(d)\n",
    "        d=''\n",
    "print(c)"
   ]
  },
  {
   "cell_type": "code",
   "execution_count": null,
   "metadata": {},
   "outputs": [],
   "source": [
    "g=''\n",
    "h=[]\n",
    "for i in c:\n",
    "    for j in i:\n",
    "        if(j in g):\n",
    "            pass\n",
    "        else:\n",
    "            g=g+j\n",
    "    h.append(g)\n",
    "    g=''\n",
    "for i in h:\n",
    "    print(i)"
   ]
  },
  {
   "cell_type": "code",
   "execution_count": null,
   "metadata": {},
   "outputs": [],
   "source": [
    "import cmath\n",
    "cmath.phase(complex(1, 2))"
   ]
  },
  {
   "cell_type": "code",
   "execution_count": null,
   "metadata": {},
   "outputs": [],
   "source": [
    "5**.5"
   ]
  },
  {
   "cell_type": "code",
   "execution_count": null,
   "metadata": {},
   "outputs": [],
   "source": [
    "import cmath\n",
    "c = complex(input())\n",
    "print(abs(complex(c)))\n",
    "print(cmath.phase(complex(c)))"
   ]
  },
  {
   "cell_type": "code",
   "execution_count": null,
   "metadata": {},
   "outputs": [],
   "source": [
    "c=input()\n",
    "a=int(c[0])\n",
    "b=int(c[2])"
   ]
  },
  {
   "cell_type": "code",
   "execution_count": null,
   "metadata": {},
   "outputs": [],
   "source": [
    "a"
   ]
  },
  {
   "cell_type": "code",
   "execution_count": null,
   "metadata": {},
   "outputs": [],
   "source": [
    "b"
   ]
  },
  {
   "cell_type": "code",
   "execution_count": null,
   "metadata": {},
   "outputs": [],
   "source": [
    "for i in range(1,int(input())+1):\n",
    "    print([1, 121, 12321, 1234321, 123454321, 12345654321, 1234567654321, 123456787654321, 12345678987654321, 12345678910987654321][i])"
   ]
  },
  {
   "cell_type": "code",
   "execution_count": null,
   "metadata": {},
   "outputs": [],
   "source": [
    "81%5"
   ]
  },
  {
   "cell_type": "code",
   "execution_count": null,
   "metadata": {},
   "outputs": [],
   "source": [
    "for i in range(1,int(input())): #More than 2 lines will result in 0 score. Do not leave a blank line also\n",
    "    print(i*(int(10**(i-1)+10**(i-2)+10**(i-3)+10**(i-4)+10**(i-5)+10**(i-6)+10**(i-7)+10**(i-8))))"
   ]
  },
  {
   "cell_type": "markdown",
   "metadata": {},
   "source": [
    "# 11-07-2020"
   ]
  },
  {
   "cell_type": "code",
   "execution_count": null,
   "metadata": {},
   "outputs": [],
   "source": [
    "s='abbcccddddeeeeedchiabhiramjkba'"
   ]
  },
  {
   "cell_type": "code",
   "execution_count": null,
   "metadata": {},
   "outputs": [],
   "source": [
    "a=[]\n",
    "for i in s:\n",
    "    if i in a:\n",
    "        pass\n",
    "    else:\n",
    "        a.append(i)\n",
    "print(len(a))"
   ]
  },
  {
   "cell_type": "code",
   "execution_count": null,
   "metadata": {},
   "outputs": [],
   "source": [
    "n = int(input())\n",
    "a=[]\n",
    "for i in range(n+1):\n",
    "    for j in range(i):\n",
    "        if(0<j/i<1):\n",
    "            a.append(str(j)+str('/')+str(i))\n",
    "            \n",
    "print(a)"
   ]
  },
  {
   "cell_type": "code",
   "execution_count": null,
   "metadata": {},
   "outputs": [],
   "source": [
    "t = int(input())\n",
    "while(t>0):\n",
    "    t = t-1\n",
    "    try:\n",
    "        a,b = map(int,input().split())\n",
    "        print (a//b)\n",
    "    except ZeroDivisionError as e:\n",
    "        print (\"Error Code:\",e)\n",
    "    except ValueError as v:\n",
    "        print(\"Error Code:\",v)\n"
   ]
  },
  {
   "cell_type": "code",
   "execution_count": null,
   "metadata": {},
   "outputs": [],
   "source": [
    "import re\n",
    "\n",
    "pattern = re.compile(r\"\\w{1,10}\") \n",
    "# Let's feed in some strings to match\n",
    "string = \"regex is awesome!\"\n",
    "# Then call a matching method to match our pattern\n",
    "result = pattern.match(string)\n",
    "print(result.group()) # will print out 'r'"
   ]
  },
  {
   "cell_type": "code",
   "execution_count": 17,
   "metadata": {},
   "outputs": [
    {
     "name": "stdout",
     "output_type": "stream",
     "text": [
      "1 2\n",
      " 3 4\n",
      "[[3]\n",
      " [4]]\n",
      "[3 4]\n"
     ]
    }
   ],
   "source": [
    "import numpy\n",
    "n,m = map(int,input().split())\n",
    "a=[]\n",
    "while(n>0):\n",
    "    n-=1\n",
    "    o = list(map(int,input().split()))\n",
    "    a.append(o)\n",
    "my_array = numpy.array(a)\n",
    "print(numpy.transpose(my_array))\n",
    "print(my_array.flatten())"
   ]
  },
  {
   "cell_type": "code",
   "execution_count": null,
   "metadata": {},
   "outputs": [],
   "source": []
  },
  {
   "cell_type": "code",
   "execution_count": 56,
   "metadata": {},
   "outputs": [],
   "source": [
    "# n1,n2,n3 = map(int,input().split())\n",
    "# a=[]\n",
    "# b=[]\n",
    "# c=[]\n",
    "a = [23, 30, 42, 57, 90]\n",
    "b=[21, 35, 57, 90, 92] \n",
    "c = [21, 23, 30, 57, 90]\n",
    "while(n1>0):\n",
    "    a.append(int(input()))\n",
    "    n1-=1\n",
    "while(n2>0):\n",
    "    b.append(int(input()))\n",
    "    n2-=1\n",
    "while(n3>0):\n",
    "    c.append(int(input()))\n",
    "    n3-=1\n",
    "    \n",
    "    "
   ]
  },
  {
   "cell_type": "code",
   "execution_count": 63,
   "metadata": {},
   "outputs": [],
   "source": [
    "a = [23, 30, 42, 57, 90]\n",
    "b=[21, 35, 57, 90, 92] \n",
    "c = [21, 23, 30, 57, 90]\n",
    "d=[]\n",
    "count=0\n",
    "for i in a:\n",
    "    if(i in b and i in c):\n",
    "        d.append(i)\n",
    "        a.remove(i)\n",
    "        count += 1    \n",
    "    elif(i in b):\n",
    "        d.append(i)\n",
    "        a.remove(i)\n",
    "        count += 1\n",
    "    elif(i in c):\n",
    "        d.append(i)\n",
    "        a.remove(i)\n",
    "        count += 1\n",
    "        \n"
   ]
  },
  {
   "cell_type": "code",
   "execution_count": 64,
   "metadata": {},
   "outputs": [
    {
     "name": "stdout",
     "output_type": "stream",
     "text": [
      "[23, 57]\n"
     ]
    }
   ],
   "source": [
    "print(d)"
   ]
  },
  {
   "cell_type": "code",
   "execution_count": 62,
   "metadata": {},
   "outputs": [
    {
     "name": "stdout",
     "output_type": "stream",
     "text": [
      "[21, 23, 30, 57, 90]\n"
     ]
    },
    {
     "data": {
      "text/plain": [
       "5"
      ]
     },
     "execution_count": 62,
     "metadata": {},
     "output_type": "execute_result"
    }
   ],
   "source": [
    "print(sorted(d))\n",
    "count"
   ]
  },
  {
   "cell_type": "code",
   "execution_count": 52,
   "metadata": {},
   "outputs": [
    {
     "name": "stdout",
     "output_type": "stream",
     "text": [
      "[23, 30, 42, 57, 90] [21, 35, 57, 90, 92] [21, 23, 30, 57, 90]\n"
     ]
    }
   ],
   "source": [
    "print(a,b,c)"
   ]
  },
  {
   "cell_type": "code",
   "execution_count": 51,
   "metadata": {},
   "outputs": [],
   "source": [
    "c=[21,23,30,57,90]"
   ]
  },
  {
   "cell_type": "code",
   "execution_count": null,
   "metadata": {},
   "outputs": [],
   "source": []
  },
  {
   "cell_type": "code",
   "execution_count": null,
   "metadata": {},
   "outputs": [],
   "source": []
  },
  {
   "cell_type": "code",
   "execution_count": 140,
   "metadata": {},
   "outputs": [
    {
     "name": "stdout",
     "output_type": "stream",
     "text": [
      "a\n"
     ]
    }
   ],
   "source": [
    "a='abhia'\n",
    "c=0\n",
    "e=''\n",
    "for i in a:\n",
    "    if(a.count(i)%2==0):\n",
    "        print(i)\n",
    "        e=e+i\n",
    "        a=a.replace(i,'',1)\n",
    "        c+=1"
   ]
  },
  {
   "cell_type": "code",
   "execution_count": 141,
   "metadata": {},
   "outputs": [
    {
     "name": "stdout",
     "output_type": "stream",
     "text": [
      "4\n"
     ]
    }
   ],
   "source": [
    "print(len(a))"
   ]
  },
  {
   "cell_type": "code",
   "execution_count": 142,
   "metadata": {},
   "outputs": [],
   "source": [
    "b=ord(a[0])\n",
    "d=a[0]\n",
    "for i in a:\n",
    "    if(ord(i)<b and i in e):\n",
    "        pass\n",
    "        \n",
    "    elif(ord(i)<b):\n",
    "        b=ord(i)\n",
    "        d=i\n"
   ]
  },
  {
   "cell_type": "code",
   "execution_count": 143,
   "metadata": {},
   "outputs": [
    {
     "name": "stdout",
     "output_type": "stream",
     "text": [
      "aba\n"
     ]
    }
   ],
   "source": [
    "# # if(len(e)==1):\n",
    "# #     print(e)\n",
    "# else:\n",
    "print(e+d+e[::-1])\n",
    "    "
   ]
  },
  {
   "cell_type": "code",
   "execution_count": 144,
   "metadata": {},
   "outputs": [
    {
     "data": {
      "text/plain": [
       "'0b1000'"
      ]
     },
     "execution_count": 144,
     "metadata": {},
     "output_type": "execute_result"
    }
   ],
   "source": [
    "bin(8)"
   ]
  },
  {
   "cell_type": "code",
   "execution_count": 145,
   "metadata": {},
   "outputs": [
    {
     "data": {
      "text/plain": [
       "'0b11'"
      ]
     },
     "execution_count": 145,
     "metadata": {},
     "output_type": "execute_result"
    }
   ],
   "source": [
    "bin(3)"
   ]
  },
  {
   "cell_type": "code",
   "execution_count": 146,
   "metadata": {},
   "outputs": [
    {
     "data": {
      "text/plain": [
       "'0b111'"
      ]
     },
     "execution_count": 146,
     "metadata": {},
     "output_type": "execute_result"
    }
   ],
   "source": [
    "bin(7)"
   ]
  },
  {
   "cell_type": "code",
   "execution_count": 147,
   "metadata": {},
   "outputs": [
    {
     "data": {
      "text/plain": [
       "'0b110'"
      ]
     },
     "execution_count": 147,
     "metadata": {},
     "output_type": "execute_result"
    }
   ],
   "source": [
    "bin(6)"
   ]
  },
  {
   "cell_type": "code",
   "execution_count": 4,
   "metadata": {},
   "outputs": [],
   "source": [
    "def catAndMouse(x, y, z):\n",
    "    if(abs(x-z)>abs(y-z)):\n",
    "        print('Cat B')\n",
    "    elif(abs(y-z)>abs(x-z)):\n",
    "        print('Cat A')\n",
    "    else:\n",
    "        print('Mouse C')"
   ]
  },
  {
   "cell_type": "code",
   "execution_count": 6,
   "metadata": {},
   "outputs": [
    {
     "name": "stdout",
     "output_type": "stream",
     "text": [
      "Mouse C\n"
     ]
    }
   ],
   "source": [
    "catAndMouse(1,3,2)"
   ]
  },
  {
   "cell_type": "code",
   "execution_count": 14,
   "metadata": {},
   "outputs": [
    {
     "name": "stdout",
     "output_type": "stream",
     "text": [
      "[0, 2, 3, 4] [[0, 2, 3, 4]]\n"
     ]
    }
   ],
   "source": [
    "a = [4 ,6 ,5 ,3 ,3 ,1]\n"
   ]
  },
  {
   "cell_type": "code",
   "execution_count": null,
   "metadata": {},
   "outputs": [],
   "source": []
  }
 ],
 "metadata": {
  "kernelspec": {
   "display_name": "Python 3",
   "language": "python",
   "name": "python3"
  },
  "language_info": {
   "codemirror_mode": {
    "name": "ipython",
    "version": 3
   },
   "file_extension": ".py",
   "mimetype": "text/x-python",
   "name": "python",
   "nbconvert_exporter": "python",
   "pygments_lexer": "ipython3",
   "version": "3.7.3"
  }
 },
 "nbformat": 4,
 "nbformat_minor": 4
}
