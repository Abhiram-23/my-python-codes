{
 "cells": [
  {
   "cell_type": "code",
   "execution_count": null,
   "metadata": {},
   "outputs": [],
   "source": [
    "a=\"nicole\"\n",
    "b=\"coneli\"\n",
    "c=\"no\"\n",
    "for i in a:\n",
    "    a=a[1:]+a[0]\n",
    "    print(a)\n",
    "    if(a==b):\n",
    "        c=\"yes\"\n",
    "        break\n",
    "if(c==\"yes\"):\n",
    "    print(\"yes\")\n",
    "else:\n",
    "    print('no')"
   ]
  },
  {
   "cell_type": "code",
   "execution_count": null,
   "metadata": {},
   "outputs": [],
   "source": [
    "c = \" \"\n",
    "a=c\n",
    "b=0\n",
    "for i in a:\n",
    "    c=c[1:]+c[0]\n",
    "    if(c==a):\n",
    "        b+=1\n",
    "print(b)"
   ]
  },
  {
   "cell_type": "code",
   "execution_count": null,
   "metadata": {},
   "outputs": [],
   "source": [
    "b=[]\n",
    "for i in range(int(input())):\n",
    "    a = list(map(int,input().split()))\n",
    "    b.append(a)\n",
    "count=0\n",
    "for j in b:\n",
    "    if(j.count(1)>=2):\n",
    "        count+=1\n",
    "print(count)"
   ]
  },
  {
   "cell_type": "code",
   "execution_count": null,
   "metadata": {},
   "outputs": [],
   "source": [
    "a,b=map(int,input().split())\n",
    "c=list(map(int,input().split()))\n",
    "count=0\n",
    "for i in range(0,a):\n",
    "    if(c[b-1]==0 and c[i]==c[b-1]):\n",
    "        count+=0\n",
    "    elif(c[b-1]<=c[i]):\n",
    "        count+=1\n",
    "    else:\n",
    "        count+=0\n",
    "print(count)"
   ]
  },
  {
   "cell_type": "code",
   "execution_count": null,
   "metadata": {},
   "outputs": [],
   "source": [
    "b=0\n",
    "for i in range(int(input())):\n",
    "    a = input()\n",
    "    if(a=='++X'):\n",
    "        b=b+1\n",
    "    elif(a=='--X'):\n",
    "        b=b-1\n",
    "    elif(a=='X++'):\n",
    "        b=b+1\n",
    "    elif(a=='X--'):\n",
    "        b=b-1\n",
    "print(b)"
   ]
  },
  {
   "cell_type": "code",
   "execution_count": null,
   "metadata": {},
   "outputs": [],
   "source": [
    "a = input()\n",
    "b = input()\n",
    "a = a.lower()\n",
    "b = b.lower()\n",
    "if(a>b):\n",
    "    print(1)\n",
    "elif(a<b):\n",
    "    print(-1)\n",
    "else:\n",
    "    print(0)"
   ]
  },
  {
   "cell_type": "code",
   "execution_count": null,
   "metadata": {},
   "outputs": [],
   "source": [
    "a = []\n",
    "for i in range(5):\n",
    "    a.append(list(map(int,input().split())))\n",
    "c = False\n",
    "for i in range(len(a)):\n",
    "    for j in range(len(a[i])):\n",
    "        if(a[i][j]==1):\n",
    "            c = True\n",
    "            break\n",
    "    if(c==True):\n",
    "        break\n",
    "\n",
    "print(abs(3-(i+1))+abs(3-(j+1)))"
   ]
  },
  {
   "cell_type": "code",
   "execution_count": null,
   "metadata": {},
   "outputs": [],
   "source": [
    "for k in range(int(input())):\n",
    "    h = int(input())\n",
    "    a = list(map(int,input().split()))\n",
    "    b = []\n",
    "    c = -1\n",
    "    d = 0\n",
    "    for i in range(len(a)):\n",
    "        if(i%2==0):\n",
    "            b.append(a[d])\n",
    "            d+=1\n",
    "        elif(i%2==1):\n",
    "            b.append(a[c])\n",
    "            c = c-1\n",
    "    for i in b:\n",
    "        print(i,end=\" \")\n",
    "    print()"
   ]
  },
  {
   "cell_type": "code",
   "execution_count": null,
   "metadata": {},
   "outputs": [],
   "source": [
    "a = '22019020'\n",
    "print(a.index('2',0))\n",
    "print(a.index('0',1))\n",
    "print(a.index('2',0))\n",
    "print(a.index('0',1))"
   ]
  },
  {
   "cell_type": "code",
   "execution_count": null,
   "metadata": {},
   "outputs": [],
   "source": [
    "a = input().split('+')\n",
    "a = sorted(a)\n",
    "c=''\n",
    "for i in a:\n",
    "    c+=i+'+'\n",
    "print(c[:-1])"
   ]
  },
  {
   "cell_type": "code",
   "execution_count": null,
   "metadata": {},
   "outputs": [],
   "source": [
    "a = input()\n",
    "b = a[0].capitalize()\n",
    "print(b+a[1:])"
   ]
  },
  {
   "cell_type": "code",
   "execution_count": null,
   "metadata": {},
   "outputs": [],
   "source": [
    "a = int(input())\n",
    "b = input()\n",
    "count=0\n",
    "for i in range(1,a):\n",
    "    if(b[i-1]==b[i]):\n",
    "        count+=1\n",
    "print(count)"
   ]
  },
  {
   "cell_type": "code",
   "execution_count": null,
   "metadata": {},
   "outputs": [],
   "source": [
    "a = input()\n",
    "a = set(a)\n",
    "if(len(a)%2==0):\n",
    "    print(\"CHAT WITH HER!\")\n",
    "else:\n",
    "    print('IGNORE HIM!')"
   ]
  },
  {
   "cell_type": "code",
   "execution_count": null,
   "metadata": {},
   "outputs": [],
   "source": [
    "k,n,w = map(int,input().split())\n",
    "cost = 0\n",
    "for i in range(1,w+1):\n",
    "    cost = cost+i\n",
    "borrow = ((cost*k)-n)\n",
    "if(borrow>0):\n",
    "    print(borrow)\n",
    "else:\n",
    "    print(0)"
   ]
  },
  {
   "cell_type": "code",
   "execution_count": null,
   "metadata": {},
   "outputs": [],
   "source": [
    "limak , bob = map(int,input().split())\n",
    "count = 0\n",
    "while(True):\n",
    "    limak = limak*3\n",
    "    bob = bob*2\n",
    "    count+=1\n",
    "    if(bob<limak):\n",
    "        break\n",
    "print(count)"
   ]
  },
  {
   "cell_type": "code",
   "execution_count": null,
   "metadata": {},
   "outputs": [],
   "source": [
    "n , k = map(int,input().split())\n",
    "for i in range(k):\n",
    "    if(n%10!=0):\n",
    "        n = n-1\n",
    "    elif(n%10==0):\n",
    "        n = n//10\n",
    "print(n)"
   ]
  },
  {
   "cell_type": "code",
   "execution_count": null,
   "metadata": {},
   "outputs": [],
   "source": [
    "c = 0\n",
    "d = []\n",
    "for i in range(int(input())):\n",
    "    a , b = map(int,input().split())\n",
    "    c = c - a\n",
    "    c = c + b\n",
    "    d.append(c)\n",
    "print(max(d))"
   ]
  },
  {
   "cell_type": "code",
   "execution_count": null,
   "metadata": {},
   "outputs": [],
   "source": [
    "a = int(input())\n",
    "count = 0\n",
    "while(a!=0):\n",
    "    if(a>=5):\n",
    "        a = a - 5\n",
    "        count+=1\n",
    "    elif(a==4):\n",
    "        a = a - 4\n",
    "        count += 1\n",
    "    elif(a==3):\n",
    "        a = a - 3\n",
    "        count += 1\n",
    "    elif(a==2):\n",
    "        a = a - 2\n",
    "        count += 1\n",
    "    elif(a==1):\n",
    "        a = a - 1\n",
    "        count += 1\n",
    "print(count)"
   ]
  },
  {
   "cell_type": "code",
   "execution_count": null,
   "metadata": {},
   "outputs": [],
   "source": [
    "h = int(input())\n",
    "a = list(map(int,input().split()))\n",
    "b = a.count(1)\n",
    "if(b==1):\n",
    "    print(0)\n",
    "else:\n",
    "    mi = 10000000\n",
    "    c=[]\n",
    "    s = 0\n",
    "    e = b\n",
    "    for i in range(len(a)%b):\n",
    "        c = a[s:e]\n",
    "        s = s + 1\n",
    "        e = e + 1\n",
    "        if(c.count(0)<mi):\n",
    "            mi = c.count(0)\n",
    "    print(mi)"
   ]
  },
  {
   "cell_type": "code",
   "execution_count": null,
   "metadata": {},
   "outputs": [],
   "source": [
    "def min_no_of_swaps(a):\n",
    "    n = len(a)\n",
    "    ones = 0\n",
    "    if n<=2:\n",
    "        return 0\n",
    "    for i in range(n):\n",
    "        if a[i]==1:\n",
    "            ones +=1\n",
    "    i,j = 0,0\n",
    "    count,maxi = 0,0\n",
    "    while j<n:\n",
    "        while j<n and j-i<ones:\n",
    "            if a[j]==1:\n",
    "                count+=1\n",
    "            j = j+1\n",
    "            print(j,count)\n",
    "        maxi = max(count,maxi)\n",
    "        if j==n:\n",
    "            break\n",
    "        if a[i]==1:\n",
    "            count-=1\n",
    "        i+=1\n",
    "    return ones-maxi\n",
    "    \n",
    "n = int(input())\n",
    "a = [int(val) for val in input().split()][:n]\n",
    "print(min_no_of_swaps(a))"
   ]
  },
  {
   "cell_type": "code",
   "execution_count": null,
   "metadata": {},
   "outputs": [],
   "source": [
    "a = input()\n",
    "u=0\n",
    "l=0\n",
    "for i in a:\n",
    "    if(i.isupper()):\n",
    "        u+=1\n",
    "    elif(i.islower()):\n",
    "        l+=1\n",
    "if(u>l):\n",
    "    print(a.upper())\n",
    "elif(u<=l):\n",
    "    print(a.lower())"
   ]
  },
  {
   "cell_type": "code",
   "execution_count": null,
   "metadata": {},
   "outputs": [],
   "source": [
    "m , n = map(int,input().split())\n",
    "a = m*n\n",
    "print(a//2)"
   ]
  },
  {
   "cell_type": "code",
   "execution_count": null,
   "metadata": {},
   "outputs": [],
   "source": [
    "b,c = map(int,input().split())\n",
    "a = \"BGGBG\"\n",
    "for i in range(c):\n",
    "    j=0\n",
    "    while(j<len(a)-1):\n",
    "        if(a[j]=='B' and a[j+1]=='G'):\n",
    "            a = a[:j]+'G'+'B'+a[j+2:]\n",
    "            j=j+2\n",
    "        else:\n",
    "            j=j+1\n",
    "print(a)"
   ]
  },
  {
   "cell_type": "code",
   "execution_count": null,
   "metadata": {},
   "outputs": [],
   "source": [
    "a = \"abhiram\"\n",
    "a[0]='h'"
   ]
  },
  {
   "cell_type": "code",
   "execution_count": null,
   "metadata": {},
   "outputs": [],
   "source": [
    "a = int(input())\n",
    "a = str(a)\n",
    "count=0\n",
    "for i in a:\n",
    "    if(i==\"4\" or i==\"7\"):\n",
    "        count+=1\n",
    "count=str(count)\n",
    "count=count.replace('4','')\n",
    "count=count.replace('7','')\n",
    "if(count==\"\"):\n",
    "    print(\"YES\")\n",
    "else:\n",
    "    print('NO')"
   ]
  },
  {
   "cell_type": "code",
   "execution_count": null,
   "metadata": {},
   "outputs": [],
   "source": [
    "a = int(input())\n",
    "b = True\n",
    "count=0\n",
    "while(b):\n",
    "    a = a+1\n",
    "    a = str(a)\n",
    "    for i in a:\n",
    "        if(a.count(i)==1):\n",
    "            count+=1\n",
    "    if(count==4):\n",
    "        b=False\n",
    "    else:\n",
    "        count=0\n",
    "        a=int(a)\n",
    "print(a)"
   ]
  },
  {
   "cell_type": "code",
   "execution_count": null,
   "metadata": {},
   "outputs": [],
   "source": [
    "for i in range(int(input())):\n",
    "    a,b,n = map(int,input().split())\n",
    "    count=0\n",
    "    if(a<=n or b<=n):\n",
    "        while(a<=n and b<=n):\n",
    "            if(a<b):\n",
    "                a+=b\n",
    "                count+=1\n",
    "            else:\n",
    "                b+=a\n",
    "                count+=1\n",
    "        print(count)\n",
    "    else:\n",
    "        print(count)"
   ]
  },
  {
   "cell_type": "code",
   "execution_count": null,
   "metadata": {},
   "outputs": [],
   "source": [
    "a = int(input())\n",
    "b = bin(a)\n",
    "b=b[2:]\n",
    "for i in range(len(b)):\n",
    "    if(b[i]=='1'):\n",
    "        b=b[:i]+'0'+b[i+1:]\n",
    "    elif(b[i]=='0'):\n",
    "        b=b[:i]+'1'+b[i+1:]\n",
    "print(int(b,2))"
   ]
  },
  {
   "cell_type": "code",
   "execution_count": null,
   "metadata": {},
   "outputs": [],
   "source": [
    "a=10\n",
    "print(~a)"
   ]
  },
  {
   "cell_type": "code",
   "execution_count": null,
   "metadata": {},
   "outputs": [],
   "source": []
  },
  {
   "cell_type": "code",
   "execution_count": null,
   "metadata": {},
   "outputs": [],
   "source": [
    "a=[3,2,4]\n",
    "print(sum(a))"
   ]
  },
  {
   "cell_type": "code",
   "execution_count": null,
   "metadata": {},
   "outputs": [],
   "source": [
    "d1,v1,d2,v2,p = map(int,input().split())\n",
    "c = 0\n",
    "days = 0\n",
    "while(c<p):\n",
    "    days+=1\n",
    "    if(days>=d1):\n",
    "        c+=v1\n",
    "    if(days>=d2):\n",
    "        c+=v2\n",
    "print(days)"
   ]
  },
  {
   "cell_type": "code",
   "execution_count": null,
   "metadata": {},
   "outputs": [],
   "source": [
    "for i in range(int(input())):\n",
    "    a = int(input())\n",
    "    c=0\n",
    "    while(a):\n",
    "        a=a//5\n",
    "        c=c+a\n",
    "    print(c)"
   ]
  },
  {
   "cell_type": "code",
   "execution_count": null,
   "metadata": {},
   "outputs": [],
   "source": [
    "for i in range(int(input())):\n",
    "    for j in range(int(input())):\n",
    "        i,n,g = map(int,input().split())\n",
    "        if(n%2==0):\n",
    "            print(n//2)\n",
    "        elif(n%2!=0 and i==1 and g==1):\n",
    "            print(n//2)\n",
    "        elif(n%2!=0 and i==1 and g==2):\n",
    "            print((n//2)+1)\n",
    "        elif(n%2!=0 and i==2 and g==1):\n",
    "            print((n//2)+1)\n",
    "        elif(n%2!=0 and i==2 and g==2):\n",
    "            print(n//2)"
   ]
  },
  {
   "cell_type": "code",
   "execution_count": null,
   "metadata": {},
   "outputs": [],
   "source": [
    "for i in range(int(input())):\n",
    "    activities,origin = input().split()\n",
    "    points = 0\n",
    "    for j in range(int(activities)):\n",
    "        b = list(input().split())\n",
    "        if(b[0]=='CONTEST_WON'):\n",
    "            c = int(b[1])\n",
    "            if(c>20):\n",
    "                points=points+300\n",
    "            elif(c<=20):\n",
    "                points=points+300+(20-c)\n",
    "        elif(b[0]=='TOP_CONTRIBUTOR'):\n",
    "            points = points+300\n",
    "        elif(b[0]=='BUG_FOUND'):\n",
    "            points=points+int(b[1])\n",
    "        elif(b[0]=='CONTEST_HOSTED'):\n",
    "            points=points+50\n",
    "    if(origin=='INDIAN'):\n",
    "        print(points//200)\n",
    "    else:\n",
    "        print(points//400)"
   ]
  },
  {
   "cell_type": "code",
   "execution_count": null,
   "metadata": {},
   "outputs": [],
   "source": [
    "for i in range(int(input())):\n",
    "    k,a,b = map(int,input().split())\n",
    "    c=str(a)+str(b)\n",
    "    e=a+b\n",
    "    while(k>2):\n",
    "        d=d%10   \n",
    "        c=c+str(d) \n",
    "        k=k-1\n",
    "        e=e+d\n",
    "        d=d+d \n",
    "        if('2486'in c):\n",
    "             break\n",
    "    k=k-2\n",
    "    e=e+(k//4)*20\n",
    "    if(k%4==1):\n",
    "        e=e+2\n",
    "    elif(k%4==2):\n",
    "        e=e+4\n",
    "    elif(k%4==3):\n",
    "        e=e+8\n",
    "    if(e%3==0):\n",
    "        print('YES')\n",
    "    else:\n",
    "        print('NO')"
   ]
  },
  {
   "cell_type": "code",
   "execution_count": null,
   "metadata": {},
   "outputs": [],
   "source": []
  },
  {
   "cell_type": "code",
   "execution_count": null,
   "metadata": {},
   "outputs": [],
   "source": [
    "3\n",
    "34\n",
    "347\n",
    "3474\n",
    "347482486248624862486"
   ]
  },
  {
   "cell_type": "code",
   "execution_count": null,
   "metadata": {},
   "outputs": [],
   "source": [
    "3+4+7+8+2+4+8+6+2+4+8+6+2+4+8+6+2+4"
   ]
  },
  {
   "cell_type": "code",
   "execution_count": null,
   "metadata": {},
   "outputs": [],
   "source": [
    "5+1+6+2+4+8+6+2+4"
   ]
  },
  {
   "cell_type": "code",
   "execution_count": null,
   "metadata": {},
   "outputs": [],
   "source": [
    "5 3 4\n",
    "3\n",
    "34\n",
    "347\n",
    "3478"
   ]
  },
  {
   "cell_type": "code",
   "execution_count": null,
   "metadata": {},
   "outputs": [],
   "source": [
    "347482486"
   ]
  },
  {
   "cell_type": "code",
   "execution_count": null,
   "metadata": {},
   "outputs": [],
   "source": [
    "1    8 n          \n",
    "2    81 y \n",
    "3    819 y \n",
    "4    8198 n \n",
    "5    81986 n\n",
    "6    819862 n\n",
    "7    8198624 n\n",
    "8    81986248 n\n",
    "9    819862486 n\n",
    "10   8198624862 y\n",
    "11   81986248624 n \n",
    "12   819862486248 y\n",
    "13   8198624862486 y"
   ]
  },
  {
   "cell_type": "code",
   "execution_count": null,
   "metadata": {},
   "outputs": [],
   "source": [
    "8+1+9+8+6+2+4+8+6+2+4+8+6+2+4+8+6+2+4+8+6"
   ]
  },
  {
   "cell_type": "code",
   "execution_count": null,
   "metadata": {},
   "outputs": [],
   "source": [
    "819862486"
   ]
  },
  {
   "cell_type": "code",
   "execution_count": null,
   "metadata": {},
   "outputs": [],
   "source": [
    "8//4"
   ]
  },
  {
   "cell_type": "code",
   "execution_count": null,
   "metadata": {},
   "outputs": [],
   "source": [
    "34748"
   ]
  },
  {
   "cell_type": "code",
   "execution_count": null,
   "metadata": {},
   "outputs": [],
   "source": [
    "2+4+8+6"
   ]
  },
  {
   "cell_type": "code",
   "execution_count": null,
   "metadata": {},
   "outputs": [],
   "source": [
    "8198624862486"
   ]
  },
  {
   "cell_type": "code",
   "execution_count": null,
   "metadata": {},
   "outputs": [],
   "source": [
    "8+1+9+8+6+40"
   ]
  },
  {
   "cell_type": "code",
   "execution_count": null,
   "metadata": {},
   "outputs": [],
   "source": [
    "8+1+9+8+6+2+4+8+6"
   ]
  },
  {
   "cell_type": "code",
   "execution_count": null,
   "metadata": {},
   "outputs": [],
   "source": [
    "3+4+7+4+8+6"
   ]
  },
  {
   "cell_type": "code",
   "execution_count": null,
   "metadata": {},
   "outputs": [],
   "source": [
    "for i in range(int(input())):\n",
    "    b = list(map(int,input().split()))\n",
    "    if(sum(b)%9==0):\n",
    "        if(min(b)>=sum(b)//9):\n",
    "            print('YES')\n",
    "        else:\n",
    "            print('NO')\n",
    "    else:\n",
    "        print('NO')"
   ]
  },
  {
   "cell_type": "code",
   "execution_count": null,
   "metadata": {},
   "outputs": [],
   "source": [
    "3\n",
    "3 2 4\n",
    "1 1 1\n",
    "10 1 7"
   ]
  },
  {
   "cell_type": "code",
   "execution_count": null,
   "metadata": {},
   "outputs": [],
   "source": [
    "a = list(map(int,input().split()))\n",
    "b = list(map(int,input().split()))"
   ]
  },
  {
   "cell_type": "code",
   "execution_count": null,
   "metadata": {},
   "outputs": [],
   "source": [
    "c=[]\n",
    "for i in range(len(a)):\n",
    "    c.append(abs(a[i]-b[i]))\n",
    "print(sum(c))"
   ]
  },
  {
   "cell_type": "code",
   "execution_count": null,
   "metadata": {},
   "outputs": [],
   "source": [
    "for j in range(int(input())):\n",
    "    k = int(input())\n",
    "    a = list(map(int,input().split()))\n",
    "    b=a[::2]\n",
    "    c=a[1::2]\n",
    "    d=[]\n",
    "    if(sum(b)<sum(c)):\n",
    "        for i in range(len(a)):\n",
    "            if(i%2==0):\n",
    "                d.append(1)\n",
    "                print(1,end=' ')\n",
    "            else:\n",
    "                d.append(a[i])\n",
    "                print(a[i],end=' ')\n",
    "    else:\n",
    "        for i in range(len(a)):\n",
    "            if(i%2==1):\n",
    "                d.append(1)\n",
    "                print(1,end=' ')\n",
    "            else:\n",
    "                d.append(a[i])\n",
    "                print(a[i],end=' ')\n",
    "    print()"
   ]
  },
  {
   "cell_type": "code",
   "execution_count": null,
   "metadata": {},
   "outputs": [],
   "source": [
    "4\n",
    "5\n",
    "1 2 3 4 5\n",
    "2\n",
    "4 6\n",
    "2\n",
    "1 1000000000\n",
    "6\n",
    "3 4 8 1 2 3"
   ]
  },
  {
   "cell_type": "code",
   "execution_count": null,
   "metadata": {},
   "outputs": [],
   "source": [
    "b"
   ]
  },
  {
   "cell_type": "code",
   "execution_count": null,
   "metadata": {},
   "outputs": [],
   "source": [
    "c"
   ]
  },
  {
   "cell_type": "code",
   "execution_count": null,
   "metadata": {},
   "outputs": [],
   "source": [
    "sum(b)"
   ]
  },
  {
   "cell_type": "code",
   "execution_count": null,
   "metadata": {},
   "outputs": [],
   "source": [
    "sum(c)"
   ]
  },
  {
   "cell_type": "code",
   "execution_count": null,
   "metadata": {},
   "outputs": [],
   "source": [
    "d"
   ]
  },
  {
   "cell_type": "code",
   "execution_count": null,
   "metadata": {},
   "outputs": [],
   "source": [
    "for i in range(int(input())):\n",
    "    n,d = map(int,input().split())\n",
    "    a = list(map(int,input().split()))\n",
    "    b=[]\n",
    "    c=[]\n",
    "    count=0\n",
    "    for i in a:\n",
    "        if(i>=80 or i<=9):\n",
    "            b.append(i)\n",
    "        else:\n",
    "            c.append(i)\n",
    "    print(len(b)//d+len(c)//d+len(b)%d+len(c)%d)"
   ]
  },
  {
   "cell_type": "code",
   "execution_count": null,
   "metadata": {},
   "outputs": [],
   "source": [
    "import math\n",
    "def prime(n):\n",
    "    a=[True]*(n+1)\n",
    "    d=[]\n",
    "    a[0]=False\n",
    "    a[1]=False\n",
    "    for i in range(2,int(math.sqrt(n+1))):\n",
    "        if(a[i]==True):\n",
    "            for j in range(i*i,n+1,i):\n",
    "                a[j]=False\n",
    "    for i in range(len(a)):\n",
    "        if(a[i]==True):\n",
    "            d.append(i)\n",
    "    return d\n",
    "d = prime(4*(10**6))\n",
    "for i in range(int(input())):\n",
    "    n = int(input())\n",
    "    b = list(map(int,input().split()))\n",
    "    for i in range(len(b)):\n",
    "        print(d[b[i]],end=' ')\n",
    "    print()"
   ]
  },
  {
   "cell_type": "code",
   "execution_count": null,
   "metadata": {},
   "outputs": [],
   "source": [
    "for _ in range(int(input())):\n",
    "    a = int(input())\n",
    "    b = input()\n",
    "    b=b[::-1]\n",
    "    count=0\n",
    "    for i in b:\n",
    "        if(i==')'):\n",
    "            count+=1\n",
    "        else:\n",
    "            break\n",
    "    if(count>abs(count-len(b))):\n",
    "        print('Yes')\n",
    "    else:\n",
    "        print('No')"
   ]
  },
  {
   "cell_type": "code",
   "execution_count": null,
   "metadata": {},
   "outputs": [],
   "source": [
    "284%8"
   ]
  },
  {
   "cell_type": "code",
   "execution_count": null,
   "metadata": {},
   "outputs": [],
   "source": []
  },
  {
   "cell_type": "code",
   "execution_count": null,
   "metadata": {},
   "outputs": [],
   "source": [
    "for _ in range(int(input())):\n",
    "    a = int(input())\n",
    "    a = str(a)\n",
    "    count=0\n",
    "    i=0\n",
    "    while(count<len(a)):\n",
    "            if(int(a[i])!=0 and int(a)%int(a[i])==0):\n",
    "                count+=1\n",
    "                i=i+1\n",
    "            elif(int(a[i])==0):\n",
    "                i=i+1\n",
    "                count+=1\n",
    "            else:\n",
    "                a=int(a)\n",
    "                a=a+1\n",
    "                a=str(a)\n",
    "                i=0\n",
    "                count=0\n",
    "            if(count==len(a)):\n",
    "                break\n",
    "    print(a)"
   ]
  },
  {
   "cell_type": "code",
   "execution_count": null,
   "metadata": {},
   "outputs": [],
   "source": [
    "4\n",
    "1\n",
    "282\n",
    "1234567890\n",
    "1000000000000000000"
   ]
  },
  {
   "cell_type": "code",
   "execution_count": null,
   "metadata": {},
   "outputs": [],
   "source": [
    "1\n",
    "288\n",
    "1234568040\n",
    "1000000000000000000"
   ]
  },
  {
   "cell_type": "code",
   "execution_count": null,
   "metadata": {},
   "outputs": [],
   "source": [
    "i"
   ]
  },
  {
   "cell_type": "code",
   "execution_count": null,
   "metadata": {},
   "outputs": [],
   "source": [
    "count"
   ]
  },
  {
   "cell_type": "code",
   "execution_count": null,
   "metadata": {},
   "outputs": [],
   "source": [
    "for _ in range(int(input())):\n",
    "    n = int(input())\n",
    "    if(n%2==0):\n",
    "        for i in range(0,n):\n",
    "            print(n-i,end=\" \")\n",
    "        print()\n",
    "    else:\n",
    "        a = (n//2)+1\n",
    "        b=[]\n",
    "        for i in range(0,n):\n",
    "            if(i==a):\n",
    "                c=b.pop()\n",
    "                b.append(n-i)\n",
    "                b.append(i)\n",
    "            else:\n",
    "                b.append(n-i)\n",
    "        for i in b:\n",
    "            print(i,end=\" \")\n",
    "        print()"
   ]
  },
  {
   "cell_type": "code",
   "execution_count": null,
   "metadata": {
    "scrolled": true
   },
   "outputs": [],
   "source": [
    "for _ in range(int(input())):\n",
    "    n = int(input())\n",
    "    participants = list(map(int,input().split()))\n",
    "    se = list(set(participants))\n",
    "    se=sorted(se)\n",
    "    k=False\n",
    "    for i in se:\n",
    "        if(participants.count(i)==1):\n",
    "            k=True\n",
    "            break\n",
    "    if(k==True):\n",
    "        print(participants.index(i)+1)\n",
    "    else:\n",
    "        print(-1)"
   ]
  },
  {
   "cell_type": "code",
   "execution_count": null,
   "metadata": {},
   "outputs": [],
   "source": [
    "for _ in range(int(input())):\n",
    "    n = int(input())\n",
    "    b = input()\n",
    "    c = b.count('1')\n",
    "    d = 120-n\n",
    "    if(d+c>=90):\n",
    "        print('YES')\n",
    "    else:\n",
    "        print('NO')"
   ]
  },
  {
   "cell_type": "code",
   "execution_count": null,
   "metadata": {},
   "outputs": [],
   "source": [
    "3\n",
    "50\n",
    "00000000000000000000000000000000000000000000000000\n",
    "50\n",
    "01010101010101010101010101010101010101010101010101\n",
    "2\n",
    "01"
   ]
  },
  {
   "cell_type": "code",
   "execution_count": null,
   "metadata": {},
   "outputs": [],
   "source": [
    "for _ in range(int(input())):\n",
    "    p,t,n,k=map(int,input().split())\n",
    "    a=0\n",
    "    if(t!=p):\n",
    "        while(p!=t and a<k):\n",
    "            if(t<p and t>=0 and p-n>=0 and t-n>=0):\n",
    "                p=p-n\n",
    "                t=t-n\n",
    "                a=a+1\n",
    "            elif(t<p and t>=0 and p-n>=0 and t-n<0):\n",
    "                p=p-n\n",
    "                t=t+n\n",
    "                a=a+1\n",
    "    #         elif(t<p and t>=0 and p-n<0 and t-n>=0):\n",
    "    #             p=p+n\n",
    "    #             t=t+n\n",
    "    #             a=a+1\n",
    "            elif(t>p and t<=k and p+n<=k and t+n<=k):\n",
    "                p=p+n\n",
    "                t=t+n\n",
    "                a=a+1\n",
    "\n",
    "            elif(t>p and t<=k and p+n<=k and t+n>k):\n",
    "                p=p+n\n",
    "                t=t-n\n",
    "                a=a+1\n",
    "\n",
    "    #         elif(t>p and t<=k and p+n>k and t+n<=k):\n",
    "    #             p=p-n\n",
    "    #             t=t+n\n",
    "    #             a=a+1\n",
    "            if(t==p):\n",
    "                print('YES')\n",
    "                break\n",
    "        if(p!=t):\n",
    "            print('NO')\n",
    "    else:\n",
    "        print('YES')"
   ]
  },
  {
   "cell_type": "code",
   "execution_count": null,
   "metadata": {},
   "outputs": [],
   "source": [
    "5\n",
    "0 1 1 1\n",
    "1 4 1 5\n",
    "4 2 1 7\n",
    "3 7 2 10\n",
    "8 2 3 15"
   ]
  },
  {
   "cell_type": "code",
   "execution_count": null,
   "metadata": {},
   "outputs": [],
   "source": [
    "for _ in range(int(input())):\n",
    "    a = input()\n",
    "    if(len(a)%2==0):\n",
    "        while('01' in a or '10'in a):\n",
    "            a=a.replace('01',\"\")\n",
    "            a=a.replace('10',\"\")\n",
    "            print(a)\n",
    "        if(len(a)==0):\n",
    "            print(0)\n",
    "        else:\n",
    "            print(len(a)//2)\n",
    "    else:\n",
    "        print(-1)"
   ]
  },
  {
   "cell_type": "code",
   "execution_count": null,
   "metadata": {},
   "outputs": [],
   "source": [
    "k='1010101111000010010010100001010100'\n",
    "len(k)"
   ]
  },
  {
   "cell_type": "code",
   "execution_count": null,
   "metadata": {},
   "outputs": [],
   "source": [
    "3\n",
    "001101\n",
    "1101\n",
    "000"
   ]
  },
  {
   "cell_type": "code",
   "execution_count": null,
   "metadata": {},
   "outputs": [],
   "source": [
    "a"
   ]
  },
  {
   "cell_type": "code",
   "execution_count": null,
   "metadata": {},
   "outputs": [],
   "source": [
    "'111000'"
   ]
  },
  {
   "cell_type": "code",
   "execution_count": null,
   "metadata": {},
   "outputs": [],
   "source": [
    "a,b=map(int,input().split())\n",
    "while(b>0):\n",
    "    if(a%10!=0):\n",
    "        a=a-1\n",
    "    else:\n",
    "        a=a//10\n",
    "    b=b-1\n",
    "print(a)"
   ]
  },
  {
   "cell_type": "code",
   "execution_count": null,
   "metadata": {},
   "outputs": [],
   "source": [
    "a"
   ]
  },
  {
   "cell_type": "code",
   "execution_count": null,
   "metadata": {},
   "outputs": [],
   "source": [
    "a = int(input())\n",
    "b = set(map(int,input().split()))\n",
    "c = set(map(int,input().split()))\n",
    "d=c^b\n",
    "print(d)\n",
    "d=list(d)\n",
    "d\n",
    "print(d[0])"
   ]
  },
  {
   "cell_type": "code",
   "execution_count": null,
   "metadata": {},
   "outputs": [],
   "source": [
    "b=[]\n",
    "d=[]\n",
    "for _ in range(int(input())):\n",
    "    a = int(input())\n",
    "    a = str(a)\n",
    "    if(a in b):\n",
    "        print(int(d[b.index(a)]))\n",
    "    else:\n",
    "        b.append(a)\n",
    "        count=0\n",
    "        i=0\n",
    "        while(count<len(a)):\n",
    "                if(int(a[i])!=0 and int(a)%int(a[i])==0):\n",
    "                    count+=1\n",
    "                    i=i+1\n",
    "                elif(int(a[i])==0):\n",
    "                    i=i+1\n",
    "                    count+=1\n",
    "                else:\n",
    "                    a=int(a)\n",
    "                    a=a+1\n",
    "                    a=str(a)\n",
    "                    i=0\n",
    "                    count=0\n",
    "                if(count==len(a)):\n",
    "                    break\n",
    "        print(a)\n",
    "        d.append(a)"
   ]
  },
  {
   "cell_type": "code",
   "execution_count": null,
   "metadata": {},
   "outputs": [],
   "source": [
    "b"
   ]
  },
  {
   "cell_type": "code",
   "execution_count": null,
   "metadata": {},
   "outputs": [],
   "source": [
    "d"
   ]
  },
  {
   "cell_type": "code",
   "execution_count": null,
   "metadata": {},
   "outputs": [],
   "source": [
    "d[b.index('282')]"
   ]
  },
  {
   "cell_type": "code",
   "execution_count": null,
   "metadata": {},
   "outputs": [],
   "source": [
    "import math\n",
    "def prime(n):\n",
    "    a=[True]*(n+1)\n",
    "    d=[]\n",
    "    a[0]=False\n",
    "    a[1]=False\n",
    "    for i in range(2,int(math.sqrt(n+1))):\n",
    "        if(a[i]==True):\n",
    "            for j in range(i*i,n+1,i):\n",
    "                a[j]=False\n",
    "    for i in range(len(a)):\n",
    "        if(a[i]==True):\n",
    "            d.append(i)\n",
    "    return d\n",
    "d = prime((10**5))\n",
    "for _ in range(int(input())):\n",
    "    n = int(input())\n",
    "    if(n in d):\n",
    "        k=str(n)\n",
    "        l=k[::-1]\n",
    "        if(k==l):\n",
    "            print('Yes')\n",
    "        else:\n",
    "            print('No')\n",
    "    else:\n",
    "        print('No')"
   ]
  },
  {
   "cell_type": "code",
   "execution_count": null,
   "metadata": {},
   "outputs": [],
   "source": [
    "a = int(input())\n",
    "b = list(map(int,input().split()))\n",
    "\n",
    "c=sorted(list(set(b)))\n",
    "for i in c:\n",
    "    print(i,end=\" \")"
   ]
  },
  {
   "cell_type": "code",
   "execution_count": null,
   "metadata": {},
   "outputs": [],
   "source": [
    "4 4 4 4 4 4 4\n",
    "4 3 3 3 3 3 4\n",
    "4 3 2 2 2 3 4\n",
    "4 3 2 1 2 3 4\n",
    "4 3 2 2 2 3 4 \n",
    "4 3 3 3 3 3 4\n",
    "4 4 4 4 4 4 4"
   ]
  },
  {
   "cell_type": "code",
   "execution_count": null,
   "metadata": {
    "scrolled": true
   },
   "outputs": [],
   "source": [
    "a = int(input())\n",
    "count=1\n",
    "for i in range(0,(2*a)-1):\n",
    "    for j in range(0,(2*a)-1):\n",
    "        c = i\n",
    "        d = j\n",
    "        if(i>=a):\n",
    "            c=(2*a)-2-i\n",
    "        if(j>=a):\n",
    "            d = (2*a)-2-j\n",
    "        print(max(abs(a-c),abs(a-d)),end=\" \")\n",
    "    print()"
   ]
  },
  {
   "cell_type": "code",
   "execution_count": null,
   "metadata": {},
   "outputs": [],
   "source": [
    "num = [-5,0]\n",
    "q=[[2,2]]\n",
    "n = num[q[0][0]-1:q[0][1]]"
   ]
  },
  {
   "cell_type": "code",
   "execution_count": null,
   "metadata": {},
   "outputs": [],
   "source": [
    "c = n.count(0)\n",
    "su = sum(n)+c*q[0][2]\n",
    "su=str(su)"
   ]
  },
  {
   "cell_type": "code",
   "execution_count": null,
   "metadata": {},
   "outputs": [],
   "source": [
    "print(\"\".join(map(str, su)))"
   ]
  },
  {
   "cell_type": "code",
   "execution_count": null,
   "metadata": {},
   "outputs": [],
   "source": [
    "n = int(input())\n",
    "if(n%2==0):\n",
    "    print(n//2)\n",
    "else:\n",
    "    print(-((n//2)+1))"
   ]
  },
  {
   "cell_type": "code",
   "execution_count": null,
   "metadata": {},
   "outputs": [],
   "source": [
    "for _ in range(int(input())):\n",
    "    n,k = map(int,input().split())\n",
    "    a = list(map(int,input().split()))\n",
    "    b = sum(a)\n",
    "    if(b%k==0):\n",
    "        print(0)\n",
    "    else:\n",
    "        print(1)"
   ]
  },
  {
   "cell_type": "code",
   "execution_count": null,
   "metadata": {},
   "outputs": [],
   "source": [
    "12%5"
   ]
  },
  {
   "cell_type": "code",
   "execution_count": null,
   "metadata": {},
   "outputs": [],
   "source": [
    "'0110'\n",
    "'0011'"
   ]
  },
  {
   "cell_type": "code",
   "execution_count": null,
   "metadata": {},
   "outputs": [],
   "source": [
    "a='011010100'\n",
    "b='010001011'\n",
    "count=0\n",
    "for i in range(b.count('1')):\n",
    "    if(b.index('1',i)>=a.index('1',i)):\n",
    "        count+=1\n",
    "    print(b.index('1',i),a.index('1',i))\n",
    "print(count)"
   ]
  },
  {
   "cell_type": "code",
   "execution_count": null,
   "metadata": {},
   "outputs": [],
   "source": [
    "for _ in range(int(input())):\n",
    "    a = input()\n",
    "    b = list(set(a))\n",
    "    c = 0\n",
    "    d = 0\n",
    "    for i in b:\n",
    "        if(a.count(i)%2==0):\n",
    "            c+=a.count(i)//2\n",
    "        elif(a.count(i)>2 and a.count(i)%2!=0):\n",
    "            c+=(a.count(i)-1)//2\n",
    "            d+=1\n",
    "        else:\n",
    "            d+=a.count(i)\n",
    "    if(c<=d):\n",
    "        print(c)\n",
    "    else:\n",
    "        print(d)"
   ]
  },
  {
   "cell_type": "code",
   "execution_count": null,
   "metadata": {},
   "outputs": [],
   "source": [
    "b"
   ]
  },
  {
   "cell_type": "code",
   "execution_count": null,
   "metadata": {},
   "outputs": [],
   "source": [
    "d"
   ]
  },
  {
   "cell_type": "code",
   "execution_count": null,
   "metadata": {},
   "outputs": [],
   "source": [
    "c"
   ]
  },
  {
   "cell_type": "code",
   "execution_count": null,
   "metadata": {},
   "outputs": [],
   "source": [
    "a = 'paidimarri'\n",
    "sorted(a)"
   ]
  },
  {
   "cell_type": "code",
   "execution_count": null,
   "metadata": {},
   "outputs": [],
   "source": [
    "for _ in range(int(input())):\n",
    "    a = input()\n",
    "    a_count = a.count('a')\n",
    "    b_count=a.count('b')\n",
    "    if(a_count>b_count):\n",
    "        if(a_count>1 and b_count>0):\n",
    "            print(b_count)\n",
    "        else:\n",
    "            print(0)\n",
    "    else:\n",
    "        if(b_count>1 and a_count>0):\n",
    "            print(a_count)\n",
    "        else:\n",
    "            print(0)"
   ]
  },
  {
   "cell_type": "code",
   "execution_count": null,
   "metadata": {},
   "outputs": [],
   "source": [
    "a_count"
   ]
  },
  {
   "cell_type": "code",
   "execution_count": null,
   "metadata": {},
   "outputs": [],
   "source": [
    "b_count"
   ]
  },
  {
   "cell_type": "code",
   "execution_count": null,
   "metadata": {},
   "outputs": [],
   "source": [
    "(1/2) [x1 (y2 – y3 ) + x2 (y3 – y1 ) + x3(y1 – y2)]"
   ]
  },
  {
   "cell_type": "code",
   "execution_count": null,
   "metadata": {},
   "outputs": [],
   "source": [
    "for _ in range(int(input())):\n",
    "    a = int(input())\n",
    "    b = list(map(int,input().split())) \n",
    "    d=[]\n",
    "    x1=0\n",
    "    y1=1\n",
    "    count=0\n",
    "    for i in range(len(b)):\n",
    "        for j in range(i+1,len(b)):\n",
    "            x2=b[i]\n",
    "            y2=0\n",
    "            x3=b[j]\n",
    "            y3=0\n",
    "            area=0.5*(x1*(y2-y3 ) + x2*(y3 - y1 ) + x3*(y1 - y2))\n",
    "            if(area not in d):\n",
    "                d.append(area)\n",
    "                count+=1\n",
    "    print(count)"
   ]
  },
  {
   "cell_type": "code",
   "execution_count": null,
   "metadata": {},
   "outputs": [],
   "source": [
    "8\n",
    "4\n",
    "1 2 4 5\n",
    "3\n",
    "1 3 5\n",
    "3\n",
    "2 6 8\n",
    "2\n",
    "1 2\n",
    "1\n",
    "50\n",
    "5\n",
    "3 4 5 6 8\n",
    "3\n",
    "1 25 26\n",
    "6\n",
    "1 2 4 8 16 32"
   ]
  },
  {
   "cell_type": "code",
   "execution_count": null,
   "metadata": {},
   "outputs": [],
   "source": [
    "f=[]\n",
    "g=[]\n",
    "for _ in range(int(input())):\n",
    "    a = int(input())\n",
    "    b = list(map(int,input().split()))\n",
    "    if b not in f:\n",
    "        f.append(b)\n",
    "        d = []\n",
    "        count=0\n",
    "        for i in b:\n",
    "            if(i not in d):\n",
    "                d.append(i)\n",
    "                count+=1\n",
    "            elif(i in d):\n",
    "                e=i+1\n",
    "                if(e not in d):\n",
    "                    d.append(e)\n",
    "                    count+=1\n",
    "        g.append(count)\n",
    "        print(count)\n",
    "    elif(b in f):\n",
    "        print(g[f.index(b)])"
   ]
  },
  {
   "cell_type": "code",
   "execution_count": null,
   "metadata": {},
   "outputs": [],
   "source": [
    "b"
   ]
  },
  {
   "cell_type": "code",
   "execution_count": null,
   "metadata": {},
   "outputs": [],
   "source": [
    "f"
   ]
  },
  {
   "cell_type": "code",
   "execution_count": null,
   "metadata": {},
   "outputs": [],
   "source": [
    "g"
   ]
  },
  {
   "cell_type": "code",
   "execution_count": null,
   "metadata": {},
   "outputs": [],
   "source": [
    "f.index(b)"
   ]
  },
  {
   "cell_type": "code",
   "execution_count": null,
   "metadata": {},
   "outputs": [],
   "source": [
    "for _ in range(int(input())):\n",
    "    n,k_problems,d_days = map(int,input().split())\n",
    "    a = list(map(int,input().split()))\n",
    "    total_problems = sum(a)\n",
    "    days = total_problems//k_problems\n",
    "    if(days<=d_days):\n",
    "        print(days)\n",
    "    elif(days>d_days):\n",
    "        print(d_days)"
   ]
  },
  {
   "cell_type": "code",
   "execution_count": null,
   "metadata": {},
   "outputs": [],
   "source": [
    "alpha ='abcdefghijklmnop'\n",
    "d_code=['0000','0001','0010','0011','0100','0101','0110','0111','1000','1001','1010','1011','1100','1101','1110','1111']\n",
    "for _ in range(int(input())):\n",
    "    a = int(input())\n",
    "    b = input()\n",
    "    count=0\n",
    "    b2=''\n",
    "    d=''\n",
    "    e=''\n",
    "    for i in b:\n",
    "        count+=1\n",
    "        b2=b2+i\n",
    "        if(count==4):\n",
    "            d = alpha[d_code.index(b2)]\n",
    "            b2=''\n",
    "            e+=d\n",
    "            count=0\n",
    "    print(e)"
   ]
  },
  {
   "cell_type": "code",
   "execution_count": null,
   "metadata": {
    "scrolled": false
   },
   "outputs": [],
   "source": [
    "for _ in range(int(input())):\n",
    "    m,n = map(int,input().split())\n",
    "    a = list(map(int,input().split()))\n",
    "    b = list(map(int,input().split()))\n",
    "    a = sorted(a)\n",
    "    b = sorted(b,reverse=True)\n",
    "    sa = sum(a)\n",
    "    sb = sum(b)\n",
    "    count=0\n",
    "    while(sa<sb and count<=m and count<=n):\n",
    "        mi = a.pop()\n",
    "        ma = b.pop()\n",
    "        sa = sa-mi+ma\n",
    "        sb = sb-ma+mi\n",
    "        count+=1\n",
    "    print(count)"
   ]
  },
  {
   "cell_type": "code",
   "execution_count": null,
   "metadata": {},
   "outputs": [],
   "source": [
    "for _ in range(int(input())):\n",
    "    n,k,x,y = map(int,input().split())\n",
    "    count=0\n",
    "    a = 0\n",
    "    if(x==0 or x==n or y==n or y==0):\n",
    "        if(k>4):\n",
    "            k=k%4\n",
    "        while(count!=k):\n",
    "            if(a==0):\n",
    "                y=y+(n-x)\n",
    "                x=n\n",
    "            elif(a==1):\n",
    "                x = x-(n-y)\n",
    "                y = n\n",
    "            elif(a==2):\n",
    "                y = y-x\n",
    "                x = 0\n",
    "            elif(a==3):\n",
    "                x = y\n",
    "                y=0\n",
    "            a+=1\n",
    "            if(a==4):\n",
    "                a=0\n",
    "            count+=1\n",
    "            if((x==0 and y==0) or (x==n or y==n) or (x==n and y==0) and (x==0 and y==n)):\n",
    "                break \n",
    "            print(x,y)"
   ]
  },
  {
   "cell_type": "code",
   "execution_count": null,
   "metadata": {},
   "outputs": [],
   "source": [
    "else:\n",
    "    count+=1\n",
    "    y = y+(n-x)\n",
    "    x=n\n",
    "    k=k-1\n",
    "    if(x==0 or x==n or y==n or y==0):\n",
    "        if(k>4):\n",
    "            k=k%4\n",
    "        while(count!=k):\n",
    "            if(a==0):\n",
    "                y=y+(n-x)\n",
    "                x=n\n",
    "            elif(a==1):\n",
    "                x = x-(n-y)\n",
    "                y = n\n",
    "            elif(a==2):\n",
    "                y = y-x\n",
    "                x = 0\n",
    "            elif(a==3):\n",
    "                x = y\n",
    "                y=0\n",
    "            a+=1\n",
    "            if(a==4):\n",
    "                a=0\n",
    "            count+=1\n",
    "            if((x==0 and y==0) or (x==n or y==n) or (x==n and y==0) and (x==0 and y==n)):\n",
    "                break  "
   ]
  },
  {
   "cell_type": "code",
   "execution_count": null,
   "metadata": {},
   "outputs": [],
   "source": [
    "for _ in range(int(input())):\n",
    "    m,n = map(int,input().split())\n",
    "    a = list(map(int,input().split()))\n",
    "    b = list(map(int,input().split()))\n",
    "    a = sorted(a)\n",
    "    b = sorted(b,reverse=True)\n",
    "    sa = sum(a)\n",
    "    sb = sum(b)\n",
    "    count=0\n",
    "    t = 1\n",
    "    while(sa<=sb):\n",
    "        mi = a.pop(0)\n",
    "        ma = b.pop(0)\n",
    "        if(mi>=ma):\n",
    "            t=0\n",
    "            break\n",
    "        sa = sa-mi+ma\n",
    "        sb = sb-ma+mi\n",
    "        count+=1\n",
    "        if(count==n or count==m):\n",
    "            break\n",
    "    if(sa>sb and t==1):\n",
    "        print(count)\n",
    "    else:\n",
    "        print(-1)"
   ]
  },
  {
   "cell_type": "code",
   "execution_count": null,
   "metadata": {},
   "outputs": [],
   "source": []
  },
  {
   "cell_type": "code",
   "execution_count": null,
   "metadata": {},
   "outputs": [],
   "source": [
    "for _ in range(int(input())):\n",
    "    n,k,x,y = map(int,input().split())\n",
    "    count=0\n",
    "    a = 0\n",
    "    if(x>y):\n",
    "        if(k>4 and k%4!=0):\n",
    "            k=k%4\n",
    "        elif(k>4 and k%4==0):\n",
    "            k=4\n",
    "        while(count!=k):\n",
    "            if(a==0):\n",
    "                y=y+(n-x)\n",
    "                x=n\n",
    "            elif(a==1):\n",
    "                x = x-(n-y)\n",
    "                y = n\n",
    "            elif(a==2):\n",
    "                y = y-x\n",
    "                x = 0\n",
    "            elif(a==3):\n",
    "                x = y\n",
    "                y=0\n",
    "            a+=1\n",
    "            if(a==4):\n",
    "                a=0\n",
    "            count+=1 \n",
    "        print(x,y)\n",
    "    elif(x==y):\n",
    "        print(n,n)\n",
    "    elif(x<y):\n",
    "        if(k>4 and k%4!=0):\n",
    "            k=k%4\n",
    "        elif(k>4 and k%4==0):\n",
    "            k=4\n",
    "        while(count!=k):\n",
    "            if(a==0):\n",
    "                x=n-y+x\n",
    "                y=n\n",
    "            elif(a==1):\n",
    "                y=x+n-y\n",
    "                x=n\n",
    "            elif(a==2):\n",
    "                x=x-y\n",
    "                y=0\n",
    "            elif(a==3):\n",
    "                y=x-y\n",
    "                x=0\n",
    "            a+=1\n",
    "            if(a==4):\n",
    "                a=0\n",
    "            count+=1\n",
    "        print(x,y)"
   ]
  },
  {
   "cell_type": "code",
   "execution_count": null,
   "metadata": {},
   "outputs": [],
   "source": [
    "for _ in range(int(input())):\n",
    "    n,k = map(int,input().split())\n",
    "    a = list(map(int,input().split()))\n",
    "    a = sorted(a,reverse=True)\n",
    "    mike,tracy=0,0\n",
    "    b=0\n",
    "    boxes=0\n",
    "    if(sum(a)>=2*k):\n",
    "        while((mike<k or tracy<k) and b<len(a)):\n",
    "            if(mike<k and b<len(a)):\n",
    "                mike+=a[b]\n",
    "                b+=1\n",
    "                boxes+=1\n",
    "            if(tracy<k and b<len(a)):\n",
    "                tracy+=a[b]\n",
    "                b+=1\n",
    "                boxes+=1\n",
    "            if(mike>=k and tracy>=k):\n",
    "                break\n",
    "            if(b>=len(a)):\n",
    "                break\n",
    "        if(mike>=k and tracy>=k):\n",
    "            print(boxes)\n",
    "        else:\n",
    "            print(-1)\n",
    "    else:\n",
    "        print(-1)"
   ]
  },
  {
   "cell_type": "code",
   "execution_count": null,
   "metadata": {},
   "outputs": [],
   "source": [
    "for _ in range(int(input())):\n",
    "    n,k = map(int,input().split())\n",
    "    a = list(map(int,input().split()))\n",
    "    a = sorted(a,reverse=True)\n",
    "    b = []\n",
    "    c = 0\n",
    "    for i in a:\n",
    "        c+=i\n",
    "        b.append(i)\n",
    "        if(c>=2*k):\n",
    "            break\n",
    "    print(b,c)"
   ]
  },
  {
   "cell_type": "code",
   "execution_count": null,
   "metadata": {},
   "outputs": [],
   "source": [
    "d=[]\n",
    "for l in range(len(b)):\n",
    "    d.append(['f']*(c+1))\n",
    "print(d)"
   ]
  },
  {
   "cell_type": "code",
   "execution_count": null,
   "metadata": {},
   "outputs": [],
   "source": [
    "for i in range(len(b)):\n",
    "    d[i][0]='t'\n",
    "print(d)"
   ]
  },
  {
   "cell_type": "code",
   "execution_count": null,
   "metadata": {},
   "outputs": [],
   "source": [
    "for j in range(c+1):\n",
    "    d[0][j]='t'\n",
    "print(d)"
   ]
  },
  {
   "cell_type": "code",
   "execution_count": null,
   "metadata": {},
   "outputs": [],
   "source": [
    "for _ in range(int(input())):\n",
    "    w,h,n = map(int,input().split())\n",
    "    count=1\n",
    "    while(count<n):\n",
    "        if(w%2==0):\n",
    "            w=w//2\n",
    "            count*=2\n",
    "        elif(h%2==0):\n",
    "            h=h//2\n",
    "            count*=2\n",
    "        if(w%2!=0 and h%2!=0):\n",
    "            break\n",
    "    if(count>=n):\n",
    "        print('YES')\n",
    "    else:\n",
    "        print('NO')\n"
   ]
  },
  {
   "cell_type": "code",
   "execution_count": null,
   "metadata": {},
   "outputs": [],
   "source": [
    "for _ in range(int(input())):\n",
    "    a = int(input())\n",
    "    b = list(map(int,input().split()))\n",
    "    twos = b.count(2)\n",
    "    ones = b.count(1)\n",
    "    \n",
    "    if(twos%2==0 and ones%2==0):\n",
    "        print('YES')\n",
    "    elif(twos%2==0 and ones%2!=0):\n",
    "        print('NO')\n",
    "    elif(twos%2!=0 and ones%2==0 and ones>0):\n",
    "        print('YES')\n",
    "    else:\n",
    "        print('NO')"
   ]
  },
  {
   "cell_type": "code",
   "execution_count": 13,
   "metadata": {},
   "outputs": [
    {
     "name": "stdout",
     "output_type": "stream",
     "text": [
      "4\n",
      "5\n",
      "7 3 1 2 3\n",
      "7\n",
      "3\n",
      "2 1 4\n",
      "6\n",
      "6\n",
      "2 1000 2 3 995 1\n",
      "1000\n",
      "5\n",
      "1 1 1 1 1\n",
      "5\n"
     ]
    }
   ],
   "source": [
    "for _ in range(int(input())):\n",
    "    n = int(input())\n",
    "    a = list(map(int,input().split()))\n",
    "    d=[]\n",
    "    for i in range(1,len(a)+1):\n",
    "        count=i\n",
    "        e=0\n",
    "        while(count<=n):\n",
    "            e+=a[count-1]\n",
    "            count=count+a[count-1]\n",
    "        d.append(e)\n",
    "    print(max(d))"
   ]
  },
  {
   "cell_type": "code",
   "execution_count": null,
   "metadata": {},
   "outputs": [],
   "source": [
    "4\n",
    "5\n",
    "7 3 1 2 3\n",
    "3\n",
    "2 1 4\n",
    "6\n",
    "2 1000 2 3 995 1\n",
    "5\n",
    "1 1 1 1 1"
   ]
  },
  {
   "cell_type": "code",
   "execution_count": 12,
   "metadata": {},
   "outputs": [
    {
     "data": {
      "text/plain": [
       "[7, 6, 3, 2, 3]"
      ]
     },
     "execution_count": 12,
     "metadata": {},
     "output_type": "execute_result"
    }
   ],
   "source": [
    "d"
   ]
  },
  {
   "cell_type": "code",
   "execution_count": 8,
   "metadata": {},
   "outputs": [
    {
     "data": {
      "text/plain": [
       "5"
      ]
     },
     "execution_count": 8,
     "metadata": {},
     "output_type": "execute_result"
    }
   ],
   "source": [
    "round(15/3)"
   ]
  },
  {
   "cell_type": "code",
   "execution_count": 41,
   "metadata": {},
   "outputs": [
    {
     "name": "stdout",
     "output_type": "stream",
     "text": [
      "2\n",
      "3 3\n",
      "3 6 9\n",
      "6 6\n",
      "3 3\n",
      "6 4 11\n",
      "7 8\n"
     ]
    }
   ],
   "source": [
    "for _ in range(int(input())):\n",
    "    n,x = map(int,input().split())\n",
    "    a = list(map(int,input().split()))\n",
    "    d=0\n",
    "    for i in a:\n",
    "        if(i%x!=0):\n",
    "            d+=i//x\n",
    "            d+=1\n",
    "        else:\n",
    "            d+=i//x\n",
    "    c = round(sum(a))//x\n",
    "    print(min(d,c),max(d,c))"
   ]
  },
  {
   "cell_type": "code",
   "execution_count": 47,
   "metadata": {},
   "outputs": [
    {
     "name": "stdout",
     "output_type": "stream",
     "text": [
      "2\n",
      "1 2\n",
      "12\n",
      "36\n",
      "4 2\n",
      "4 6 8 2\n",
      "44\n"
     ]
    }
   ],
   "source": [
    "for _ in range(int(input())):\n",
    "    n , x =  map(int,input().split())\n",
    "    a = list(map(int,input().split()))\n",
    "    b=[]\n",
    "    for i in a:\n",
    "        if(i%x==0):\n",
    "            b.append(i//x)\n",
    "            b=b*x\n",
    "            a+=b\n",
    "            b=[]\n",
    "        else:\n",
    "            break\n",
    "    print(sum(a))"
   ]
  },
  {
   "cell_type": "code",
   "execution_count": 45,
   "metadata": {},
   "outputs": [
    {
     "data": {
      "text/plain": [
       "[2, 2, 2, 2, 2]"
      ]
     },
     "execution_count": 45,
     "metadata": {},
     "output_type": "execute_result"
    }
   ],
   "source": [
    "2\n",
    "1 2\n",
    "12\n",
    "4 2\n",
    "4 6 8 2\n"
   ]
  },
  {
   "cell_type": "code",
   "execution_count": 23,
   "metadata": {},
   "outputs": [
    {
     "data": {
      "text/plain": [
       "5"
      ]
     },
     "execution_count": 23,
     "metadata": {},
     "output_type": "execute_result"
    }
   ],
   "source": [
    "round(15/3)"
   ]
  },
  {
   "cell_type": "code",
   "execution_count": 8,
   "metadata": {},
   "outputs": [
    {
     "name": "stdout",
     "output_type": "stream",
     "text": [
      "4\n",
      "5\n",
      "7 3 1 2 3\n",
      "7\n",
      "3\n",
      "2 1 4\n",
      "6\n",
      "6\n",
      "2 1000 2 3 995 1\n",
      "1000\n",
      "5\n",
      "1 1 1 1 1\n",
      "5\n"
     ]
    }
   ],
   "source": [
    "for _ in range(int(input())):\n",
    "    n = int(input())\n",
    "    a = list(map(int,input().split()))\n",
    "    b = [0]*n\n",
    "    for i in range(n-1,-1,-1):\n",
    "        if(i+a[i]>=n):\n",
    "            b[i]=a[i]\n",
    "        else:\n",
    "            b[i]=a[i]+b[i+a[i]]\n",
    "    print(max(b))"
   ]
  },
  {
   "cell_type": "code",
   "execution_count": 5,
   "metadata": {},
   "outputs": [
    {
     "data": {
      "text/plain": [
       "[0, 0, 0, 0, 0]"
      ]
     },
     "execution_count": 5,
     "metadata": {},
     "output_type": "execute_result"
    }
   ],
   "source": [
    "4\n",
    "5\n",
    "7 3 1 2 3\n",
    "3\n",
    "2 1 4\n",
    "6\n",
    "2 1000 2 3 995 1\n",
    "5\n",
    "1 1 1 1 1"
   ]
  },
  {
   "cell_type": "code",
   "execution_count": null,
   "metadata": {},
   "outputs": [],
   "source": []
  },
  {
   "cell_type": "code",
   "execution_count": 8,
   "metadata": {},
   "outputs": [
    {
     "name": "stdout",
     "output_type": "stream",
     "text": [
      "1\n",
      "5\n",
      "abcd\n",
      "0\n"
     ]
    }
   ],
   "source": [
    "for _ in range(int(input())):\n",
    "    a = int(input())\n",
    "    b = input()\n",
    "    count=0\n",
    "    for i in range(0,len(b)-1):\n",
    "        if(b[i]==b[i+1]):\n",
    "            count+=1\n",
    "    print(count)"
   ]
  },
  {
   "cell_type": "code",
   "execution_count": 26,
   "metadata": {},
   "outputs": [
    {
     "name": "stdout",
     "output_type": "stream",
     "text": [
      "1\n",
      "ab hi ra m\n",
      "1\n",
      " b c d e f g h i j k l m n o p q r s t u v w x y z\n",
      "0\n"
     ]
    }
   ],
   "source": [
    "for _ in range(int(input())):\n",
    "    a = input()\n",
    "    a = a.replace(\" \",'')\n",
    "    d = list(set(a))\n",
    "    b = int(input())\n",
    "    c = list(map(str,input().split()))\n",
    "    e = True\n",
    "    for i in d:\n",
    "        if(i in c):\n",
    "            pass\n",
    "        else:\n",
    "            e=False\n",
    "            break\n",
    "    if(e==True):\n",
    "        print(1)\n",
    "    else:\n",
    "        print(0)\n",
    "    a = ['aa','bb','cc','dd','ee','ff','gg','hh','ii','jj','kk','ll','mm','nn','oo','pp','qq','rr','ss','tt','uu','vv','ww','xx','yy','zz']\n"
   ]
  },
  {
   "cell_type": "code",
   "execution_count": 42,
   "metadata": {},
   "outputs": [
    {
     "name": "stdout",
     "output_type": "stream",
     "text": [
      "1\n",
      "abbac\n",
      "1\n"
     ]
    }
   ],
   "source": [
    "for _ in range(int(input())):\n",
    "    b = input()\n",
    "    for i in b:\n",
    "        if('aa'in b):\n",
    "            b=b.replace('aa','')\n",
    "        if('bb'in b):\n",
    "            b=b.replace('bb','')\n",
    "        if('cc'in b):\n",
    "            b=b.replace('cc','')\n",
    "        if('dd'in b):\n",
    "            b=b.replace('dd','')\n",
    "        if('ee'in b):\n",
    "            b=b.replace('ee','')\n",
    "        if('ff'in b):\n",
    "            b=b.replace('ff','')\n",
    "        if('gg'in b):\n",
    "            b=b.replace('gg','')\n",
    "        if('hh'in b):\n",
    "            b=b.replace('hh','')\n",
    "        if('ii'in b):\n",
    "            b=b.replace('ii','')\n",
    "        if('jj'in b):\n",
    "            b=b.replace('jj','')\n",
    "        if('kk'in b):\n",
    "            b=b.replace('kk','')\n",
    "        if('ll'in b):\n",
    "            b=b.replace('ll','')\n",
    "        if('mm'in b):\n",
    "            b=b.replace('mm','')\n",
    "        if('nn'in b):\n",
    "            b=b.replace('nn','')\n",
    "        if('oo'in b):\n",
    "            b=b.replace('oo','')\n",
    "        if('pp'in b):\n",
    "            b=b.replace('pp','')\n",
    "        if('qq'in b):\n",
    "            b=b.replace('qq','')\n",
    "        if('rr'in b):\n",
    "            b=b.replace('rr','')\n",
    "        if('ss'in b):\n",
    "            b=b.replace('ss','')\n",
    "        if('tt'in b):\n",
    "            b=b.replace('tt','')\n",
    "        if('uu'in b):\n",
    "            b=b.replace('ii','')\n",
    "        if('vv'in b):\n",
    "            b=b.replace('vv','')\n",
    "        if('ww'in b):\n",
    "            b=b.replace('ww','')\n",
    "        if('xx'in b):\n",
    "            b=b.replace('xx','')\n",
    "        if('yy'in b):\n",
    "            b=b.replace('yy','')\n",
    "        if('zz'in b):\n",
    "            b=b.replace('zz','')\n",
    "    print(len(b))"
   ]
  },
  {
   "cell_type": "code",
   "execution_count": 48,
   "metadata": {},
   "outputs": [
    {
     "name": "stdout",
     "output_type": "stream",
     "text": [
      "abbacd\n",
      "a\n",
      "b\n",
      "c\n",
      "d\n"
     ]
    },
    {
     "ename": "IndexError",
     "evalue": "string index out of range",
     "output_type": "error",
     "traceback": [
      "\u001b[1;31m---------------------------------------------------------------------------\u001b[0m",
      "\u001b[1;31mIndexError\u001b[0m                                Traceback (most recent call last)",
      "\u001b[1;32m<ipython-input-48-6be7835612f7>\u001b[0m in \u001b[0;36m<module>\u001b[1;34m\u001b[0m\n\u001b[0;32m      2\u001b[0m \u001b[1;32mfor\u001b[0m \u001b[0mi\u001b[0m \u001b[1;32min\u001b[0m \u001b[0mrange\u001b[0m\u001b[1;33m(\u001b[0m\u001b[1;36m0\u001b[0m\u001b[1;33m,\u001b[0m\u001b[0mlen\u001b[0m\u001b[1;33m(\u001b[0m\u001b[0ma\u001b[0m\u001b[1;33m)\u001b[0m\u001b[1;33m-\u001b[0m\u001b[1;36m1\u001b[0m\u001b[1;33m)\u001b[0m\u001b[1;33m:\u001b[0m\u001b[1;33m\u001b[0m\u001b[1;33m\u001b[0m\u001b[0m\n\u001b[0;32m      3\u001b[0m     \u001b[0mprint\u001b[0m\u001b[1;33m(\u001b[0m\u001b[0ma\u001b[0m\u001b[1;33m[\u001b[0m\u001b[0mi\u001b[0m\u001b[1;33m]\u001b[0m\u001b[1;33m)\u001b[0m\u001b[1;33m\u001b[0m\u001b[1;33m\u001b[0m\u001b[0m\n\u001b[1;32m----> 4\u001b[1;33m     \u001b[1;32mif\u001b[0m\u001b[1;33m(\u001b[0m\u001b[0ma\u001b[0m\u001b[1;33m[\u001b[0m\u001b[0mi\u001b[0m\u001b[1;33m]\u001b[0m\u001b[1;33m==\u001b[0m\u001b[0ma\u001b[0m\u001b[1;33m[\u001b[0m\u001b[0mi\u001b[0m\u001b[1;33m+\u001b[0m\u001b[1;36m1\u001b[0m\u001b[1;33m]\u001b[0m\u001b[1;33m)\u001b[0m\u001b[1;33m:\u001b[0m\u001b[1;33m\u001b[0m\u001b[1;33m\u001b[0m\u001b[0m\n\u001b[0m\u001b[0;32m      5\u001b[0m         \u001b[0ma\u001b[0m\u001b[1;33m=\u001b[0m\u001b[0ma\u001b[0m\u001b[1;33m.\u001b[0m\u001b[0mreplace\u001b[0m\u001b[1;33m(\u001b[0m\u001b[0ma\u001b[0m\u001b[1;33m[\u001b[0m\u001b[0mi\u001b[0m\u001b[1;33m]\u001b[0m\u001b[1;33m+\u001b[0m\u001b[0ma\u001b[0m\u001b[1;33m[\u001b[0m\u001b[0mi\u001b[0m\u001b[1;33m+\u001b[0m\u001b[1;36m1\u001b[0m\u001b[1;33m]\u001b[0m\u001b[1;33m,\u001b[0m\u001b[1;34m''\u001b[0m\u001b[1;33m)\u001b[0m\u001b[1;33m\u001b[0m\u001b[1;33m\u001b[0m\u001b[0m\n\u001b[0;32m      6\u001b[0m         \u001b[0mi\u001b[0m\u001b[1;33m=\u001b[0m\u001b[0mi\u001b[0m\u001b[1;33m-\u001b[0m\u001b[1;36m1\u001b[0m\u001b[1;33m\u001b[0m\u001b[1;33m\u001b[0m\u001b[0m\n",
      "\u001b[1;31mIndexError\u001b[0m: string index out of range"
     ]
    }
   ],
   "source": [
    "a=input()\n",
    "for i in range(0,len(a)-1):\n",
    "    print(a[i])\n",
    "    if(a[i]==a[i+1]):\n",
    "        a=a.replace(a[i]+a[i+1],'')\n",
    "        i=i-1\n",
    "print(a,len(a))"
   ]
  },
  {
   "cell_type": "code",
   "execution_count": 52,
   "metadata": {},
   "outputs": [
    {
     "name": "stdout",
     "output_type": "stream",
     "text": [
      "7\n",
      "a b h i r a m\n",
      "['a', 'b', 'h', 'i', 'r', 'a', 'm']\n",
      "b\n",
      "h\n",
      "r\n",
      "m\n",
      "4\n"
     ]
    }
   ],
   "source": [
    "a = int(input())\n",
    "b = input().split()\n",
    "print(b)\n",
    "c='aeiouAEIOU'\n",
    "count=0\n",
    "for i in b:\n",
    "    if(i not in c):\n",
    "        count+=1\n",
    "        print(i)\n",
    "print(count)"
   ]
  },
  {
   "cell_type": "code",
   "execution_count": 23,
   "metadata": {},
   "outputs": [
    {
     "name": "stdout",
     "output_type": "stream",
     "text": [
      "55\n",
      "257\n"
     ]
    }
   ],
   "source": [
    "import math\n",
    "def prime(n):\n",
    "    a=[True]*(n+1)\n",
    "    d=[]\n",
    "    a[0]=False\n",
    "    a[1]=False\n",
    "    for i in range(2,int(math.sqrt(n+1))):\n",
    "        if(a[i]==True):\n",
    "            for j in range(i*i,n+1,i):\n",
    "                a[j]=False\n",
    "    for i in range(len(a)):\n",
    "        if(a[i]==True):\n",
    "            d.append(i)\n",
    "    return d\n",
    "b=prime(1000000)\n",
    "\n",
    "a = int(input())\n",
    "print(b[a-1])"
   ]
  },
  {
   "cell_type": "code",
   "execution_count": 21,
   "metadata": {},
   "outputs": [
    {
     "name": "stdout",
     "output_type": "stream",
     "text": [
      "Enter number of Stairs:3\n",
      "Number of ways: 3\n"
     ]
    }
   ],
   "source": [
    "n = int(input(\"Enter number of Stairs:\"))\n",
    "def calc(x):\n",
    "    if x <= 1:\n",
    "        return x\n",
    "    return  calc(x - 1) + calc(x - 2) \n",
    "\n",
    "\n",
    "def count(n):\n",
    "    return calc(n + 1)\n",
    "\n",
    "\n",
    "print(\"Number of ways:\", count(n))"
   ]
  },
  {
   "cell_type": "code",
   "execution_count": 29,
   "metadata": {},
   "outputs": [
    {
     "name": "stdout",
     "output_type": "stream",
     "text": [
      "5\n",
      "13\n"
     ]
    }
   ],
   "source": [
    "def findStep( n) : \n",
    "    if (n == 1 or n == 0) : \n",
    "        return 1\n",
    "    elif (n == 2) : \n",
    "        return 2\n",
    "      \n",
    "    else : \n",
    "        return findStep(n - 3) + findStep(n - 2) + findStep(n - 1)  \n",
    "  \n",
    "  \n",
    "# Driver code \n",
    "n = int(input())\n",
    "print(findStep(n))"
   ]
  },
  {
   "cell_type": "code",
   "execution_count": 2,
   "metadata": {},
   "outputs": [
    {
     "name": "stdout",
     "output_type": "stream",
     "text": [
      "3\n",
      "5 3\n",
      "2 3 2 5 4\n",
      "NO\n",
      "3 4\n",
      "2 4 4\n",
      "YES\n",
      "5 4\n",
      "2 1 5 3 6\n",
      "YES\n"
     ]
    }
   ],
   "source": [
    "for _ in range(int(input())):\n",
    "    n,d = map(int,input().split())\n",
    "    a = list(map(int,input().split()))\n",
    "    b = sorted(a)\n",
    "    mi = b[0]\n",
    "    ma = b[1]\n",
    "    if(mi+ma<=d or max(a)<=d):\n",
    "        print('YES')\n",
    "    else:\n",
    "        print('NO')"
   ]
  },
  {
   "cell_type": "code",
   "execution_count": 72,
   "metadata": {},
   "outputs": [
    {
     "name": "stdout",
     "output_type": "stream",
     "text": [
      "3\n",
      "baba\n",
      "ba\n",
      "baba\n",
      "aa\n",
      "aaa\n",
      "aaaaaa\n",
      "aba\n",
      "ab\n",
      "-1\n"
     ]
    }
   ],
   "source": [
    "def compute_lcm(x, y):\n",
    "\n",
    "    if x > y:\n",
    "        greater = x\n",
    "    else:\n",
    "        greater = y\n",
    "\n",
    "    while(True):\n",
    "        if((greater % x == 0) and (greater % y == 0)):\n",
    "            lcm = greater\n",
    "            break\n",
    "        greater += 1\n",
    "    return lcm\n",
    "def repeats(string):\n",
    "    for x in range(1, len(string)):\n",
    "        substring = string[:x]\n",
    "\n",
    "        if substring * (len(string)//len(substring))+(substring[:len(string)%len(substring)]) == string:\n",
    "            return substring\n",
    "\n",
    "    return(string)\n",
    "for _ in range(int(input())):\n",
    "    a = input()\n",
    "    b = input()\n",
    "    if(len(a)<len(b)):\n",
    "        if(len(set(a))==1 and len(set(b))==1):\n",
    "            lcm = compute_lcm(len(a),len(b))\n",
    "            print(a[0]*lcm)\n",
    "        else:\n",
    "            c=b.replace(a,'')\n",
    "            if(len(c)>0):\n",
    "                print(-1)\n",
    "            else:\n",
    "                rep = repeats(a)\n",
    "                lcm = compute_lcm(a.count(rep),b.count(rep))\n",
    "                print(rep*lcm)\n",
    "    elif(len(a)>=len(b)):\n",
    "        if(len(set(a))==1 and len(set(b))==1):\n",
    "            lcm = compute_lcm(len(a),len(b))\n",
    "            print(a[0]*lcm)\n",
    "        else:\n",
    "            c=a.replace(b,'')\n",
    "            if(len(c)>0):\n",
    "                print(-1)\n",
    "            else:\n",
    "                rep = repeats(b)\n",
    "                lcm = compute_lcm(a.count(rep),b.count(rep))\n",
    "                print(rep*lcm)"
   ]
  },
  {
   "cell_type": "code",
   "execution_count": 67,
   "metadata": {},
   "outputs": [
    {
     "data": {
      "text/plain": [
       "'baba'"
      ]
     },
     "execution_count": 67,
     "metadata": {},
     "output_type": "execute_result"
    }
   ],
   "source": [
    "a"
   ]
  },
  {
   "cell_type": "code",
   "execution_count": 68,
   "metadata": {},
   "outputs": [
    {
     "data": {
      "text/plain": [
       "'ba'"
      ]
     },
     "execution_count": 68,
     "metadata": {},
     "output_type": "execute_result"
    }
   ],
   "source": [
    "b"
   ]
  },
  {
   "cell_type": "code",
   "execution_count": 70,
   "metadata": {},
   "outputs": [
    {
     "data": {
      "text/plain": [
       "2"
      ]
     },
     "execution_count": 70,
     "metadata": {},
     "output_type": "execute_result"
    }
   ],
   "source": [
    "a.count('ba')"
   ]
  },
  {
   "cell_type": "code",
   "execution_count": null,
   "metadata": {},
   "outputs": [],
   "source": []
  },
  {
   "cell_type": "code",
   "execution_count": null,
   "metadata": {},
   "outputs": [],
   "source": []
  },
  {
   "cell_type": "code",
   "execution_count": null,
   "metadata": {},
   "outputs": [],
   "source": []
  },
  {
   "cell_type": "code",
   "execution_count": null,
   "metadata": {},
   "outputs": [],
   "source": []
  },
  {
   "cell_type": "code",
   "execution_count": null,
   "metadata": {},
   "outputs": [],
   "source": []
  },
  {
   "cell_type": "code",
   "execution_count": null,
   "metadata": {},
   "outputs": [],
   "source": []
  },
  {
   "cell_type": "code",
   "execution_count": null,
   "metadata": {},
   "outputs": [],
   "source": []
  },
  {
   "cell_type": "code",
   "execution_count": null,
   "metadata": {},
   "outputs": [],
   "source": []
  },
  {
   "cell_type": "code",
   "execution_count": null,
   "metadata": {},
   "outputs": [],
   "source": []
  },
  {
   "cell_type": "code",
   "execution_count": null,
   "metadata": {},
   "outputs": [],
   "source": []
  },
  {
   "cell_type": "code",
   "execution_count": null,
   "metadata": {},
   "outputs": [],
   "source": []
  },
  {
   "cell_type": "code",
   "execution_count": null,
   "metadata": {},
   "outputs": [],
   "source": []
  },
  {
   "cell_type": "code",
   "execution_count": null,
   "metadata": {},
   "outputs": [],
   "source": []
  },
  {
   "cell_type": "code",
   "execution_count": null,
   "metadata": {},
   "outputs": [],
   "source": []
  },
  {
   "cell_type": "code",
   "execution_count": null,
   "metadata": {},
   "outputs": [],
   "source": []
  },
  {
   "cell_type": "code",
   "execution_count": null,
   "metadata": {},
   "outputs": [],
   "source": []
  },
  {
   "cell_type": "code",
   "execution_count": null,
   "metadata": {},
   "outputs": [],
   "source": []
  },
  {
   "cell_type": "code",
   "execution_count": null,
   "metadata": {},
   "outputs": [],
   "source": []
  },
  {
   "cell_type": "code",
   "execution_count": null,
   "metadata": {},
   "outputs": [],
   "source": []
  },
  {
   "cell_type": "code",
   "execution_count": null,
   "metadata": {},
   "outputs": [],
   "source": []
  },
  {
   "cell_type": "code",
   "execution_count": null,
   "metadata": {},
   "outputs": [],
   "source": []
  },
  {
   "cell_type": "code",
   "execution_count": null,
   "metadata": {},
   "outputs": [],
   "source": []
  },
  {
   "cell_type": "code",
   "execution_count": null,
   "metadata": {},
   "outputs": [],
   "source": []
  },
  {
   "cell_type": "code",
   "execution_count": null,
   "metadata": {},
   "outputs": [],
   "source": []
  },
  {
   "cell_type": "code",
   "execution_count": null,
   "metadata": {},
   "outputs": [],
   "source": []
  },
  {
   "cell_type": "code",
   "execution_count": null,
   "metadata": {},
   "outputs": [],
   "source": []
  },
  {
   "cell_type": "code",
   "execution_count": null,
   "metadata": {},
   "outputs": [],
   "source": []
  },
  {
   "cell_type": "code",
   "execution_count": null,
   "metadata": {},
   "outputs": [],
   "source": []
  },
  {
   "cell_type": "code",
   "execution_count": null,
   "metadata": {},
   "outputs": [],
   "source": []
  },
  {
   "cell_type": "code",
   "execution_count": null,
   "metadata": {},
   "outputs": [],
   "source": []
  },
  {
   "cell_type": "code",
   "execution_count": null,
   "metadata": {},
   "outputs": [],
   "source": []
  },
  {
   "cell_type": "code",
   "execution_count": null,
   "metadata": {},
   "outputs": [],
   "source": []
  },
  {
   "cell_type": "code",
   "execution_count": null,
   "metadata": {},
   "outputs": [],
   "source": []
  },
  {
   "cell_type": "code",
   "execution_count": null,
   "metadata": {},
   "outputs": [],
   "source": []
  },
  {
   "cell_type": "code",
   "execution_count": null,
   "metadata": {},
   "outputs": [],
   "source": []
  },
  {
   "cell_type": "code",
   "execution_count": null,
   "metadata": {},
   "outputs": [],
   "source": []
  },
  {
   "cell_type": "code",
   "execution_count": null,
   "metadata": {},
   "outputs": [],
   "source": []
  },
  {
   "cell_type": "code",
   "execution_count": null,
   "metadata": {},
   "outputs": [],
   "source": []
  },
  {
   "cell_type": "code",
   "execution_count": null,
   "metadata": {},
   "outputs": [],
   "source": []
  },
  {
   "cell_type": "code",
   "execution_count": null,
   "metadata": {},
   "outputs": [],
   "source": []
  },
  {
   "cell_type": "code",
   "execution_count": null,
   "metadata": {},
   "outputs": [],
   "source": []
  },
  {
   "cell_type": "code",
   "execution_count": null,
   "metadata": {},
   "outputs": [],
   "source": []
  },
  {
   "cell_type": "code",
   "execution_count": null,
   "metadata": {},
   "outputs": [],
   "source": []
  },
  {
   "cell_type": "code",
   "execution_count": null,
   "metadata": {},
   "outputs": [],
   "source": []
  },
  {
   "cell_type": "code",
   "execution_count": null,
   "metadata": {},
   "outputs": [],
   "source": []
  },
  {
   "cell_type": "code",
   "execution_count": null,
   "metadata": {},
   "outputs": [],
   "source": []
  },
  {
   "cell_type": "code",
   "execution_count": null,
   "metadata": {},
   "outputs": [],
   "source": []
  },
  {
   "cell_type": "code",
   "execution_count": null,
   "metadata": {},
   "outputs": [],
   "source": []
  },
  {
   "cell_type": "code",
   "execution_count": null,
   "metadata": {},
   "outputs": [],
   "source": []
  },
  {
   "cell_type": "code",
   "execution_count": null,
   "metadata": {},
   "outputs": [],
   "source": []
  },
  {
   "cell_type": "code",
   "execution_count": null,
   "metadata": {},
   "outputs": [],
   "source": []
  },
  {
   "cell_type": "code",
   "execution_count": null,
   "metadata": {},
   "outputs": [],
   "source": []
  },
  {
   "cell_type": "code",
   "execution_count": null,
   "metadata": {},
   "outputs": [],
   "source": []
  },
  {
   "cell_type": "code",
   "execution_count": null,
   "metadata": {},
   "outputs": [],
   "source": []
  },
  {
   "cell_type": "code",
   "execution_count": null,
   "metadata": {},
   "outputs": [],
   "source": []
  },
  {
   "cell_type": "code",
   "execution_count": null,
   "metadata": {},
   "outputs": [],
   "source": []
  },
  {
   "cell_type": "code",
   "execution_count": null,
   "metadata": {},
   "outputs": [],
   "source": []
  },
  {
   "cell_type": "code",
   "execution_count": null,
   "metadata": {},
   "outputs": [],
   "source": []
  },
  {
   "cell_type": "code",
   "execution_count": null,
   "metadata": {},
   "outputs": [],
   "source": []
  },
  {
   "cell_type": "code",
   "execution_count": null,
   "metadata": {},
   "outputs": [],
   "source": []
  }
 ],
 "metadata": {
  "kernelspec": {
   "display_name": "Python 3",
   "language": "python",
   "name": "python3"
  },
  "language_info": {
   "codemirror_mode": {
    "name": "ipython",
    "version": 3
   },
   "file_extension": ".py",
   "mimetype": "text/x-python",
   "name": "python",
   "nbconvert_exporter": "python",
   "pygments_lexer": "ipython3",
   "version": "3.7.3"
  }
 },
 "nbformat": 4,
 "nbformat_minor": 4
}
