{
 "cells": [
  {
   "cell_type": "code",
   "execution_count": null,
   "metadata": {},
   "outputs": [],
   "source": [
    "# !pip install pywebio"
   ]
  },
  {
   "cell_type": "code",
   "execution_count": 1,
   "metadata": {},
   "outputs": [],
   "source": [
    "from pywebio.input import *\n",
    "from pywebio.output import *"
   ]
  },
  {
   "cell_type": "code",
   "execution_count": 2,
   "metadata": {},
   "outputs": [],
   "source": [
    "a = input('enter a number',type='text')"
   ]
  },
  {
   "cell_type": "code",
   "execution_count": 3,
   "metadata": {},
   "outputs": [
    {
     "data": {
      "text/plain": [
       "'1032.65'"
      ]
     },
     "execution_count": 3,
     "metadata": {},
     "output_type": "execute_result"
    }
   ],
   "source": [
    "a"
   ]
  },
  {
   "cell_type": "code",
   "execution_count": 4,
   "metadata": {},
   "outputs": [],
   "source": [
    "na=[]\n",
    "while True:\n",
    "    d = {}\n",
    "    name = input('enter your name',type='text')\n",
    "    branch = radio('Please Select Your Branch',options=['ECM','CSE','IT','ECE','MECH'])\n",
    "    lang = checkbox('Please select languages',options=['Python','C','C++','Java','JavaScript'])\n",
    "    text = textarea('Please Type Your Skills',rows=5,placeholder='Enter here')\n",
    "    c = radio('Do you want to submit another form',options=['Yes','No'])\n",
    "    d['name']=name\n",
    "    d['branch']=branch\n",
    "    d['lang']=lang\n",
    "    d['text'] = text\n",
    "    na.append(d)\n",
    "    if(c=='No'):\n",
    "        break"
   ]
  },
  {
   "cell_type": "code",
   "execution_count": 5,
   "metadata": {},
   "outputs": [
    {
     "data": {
      "text/plain": [
       "[{'branch': None, 'lang': [], 'name': 'ahbsdkj', 'text': ''},\n",
       " {'branch': None, 'lang': [], 'name': '', 'text': ''}]"
      ]
     },
     "execution_count": 5,
     "metadata": {},
     "output_type": "execute_result"
    }
   ],
   "source": [
    "na"
   ]
  },
  {
   "cell_type": "code",
   "execution_count": null,
   "metadata": {},
   "outputs": [],
   "source": [
    "from pywebio.input import *\n",
    "from pywebio.output import *\n",
    "from pywebio.session import *\n",
    "\n",
    "import time  \n",
    "from datetime import datetime\n",
    "\n",
    "@use_scope('time', clear=True)\n",
    "def show_time():\n",
    "    put_text(datetime.now())\n",
    "\n",
    "while 1:          \n",
    "    show_time()    \n",
    "    time.sleep(1)  "
   ]
  },
  {
   "cell_type": "code",
   "execution_count": null,
   "metadata": {},
   "outputs": [],
   "source": []
  },
  {
   "cell_type": "code",
   "execution_count": null,
   "metadata": {},
   "outputs": [],
   "source": []
  },
  {
   "cell_type": "code",
   "execution_count": null,
   "metadata": {},
   "outputs": [],
   "source": []
  }
 ],
 "metadata": {
  "kernelspec": {
   "display_name": "Python 3",
   "language": "python",
   "name": "python3"
  },
  "language_info": {
   "codemirror_mode": {
    "name": "ipython",
    "version": 3
   },
   "file_extension": ".py",
   "mimetype": "text/x-python",
   "name": "python",
   "nbconvert_exporter": "python",
   "pygments_lexer": "ipython3",
   "version": "3.7.3"
  }
 },
 "nbformat": 4,
 "nbformat_minor": 4
}
